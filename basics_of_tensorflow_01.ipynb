{
  "nbformat": 4,
  "nbformat_minor": 0,
  "metadata": {
    "accelerator": "TPU",
    "colab": {
      "name": "basics of tensorflow 01.ipynb",
      "provenance": [],
      "collapsed_sections": []
    },
    "kernelspec": {
      "display_name": "Python 3",
      "name": "python3"
    },
    "language_info": {
      "name": "python"
    }
  },
  "cells": [
    {
      "cell_type": "code",
      "metadata": {
        "colab": {
          "base_uri": "https://localhost:8080/"
        },
        "id": "lRXoabzKxKVU",
        "outputId": "dd16d2ee-852b-47ef-ad0c-89efa8d764eb"
      },
      "source": [
        "import tensorflow as tf\n",
        "print(tf.__version__)"
      ],
      "execution_count": null,
      "outputs": [
        {
          "output_type": "stream",
          "text": [
            "2.5.0\n"
          ],
          "name": "stdout"
        }
      ]
    },
    {
      "cell_type": "code",
      "metadata": {
        "id": "b39-FXZgzPCB"
      },
      "source": [
        "scalar=tf.constant(7)"
      ],
      "execution_count": null,
      "outputs": []
    },
    {
      "cell_type": "code",
      "metadata": {
        "colab": {
          "base_uri": "https://localhost:8080/"
        },
        "id": "HAqNJz0nztaN",
        "outputId": "1becf005-eb90-4109-a635-a1fe5f27cbbc"
      },
      "source": [
        "scalar"
      ],
      "execution_count": null,
      "outputs": [
        {
          "output_type": "execute_result",
          "data": {
            "text/plain": [
              "<tf.Tensor: shape=(), dtype=int32, numpy=7>"
            ]
          },
          "metadata": {
            "tags": []
          },
          "execution_count": 194
        }
      ]
    },
    {
      "cell_type": "code",
      "metadata": {
        "colab": {
          "base_uri": "https://localhost:8080/"
        },
        "id": "aHIexn5AzyBA",
        "outputId": "fab3b397-06d2-4828-c8ea-7a40937279b8"
      },
      "source": [
        "vector=tf.constant([10,10])\n",
        "vector"
      ],
      "execution_count": null,
      "outputs": [
        {
          "output_type": "execute_result",
          "data": {
            "text/plain": [
              "<tf.Tensor: shape=(2,), dtype=int32, numpy=array([10, 10], dtype=int32)>"
            ]
          },
          "metadata": {
            "tags": []
          },
          "execution_count": 195
        }
      ]
    },
    {
      "cell_type": "code",
      "metadata": {
        "colab": {
          "base_uri": "https://localhost:8080/"
        },
        "id": "DAdL1t1s1a0o",
        "outputId": "4791c611-c0a9-403f-d02d-028a645c6a99"
      },
      "source": [
        "scalar.ndim"
      ],
      "execution_count": null,
      "outputs": [
        {
          "output_type": "execute_result",
          "data": {
            "text/plain": [
              "0"
            ]
          },
          "metadata": {
            "tags": []
          },
          "execution_count": 196
        }
      ]
    },
    {
      "cell_type": "code",
      "metadata": {
        "id": "6Jb46Wag1eq9"
      },
      "source": [
        "import numpy as np"
      ],
      "execution_count": null,
      "outputs": []
    },
    {
      "cell_type": "code",
      "metadata": {
        "id": "M0VDTKIT199V"
      },
      "source": [
        "np.random.seed(42)\n",
        "j=np.random.randint(0,11,size=(2,2))"
      ],
      "execution_count": null,
      "outputs": []
    },
    {
      "cell_type": "code",
      "metadata": {
        "colab": {
          "base_uri": "https://localhost:8080/"
        },
        "id": "Ob2ZBhEH2GPV",
        "outputId": "321f0aa1-5e4a-445c-89a1-0caeacec4c78"
      },
      "source": [
        "j"
      ],
      "execution_count": null,
      "outputs": [
        {
          "output_type": "execute_result",
          "data": {
            "text/plain": [
              "array([[ 6,  3],\n",
              "       [10,  7]])"
            ]
          },
          "metadata": {
            "tags": []
          },
          "execution_count": 199
        }
      ]
    },
    {
      "cell_type": "code",
      "metadata": {
        "id": "26TFznRW2HI1"
      },
      "source": [
        "matrix=tf.constant(j)"
      ],
      "execution_count": null,
      "outputs": []
    },
    {
      "cell_type": "code",
      "metadata": {
        "colab": {
          "base_uri": "https://localhost:8080/"
        },
        "id": "BQSStfpr2bCl",
        "outputId": "c4dce5bc-f749-4c13-d639-5313950062f9"
      },
      "source": [
        "matrix"
      ],
      "execution_count": null,
      "outputs": [
        {
          "output_type": "execute_result",
          "data": {
            "text/plain": [
              "<tf.Tensor: shape=(2, 2), dtype=int64, numpy=\n",
              "array([[ 6,  3],\n",
              "       [10,  7]])>"
            ]
          },
          "metadata": {
            "tags": []
          },
          "execution_count": 201
        }
      ]
    },
    {
      "cell_type": "code",
      "metadata": {
        "colab": {
          "base_uri": "https://localhost:8080/"
        },
        "id": "8QYD2wcG2i_6",
        "outputId": "7a2f6bc1-b433-48af-ff63-150c642e9c96"
      },
      "source": [
        "matrix.ndim"
      ],
      "execution_count": null,
      "outputs": [
        {
          "output_type": "execute_result",
          "data": {
            "text/plain": [
              "2"
            ]
          },
          "metadata": {
            "tags": []
          },
          "execution_count": 202
        }
      ]
    },
    {
      "cell_type": "code",
      "metadata": {
        "id": "Oa5GgUm828QF"
      },
      "source": [
        "np.random.seed(42)\n",
        "k=np.random.randint(0,11,size=(3,2)).astype(\"float32\")"
      ],
      "execution_count": null,
      "outputs": []
    },
    {
      "cell_type": "code",
      "metadata": {
        "colab": {
          "base_uri": "https://localhost:8080/"
        },
        "id": "q88Q43UQ6vOw",
        "outputId": "d2486fd9-0add-497a-c8f0-a36d09ec86e9"
      },
      "source": [
        "k"
      ],
      "execution_count": null,
      "outputs": [
        {
          "output_type": "execute_result",
          "data": {
            "text/plain": [
              "array([[ 6.,  3.],\n",
              "       [10.,  7.],\n",
              "       [ 4.,  6.]], dtype=float32)"
            ]
          },
          "metadata": {
            "tags": []
          },
          "execution_count": 204
        }
      ]
    },
    {
      "cell_type": "code",
      "metadata": {
        "id": "6Na1ue448HLX"
      },
      "source": [
        "matrix1=tf.constant(k,dtype=tf.float16)"
      ],
      "execution_count": null,
      "outputs": []
    },
    {
      "cell_type": "code",
      "metadata": {
        "colab": {
          "base_uri": "https://localhost:8080/"
        },
        "id": "RbYxTs2O9ec-",
        "outputId": "d7cb8185-efdc-411f-d7ae-a48caf596e61"
      },
      "source": [
        "matrix1"
      ],
      "execution_count": null,
      "outputs": [
        {
          "output_type": "execute_result",
          "data": {
            "text/plain": [
              "<tf.Tensor: shape=(3, 2), dtype=float16, numpy=\n",
              "array([[ 6.,  3.],\n",
              "       [10.,  7.],\n",
              "       [ 4.,  6.]], dtype=float16)>"
            ]
          },
          "metadata": {
            "tags": []
          },
          "execution_count": 206
        }
      ]
    },
    {
      "cell_type": "code",
      "metadata": {
        "colab": {
          "base_uri": "https://localhost:8080/"
        },
        "id": "jnUAjwBr_OY-",
        "outputId": "390e4dee-4f60-4cfe-b0a7-d17f6010ec7e"
      },
      "source": [
        "matrix1.ndim"
      ],
      "execution_count": null,
      "outputs": [
        {
          "output_type": "execute_result",
          "data": {
            "text/plain": [
              "2"
            ]
          },
          "metadata": {
            "tags": []
          },
          "execution_count": 207
        }
      ]
    },
    {
      "cell_type": "code",
      "metadata": {
        "colab": {
          "base_uri": "https://localhost:8080/"
        },
        "id": "DpOSufv6_zzX",
        "outputId": "7cad76c0-f94f-4604-e147-656a2e3a0645"
      },
      "source": [
        "np.random.seed(0)\n",
        "tensor=tf.constant(np.random.randint(1,20,size=(3,2,3)),dtype=tf.int32)\n",
        "tensor"
      ],
      "execution_count": null,
      "outputs": [
        {
          "output_type": "execute_result",
          "data": {
            "text/plain": [
              "<tf.Tensor: shape=(3, 2, 3), dtype=int32, numpy=\n",
              "array([[[13, 16,  1],\n",
              "        [ 4,  4,  8]],\n",
              "\n",
              "       [[10, 19,  5],\n",
              "        [ 7, 13,  2]],\n",
              "\n",
              "       [[ 7,  8, 15],\n",
              "        [18,  6, 14]]], dtype=int32)>"
            ]
          },
          "metadata": {
            "tags": []
          },
          "execution_count": 208
        }
      ]
    },
    {
      "cell_type": "code",
      "metadata": {
        "colab": {
          "base_uri": "https://localhost:8080/"
        },
        "id": "MXk95b97AWvd",
        "outputId": "827fb763-e8ad-4b8c-b8a1-3bf8e5875254"
      },
      "source": [
        "tensor.ndim"
      ],
      "execution_count": null,
      "outputs": [
        {
          "output_type": "execute_result",
          "data": {
            "text/plain": [
              "3"
            ]
          },
          "metadata": {
            "tags": []
          },
          "execution_count": 209
        }
      ]
    },
    {
      "cell_type": "code",
      "metadata": {
        "colab": {
          "base_uri": "https://localhost:8080/"
        },
        "id": "ft8cLMf3A6SN",
        "outputId": "95a5bfaf-73ce-4dca-bdb7-da87a6901b72"
      },
      "source": [
        "changeable_tensor=tf.Variable([10,7])\n",
        "unchangeable_tensor=tf.constant([10,7])\n",
        "changeable_tensor,unchangeable_tensor\n"
      ],
      "execution_count": null,
      "outputs": [
        {
          "output_type": "execute_result",
          "data": {
            "text/plain": [
              "(<tf.Variable 'Variable:0' shape=(2,) dtype=int32, numpy=array([10,  7], dtype=int32)>,\n",
              " <tf.Tensor: shape=(2,), dtype=int32, numpy=array([10,  7], dtype=int32)>)"
            ]
          },
          "metadata": {
            "tags": []
          },
          "execution_count": 210
        }
      ]
    },
    {
      "cell_type": "code",
      "metadata": {
        "colab": {
          "base_uri": "https://localhost:8080/"
        },
        "id": "di6SRqYGhVCi",
        "outputId": "1969d6ef-7362-4bb2-c36d-f5636a594ce2"
      },
      "source": [
        "changeable_tensor[0].assign(5)\n",
        "changeable_tensor"
      ],
      "execution_count": null,
      "outputs": [
        {
          "output_type": "execute_result",
          "data": {
            "text/plain": [
              "<tf.Variable 'Variable:0' shape=(2,) dtype=int32, numpy=array([5, 7], dtype=int32)>"
            ]
          },
          "metadata": {
            "tags": []
          },
          "execution_count": 211
        }
      ]
    },
    {
      "cell_type": "code",
      "metadata": {
        "id": "90bnan9AjUEn"
      },
      "source": [
        "# unchangeable_tensor[0]=5\n",
        "# unchangeable_tensor"
      ],
      "execution_count": null,
      "outputs": []
    },
    {
      "cell_type": "code",
      "metadata": {
        "colab": {
          "base_uri": "https://localhost:8080/"
        },
        "id": "F74_hLOujiB_",
        "outputId": "9178f1e4-b27a-4b30-91ca-c0238c608522"
      },
      "source": [
        "random_1=tf.random.Generator.from_seed(42)\n",
        "random_1=random_1.normal(shape=(3,2,3))\n",
        "random_1"
      ],
      "execution_count": null,
      "outputs": [
        {
          "output_type": "execute_result",
          "data": {
            "text/plain": [
              "<tf.Tensor: shape=(3, 2, 3), dtype=float32, numpy=\n",
              "array([[[-0.7565803 , -0.06854702,  0.07595026],\n",
              "        [-1.2573844 , -0.23193763, -1.8107855 ]],\n",
              "\n",
              "       [[ 0.09988727, -0.50998646, -0.7535805 ],\n",
              "        [-0.57166284,  0.1480774 , -0.23362993]],\n",
              "\n",
              "       [[-0.3522796 ,  0.40621263, -1.0523509 ],\n",
              "        [ 1.2054597 ,  1.6874489 , -0.4462975 ]]], dtype=float32)>"
            ]
          },
          "metadata": {
            "tags": []
          },
          "execution_count": 213
        }
      ]
    },
    {
      "cell_type": "code",
      "metadata": {
        "colab": {
          "base_uri": "https://localhost:8080/"
        },
        "id": "u1kNpEozdvTm",
        "outputId": "de7a80bc-3f30-4dfd-d7bf-37abb85253c3"
      },
      "source": [
        "random_2=tf.random.shuffle(random_1)\n",
        "random_2"
      ],
      "execution_count": null,
      "outputs": [
        {
          "output_type": "execute_result",
          "data": {
            "text/plain": [
              "<tf.Tensor: shape=(3, 2, 3), dtype=float32, numpy=\n",
              "array([[[-0.7565803 , -0.06854702,  0.07595026],\n",
              "        [-1.2573844 , -0.23193763, -1.8107855 ]],\n",
              "\n",
              "       [[-0.3522796 ,  0.40621263, -1.0523509 ],\n",
              "        [ 1.2054597 ,  1.6874489 , -0.4462975 ]],\n",
              "\n",
              "       [[ 0.09988727, -0.50998646, -0.7535805 ],\n",
              "        [-0.57166284,  0.1480774 , -0.23362993]]], dtype=float32)>"
            ]
          },
          "metadata": {
            "tags": []
          },
          "execution_count": 214
        }
      ]
    },
    {
      "cell_type": "code",
      "metadata": {
        "colab": {
          "base_uri": "https://localhost:8080/"
        },
        "id": "wcbbGU4Nhq77",
        "outputId": "55ab4de9-cecc-4e70-d5b0-b4ea16704a47"
      },
      "source": [
        "random_1==random_1"
      ],
      "execution_count": null,
      "outputs": [
        {
          "output_type": "execute_result",
          "data": {
            "text/plain": [
              "<tf.Tensor: shape=(3, 2, 3), dtype=bool, numpy=\n",
              "array([[[ True,  True,  True],\n",
              "        [ True,  True,  True]],\n",
              "\n",
              "       [[ True,  True,  True],\n",
              "        [ True,  True,  True]],\n",
              "\n",
              "       [[ True,  True,  True],\n",
              "        [ True,  True,  True]]])>"
            ]
          },
          "metadata": {
            "tags": []
          },
          "execution_count": 215
        }
      ]
    },
    {
      "cell_type": "code",
      "metadata": {
        "colab": {
          "base_uri": "https://localhost:8080/"
        },
        "id": "wbmFznGYh2C7",
        "outputId": "ade8ccb7-3177-48d1-99ee-8868e48fdacc"
      },
      "source": [
        "random_2=tf.random.shuffle(random_1)\n",
        "random_2"
      ],
      "execution_count": null,
      "outputs": [
        {
          "output_type": "execute_result",
          "data": {
            "text/plain": [
              "<tf.Tensor: shape=(3, 2, 3), dtype=float32, numpy=\n",
              "array([[[ 0.09988727, -0.50998646, -0.7535805 ],\n",
              "        [-0.57166284,  0.1480774 , -0.23362993]],\n",
              "\n",
              "       [[-0.3522796 ,  0.40621263, -1.0523509 ],\n",
              "        [ 1.2054597 ,  1.6874489 , -0.4462975 ]],\n",
              "\n",
              "       [[-0.7565803 , -0.06854702,  0.07595026],\n",
              "        [-1.2573844 , -0.23193763, -1.8107855 ]]], dtype=float32)>"
            ]
          },
          "metadata": {
            "tags": []
          },
          "execution_count": 216
        }
      ]
    },
    {
      "cell_type": "code",
      "metadata": {
        "colab": {
          "base_uri": "https://localhost:8080/"
        },
        "id": "-_anSkzmia4S",
        "outputId": "241af999-0b78-4637-85fc-2eca492fb77d"
      },
      "source": [
        "ten=tf.random.Generator.from_seed(42)\n",
        "ten=ten.normal(shape=(3,2,3))\n",
        "ten"
      ],
      "execution_count": null,
      "outputs": [
        {
          "output_type": "execute_result",
          "data": {
            "text/plain": [
              "<tf.Tensor: shape=(3, 2, 3), dtype=float32, numpy=\n",
              "array([[[-0.7565803 , -0.06854702,  0.07595026],\n",
              "        [-1.2573844 , -0.23193763, -1.8107855 ]],\n",
              "\n",
              "       [[ 0.09988727, -0.50998646, -0.7535805 ],\n",
              "        [-0.57166284,  0.1480774 , -0.23362993]],\n",
              "\n",
              "       [[-0.3522796 ,  0.40621263, -1.0523509 ],\n",
              "        [ 1.2054597 ,  1.6874489 , -0.4462975 ]]], dtype=float32)>"
            ]
          },
          "metadata": {
            "tags": []
          },
          "execution_count": 217
        }
      ]
    },
    {
      "cell_type": "code",
      "metadata": {
        "colab": {
          "base_uri": "https://localhost:8080/"
        },
        "id": "SBjl1_OljPJ4",
        "outputId": "387f538f-87d8-4b3b-c90c-72aed3aaf190"
      },
      "source": [
        "tf.random.set_seed(42)\n",
        "nine=tf.random.shuffle(ten)\n",
        "nine"
      ],
      "execution_count": null,
      "outputs": [
        {
          "output_type": "execute_result",
          "data": {
            "text/plain": [
              "<tf.Tensor: shape=(3, 2, 3), dtype=float32, numpy=\n",
              "array([[[ 0.09988727, -0.50998646, -0.7535805 ],\n",
              "        [-0.57166284,  0.1480774 , -0.23362993]],\n",
              "\n",
              "       [[-0.3522796 ,  0.40621263, -1.0523509 ],\n",
              "        [ 1.2054597 ,  1.6874489 , -0.4462975 ]],\n",
              "\n",
              "       [[-0.7565803 , -0.06854702,  0.07595026],\n",
              "        [-1.2573844 , -0.23193763, -1.8107855 ]]], dtype=float32)>"
            ]
          },
          "metadata": {
            "tags": []
          },
          "execution_count": 218
        }
      ]
    },
    {
      "cell_type": "code",
      "metadata": {
        "colab": {
          "base_uri": "https://localhost:8080/"
        },
        "id": "YNeThF3Zk85e",
        "outputId": "79d5a88e-1bdd-4641-b709-78f5218bf9dc"
      },
      "source": [
        "test=tf.random.Generator.from_seed(42)\n",
        "test=tf.random.normal(shape=(3,2,3))\n",
        "test"
      ],
      "execution_count": null,
      "outputs": [
        {
          "output_type": "execute_result",
          "data": {
            "text/plain": [
              "<tf.Tensor: shape=(3, 2, 3), dtype=float32, numpy=\n",
              "array([[[ 8.4224582e-02, -8.6090374e-01,  3.7812304e-01],\n",
              "        [-5.1962738e-03, -4.9453196e-01,  6.1781919e-01]],\n",
              "\n",
              "       [[-3.3082047e-01, -1.3840806e-03, -4.2373410e-01],\n",
              "        [-1.3872087e+00, -1.5488191e+00, -5.3198391e-01]],\n",
              "\n",
              "       [[-4.4756433e-01, -2.0115814e+00, -5.7926011e-01],\n",
              "        [ 5.7938927e-01,  1.3041967e+00,  6.7720258e-01]]], dtype=float32)>"
            ]
          },
          "metadata": {
            "tags": []
          },
          "execution_count": 219
        }
      ]
    },
    {
      "cell_type": "code",
      "metadata": {
        "colab": {
          "base_uri": "https://localhost:8080/"
        },
        "id": "S1eJ5pTgpIS0",
        "outputId": "dfc2aeb5-1714-47de-c80d-bb5f247b912b"
      },
      "source": [
        "tf.random.set_seed(42)\n",
        "shuffule=tf.random.shuffle(test)\n",
        "shuffule"
      ],
      "execution_count": null,
      "outputs": [
        {
          "output_type": "execute_result",
          "data": {
            "text/plain": [
              "<tf.Tensor: shape=(3, 2, 3), dtype=float32, numpy=\n",
              "array([[[-3.3082047e-01, -1.3840806e-03, -4.2373410e-01],\n",
              "        [-1.3872087e+00, -1.5488191e+00, -5.3198391e-01]],\n",
              "\n",
              "       [[-4.4756433e-01, -2.0115814e+00, -5.7926011e-01],\n",
              "        [ 5.7938927e-01,  1.3041967e+00,  6.7720258e-01]],\n",
              "\n",
              "       [[ 8.4224582e-02, -8.6090374e-01,  3.7812304e-01],\n",
              "        [-5.1962738e-03, -4.9453196e-01,  6.1781919e-01]]], dtype=float32)>"
            ]
          },
          "metadata": {
            "tags": []
          },
          "execution_count": 220
        }
      ]
    },
    {
      "cell_type": "code",
      "metadata": {
        "id": "XVhwZ7klpJKK"
      },
      "source": [
        "constant=tf.constant([[[-0.5573232 ,  0.539707  ,  1.6994323 ],\n",
        "        [ 0.28893656, -1.5066116 , -0.26454744]],\n",
        "\n",
        "       [[-0.59722406, -1.9171132 , -0.62044144],\n",
        "        [ 0.8504023 , -0.40604794, -3.0258412 ]],\n",
        "\n",
        "       [[ 0.3274685 , -0.8426258 ,  0.3194337 ],\n",
        "        [-1.4075519 , -2.3880599 , -1.0392479 ]]])"
      ],
      "execution_count": null,
      "outputs": []
    },
    {
      "cell_type": "code",
      "metadata": {
        "id": "QoE-WyynrAGs"
      },
      "source": [
        "tf.random.set_seed(42)\n",
        "rearranged=tf.random.shuffle(constant)"
      ],
      "execution_count": null,
      "outputs": []
    },
    {
      "cell_type": "code",
      "metadata": {
        "colab": {
          "base_uri": "https://localhost:8080/"
        },
        "id": "rTHY6m6drPE6",
        "outputId": "29697b2a-3651-4a91-f6ff-f36e208bed61"
      },
      "source": [
        "rearranged"
      ],
      "execution_count": null,
      "outputs": [
        {
          "output_type": "execute_result",
          "data": {
            "text/plain": [
              "<tf.Tensor: shape=(3, 2, 3), dtype=float32, numpy=\n",
              "array([[[-0.59722406, -1.9171132 , -0.62044144],\n",
              "        [ 0.8504023 , -0.40604794, -3.0258412 ]],\n",
              "\n",
              "       [[ 0.3274685 , -0.8426258 ,  0.3194337 ],\n",
              "        [-1.4075519 , -2.3880599 , -1.0392479 ]],\n",
              "\n",
              "       [[-0.5573232 ,  0.539707  ,  1.6994323 ],\n",
              "        [ 0.28893656, -1.5066116 , -0.26454744]]], dtype=float32)>"
            ]
          },
          "metadata": {
            "tags": []
          },
          "execution_count": 223
        }
      ]
    },
    {
      "cell_type": "code",
      "metadata": {
        "colab": {
          "base_uri": "https://localhost:8080/"
        },
        "id": "aOpzTwpfrQ8C",
        "outputId": "15a24e1b-f73a-43ef-f5c1-9693d47e79f6"
      },
      "source": [
        "constant==rearranged"
      ],
      "execution_count": null,
      "outputs": [
        {
          "output_type": "execute_result",
          "data": {
            "text/plain": [
              "<tf.Tensor: shape=(3, 2, 3), dtype=bool, numpy=\n",
              "array([[[False, False, False],\n",
              "        [False, False, False]],\n",
              "\n",
              "       [[False, False, False],\n",
              "        [False, False, False]],\n",
              "\n",
              "       [[False, False, False],\n",
              "        [False, False, False]]])>"
            ]
          },
          "metadata": {
            "tags": []
          },
          "execution_count": 224
        }
      ]
    },
    {
      "cell_type": "markdown",
      "metadata": {
        "id": "p_KMja_JrpF7"
      },
      "source": [
        "#good to go"
      ]
    },
    {
      "cell_type": "code",
      "metadata": {
        "id": "8tBTajwlrs3K"
      },
      "source": [
        "random_creature=tf.random.Generator.from_seed(42)\n",
        "random_creature=random_creature.normal(shape=(4,3,2))"
      ],
      "execution_count": null,
      "outputs": []
    },
    {
      "cell_type": "code",
      "metadata": {
        "colab": {
          "base_uri": "https://localhost:8080/"
        },
        "id": "hFLhFaG5cEEJ",
        "outputId": "3d539724-a1a1-4317-f40f-935e46eda546"
      },
      "source": [
        "random_creature"
      ],
      "execution_count": null,
      "outputs": [
        {
          "output_type": "execute_result",
          "data": {
            "text/plain": [
              "<tf.Tensor: shape=(4, 3, 2), dtype=float32, numpy=\n",
              "array([[[-0.7565803 , -0.06854702],\n",
              "        [ 0.07595026, -1.2573844 ],\n",
              "        [-0.23193763, -1.8107855 ]],\n",
              "\n",
              "       [[ 0.09988727, -0.50998646],\n",
              "        [-0.7535805 , -0.57166284],\n",
              "        [ 0.1480774 , -0.23362993]],\n",
              "\n",
              "       [[-0.3522796 ,  0.40621263],\n",
              "        [-1.0523509 ,  1.2054597 ],\n",
              "        [ 1.6874489 , -0.4462975 ]],\n",
              "\n",
              "       [[-2.3410842 ,  0.99009085],\n",
              "        [-0.0876323 , -0.635568  ],\n",
              "        [-0.6161736 , -1.9441465 ]]], dtype=float32)>"
            ]
          },
          "metadata": {
            "tags": []
          },
          "execution_count": 226
        }
      ]
    },
    {
      "cell_type": "code",
      "metadata": {
        "id": "9KuLC5W5cGry"
      },
      "source": [
        "shuf=tf.random.shuffle(random_creature)"
      ],
      "execution_count": null,
      "outputs": []
    },
    {
      "cell_type": "code",
      "metadata": {
        "colab": {
          "base_uri": "https://localhost:8080/"
        },
        "id": "lNQrzqwxdsN7",
        "outputId": "e2f77ff9-52ce-4953-b150-8542e35387fc"
      },
      "source": [
        "random_creature==shuf"
      ],
      "execution_count": null,
      "outputs": [
        {
          "output_type": "execute_result",
          "data": {
            "text/plain": [
              "<tf.Tensor: shape=(4, 3, 2), dtype=bool, numpy=\n",
              "array([[[False, False],\n",
              "        [False, False],\n",
              "        [False, False]],\n",
              "\n",
              "       [[False, False],\n",
              "        [False, False],\n",
              "        [False, False]],\n",
              "\n",
              "       [[False, False],\n",
              "        [False, False],\n",
              "        [False, False]],\n",
              "\n",
              "       [[False, False],\n",
              "        [False, False],\n",
              "        [False, False]]])>"
            ]
          },
          "metadata": {
            "tags": []
          },
          "execution_count": 228
        }
      ]
    },
    {
      "cell_type": "code",
      "metadata": {
        "id": "hm4rAyn2d0OK"
      },
      "source": [
        "# tf.random.set_seed(42)\n",
        "con=tf.constant(np.random.randint(1,100,size=(3,2,3)))"
      ],
      "execution_count": null,
      "outputs": []
    },
    {
      "cell_type": "code",
      "metadata": {
        "id": "ZhiGMNATeBkS"
      },
      "source": [
        "# tf.random.set_seed(42)\n",
        "variable=tf.Variable(np.random.randint(1,100,size=(3,2,3)))"
      ],
      "execution_count": null,
      "outputs": []
    },
    {
      "cell_type": "code",
      "metadata": {
        "colab": {
          "base_uri": "https://localhost:8080/"
        },
        "id": "X46hzI-5eLES",
        "outputId": "385c3ea9-d22c-4f39-c94b-4f5e136ff565"
      },
      "source": [
        "con==variable"
      ],
      "execution_count": null,
      "outputs": [
        {
          "output_type": "execute_result",
          "data": {
            "text/plain": [
              "<tf.Tensor: shape=(3, 2, 3), dtype=bool, numpy=\n",
              "array([[[False, False, False],\n",
              "        [False, False, False]],\n",
              "\n",
              "       [[False, False, False],\n",
              "        [False, False, False]],\n",
              "\n",
              "       [[False, False, False],\n",
              "        [False, False, False]]])>"
            ]
          },
          "metadata": {
            "tags": []
          },
          "execution_count": 231
        }
      ]
    },
    {
      "cell_type": "code",
      "metadata": {
        "id": "NCL1x1cwer1a"
      },
      "source": [
        "# for i in range(100):\n",
        "#   con=tf.constant(np.random.randint(1,100,size=(3,2,3)))\n",
        "#   variable=tf.Variable(np.random.randint(1,100,size=(3,2,3)))\n",
        "#   print(con==variable)"
      ],
      "execution_count": null,
      "outputs": []
    },
    {
      "cell_type": "code",
      "metadata": {
        "colab": {
          "base_uri": "https://localhost:8080/"
        },
        "id": "nW7L_PPopTRQ",
        "outputId": "201ed43d-7825-4f64-c3b0-f5f8d328ec23"
      },
      "source": [
        "tf.ones(shape=(100,20))"
      ],
      "execution_count": null,
      "outputs": [
        {
          "output_type": "execute_result",
          "data": {
            "text/plain": [
              "<tf.Tensor: shape=(100, 20), dtype=float32, numpy=\n",
              "array([[1., 1., 1., ..., 1., 1., 1.],\n",
              "       [1., 1., 1., ..., 1., 1., 1.],\n",
              "       [1., 1., 1., ..., 1., 1., 1.],\n",
              "       ...,\n",
              "       [1., 1., 1., ..., 1., 1., 1.],\n",
              "       [1., 1., 1., ..., 1., 1., 1.],\n",
              "       [1., 1., 1., ..., 1., 1., 1.]], dtype=float32)>"
            ]
          },
          "metadata": {
            "tags": []
          },
          "execution_count": 233
        }
      ]
    },
    {
      "cell_type": "code",
      "metadata": {
        "colab": {
          "base_uri": "https://localhost:8080/"
        },
        "id": "Eq3tr1GAqs6i",
        "outputId": "c9f5083e-8c0a-420e-fd57-d0de5c32eed4"
      },
      "source": [
        "tf.zeros(shape=(3,2,3))"
      ],
      "execution_count": null,
      "outputs": [
        {
          "output_type": "execute_result",
          "data": {
            "text/plain": [
              "<tf.Tensor: shape=(3, 2, 3), dtype=float32, numpy=\n",
              "array([[[0., 0., 0.],\n",
              "        [0., 0., 0.]],\n",
              "\n",
              "       [[0., 0., 0.],\n",
              "        [0., 0., 0.]],\n",
              "\n",
              "       [[0., 0., 0.],\n",
              "        [0., 0., 0.]]], dtype=float32)>"
            ]
          },
          "metadata": {
            "tags": []
          },
          "execution_count": 234
        }
      ]
    },
    {
      "cell_type": "code",
      "metadata": {
        "id": "Wx4Vnp8xsLgQ"
      },
      "source": [
        "flo=np.arange(1,31,dtype=\"int32\")"
      ],
      "execution_count": null,
      "outputs": []
    },
    {
      "cell_type": "code",
      "metadata": {
        "colab": {
          "base_uri": "https://localhost:8080/"
        },
        "id": "Qhh5DGnZsp2e",
        "outputId": "039b3a71-3657-406f-d70f-830767e2f60f"
      },
      "source": [
        "flo"
      ],
      "execution_count": null,
      "outputs": [
        {
          "output_type": "execute_result",
          "data": {
            "text/plain": [
              "array([ 1,  2,  3,  4,  5,  6,  7,  8,  9, 10, 11, 12, 13, 14, 15, 16, 17,\n",
              "       18, 19, 20, 21, 22, 23, 24, 25, 26, 27, 28, 29, 30], dtype=int32)"
            ]
          },
          "metadata": {
            "tags": []
          },
          "execution_count": 236
        }
      ]
    },
    {
      "cell_type": "code",
      "metadata": {
        "colab": {
          "base_uri": "https://localhost:8080/"
        },
        "id": "5-c3Lu9YuIAO",
        "outputId": "919a090c-7fce-4a44-a955-3d840f6e9b69"
      },
      "source": [
        "can=tf.constant(flo,shape=(3,2,5))\n",
        "can"
      ],
      "execution_count": null,
      "outputs": [
        {
          "output_type": "execute_result",
          "data": {
            "text/plain": [
              "<tf.Tensor: shape=(3, 2, 5), dtype=int32, numpy=\n",
              "array([[[ 1,  2,  3,  4,  5],\n",
              "        [ 6,  7,  8,  9, 10]],\n",
              "\n",
              "       [[11, 12, 13, 14, 15],\n",
              "        [16, 17, 18, 19, 20]],\n",
              "\n",
              "       [[21, 22, 23, 24, 25],\n",
              "        [26, 27, 28, 29, 30]]], dtype=int32)>"
            ]
          },
          "metadata": {
            "tags": []
          },
          "execution_count": 237
        }
      ]
    },
    {
      "cell_type": "code",
      "metadata": {
        "colab": {
          "base_uri": "https://localhost:8080/"
        },
        "id": "mJhQo08-vP8e",
        "outputId": "71f586aa-7391-4906-8e35-48a424aec128"
      },
      "source": [
        "tf.ones(shape=(3,4,3),dtype=float)"
      ],
      "execution_count": null,
      "outputs": [
        {
          "output_type": "execute_result",
          "data": {
            "text/plain": [
              "<tf.Tensor: shape=(3, 4, 3), dtype=float32, numpy=\n",
              "array([[[1., 1., 1.],\n",
              "        [1., 1., 1.],\n",
              "        [1., 1., 1.],\n",
              "        [1., 1., 1.]],\n",
              "\n",
              "       [[1., 1., 1.],\n",
              "        [1., 1., 1.],\n",
              "        [1., 1., 1.],\n",
              "        [1., 1., 1.]],\n",
              "\n",
              "       [[1., 1., 1.],\n",
              "        [1., 1., 1.],\n",
              "        [1., 1., 1.],\n",
              "        [1., 1., 1.]]], dtype=float32)>"
            ]
          },
          "metadata": {
            "tags": []
          },
          "execution_count": 238
        }
      ]
    },
    {
      "cell_type": "code",
      "metadata": {
        "id": "wMO-6NGgxiC1"
      },
      "source": [
        "new=tf.random.Generator.from_seed(42)\n",
        "new=new.normal(shape=(3,4,4))"
      ],
      "execution_count": null,
      "outputs": []
    },
    {
      "cell_type": "code",
      "metadata": {
        "colab": {
          "base_uri": "https://localhost:8080/"
        },
        "id": "XYKcJLz5RgOd",
        "outputId": "a90803c4-7d62-4cf3-93e5-809f32a2e78c"
      },
      "source": [
        "new"
      ],
      "execution_count": null,
      "outputs": [
        {
          "output_type": "execute_result",
          "data": {
            "text/plain": [
              "<tf.Tensor: shape=(3, 4, 4), dtype=float32, numpy=\n",
              "array([[[-0.7565803 , -0.06854702,  0.07595026, -1.2573844 ],\n",
              "        [-0.23193763, -1.8107855 ,  0.09988727, -0.50998646],\n",
              "        [-0.7535805 , -0.57166284,  0.1480774 , -0.23362993],\n",
              "        [-0.3522796 ,  0.40621263, -1.0523509 ,  1.2054597 ]],\n",
              "\n",
              "       [[ 1.6874489 , -0.4462975 , -2.3410842 ,  0.99009085],\n",
              "        [-0.0876323 , -0.635568  , -0.6161736 , -1.9441465 ],\n",
              "        [-0.48293006, -0.52447474, -1.0345329 ,  1.3066901 ],\n",
              "        [-1.5184573 , -0.4585211 ,  0.5714663 , -1.5331722 ]],\n",
              "\n",
              "       [[ 0.45331386,  1.1487608 , -1.2659091 , -0.47450137],\n",
              "        [ 2.006022  ,  0.28288034, -0.30288252, -1.443651  ],\n",
              "        [ 1.0034493 ,  0.20857747,  0.35700995,  1.0648885 ],\n",
              "        [ 1.2432485 , -2.2173238 ,  0.18706243,  0.6617961 ]]],\n",
              "      dtype=float32)>"
            ]
          },
          "metadata": {
            "tags": []
          },
          "execution_count": 240
        }
      ]
    },
    {
      "cell_type": "code",
      "metadata": {
        "colab": {
          "base_uri": "https://localhost:8080/"
        },
        "id": "EI8DXeWoRhU_",
        "outputId": "f5761963-589e-4116-8d79-621f3821ed5f"
      },
      "source": [
        "np.random.randint(0,10,size=(3,4,3))"
      ],
      "execution_count": null,
      "outputs": [
        {
          "output_type": "execute_result",
          "data": {
            "text/plain": [
              "array([[[4, 9, 8],\n",
              "        [1, 1, 7],\n",
              "        [9, 9, 3],\n",
              "        [6, 7, 2]],\n",
              "\n",
              "       [[0, 3, 5],\n",
              "        [9, 4, 4],\n",
              "        [6, 4, 4],\n",
              "        [3, 4, 4]],\n",
              "\n",
              "       [[8, 4, 3],\n",
              "        [7, 5, 5],\n",
              "        [0, 1, 5],\n",
              "        [9, 3, 0]]])"
            ]
          },
          "metadata": {
            "tags": []
          },
          "execution_count": 241
        }
      ]
    },
    {
      "cell_type": "code",
      "metadata": {
        "id": "xGjwMHlJSwBQ"
      },
      "source": [
        "a=np.array([[4, 9, 8, 1],\n",
        "       [1, 7, 9, 9],\n",
        "       [3, 6, 7, 2]])"
      ],
      "execution_count": null,
      "outputs": []
    },
    {
      "cell_type": "code",
      "metadata": {
        "colab": {
          "base_uri": "https://localhost:8080/"
        },
        "id": "c8Jkw83lS9_Q",
        "outputId": "c87f0724-f5ba-44c9-92f0-375ed1c7b8a1"
      },
      "source": [
        "a.ndim"
      ],
      "execution_count": null,
      "outputs": [
        {
          "output_type": "execute_result",
          "data": {
            "text/plain": [
              "2"
            ]
          },
          "metadata": {
            "tags": []
          },
          "execution_count": 243
        }
      ]
    },
    {
      "cell_type": "code",
      "metadata": {
        "id": "fpBOITs2TBFY"
      },
      "source": [
        "new_tensor=tf.constant([[[0, 3, 5],\n",
        "        [9, 4, 4],\n",
        "        [6, 4, 4],\n",
        "        [3, 4, 4]],\n",
        "\n",
        "       [[8, 4, 3],\n",
        "        [7, 5, 5],\n",
        "        [0, 1, 5],\n",
        "        [9, 3, 0]],\n",
        "\n",
        "       [[5, 0, 1],\n",
        "        [2, 4, 2],\n",
        "        [0, 3, 2],\n",
        "        [0, 7, 5]]])"
      ],
      "execution_count": null,
      "outputs": []
    },
    {
      "cell_type": "code",
      "metadata": {
        "colab": {
          "base_uri": "https://localhost:8080/"
        },
        "id": "fEeQPtE_TK4I",
        "outputId": "32bf9acc-777b-4993-a037-0bdcfa109b21"
      },
      "source": [
        "new_tensor.ndim"
      ],
      "execution_count": null,
      "outputs": [
        {
          "output_type": "execute_result",
          "data": {
            "text/plain": [
              "3"
            ]
          },
          "metadata": {
            "tags": []
          },
          "execution_count": 245
        }
      ]
    },
    {
      "cell_type": "code",
      "metadata": {
        "id": "Vwz_-4OGTOpQ"
      },
      "source": [
        "new2_tensor=new_tensor[...,tf.newaxis]"
      ],
      "execution_count": null,
      "outputs": []
    },
    {
      "cell_type": "code",
      "metadata": {
        "colab": {
          "base_uri": "https://localhost:8080/"
        },
        "id": "T07vunX7UYrY",
        "outputId": "b30d3202-5f93-4e52-9b89-2c4caf7a3966"
      },
      "source": [
        "new2_tensor"
      ],
      "execution_count": null,
      "outputs": [
        {
          "output_type": "execute_result",
          "data": {
            "text/plain": [
              "<tf.Tensor: shape=(3, 4, 3, 1), dtype=int32, numpy=\n",
              "array([[[[0],\n",
              "         [3],\n",
              "         [5]],\n",
              "\n",
              "        [[9],\n",
              "         [4],\n",
              "         [4]],\n",
              "\n",
              "        [[6],\n",
              "         [4],\n",
              "         [4]],\n",
              "\n",
              "        [[3],\n",
              "         [4],\n",
              "         [4]]],\n",
              "\n",
              "\n",
              "       [[[8],\n",
              "         [4],\n",
              "         [3]],\n",
              "\n",
              "        [[7],\n",
              "         [5],\n",
              "         [5]],\n",
              "\n",
              "        [[0],\n",
              "         [1],\n",
              "         [5]],\n",
              "\n",
              "        [[9],\n",
              "         [3],\n",
              "         [0]]],\n",
              "\n",
              "\n",
              "       [[[5],\n",
              "         [0],\n",
              "         [1]],\n",
              "\n",
              "        [[2],\n",
              "         [4],\n",
              "         [2]],\n",
              "\n",
              "        [[0],\n",
              "         [3],\n",
              "         [2]],\n",
              "\n",
              "        [[0],\n",
              "         [7],\n",
              "         [5]]]], dtype=int32)>"
            ]
          },
          "metadata": {
            "tags": []
          },
          "execution_count": 247
        }
      ]
    },
    {
      "cell_type": "code",
      "metadata": {
        "colab": {
          "base_uri": "https://localhost:8080/"
        },
        "id": "1ORyyGZ_VUVB",
        "outputId": "ca9f5f2e-02fb-4e67-fc37-f2f3c467421c"
      },
      "source": [
        "tf.expand_dims(new_tensor,axis=-1)"
      ],
      "execution_count": null,
      "outputs": [
        {
          "output_type": "execute_result",
          "data": {
            "text/plain": [
              "<tf.Tensor: shape=(3, 4, 3, 1), dtype=int32, numpy=\n",
              "array([[[[0],\n",
              "         [3],\n",
              "         [5]],\n",
              "\n",
              "        [[9],\n",
              "         [4],\n",
              "         [4]],\n",
              "\n",
              "        [[6],\n",
              "         [4],\n",
              "         [4]],\n",
              "\n",
              "        [[3],\n",
              "         [4],\n",
              "         [4]]],\n",
              "\n",
              "\n",
              "       [[[8],\n",
              "         [4],\n",
              "         [3]],\n",
              "\n",
              "        [[7],\n",
              "         [5],\n",
              "         [5]],\n",
              "\n",
              "        [[0],\n",
              "         [1],\n",
              "         [5]],\n",
              "\n",
              "        [[9],\n",
              "         [3],\n",
              "         [0]]],\n",
              "\n",
              "\n",
              "       [[[5],\n",
              "         [0],\n",
              "         [1]],\n",
              "\n",
              "        [[2],\n",
              "         [4],\n",
              "         [2]],\n",
              "\n",
              "        [[0],\n",
              "         [3],\n",
              "         [2]],\n",
              "\n",
              "        [[0],\n",
              "         [7],\n",
              "         [5]]]], dtype=int32)>"
            ]
          },
          "metadata": {
            "tags": []
          },
          "execution_count": 248
        }
      ]
    },
    {
      "cell_type": "code",
      "metadata": {
        "colab": {
          "base_uri": "https://localhost:8080/"
        },
        "id": "XdyIPQxjWjKt",
        "outputId": "f8d94de3-04f5-4063-cfed-b6e76c4eb54d"
      },
      "source": [
        "new_tensor"
      ],
      "execution_count": null,
      "outputs": [
        {
          "output_type": "execute_result",
          "data": {
            "text/plain": [
              "<tf.Tensor: shape=(3, 4, 3), dtype=int32, numpy=\n",
              "array([[[0, 3, 5],\n",
              "        [9, 4, 4],\n",
              "        [6, 4, 4],\n",
              "        [3, 4, 4]],\n",
              "\n",
              "       [[8, 4, 3],\n",
              "        [7, 5, 5],\n",
              "        [0, 1, 5],\n",
              "        [9, 3, 0]],\n",
              "\n",
              "       [[5, 0, 1],\n",
              "        [2, 4, 2],\n",
              "        [0, 3, 2],\n",
              "        [0, 7, 5]]], dtype=int32)>"
            ]
          },
          "metadata": {
            "tags": []
          },
          "execution_count": 249
        }
      ]
    },
    {
      "cell_type": "code",
      "metadata": {
        "colab": {
          "base_uri": "https://localhost:8080/"
        },
        "id": "mD8l_gjnWnlq",
        "outputId": "61edf39c-c9e0-4dd1-f03c-84fec95a3bd6"
      },
      "source": [
        "new_tensor+10"
      ],
      "execution_count": null,
      "outputs": [
        {
          "output_type": "execute_result",
          "data": {
            "text/plain": [
              "<tf.Tensor: shape=(3, 4, 3), dtype=int32, numpy=\n",
              "array([[[10, 13, 15],\n",
              "        [19, 14, 14],\n",
              "        [16, 14, 14],\n",
              "        [13, 14, 14]],\n",
              "\n",
              "       [[18, 14, 13],\n",
              "        [17, 15, 15],\n",
              "        [10, 11, 15],\n",
              "        [19, 13, 10]],\n",
              "\n",
              "       [[15, 10, 11],\n",
              "        [12, 14, 12],\n",
              "        [10, 13, 12],\n",
              "        [10, 17, 15]]], dtype=int32)>"
            ]
          },
          "metadata": {
            "tags": []
          },
          "execution_count": 250
        }
      ]
    },
    {
      "cell_type": "code",
      "metadata": {
        "colab": {
          "base_uri": "https://localhost:8080/"
        },
        "id": "CgOI1r9tYO4D",
        "outputId": "a687d995-26eb-424a-dbbb-7f015ccd7727"
      },
      "source": [
        "new_tensor"
      ],
      "execution_count": null,
      "outputs": [
        {
          "output_type": "execute_result",
          "data": {
            "text/plain": [
              "<tf.Tensor: shape=(3, 4, 3), dtype=int32, numpy=\n",
              "array([[[0, 3, 5],\n",
              "        [9, 4, 4],\n",
              "        [6, 4, 4],\n",
              "        [3, 4, 4]],\n",
              "\n",
              "       [[8, 4, 3],\n",
              "        [7, 5, 5],\n",
              "        [0, 1, 5],\n",
              "        [9, 3, 0]],\n",
              "\n",
              "       [[5, 0, 1],\n",
              "        [2, 4, 2],\n",
              "        [0, 3, 2],\n",
              "        [0, 7, 5]]], dtype=int32)>"
            ]
          },
          "metadata": {
            "tags": []
          },
          "execution_count": 251
        }
      ]
    },
    {
      "cell_type": "code",
      "metadata": {
        "id": "nV2ZJKIfYXQS"
      },
      "source": [
        "add=new_tensor+100"
      ],
      "execution_count": null,
      "outputs": []
    },
    {
      "cell_type": "code",
      "metadata": {
        "colab": {
          "base_uri": "https://localhost:8080/"
        },
        "id": "w_XdNtpPYuLy",
        "outputId": "dd5da2e1-f47b-4e8d-a82c-af54bc994fdd"
      },
      "source": [
        "add"
      ],
      "execution_count": null,
      "outputs": [
        {
          "output_type": "execute_result",
          "data": {
            "text/plain": [
              "<tf.Tensor: shape=(3, 4, 3), dtype=int32, numpy=\n",
              "array([[[100, 103, 105],\n",
              "        [109, 104, 104],\n",
              "        [106, 104, 104],\n",
              "        [103, 104, 104]],\n",
              "\n",
              "       [[108, 104, 103],\n",
              "        [107, 105, 105],\n",
              "        [100, 101, 105],\n",
              "        [109, 103, 100]],\n",
              "\n",
              "       [[105, 100, 101],\n",
              "        [102, 104, 102],\n",
              "        [100, 103, 102],\n",
              "        [100, 107, 105]]], dtype=int32)>"
            ]
          },
          "metadata": {
            "tags": []
          },
          "execution_count": 253
        }
      ]
    },
    {
      "cell_type": "code",
      "metadata": {
        "colab": {
          "base_uri": "https://localhost:8080/"
        },
        "id": "hgs11ViQY0oC",
        "outputId": "96980bd2-c19e-46de-c400-8715faf69c22"
      },
      "source": [
        "tf.math.subtract(add,100)"
      ],
      "execution_count": null,
      "outputs": [
        {
          "output_type": "execute_result",
          "data": {
            "text/plain": [
              "<tf.Tensor: shape=(3, 4, 3), dtype=int32, numpy=\n",
              "array([[[0, 3, 5],\n",
              "        [9, 4, 4],\n",
              "        [6, 4, 4],\n",
              "        [3, 4, 4]],\n",
              "\n",
              "       [[8, 4, 3],\n",
              "        [7, 5, 5],\n",
              "        [0, 1, 5],\n",
              "        [9, 3, 0]],\n",
              "\n",
              "       [[5, 0, 1],\n",
              "        [2, 4, 2],\n",
              "        [0, 3, 2],\n",
              "        [0, 7, 5]]], dtype=int32)>"
            ]
          },
          "metadata": {
            "tags": []
          },
          "execution_count": 254
        }
      ]
    },
    {
      "cell_type": "code",
      "metadata": {
        "colab": {
          "base_uri": "https://localhost:8080/"
        },
        "id": "rK8qVvfXmFSc",
        "outputId": "66796b87-3479-43c1-fb69-5f3903bf4c8c"
      },
      "source": [
        "new_tensor"
      ],
      "execution_count": null,
      "outputs": [
        {
          "output_type": "execute_result",
          "data": {
            "text/plain": [
              "<tf.Tensor: shape=(3, 4, 3), dtype=int32, numpy=\n",
              "array([[[0, 3, 5],\n",
              "        [9, 4, 4],\n",
              "        [6, 4, 4],\n",
              "        [3, 4, 4]],\n",
              "\n",
              "       [[8, 4, 3],\n",
              "        [7, 5, 5],\n",
              "        [0, 1, 5],\n",
              "        [9, 3, 0]],\n",
              "\n",
              "       [[5, 0, 1],\n",
              "        [2, 4, 2],\n",
              "        [0, 3, 2],\n",
              "        [0, 7, 5]]], dtype=int32)>"
            ]
          },
          "metadata": {
            "tags": []
          },
          "execution_count": 255
        }
      ]
    },
    {
      "cell_type": "code",
      "metadata": {
        "id": "BCXqYTK1EYGh"
      },
      "source": [
        "gp=np.array([[3,6],\n",
        "             [5,8],\n",
        "             [7,9]])"
      ],
      "execution_count": null,
      "outputs": []
    },
    {
      "cell_type": "code",
      "metadata": {
        "colab": {
          "base_uri": "https://localhost:8080/"
        },
        "id": "jbxI2_gQErMz",
        "outputId": "f7a0f389-455c-4714-acb7-31baa5478353"
      },
      "source": [
        "gp.shape"
      ],
      "execution_count": null,
      "outputs": [
        {
          "output_type": "execute_result",
          "data": {
            "text/plain": [
              "(3, 2)"
            ]
          },
          "metadata": {
            "tags": []
          },
          "execution_count": 257
        }
      ]
    },
    {
      "cell_type": "code",
      "metadata": {
        "id": "s3ZlxMFlIU3c"
      },
      "source": [
        "np=gp.T"
      ],
      "execution_count": null,
      "outputs": []
    },
    {
      "cell_type": "code",
      "metadata": {
        "colab": {
          "base_uri": "https://localhost:8080/"
        },
        "id": "v38hoTXcIaoa",
        "outputId": "61202210-ef18-4260-d9a3-b91ea6f2c9a3"
      },
      "source": [
        "np.shape"
      ],
      "execution_count": null,
      "outputs": [
        {
          "output_type": "execute_result",
          "data": {
            "text/plain": [
              "(2, 3)"
            ]
          },
          "metadata": {
            "tags": []
          },
          "execution_count": 259
        }
      ]
    },
    {
      "cell_type": "code",
      "metadata": {
        "colab": {
          "base_uri": "https://localhost:8080/"
        },
        "id": "6MZz9FieIemD",
        "outputId": "9edca09c-a64c-404d-b212-4b944bdf6704"
      },
      "source": [
        "new_tensor.shape"
      ],
      "execution_count": null,
      "outputs": [
        {
          "output_type": "execute_result",
          "data": {
            "text/plain": [
              "TensorShape([3, 4, 3])"
            ]
          },
          "metadata": {
            "tags": []
          },
          "execution_count": 260
        }
      ]
    },
    {
      "cell_type": "code",
      "metadata": {
        "colab": {
          "base_uri": "https://localhost:8080/"
        },
        "id": "St111B93I3ET",
        "outputId": "6acaf506-cb2b-47f7-b531-f4129f50550e"
      },
      "source": [
        "new_tensor"
      ],
      "execution_count": null,
      "outputs": [
        {
          "output_type": "execute_result",
          "data": {
            "text/plain": [
              "<tf.Tensor: shape=(3, 4, 3), dtype=int32, numpy=\n",
              "array([[[0, 3, 5],\n",
              "        [9, 4, 4],\n",
              "        [6, 4, 4],\n",
              "        [3, 4, 4]],\n",
              "\n",
              "       [[8, 4, 3],\n",
              "        [7, 5, 5],\n",
              "        [0, 1, 5],\n",
              "        [9, 3, 0]],\n",
              "\n",
              "       [[5, 0, 1],\n",
              "        [2, 4, 2],\n",
              "        [0, 3, 2],\n",
              "        [0, 7, 5]]], dtype=int32)>"
            ]
          },
          "metadata": {
            "tags": []
          },
          "execution_count": 261
        }
      ]
    },
    {
      "cell_type": "code",
      "metadata": {
        "id": "2E6vXSp7FsIi"
      },
      "source": [
        "import numpy as np\n"
      ],
      "execution_count": null,
      "outputs": []
    },
    {
      "cell_type": "code",
      "metadata": {
        "id": "14P_DRT-FyND"
      },
      "source": [
        "z=np.array([[2,6,6],\n",
        "            [9,5,10]])"
      ],
      "execution_count": null,
      "outputs": []
    },
    {
      "cell_type": "code",
      "metadata": {
        "colab": {
          "base_uri": "https://localhost:8080/"
        },
        "id": "KCr9e5OYF6YC",
        "outputId": "db9e2950-b611-436a-ea7a-30c383809bb5"
      },
      "source": [
        "z.shape"
      ],
      "execution_count": null,
      "outputs": [
        {
          "output_type": "execute_result",
          "data": {
            "text/plain": [
              "(2, 3)"
            ]
          },
          "metadata": {
            "tags": []
          },
          "execution_count": 264
        }
      ]
    },
    {
      "cell_type": "code",
      "metadata": {
        "id": "0Oypu1lfGHPK"
      },
      "source": [
        "y=z.reshape(3,2)"
      ],
      "execution_count": null,
      "outputs": []
    },
    {
      "cell_type": "code",
      "metadata": {
        "colab": {
          "base_uri": "https://localhost:8080/"
        },
        "id": "eRnt8LgIGd4h",
        "outputId": "8f60ea00-986e-4656-e330-4ad2f5e57b6b"
      },
      "source": [
        "y"
      ],
      "execution_count": null,
      "outputs": [
        {
          "output_type": "execute_result",
          "data": {
            "text/plain": [
              "array([[ 2,  6],\n",
              "       [ 6,  9],\n",
              "       [ 5, 10]])"
            ]
          },
          "metadata": {
            "tags": []
          },
          "execution_count": 266
        }
      ]
    },
    {
      "cell_type": "code",
      "metadata": {
        "colab": {
          "base_uri": "https://localhost:8080/"
        },
        "id": "tJ_8b_ANGeli",
        "outputId": "3cf80262-f675-47f3-f55e-00e5bfbe4a59"
      },
      "source": [
        "tf.matmul(z,y)"
      ],
      "execution_count": null,
      "outputs": [
        {
          "output_type": "execute_result",
          "data": {
            "text/plain": [
              "<tf.Tensor: shape=(2, 2), dtype=int64, numpy=\n",
              "array([[ 70, 126],\n",
              "       [ 98, 199]])>"
            ]
          },
          "metadata": {
            "tags": []
          },
          "execution_count": 267
        }
      ]
    },
    {
      "cell_type": "code",
      "metadata": {
        "id": "6u6DChvUG7fO"
      },
      "source": [
        "k=np.random.randint(1,100,size=(3,3))"
      ],
      "execution_count": null,
      "outputs": []
    },
    {
      "cell_type": "code",
      "metadata": {
        "colab": {
          "base_uri": "https://localhost:8080/"
        },
        "id": "wnoKWXaUHHf7",
        "outputId": "974d6756-c821-412d-949b-2b12ad4b7a3b"
      },
      "source": [
        "tf.matmul(k,k)"
      ],
      "execution_count": null,
      "outputs": [
        {
          "output_type": "execute_result",
          "data": {
            "text/plain": [
              "<tf.Tensor: shape=(3, 3), dtype=int64, numpy=\n",
              "array([[12611, 14945, 20640],\n",
              "       [ 1442,  4484,  5460],\n",
              "       [ 6699,  9555, 13974]])>"
            ]
          },
          "metadata": {
            "tags": []
          },
          "execution_count": 269
        }
      ]
    },
    {
      "cell_type": "code",
      "metadata": {
        "colab": {
          "base_uri": "https://localhost:8080/"
        },
        "id": "obHCttmbHK4a",
        "outputId": "ebc88156-11e6-4f9f-b5d4-4792f9f6e080"
      },
      "source": [
        "tf.tensordot(k,k,axes=1)"
      ],
      "execution_count": null,
      "outputs": [
        {
          "output_type": "execute_result",
          "data": {
            "text/plain": [
              "<tf.Tensor: shape=(3, 3), dtype=int64, numpy=\n",
              "array([[12611, 14945, 20640],\n",
              "       [ 1442,  4484,  5460],\n",
              "       [ 6699,  9555, 13974]])>"
            ]
          },
          "metadata": {
            "tags": []
          },
          "execution_count": 270
        }
      ]
    },
    {
      "cell_type": "code",
      "metadata": {
        "colab": {
          "base_uri": "https://localhost:8080/"
        },
        "id": "oZMLSqmiNR3J",
        "outputId": "12101fe0-8829-4de6-f661-c29dd294a291"
      },
      "source": [
        "k"
      ],
      "execution_count": null,
      "outputs": [
        {
          "output_type": "execute_result",
          "data": {
            "text/plain": [
              "array([[96, 70, 95],\n",
              "       [ 1, 51, 37],\n",
              "       [35, 49, 94]])"
            ]
          },
          "metadata": {
            "tags": []
          },
          "execution_count": 271
        }
      ]
    },
    {
      "cell_type": "code",
      "metadata": {
        "colab": {
          "base_uri": "https://localhost:8080/"
        },
        "id": "2Nc1tXDxNYBU",
        "outputId": "42ac79bf-0a39-42cf-b421-b9564c4051cb"
      },
      "source": [
        " print(range(100))"
      ],
      "execution_count": null,
      "outputs": [
        {
          "output_type": "stream",
          "text": [
            "range(0, 100)\n"
          ],
          "name": "stdout"
        }
      ]
    },
    {
      "cell_type": "code",
      "metadata": {
        "id": "Ha6Ky5OCaiaY"
      },
      "source": [
        "cum=tf.constant([16.2,12.4],dtype=tf.float16)"
      ],
      "execution_count": null,
      "outputs": []
    },
    {
      "cell_type": "code",
      "metadata": {
        "colab": {
          "base_uri": "https://localhost:8080/"
        },
        "id": "c4AHEQATb1L8",
        "outputId": "5945b2a2-0424-496a-9f42-9f62a3d6dece"
      },
      "source": [
        "cum.dtype"
      ],
      "execution_count": null,
      "outputs": [
        {
          "output_type": "execute_result",
          "data": {
            "text/plain": [
              "tf.float16"
            ]
          },
          "metadata": {
            "tags": []
          },
          "execution_count": 274
        }
      ]
    },
    {
      "cell_type": "code",
      "metadata": {
        "id": "ez5xY_EZb6DG"
      },
      "source": [
        "mat1=tf.constant(np.random.randint(1,100,size=(3,3)),dtype=tf.float16)\n",
        "mat2=tf.constant(np.random.randint(1,100,size=(3,3)),dtype=tf.float16)"
      ],
      "execution_count": null,
      "outputs": []
    },
    {
      "cell_type": "code",
      "metadata": {
        "id": "h7kQ7lv0cuEs",
        "colab": {
          "base_uri": "https://localhost:8080/"
        },
        "outputId": "bb3625ac-2bc6-42d4-df76-1a42cab2910e"
      },
      "source": [
        "mat1,mat2"
      ],
      "execution_count": null,
      "outputs": [
        {
          "output_type": "execute_result",
          "data": {
            "text/plain": [
              "(<tf.Tensor: shape=(3, 3), dtype=float16, numpy=\n",
              " array([[ 4., 99., 43.],\n",
              "        [78., 22., 74.],\n",
              "        [ 1., 11., 44.]], dtype=float16)>,\n",
              " <tf.Tensor: shape=(3, 3), dtype=float16, numpy=\n",
              " array([[59., 24., 60.],\n",
              "        [ 3., 99., 63.],\n",
              "        [36., 95., 68.]], dtype=float16)>)"
            ]
          },
          "metadata": {
            "tags": []
          },
          "execution_count": 276
        }
      ]
    },
    {
      "cell_type": "code",
      "metadata": {
        "colab": {
          "base_uri": "https://localhost:8080/"
        },
        "id": "zhMm3G_uhIhd",
        "outputId": "7f417d0f-e6e1-4340-e13e-c6bbbd7c64a7"
      },
      "source": [
        "tf.matmul(mat1,mat2)"
      ],
      "execution_count": null,
      "outputs": [
        {
          "output_type": "execute_result",
          "data": {
            "text/plain": [
              "<tf.Tensor: shape=(3, 3), dtype=float16, numpy=\n",
              "array([[ 2080., 13980.,  9400.],\n",
              "       [ 7330., 11080., 11096.],\n",
              "       [ 1676.,  5292.,  3744.]], dtype=float16)>"
            ]
          },
          "metadata": {
            "tags": []
          },
          "execution_count": 277
        }
      ]
    },
    {
      "cell_type": "code",
      "metadata": {
        "colab": {
          "base_uri": "https://localhost:8080/"
        },
        "id": "YfT8uCWFhZRz",
        "outputId": "faff966e-50bb-4570-afb8-90247480dd4d"
      },
      "source": [
        "tf.cast(mat1,dtype=tf.int32)"
      ],
      "execution_count": null,
      "outputs": [
        {
          "output_type": "execute_result",
          "data": {
            "text/plain": [
              "<tf.Tensor: shape=(3, 3), dtype=int32, numpy=\n",
              "array([[ 4, 99, 43],\n",
              "       [78, 22, 74],\n",
              "       [ 1, 11, 44]], dtype=int32)>"
            ]
          },
          "metadata": {
            "tags": []
          },
          "execution_count": 278
        }
      ]
    },
    {
      "cell_type": "code",
      "metadata": {
        "id": "K1jBhXDzwR6p"
      },
      "source": [
        "ne=tf.constant(np.random.randint(0,1000,size=200))"
      ],
      "execution_count": null,
      "outputs": []
    },
    {
      "cell_type": "code",
      "metadata": {
        "colab": {
          "base_uri": "https://localhost:8080/"
        },
        "id": "h4CbTGiTwrvQ",
        "outputId": "b928406f-46a9-4ecd-a8bc-3cc484352871"
      },
      "source": [
        "ne.shape,ne.ndim"
      ],
      "execution_count": null,
      "outputs": [
        {
          "output_type": "execute_result",
          "data": {
            "text/plain": [
              "(TensorShape([200]), 1)"
            ]
          },
          "metadata": {
            "tags": []
          },
          "execution_count": 280
        }
      ]
    },
    {
      "cell_type": "code",
      "metadata": {
        "colab": {
          "base_uri": "https://localhost:8080/"
        },
        "id": "79Zwjmvvw3Pn",
        "outputId": "3e351d8e-4f89-4148-b3e8-52b2a75bc7aa"
      },
      "source": [
        "tf.reduce_min(ne)"
      ],
      "execution_count": null,
      "outputs": [
        {
          "output_type": "execute_result",
          "data": {
            "text/plain": [
              "<tf.Tensor: shape=(), dtype=int64, numpy=11>"
            ]
          },
          "metadata": {
            "tags": []
          },
          "execution_count": 281
        }
      ]
    },
    {
      "cell_type": "code",
      "metadata": {
        "colab": {
          "base_uri": "https://localhost:8080/"
        },
        "id": "ZTLVuAqex6bL",
        "outputId": "40773489-781f-468f-9cc1-ae864a4837c1"
      },
      "source": [
        "ne"
      ],
      "execution_count": null,
      "outputs": [
        {
          "output_type": "execute_result",
          "data": {
            "text/plain": [
              "<tf.Tensor: shape=(200,), dtype=int64, numpy=\n",
              "array([594, 942, 739, 148, 209, 562, 411, 782,  41,  58, 705,  36, 778,\n",
              "        86,  43, 872,  11, 770, 307,  80,  32, 182, 128, 806, 275, 174,\n",
              "       554, 371, 184, 444, 488, 589, 286, 280, 637, 770, 515,  94, 226,\n",
              "       875, 269, 880, 296, 328,  19, 607, 840, 410, 450, 248, 180, 323,\n",
              "       829, 782, 864, 260, 963, 749, 139, 598, 461, 889, 621, 843, 696,\n",
              "       528, 152, 925, 149, 110,  25, 464, 956, 889, 886, 117, 445, 595,\n",
              "       673, 872, 928, 228, 507, 763, 121, 326, 469, 287, 525, 839, 696,\n",
              "       152, 591,  41, 274, 552, 438, 207, 779, 166, 111, 349, 129, 735,\n",
              "       886, 812, 216, 381,  24,  67, 978, 771, 234, 716, 998, 291, 726,\n",
              "       701, 709, 727, 555,  32,  11, 616, 212, 138, 694, 421, 637, 668,\n",
              "       623, 488, 770, 539, 979, 217, 663, 821, 307, 174, 148, 949, 541,\n",
              "       579, 547, 807, 393,  73, 297, 919, 899, 814, 730, 946, 876, 771,\n",
              "       799, 777, 394, 539, 429, 199, 423,  61, 341, 865,  44, 802, 930,\n",
              "        88,  33, 645, 232, 767,  36, 768, 459, 290, 197, 894, 949, 254,\n",
              "        80, 446, 136, 189, 129, 209, 368, 291, 376, 347, 168, 884, 804,\n",
              "       176, 537, 323, 871, 508])>"
            ]
          },
          "metadata": {
            "tags": []
          },
          "execution_count": 282
        }
      ]
    },
    {
      "cell_type": "code",
      "metadata": {
        "colab": {
          "base_uri": "https://localhost:8080/"
        },
        "id": "TvFvTEYLx8KA",
        "outputId": "f76c5503-f3b0-4a27-8488-d1d81d3ddb4d"
      },
      "source": [
        "tf.reduce_max(ne)"
      ],
      "execution_count": null,
      "outputs": [
        {
          "output_type": "execute_result",
          "data": {
            "text/plain": [
              "<tf.Tensor: shape=(), dtype=int64, numpy=998>"
            ]
          },
          "metadata": {
            "tags": []
          },
          "execution_count": 283
        }
      ]
    },
    {
      "cell_type": "code",
      "metadata": {
        "colab": {
          "base_uri": "https://localhost:8080/"
        },
        "id": "5zCMBmOJyBdg",
        "outputId": "cd1d566e-c515-440e-95b1-12893f230494"
      },
      "source": [
        "tf.reduce_sum(ne)"
      ],
      "execution_count": null,
      "outputs": [
        {
          "output_type": "execute_result",
          "data": {
            "text/plain": [
              "<tf.Tensor: shape=(), dtype=int64, numpy=95775>"
            ]
          },
          "metadata": {
            "tags": []
          },
          "execution_count": 284
        }
      ]
    },
    {
      "cell_type": "code",
      "metadata": {
        "id": "DuleBAN9yPLC"
      },
      "source": [
        "ma=tf.constant(np.random.randint(0,500,120))"
      ],
      "execution_count": null,
      "outputs": []
    },
    {
      "cell_type": "code",
      "metadata": {
        "colab": {
          "base_uri": "https://localhost:8080/"
        },
        "id": "eEfLVtIdydGO",
        "outputId": "d5c9b4fb-9104-4ea5-c189-3d99760638ee"
      },
      "source": [
        "tf.reduce_sum(ma)"
      ],
      "execution_count": null,
      "outputs": [
        {
          "output_type": "execute_result",
          "data": {
            "text/plain": [
              "<tf.Tensor: shape=(), dtype=int64, numpy=30038>"
            ]
          },
          "metadata": {
            "tags": []
          },
          "execution_count": 286
        }
      ]
    },
    {
      "cell_type": "code",
      "metadata": {
        "id": "jeefzjQ9yiHo"
      },
      "source": [
        "import  tensorflow_probability as tfp"
      ],
      "execution_count": null,
      "outputs": []
    },
    {
      "cell_type": "code",
      "metadata": {
        "colab": {
          "base_uri": "https://localhost:8080/"
        },
        "id": "ooMrXJJIzKxw",
        "outputId": "efbc1f6b-1d0b-46cd-addf-21790f781091"
      },
      "source": [
        "tfp.stats.variance(ma)"
      ],
      "execution_count": null,
      "outputs": [
        {
          "output_type": "execute_result",
          "data": {
            "text/plain": [
              "<tf.Tensor: shape=(), dtype=int64, numpy=21447>"
            ]
          },
          "metadata": {
            "tags": []
          },
          "execution_count": 288
        }
      ]
    },
    {
      "cell_type": "code",
      "metadata": {
        "colab": {
          "base_uri": "https://localhost:8080/"
        },
        "id": "t_VkvlBdzOrR",
        "outputId": "0c23250a-d42c-4599-d107-3f68411ca3de"
      },
      "source": [
        "tf.math.reduce_std(tf.cast(ma,dtype=tf.float32))"
      ],
      "execution_count": null,
      "outputs": [
        {
          "output_type": "execute_result",
          "data": {
            "text/plain": [
              "<tf.Tensor: shape=(), dtype=float32, numpy=146.44987>"
            ]
          },
          "metadata": {
            "tags": []
          },
          "execution_count": 289
        }
      ]
    },
    {
      "cell_type": "code",
      "metadata": {
        "colab": {
          "base_uri": "https://localhost:8080/"
        },
        "id": "gVYXD7B_zx2S",
        "outputId": "75ac1949-3cab-4dd3-8579-537d931715e2"
      },
      "source": [
        "tf.math.reduce_variance(tf.cast(ma,dtype=tf.float32))"
      ],
      "execution_count": null,
      "outputs": [
        {
          "output_type": "execute_result",
          "data": {
            "text/plain": [
              "<tf.Tensor: shape=(), dtype=float32, numpy=21447.566>"
            ]
          },
          "metadata": {
            "tags": []
          },
          "execution_count": 290
        }
      ]
    },
    {
      "cell_type": "code",
      "metadata": {
        "id": "55pW6sjw02fx"
      },
      "source": [
        "tf.random.set_seed(42)\n",
        "b=tf.random.uniform(shape=[50])"
      ],
      "execution_count": null,
      "outputs": []
    },
    {
      "cell_type": "code",
      "metadata": {
        "colab": {
          "base_uri": "https://localhost:8080/"
        },
        "id": "vi4j-b96126t",
        "outputId": "050ae167-5065-4e6c-e980-d26cedd6f458"
      },
      "source": [
        "tf.argmax(b)"
      ],
      "execution_count": null,
      "outputs": [
        {
          "output_type": "execute_result",
          "data": {
            "text/plain": [
              "<tf.Tensor: shape=(), dtype=int64, numpy=42>"
            ]
          },
          "metadata": {
            "tags": []
          },
          "execution_count": 292
        }
      ]
    },
    {
      "cell_type": "code",
      "metadata": {
        "colab": {
          "base_uri": "https://localhost:8080/"
        },
        "id": "_5vmOOSa2RkS",
        "outputId": "c121bdf3-2f6f-4e5a-b587-30afa312b859"
      },
      "source": [
        "b[tf.argmax(b)]"
      ],
      "execution_count": null,
      "outputs": [
        {
          "output_type": "execute_result",
          "data": {
            "text/plain": [
              "<tf.Tensor: shape=(), dtype=float32, numpy=0.9671384>"
            ]
          },
          "metadata": {
            "tags": []
          },
          "execution_count": 293
        }
      ]
    },
    {
      "cell_type": "code",
      "metadata": {
        "colab": {
          "base_uri": "https://localhost:8080/"
        },
        "id": "cwyo81cF2WvE",
        "outputId": "752cc977-6162-4f58-db9e-d2cff44811c1"
      },
      "source": [
        "b"
      ],
      "execution_count": null,
      "outputs": [
        {
          "output_type": "execute_result",
          "data": {
            "text/plain": [
              "<tf.Tensor: shape=(50,), dtype=float32, numpy=\n",
              "array([0.6645621 , 0.44100678, 0.3528825 , 0.46448255, 0.03366041,\n",
              "       0.68467236, 0.74011743, 0.8724445 , 0.22632635, 0.22319686,\n",
              "       0.3103881 , 0.7223358 , 0.13318717, 0.5480639 , 0.5746088 ,\n",
              "       0.8996835 , 0.00946367, 0.5212307 , 0.6345445 , 0.1993283 ,\n",
              "       0.72942245, 0.54583454, 0.10756552, 0.6767061 , 0.6602763 ,\n",
              "       0.33695042, 0.60141766, 0.21062577, 0.8527372 , 0.44062173,\n",
              "       0.9485276 , 0.23752594, 0.81179297, 0.5263394 , 0.494308  ,\n",
              "       0.21612847, 0.8457197 , 0.8718841 , 0.3083862 , 0.6868038 ,\n",
              "       0.23764038, 0.7817228 , 0.9671384 , 0.06870162, 0.79873943,\n",
              "       0.66028714, 0.5871513 , 0.16461694, 0.7381023 , 0.32054043],\n",
              "      dtype=float32)>"
            ]
          },
          "metadata": {
            "tags": []
          },
          "execution_count": 294
        }
      ]
    },
    {
      "cell_type": "code",
      "metadata": {
        "colab": {
          "base_uri": "https://localhost:8080/"
        },
        "id": "j2XaQB0yOX_D",
        "outputId": "55185def-149c-4eb4-dcb7-f3552d7530d6"
      },
      "source": [
        "tf.math.reduce_variance(b)"
      ],
      "execution_count": null,
      "outputs": [
        {
          "output_type": "execute_result",
          "data": {
            "text/plain": [
              "<tf.Tensor: shape=(), dtype=float32, numpy=0.070982546>"
            ]
          },
          "metadata": {
            "tags": []
          },
          "execution_count": 295
        }
      ]
    },
    {
      "cell_type": "code",
      "metadata": {
        "colab": {
          "base_uri": "https://localhost:8080/"
        },
        "id": "_so-d6-lOc7P",
        "outputId": "890c7f86-ac8f-4a48-95ad-b8a338c4f540"
      },
      "source": [
        "tf.math.reduce_std(b)"
      ],
      "execution_count": null,
      "outputs": [
        {
          "output_type": "execute_result",
          "data": {
            "text/plain": [
              "<tf.Tensor: shape=(), dtype=float32, numpy=0.2664255>"
            ]
          },
          "metadata": {
            "tags": []
          },
          "execution_count": 296
        }
      ]
    },
    {
      "cell_type": "code",
      "metadata": {
        "colab": {
          "base_uri": "https://localhost:8080/"
        },
        "id": "rHrAW85lOhC3",
        "outputId": "bd5763b8-c8e8-4e67-f067-7be215a8a647"
      },
      "source": [
        "tf.argmax(b)"
      ],
      "execution_count": null,
      "outputs": [
        {
          "output_type": "execute_result",
          "data": {
            "text/plain": [
              "<tf.Tensor: shape=(), dtype=int64, numpy=42>"
            ]
          },
          "metadata": {
            "tags": []
          },
          "execution_count": 297
        }
      ]
    },
    {
      "cell_type": "code",
      "metadata": {
        "colab": {
          "base_uri": "https://localhost:8080/"
        },
        "id": "jxwHcR0IOovo",
        "outputId": "60282074-9276-46f8-ff56-5e569618a72d"
      },
      "source": [
        "b[42]"
      ],
      "execution_count": null,
      "outputs": [
        {
          "output_type": "execute_result",
          "data": {
            "text/plain": [
              "<tf.Tensor: shape=(), dtype=float32, numpy=0.9671384>"
            ]
          },
          "metadata": {
            "tags": []
          },
          "execution_count": 298
        }
      ]
    },
    {
      "cell_type": "code",
      "metadata": {
        "id": "ZYSupSEKOrww",
        "colab": {
          "base_uri": "https://localhost:8080/"
        },
        "outputId": "436e819d-62ea-4aa8-ebc4-94c20fb21c8c"
      },
      "source": [
        "tf.argmax(ma)"
      ],
      "execution_count": null,
      "outputs": [
        {
          "output_type": "execute_result",
          "data": {
            "text/plain": [
              "<tf.Tensor: shape=(), dtype=int64, numpy=40>"
            ]
          },
          "metadata": {
            "tags": []
          },
          "execution_count": 299
        }
      ]
    },
    {
      "cell_type": "code",
      "metadata": {
        "id": "qTBRIOIeOu1Q",
        "colab": {
          "base_uri": "https://localhost:8080/"
        },
        "outputId": "aa6e7fd7-57cd-4090-d6e8-d55740fa0acf"
      },
      "source": [
        "ma[40]"
      ],
      "execution_count": null,
      "outputs": [
        {
          "output_type": "execute_result",
          "data": {
            "text/plain": [
              "<tf.Tensor: shape=(), dtype=int64, numpy=498>"
            ]
          },
          "metadata": {
            "tags": []
          },
          "execution_count": 300
        }
      ]
    },
    {
      "cell_type": "code",
      "metadata": {
        "id": "cOuou27uOwtp",
        "colab": {
          "base_uri": "https://localhost:8080/"
        },
        "outputId": "eab0dceb-b3f0-4e2e-efc4-5401c8c6511d"
      },
      "source": [
        "ma[tf.argmax(ma)]==tf.reduce_max(ma)"
      ],
      "execution_count": null,
      "outputs": [
        {
          "output_type": "execute_result",
          "data": {
            "text/plain": [
              "<tf.Tensor: shape=(), dtype=bool, numpy=True>"
            ]
          },
          "metadata": {
            "tags": []
          },
          "execution_count": 301
        }
      ]
    },
    {
      "cell_type": "code",
      "metadata": {
        "colab": {
          "base_uri": "https://localhost:8080/"
        },
        "id": "9RnVFxW31CQo",
        "outputId": "19e0d218-5ae3-419b-ca72-a4c8110592cc"
      },
      "source": [
        "ma[tf.argmin(ma)]"
      ],
      "execution_count": null,
      "outputs": [
        {
          "output_type": "execute_result",
          "data": {
            "text/plain": [
              "<tf.Tensor: shape=(), dtype=int64, numpy=2>"
            ]
          },
          "metadata": {
            "tags": []
          },
          "execution_count": 302
        }
      ]
    },
    {
      "cell_type": "code",
      "metadata": {
        "colab": {
          "base_uri": "https://localhost:8080/"
        },
        "id": "DATQnxpA1S2M",
        "outputId": "286f1521-1dc1-40f2-e9d1-ff8bd7f4f2e6"
      },
      "source": [
        "tf.argmin(b)"
      ],
      "execution_count": null,
      "outputs": [
        {
          "output_type": "execute_result",
          "data": {
            "text/plain": [
              "<tf.Tensor: shape=(), dtype=int64, numpy=16>"
            ]
          },
          "metadata": {
            "tags": []
          },
          "execution_count": 303
        }
      ]
    },
    {
      "cell_type": "code",
      "metadata": {
        "colab": {
          "base_uri": "https://localhost:8080/"
        },
        "id": "Zay1WXLh1kNs",
        "outputId": "5087b383-d219-4d53-bda4-56e2512ccacf"
      },
      "source": [
        "b[tf.argmin(b)]==tf.reduce_min(b)"
      ],
      "execution_count": null,
      "outputs": [
        {
          "output_type": "execute_result",
          "data": {
            "text/plain": [
              "<tf.Tensor: shape=(), dtype=bool, numpy=True>"
            ]
          },
          "metadata": {
            "tags": []
          },
          "execution_count": 304
        }
      ]
    },
    {
      "cell_type": "code",
      "metadata": {
        "colab": {
          "base_uri": "https://localhost:8080/"
        },
        "id": "wUZPfDt31nGz",
        "outputId": "b867c14a-8db3-45b5-f83f-86126884f21b"
      },
      "source": [
        "tam=tf.constant(tf.random.uniform(shape=[50]),shape=(1,1,1,1,1,1,1,1,1,1,50))\n",
        "tam"
      ],
      "execution_count": null,
      "outputs": [
        {
          "output_type": "execute_result",
          "data": {
            "text/plain": [
              "<tf.Tensor: shape=(1, 1, 1, 1, 1, 1, 1, 1, 1, 1, 50), dtype=float32, numpy=\n",
              "array([[[[[[[[[[[0.68789124, 0.48447883, 0.9309944 , 0.252187  ,\n",
              "                 0.73115396, 0.89256823, 0.94674826, 0.7493341 ,\n",
              "                 0.34925628, 0.54718256, 0.26160395, 0.69734323,\n",
              "                 0.11962581, 0.53484344, 0.7148968 , 0.87501776,\n",
              "                 0.33967495, 0.17377627, 0.4418521 , 0.9008261 ,\n",
              "                 0.13803864, 0.12217975, 0.5754491 , 0.9417181 ,\n",
              "                 0.9186585 , 0.59708476, 0.6109482 , 0.82086265,\n",
              "                 0.83269787, 0.8915849 , 0.01377225, 0.49807465,\n",
              "                 0.57503664, 0.6856195 , 0.75972784, 0.908944  ,\n",
              "                 0.40900218, 0.8765154 , 0.53890026, 0.42733097,\n",
              "                 0.401173  , 0.66623247, 0.16348064, 0.18220246,\n",
              "                 0.97040176, 0.06139731, 0.53034747, 0.9869994 ,\n",
              "                 0.4746945 , 0.8646754 ]]]]]]]]]]], dtype=float32)>"
            ]
          },
          "metadata": {
            "tags": []
          },
          "execution_count": 305
        }
      ]
    },
    {
      "cell_type": "code",
      "metadata": {
        "colab": {
          "base_uri": "https://localhost:8080/"
        },
        "id": "FtuZUOgk3Sez",
        "outputId": "39ab90df-fb90-436f-830c-287c334416ff"
      },
      "source": [
        "seq=tf.squeeze(tam)\n",
        "seq,tam"
      ],
      "execution_count": null,
      "outputs": [
        {
          "output_type": "execute_result",
          "data": {
            "text/plain": [
              "(<tf.Tensor: shape=(50,), dtype=float32, numpy=\n",
              " array([0.68789124, 0.48447883, 0.9309944 , 0.252187  , 0.73115396,\n",
              "        0.89256823, 0.94674826, 0.7493341 , 0.34925628, 0.54718256,\n",
              "        0.26160395, 0.69734323, 0.11962581, 0.53484344, 0.7148968 ,\n",
              "        0.87501776, 0.33967495, 0.17377627, 0.4418521 , 0.9008261 ,\n",
              "        0.13803864, 0.12217975, 0.5754491 , 0.9417181 , 0.9186585 ,\n",
              "        0.59708476, 0.6109482 , 0.82086265, 0.83269787, 0.8915849 ,\n",
              "        0.01377225, 0.49807465, 0.57503664, 0.6856195 , 0.75972784,\n",
              "        0.908944  , 0.40900218, 0.8765154 , 0.53890026, 0.42733097,\n",
              "        0.401173  , 0.66623247, 0.16348064, 0.18220246, 0.97040176,\n",
              "        0.06139731, 0.53034747, 0.9869994 , 0.4746945 , 0.8646754 ],\n",
              "       dtype=float32)>,\n",
              " <tf.Tensor: shape=(1, 1, 1, 1, 1, 1, 1, 1, 1, 1, 50), dtype=float32, numpy=\n",
              " array([[[[[[[[[[[0.68789124, 0.48447883, 0.9309944 , 0.252187  ,\n",
              "                  0.73115396, 0.89256823, 0.94674826, 0.7493341 ,\n",
              "                  0.34925628, 0.54718256, 0.26160395, 0.69734323,\n",
              "                  0.11962581, 0.53484344, 0.7148968 , 0.87501776,\n",
              "                  0.33967495, 0.17377627, 0.4418521 , 0.9008261 ,\n",
              "                  0.13803864, 0.12217975, 0.5754491 , 0.9417181 ,\n",
              "                  0.9186585 , 0.59708476, 0.6109482 , 0.82086265,\n",
              "                  0.83269787, 0.8915849 , 0.01377225, 0.49807465,\n",
              "                  0.57503664, 0.6856195 , 0.75972784, 0.908944  ,\n",
              "                  0.40900218, 0.8765154 , 0.53890026, 0.42733097,\n",
              "                  0.401173  , 0.66623247, 0.16348064, 0.18220246,\n",
              "                  0.97040176, 0.06139731, 0.53034747, 0.9869994 ,\n",
              "                  0.4746945 , 0.8646754 ]]]]]]]]]]], dtype=float32)>)"
            ]
          },
          "metadata": {
            "tags": []
          },
          "execution_count": 306
        }
      ]
    },
    {
      "cell_type": "code",
      "metadata": {
        "colab": {
          "base_uri": "https://localhost:8080/"
        },
        "id": "0zDC5GIA3Y1r",
        "outputId": "fb63f7ea-1b87-49ce-8a20-765d9500573b"
      },
      "source": [
        "mal=[0,1,2,3,4,5,6]\n",
        "depth=7\n",
        "tf.one_hot(mal,depth=depth,on_value=5,off_value=1000)"
      ],
      "execution_count": null,
      "outputs": [
        {
          "output_type": "execute_result",
          "data": {
            "text/plain": [
              "<tf.Tensor: shape=(7, 7), dtype=int32, numpy=\n",
              "array([[   5, 1000, 1000, 1000, 1000, 1000, 1000],\n",
              "       [1000,    5, 1000, 1000, 1000, 1000, 1000],\n",
              "       [1000, 1000,    5, 1000, 1000, 1000, 1000],\n",
              "       [1000, 1000, 1000,    5, 1000, 1000, 1000],\n",
              "       [1000, 1000, 1000, 1000,    5, 1000, 1000],\n",
              "       [1000, 1000, 1000, 1000, 1000,    5, 1000],\n",
              "       [1000, 1000, 1000, 1000, 1000, 1000,    5]], dtype=int32)>"
            ]
          },
          "metadata": {
            "tags": []
          },
          "execution_count": 307
        }
      ]
    },
    {
      "cell_type": "code",
      "metadata": {
        "colab": {
          "base_uri": "https://localhost:8080/"
        },
        "id": "5r79KQhE5cWJ",
        "outputId": "66925ec5-4565-4bee-f43b-4dec3c2acb13"
      },
      "source": [
        "mf=tf.range(10)\n",
        "tf.square(mf),tf.sqrt(tf.cast(mf,tf.float32))"
      ],
      "execution_count": null,
      "outputs": [
        {
          "output_type": "execute_result",
          "data": {
            "text/plain": [
              "(<tf.Tensor: shape=(10,), dtype=int32, numpy=array([ 0,  1,  4,  9, 16, 25, 36, 49, 64, 81], dtype=int32)>,\n",
              " <tf.Tensor: shape=(10,), dtype=float32, numpy=\n",
              " array([0.        , 0.99999994, 1.4142134 , 1.7320508 , 1.9999999 ,\n",
              "        2.236068  , 2.4494896 , 2.6457512 , 2.828427  , 3.        ],\n",
              "       dtype=float32)>)"
            ]
          },
          "metadata": {
            "tags": []
          },
          "execution_count": 308
        }
      ]
    },
    {
      "cell_type": "code",
      "metadata": {
        "colab": {
          "base_uri": "https://localhost:8080/"
        },
        "id": "2NIufypX86VS",
        "outputId": "859bd35e-a95e-4b2e-9d3a-40f72321d419"
      },
      "source": [
        "j=tf.random.uniform(shape=(3,4,3))\n",
        "j\n"
      ],
      "execution_count": null,
      "outputs": [
        {
          "output_type": "execute_result",
          "data": {
            "text/plain": [
              "<tf.Tensor: shape=(3, 4, 3), dtype=float32, numpy=\n",
              "array([[[0.7413678 , 0.62854624, 0.01738465],\n",
              "        [0.3431449 , 0.51063764, 0.3777541 ],\n",
              "        [0.07321596, 0.02137029, 0.2871771 ],\n",
              "        [0.4710616 , 0.6936141 , 0.07321334]],\n",
              "\n",
              "       [[0.93251204, 0.20843053, 0.70105827],\n",
              "        [0.45856392, 0.8596262 , 0.92934334],\n",
              "        [0.20291913, 0.76865506, 0.60016024],\n",
              "        [0.27039742, 0.88180614, 0.05365038]],\n",
              "\n",
              "       [[0.42274463, 0.89037776, 0.7887033 ],\n",
              "        [0.10165584, 0.19408834, 0.27896714],\n",
              "        [0.39512634, 0.12235212, 0.38412368],\n",
              "        [0.9455296 , 0.77594674, 0.94442344]]], dtype=float32)>"
            ]
          },
          "metadata": {
            "tags": []
          },
          "execution_count": 309
        }
      ]
    },
    {
      "cell_type": "code",
      "metadata": {
        "id": "qgsxTC0B7L4g"
      },
      "source": [
        "mee=tf.constant(np.random.randint(0,100,size=(1,1,1,1,1,1,1,1,1,1,1,1,1,5,3,5)))"
      ],
      "execution_count": null,
      "outputs": []
    },
    {
      "cell_type": "code",
      "metadata": {
        "id": "HF_K8jBl7v67"
      },
      "source": [
        "maa=tf.squeeze(mee)"
      ],
      "execution_count": null,
      "outputs": []
    },
    {
      "cell_type": "code",
      "metadata": {
        "colab": {
          "base_uri": "https://localhost:8080/"
        },
        "id": "c923W4CK8G1Z",
        "outputId": "d11a2674-a7d2-4869-e224-d5e7b343470a"
      },
      "source": [
        "mee.shape,maa.shape"
      ],
      "execution_count": null,
      "outputs": [
        {
          "output_type": "execute_result",
          "data": {
            "text/plain": [
              "(TensorShape([1, 1, 1, 1, 1, 1, 1, 1, 1, 1, 1, 1, 1, 5, 3, 5]),\n",
              " TensorShape([5, 3, 5]))"
            ]
          },
          "metadata": {
            "tags": []
          },
          "execution_count": 312
        }
      ]
    },
    {
      "cell_type": "code",
      "metadata": {
        "colab": {
          "base_uri": "https://localhost:8080/"
        },
        "id": "sUifJdHO8aP6",
        "outputId": "63c12372-24cc-4965-f291-aeee3f90ce1b"
      },
      "source": [
        "m=tf.math.log(tf.cast(range(100),dtype=tf.float32))\n",
        "m"
      ],
      "execution_count": null,
      "outputs": [
        {
          "output_type": "execute_result",
          "data": {
            "text/plain": [
              "<tf.Tensor: shape=(100,), dtype=float32, numpy=\n",
              "array([     -inf, 0.       , 0.6931472, 1.0986123, 1.3862944, 1.609438 ,\n",
              "       1.7917595, 1.9459102, 2.0794415, 2.1972246, 2.3025851, 2.3978953,\n",
              "       2.4849067, 2.5649493, 2.6390574, 2.7080503, 2.7725887, 2.8332133,\n",
              "       2.8903718, 2.944439 , 2.9957323, 3.0445225, 3.0910425, 3.1354942,\n",
              "       3.1780539, 3.218876 , 3.2580965, 3.295837 , 3.3322046, 3.3672957,\n",
              "       3.4011974, 3.4339871, 3.465736 , 3.4965076, 3.5263605, 3.5553482,\n",
              "       3.583519 , 3.610918 , 3.637586 , 3.6635616, 3.6888795, 3.713572 ,\n",
              "       3.7376697, 3.7612002, 3.7841897, 3.8066626, 3.8286414, 3.8501477,\n",
              "       3.871201 , 3.8918204, 3.912023 , 3.9318256, 3.9512436, 3.9702919,\n",
              "       3.988984 , 4.0073333, 4.0253515, 4.0430512, 4.060443 , 4.0775375,\n",
              "       4.0943446, 4.1108737, 4.1271343, 4.1431346, 4.158883 , 4.1743875,\n",
              "       4.189655 , 4.204693 , 4.2195077, 4.2341065, 4.248495 , 4.26268  ,\n",
              "       4.276666 , 4.2904596, 4.304065 , 4.317488 , 4.3307333, 4.3438053,\n",
              "       4.356709 , 4.3694477, 4.3820267, 4.394449 , 4.406719 , 4.4188404,\n",
              "       4.4308167, 4.4426513, 4.454347 , 4.465908 , 4.477337 , 4.4886365,\n",
              "       4.4998097, 4.5108595, 4.5217886, 4.5325994, 4.543295 , 4.553877 ,\n",
              "       4.564348 , 4.574711 , 4.5849676, 4.59512  ], dtype=float32)>"
            ]
          },
          "metadata": {
            "tags": []
          },
          "execution_count": 313
        }
      ]
    },
    {
      "cell_type": "code",
      "metadata": {
        "id": "d5MnyvRF8h8B"
      },
      "source": [
        "ja=np.array(m)"
      ],
      "execution_count": null,
      "outputs": []
    },
    {
      "cell_type": "code",
      "metadata": {
        "id": "TZNQJRckGEW2"
      },
      "source": [
        "import matplotlib.pyplot as plt\n"
      ],
      "execution_count": null,
      "outputs": []
    },
    {
      "cell_type": "code",
      "metadata": {
        "colab": {
          "base_uri": "https://localhost:8080/"
        },
        "id": "x4x1gsGAGa3d",
        "outputId": "7f586dd5-757b-40f7-d24b-00221b6e5dd1"
      },
      "source": [
        "x=np.random.randint(0,100,100)\n",
        "y=np.array(range(100))\n",
        "x,y"
      ],
      "execution_count": null,
      "outputs": [
        {
          "output_type": "execute_result",
          "data": {
            "text/plain": [
              "(array([20, 36, 68, 80, 47, 10, 94, 91, 43, 63, 31, 20, 70,  9, 60, 91, 35,\n",
              "        83, 76, 18, 74, 98, 97, 43,  3, 12, 58,  1,  0, 39, 24, 58, 36, 99,\n",
              "        69,  6,  3, 98, 40, 60, 33, 28, 68, 26, 96, 51, 73, 53, 69, 33,  7,\n",
              "        94, 72, 84,  7, 67, 85, 91, 67, 84, 71, 83, 95,  0,  5, 91, 30, 73,\n",
              "        83,  7, 21, 92,  8, 43, 46,  0, 51, 38, 89, 74, 98, 87, 96, 83, 26,\n",
              "        78, 32, 70, 97, 44, 59, 57, 50, 45,  4, 57, 93, 91, 17, 35]),\n",
              " array([ 0,  1,  2,  3,  4,  5,  6,  7,  8,  9, 10, 11, 12, 13, 14, 15, 16,\n",
              "        17, 18, 19, 20, 21, 22, 23, 24, 25, 26, 27, 28, 29, 30, 31, 32, 33,\n",
              "        34, 35, 36, 37, 38, 39, 40, 41, 42, 43, 44, 45, 46, 47, 48, 49, 50,\n",
              "        51, 52, 53, 54, 55, 56, 57, 58, 59, 60, 61, 62, 63, 64, 65, 66, 67,\n",
              "        68, 69, 70, 71, 72, 73, 74, 75, 76, 77, 78, 79, 80, 81, 82, 83, 84,\n",
              "        85, 86, 87, 88, 89, 90, 91, 92, 93, 94, 95, 96, 97, 98, 99]))"
            ]
          },
          "metadata": {
            "tags": []
          },
          "execution_count": 316
        }
      ]
    },
    {
      "cell_type": "code",
      "metadata": {
        "colab": {
          "base_uri": "https://localhost:8080/"
        },
        "id": "H0k4jelsGjB9",
        "outputId": "d341d61e-a401-42e4-ea50-851162c56bce"
      },
      "source": [
        "len(m),len(j)"
      ],
      "execution_count": null,
      "outputs": [
        {
          "output_type": "execute_result",
          "data": {
            "text/plain": [
              "(100, 3)"
            ]
          },
          "metadata": {
            "tags": []
          },
          "execution_count": 317
        }
      ]
    },
    {
      "cell_type": "code",
      "metadata": {
        "colab": {
          "base_uri": "https://localhost:8080/"
        },
        "id": "5nxWcnfmG7Me",
        "outputId": "58c51865-9e2d-4d27-b5b9-8adc461f9e53"
      },
      "source": [
        "y"
      ],
      "execution_count": null,
      "outputs": [
        {
          "output_type": "execute_result",
          "data": {
            "text/plain": [
              "array([ 0,  1,  2,  3,  4,  5,  6,  7,  8,  9, 10, 11, 12, 13, 14, 15, 16,\n",
              "       17, 18, 19, 20, 21, 22, 23, 24, 25, 26, 27, 28, 29, 30, 31, 32, 33,\n",
              "       34, 35, 36, 37, 38, 39, 40, 41, 42, 43, 44, 45, 46, 47, 48, 49, 50,\n",
              "       51, 52, 53, 54, 55, 56, 57, 58, 59, 60, 61, 62, 63, 64, 65, 66, 67,\n",
              "       68, 69, 70, 71, 72, 73, 74, 75, 76, 77, 78, 79, 80, 81, 82, 83, 84,\n",
              "       85, 86, 87, 88, 89, 90, 91, 92, 93, 94, 95, 96, 97, 98, 99])"
            ]
          },
          "metadata": {
            "tags": []
          },
          "execution_count": 318
        }
      ]
    },
    {
      "cell_type": "code",
      "metadata": {
        "colab": {
          "base_uri": "https://localhost:8080/",
          "height": 265
        },
        "id": "sizc6F5HHyOe",
        "outputId": "2cf47432-5066-4c1a-e370-facfd908b4ef"
      },
      "source": [
        "plt.plot(x,y )\n",
        "plt.scatter(x,y)\n",
        "plt.bar(x,y)\n",
        "plt.hist(x);"
      ],
      "execution_count": null,
      "outputs": [
        {
          "output_type": "display_data",
          "data": {
            "image/png": "[encoded data removed]",
            "text/plain": [
              "<Figure size 432x288 with 1 Axes>"
            ]
          },
          "metadata": {
            "tags": [],
            "needs_background": "light"
          }
        }
      ]
    },
    {
      "cell_type": "code",
      "metadata": {
        "id": "DTWyWeONH9Y4"
      },
      "source": [
        ""
      ],
      "execution_count": null,
      "outputs": []
    }
  ]
}