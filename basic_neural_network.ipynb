{
  "nbformat": 4,
  "nbformat_minor": 0,
  "metadata": {
    "colab": {
      "name": "basic neural network.ipynb",
      "provenance": []
    },
    "kernelspec": {
      "name": "python3",
      "display_name": "Python 3"
    },
    "language_info": {
      "name": "python"
    },
    "accelerator": "TPU"
  },
  "cells": [
    {
      "cell_type": "code",
      "metadata": {
        "id": "XLQMKrojEd0D"
      },
      "source": [
        "import pandas as pd\n",
        "import numpy as np\n",
        "import matplotlib.pyplot as plt\n",
        "import tensorflow as tf"
      ],
      "execution_count": null,
      "outputs": []
    },
    {
      "cell_type": "code",
      "metadata": {
        "colab": {
          "base_uri": "https://localhost:8080/",
          "height": 35
        },
        "id": "pv_-a6UBQSb1",
        "outputId": "8fb05997-a47d-4090-abdd-1db03f102d1d"
      },
      "source": [
        "tf.__version__"
      ],
      "execution_count": null,
      "outputs": [
        {
          "output_type": "execute_result",
          "data": {
            "application/vnd.google.colaboratory.intrinsic+json": {
              "type": "string"
            },
            "text/plain": [
              "'2.5.0'"
            ]
          },
          "metadata": {
            "tags": []
          },
          "execution_count": 2
        }
      ]
    },
    {
      "cell_type": "code",
      "metadata": {
        "colab": {
          "base_uri": "https://localhost:8080/",
          "height": 285
        },
        "id": "actWo_X0afp3",
        "outputId": "e8f711c1-fdeb-4715-fa96-be0e5fc36b0a"
      },
      "source": [
        "x=np.array([-7.0, -4.0, -1.0, 2.0, 5.0, 8.0, 11.0, 14.0])\n",
        "y=np.array([3.0, 6.0, 9.0, 12.0, 15.0, 18.0, 21.0, 24.0])\n",
        "plt.scatter(x,y)\n",
        "plt.plot(x,y)\n",
        "# plt.hist(x)\n",
        "plt.bar(x,y)"
      ],
      "execution_count": null,
      "outputs": [
        {
          "output_type": "execute_result",
          "data": {
            "text/plain": [
              "<BarContainer object of 8 artists>"
            ]
          },
          "metadata": {
            "tags": []
          },
          "execution_count": 3
        },
        {
          "output_type": "display_data",
          "data": {
            "image/png": "[encoded data removed]",
            "text/plain": [
              "<Figure size 432x288 with 1 Axes>"
            ]
          },
          "metadata": {
            "tags": [],
            "needs_background": "light"
          }
        }
      ]
    },
    {
      "cell_type": "code",
      "metadata": {
        "colab": {
          "base_uri": "https://localhost:8080/"
        },
        "id": "o3Cq9Y0umb3W",
        "outputId": "a29ea950-5da8-424e-c686-8fafef8f0ceb"
      },
      "source": [
        "y==x+10"
      ],
      "execution_count": null,
      "outputs": [
        {
          "output_type": "execute_result",
          "data": {
            "text/plain": [
              "array([ True,  True,  True,  True,  True,  True,  True,  True])"
            ]
          },
          "metadata": {
            "tags": []
          },
          "execution_count": 4
        }
      ]
    },
    {
      "cell_type": "code",
      "metadata": {
        "colab": {
          "base_uri": "https://localhost:8080/"
        },
        "id": "2-AR_C6db6T6",
        "outputId": "d164a5ba-c519-4863-d737-c2d1534607cc"
      },
      "source": [
        "house_info=tf.constant([\"bedroom\",\"bathroom\",\"garage\"])\n",
        "house_price=tf.constant(939700)\n",
        "house_info,house_price"
      ],
      "execution_count": null,
      "outputs": [
        {
          "output_type": "execute_result",
          "data": {
            "text/plain": [
              "(<tf.Tensor: shape=(3,), dtype=string, numpy=array([b'bedroom', b'bathroom', b'garage'], dtype=object)>,\n",
              " <tf.Tensor: shape=(), dtype=int32, numpy=939700>)"
            ]
          },
          "metadata": {
            "tags": []
          },
          "execution_count": 5
        }
      ]
    },
    {
      "cell_type": "code",
      "metadata": {
        "colab": {
          "base_uri": "https://localhost:8080/"
        },
        "id": "5mSpEXmDdTNc",
        "outputId": "b4570d3b-a117-4c0f-c506-31c0e789efd5"
      },
      "source": [
        "x=tf.constant(x)\n",
        "y=tf.constant(y)\n",
        "x,y"
      ],
      "execution_count": null,
      "outputs": [
        {
          "output_type": "execute_result",
          "data": {
            "text/plain": [
              "(<tf.Tensor: shape=(8,), dtype=float64, numpy=array([-7., -4., -1.,  2.,  5.,  8., 11., 14.])>,\n",
              " <tf.Tensor: shape=(8,), dtype=float64, numpy=array([ 3.,  6.,  9., 12., 15., 18., 21., 24.])>)"
            ]
          },
          "metadata": {
            "tags": []
          },
          "execution_count": 6
        }
      ]
    },
    {
      "cell_type": "code",
      "metadata": {
        "colab": {
          "base_uri": "https://localhost:8080/"
        },
        "id": "fRLVok-GfSdI",
        "outputId": "c73127fe-0f8f-48fa-f5f2-04bd8b6f92ab"
      },
      "source": [
        "tf.random.set_seed(42)\n",
        "model=tf.keras.Sequential([\n",
        "    tf.keras.layers.Dense(1)                       \n",
        "])\n",
        "model.compile(loss=tf.keras.losses.mae,\n",
        "              optimizer=tf.keras.optimizers.SGD(),\n",
        "              metrics=[\"mae\"])\n",
        "model.fit(x,y,epochs=100)"
      ],
      "execution_count": null,
      "outputs": [
        {
          "output_type": "stream",
          "text": [
            "Epoch 1/100\n",
            "1/1 [==============================] - 1s 662ms/step - loss: 11.5048 - mae: 11.5048\n",
            "Epoch 2/100\n",
            "1/1 [==============================] - 0s 8ms/step - loss: 11.3723 - mae: 11.3723\n",
            "Epoch 3/100\n",
            "1/1 [==============================] - 0s 7ms/step - loss: 11.2398 - mae: 11.2398\n",
            "Epoch 4/100\n",
            "1/1 [==============================] - 0s 8ms/step - loss: 11.1073 - mae: 11.1073\n",
            "Epoch 5/100\n",
            "1/1 [==============================] - 0s 6ms/step - loss: 10.9748 - mae: 10.9748\n",
            "Epoch 6/100\n",
            "1/1 [==============================] - 0s 11ms/step - loss: 10.8423 - mae: 10.8423\n",
            "Epoch 7/100\n",
            "1/1 [==============================] - 0s 4ms/step - loss: 10.7098 - mae: 10.7098\n",
            "Epoch 8/100\n",
            "1/1 [==============================] - 0s 4ms/step - loss: 10.5773 - mae: 10.5773\n",
            "Epoch 9/100\n",
            "1/1 [==============================] - 0s 13ms/step - loss: 10.4448 - mae: 10.4448\n",
            "Epoch 10/100\n",
            "1/1 [==============================] - 0s 20ms/step - loss: 10.3123 - mae: 10.3123\n",
            "Epoch 11/100\n",
            "1/1 [==============================] - 0s 4ms/step - loss: 10.1798 - mae: 10.1798\n",
            "Epoch 12/100\n",
            "1/1 [==============================] - 0s 4ms/step - loss: 10.0473 - mae: 10.0473\n",
            "Epoch 13/100\n",
            "1/1 [==============================] - 0s 3ms/step - loss: 9.9148 - mae: 9.9148\n",
            "Epoch 14/100\n",
            "1/1 [==============================] - 0s 3ms/step - loss: 9.7823 - mae: 9.7823\n",
            "Epoch 15/100\n",
            "1/1 [==============================] - 0s 6ms/step - loss: 9.6498 - mae: 9.6498\n",
            "Epoch 16/100\n",
            "1/1 [==============================] - 0s 5ms/step - loss: 9.5173 - mae: 9.5173\n",
            "Epoch 17/100\n",
            "1/1 [==============================] - 0s 7ms/step - loss: 9.3848 - mae: 9.3848\n",
            "Epoch 18/100\n",
            "1/1 [==============================] - 0s 7ms/step - loss: 9.2523 - mae: 9.2523\n",
            "Epoch 19/100\n",
            "1/1 [==============================] - 0s 6ms/step - loss: 9.1198 - mae: 9.1198\n",
            "Epoch 20/100\n",
            "1/1 [==============================] - 0s 6ms/step - loss: 8.9873 - mae: 8.9873\n",
            "Epoch 21/100\n",
            "1/1 [==============================] - 0s 4ms/step - loss: 8.8548 - mae: 8.8548\n",
            "Epoch 22/100\n",
            "1/1 [==============================] - 0s 6ms/step - loss: 8.7223 - mae: 8.7223\n",
            "Epoch 23/100\n",
            "1/1 [==============================] - 0s 5ms/step - loss: 8.5898 - mae: 8.5898\n",
            "Epoch 24/100\n",
            "1/1 [==============================] - 0s 6ms/step - loss: 8.4573 - mae: 8.4573\n",
            "Epoch 25/100\n",
            "1/1 [==============================] - 0s 7ms/step - loss: 8.3248 - mae: 8.3248\n",
            "Epoch 26/100\n",
            "1/1 [==============================] - 0s 3ms/step - loss: 8.1923 - mae: 8.1923\n",
            "Epoch 27/100\n",
            "1/1 [==============================] - 0s 5ms/step - loss: 8.0598 - mae: 8.0598\n",
            "Epoch 28/100\n",
            "1/1 [==============================] - 0s 4ms/step - loss: 7.9273 - mae: 7.9273\n",
            "Epoch 29/100\n",
            "1/1 [==============================] - 0s 5ms/step - loss: 7.7948 - mae: 7.7948\n",
            "Epoch 30/100\n",
            "1/1 [==============================] - 0s 6ms/step - loss: 7.6623 - mae: 7.6623\n",
            "Epoch 31/100\n",
            "1/1 [==============================] - 0s 4ms/step - loss: 7.5298 - mae: 7.5298\n",
            "Epoch 32/100\n",
            "1/1 [==============================] - 0s 4ms/step - loss: 7.3973 - mae: 7.3973\n",
            "Epoch 33/100\n",
            "1/1 [==============================] - 0s 5ms/step - loss: 7.2648 - mae: 7.2648\n",
            "Epoch 34/100\n",
            "1/1 [==============================] - 0s 7ms/step - loss: 7.2525 - mae: 7.2525\n",
            "Epoch 35/100\n",
            "1/1 [==============================] - 0s 7ms/step - loss: 7.2469 - mae: 7.2469\n",
            "Epoch 36/100\n",
            "1/1 [==============================] - 0s 5ms/step - loss: 7.2413 - mae: 7.2413\n",
            "Epoch 37/100\n",
            "1/1 [==============================] - 0s 5ms/step - loss: 7.2356 - mae: 7.2356\n",
            "Epoch 38/100\n",
            "1/1 [==============================] - 0s 22ms/step - loss: 7.2300 - mae: 7.2300\n",
            "Epoch 39/100\n",
            "1/1 [==============================] - 0s 9ms/step - loss: 7.2244 - mae: 7.2244\n",
            "Epoch 40/100\n",
            "1/1 [==============================] - 0s 7ms/step - loss: 7.2188 - mae: 7.2188\n",
            "Epoch 41/100\n",
            "1/1 [==============================] - 0s 4ms/step - loss: 7.2131 - mae: 7.2131\n",
            "Epoch 42/100\n",
            "1/1 [==============================] - 0s 6ms/step - loss: 7.2075 - mae: 7.2075\n",
            "Epoch 43/100\n",
            "1/1 [==============================] - 0s 4ms/step - loss: 7.2019 - mae: 7.2019\n",
            "Epoch 44/100\n",
            "1/1 [==============================] - 0s 7ms/step - loss: 7.1963 - mae: 7.1963\n",
            "Epoch 45/100\n",
            "1/1 [==============================] - 0s 4ms/step - loss: 7.1906 - mae: 7.1906\n",
            "Epoch 46/100\n",
            "1/1 [==============================] - 0s 4ms/step - loss: 7.1850 - mae: 7.1850\n",
            "Epoch 47/100\n",
            "1/1 [==============================] - 0s 6ms/step - loss: 7.1794 - mae: 7.1794\n",
            "Epoch 48/100\n",
            "1/1 [==============================] - 0s 4ms/step - loss: 7.1738 - mae: 7.1738\n",
            "Epoch 49/100\n",
            "1/1 [==============================] - 0s 7ms/step - loss: 7.1681 - mae: 7.1681\n",
            "Epoch 50/100\n",
            "1/1 [==============================] - 0s 14ms/step - loss: 7.1625 - mae: 7.1625\n",
            "Epoch 51/100\n",
            "1/1 [==============================] - 0s 9ms/step - loss: 7.1569 - mae: 7.1569\n",
            "Epoch 52/100\n",
            "1/1 [==============================] - 0s 5ms/step - loss: 7.1512 - mae: 7.1512\n",
            "Epoch 53/100\n",
            "1/1 [==============================] - 0s 7ms/step - loss: 7.1456 - mae: 7.1456\n",
            "Epoch 54/100\n",
            "1/1 [==============================] - 0s 7ms/step - loss: 7.1400 - mae: 7.1400\n",
            "Epoch 55/100\n",
            "1/1 [==============================] - 0s 8ms/step - loss: 7.1344 - mae: 7.1344\n",
            "Epoch 56/100\n",
            "1/1 [==============================] - 0s 4ms/step - loss: 7.1287 - mae: 7.1287\n",
            "Epoch 57/100\n",
            "1/1 [==============================] - 0s 8ms/step - loss: 7.1231 - mae: 7.1231\n",
            "Epoch 58/100\n",
            "1/1 [==============================] - 0s 6ms/step - loss: 7.1175 - mae: 7.1175\n",
            "Epoch 59/100\n",
            "1/1 [==============================] - 0s 5ms/step - loss: 7.1119 - mae: 7.1119\n",
            "Epoch 60/100\n",
            "1/1 [==============================] - 0s 7ms/step - loss: 7.1063 - mae: 7.1063\n",
            "Epoch 61/100\n",
            "1/1 [==============================] - 0s 5ms/step - loss: 7.1006 - mae: 7.1006\n",
            "Epoch 62/100\n",
            "1/1 [==============================] - 0s 8ms/step - loss: 7.0950 - mae: 7.0950\n",
            "Epoch 63/100\n",
            "1/1 [==============================] - 0s 6ms/step - loss: 7.0894 - mae: 7.0894\n",
            "Epoch 64/100\n",
            "1/1 [==============================] - 0s 7ms/step - loss: 7.0838 - mae: 7.0838\n",
            "Epoch 65/100\n",
            "1/1 [==============================] - 0s 4ms/step - loss: 7.0781 - mae: 7.0781\n",
            "Epoch 66/100\n",
            "1/1 [==============================] - 0s 5ms/step - loss: 7.0725 - mae: 7.0725\n",
            "Epoch 67/100\n",
            "1/1 [==============================] - 0s 19ms/step - loss: 7.0669 - mae: 7.0669\n",
            "Epoch 68/100\n",
            "1/1 [==============================] - 0s 12ms/step - loss: 7.0613 - mae: 7.0613\n",
            "Epoch 69/100\n",
            "1/1 [==============================] - 0s 10ms/step - loss: 7.0556 - mae: 7.0556\n",
            "Epoch 70/100\n",
            "1/1 [==============================] - 0s 3ms/step - loss: 7.0500 - mae: 7.0500\n",
            "Epoch 71/100\n",
            "1/1 [==============================] - 0s 5ms/step - loss: 7.0444 - mae: 7.0444\n",
            "Epoch 72/100\n",
            "1/1 [==============================] - 0s 6ms/step - loss: 7.0388 - mae: 7.0388\n",
            "Epoch 73/100\n",
            "1/1 [==============================] - 0s 4ms/step - loss: 7.0331 - mae: 7.0331\n",
            "Epoch 74/100\n",
            "1/1 [==============================] - 0s 9ms/step - loss: 7.0275 - mae: 7.0275\n",
            "Epoch 75/100\n",
            "1/1 [==============================] - 0s 20ms/step - loss: 7.0219 - mae: 7.0219\n",
            "Epoch 76/100\n",
            "1/1 [==============================] - 0s 6ms/step - loss: 7.0163 - mae: 7.0163\n",
            "Epoch 77/100\n",
            "1/1 [==============================] - 0s 11ms/step - loss: 7.0106 - mae: 7.0106\n",
            "Epoch 78/100\n",
            "1/1 [==============================] - 0s 8ms/step - loss: 7.0050 - mae: 7.0050\n",
            "Epoch 79/100\n",
            "1/1 [==============================] - 0s 11ms/step - loss: 6.9994 - mae: 6.9994\n",
            "Epoch 80/100\n",
            "1/1 [==============================] - 0s 5ms/step - loss: 6.9938 - mae: 6.9938\n",
            "Epoch 81/100\n",
            "1/1 [==============================] - 0s 5ms/step - loss: 6.9881 - mae: 6.9881\n",
            "Epoch 82/100\n",
            "1/1 [==============================] - 0s 8ms/step - loss: 6.9825 - mae: 6.9825\n",
            "Epoch 83/100\n",
            "1/1 [==============================] - 0s 6ms/step - loss: 6.9769 - mae: 6.9769\n",
            "Epoch 84/100\n",
            "1/1 [==============================] - 0s 7ms/step - loss: 6.9713 - mae: 6.9713\n",
            "Epoch 85/100\n",
            "1/1 [==============================] - 0s 16ms/step - loss: 6.9656 - mae: 6.9656\n",
            "Epoch 86/100\n",
            "1/1 [==============================] - 0s 6ms/step - loss: 6.9600 - mae: 6.9600\n",
            "Epoch 87/100\n",
            "1/1 [==============================] - 0s 12ms/step - loss: 6.9544 - mae: 6.9544\n",
            "Epoch 88/100\n",
            "1/1 [==============================] - 0s 4ms/step - loss: 6.9488 - mae: 6.9488\n",
            "Epoch 89/100\n",
            "1/1 [==============================] - 0s 5ms/step - loss: 6.9431 - mae: 6.9431\n",
            "Epoch 90/100\n",
            "1/1 [==============================] - 0s 15ms/step - loss: 6.9375 - mae: 6.9375\n",
            "Epoch 91/100\n",
            "1/1 [==============================] - 0s 5ms/step - loss: 6.9319 - mae: 6.9319\n",
            "Epoch 92/100\n",
            "1/1 [==============================] - 0s 10ms/step - loss: 6.9263 - mae: 6.9263\n",
            "Epoch 93/100\n",
            "1/1 [==============================] - 0s 4ms/step - loss: 6.9206 - mae: 6.9206\n",
            "Epoch 94/100\n",
            "1/1 [==============================] - 0s 6ms/step - loss: 6.9150 - mae: 6.9150\n",
            "Epoch 95/100\n",
            "1/1 [==============================] - 0s 4ms/step - loss: 6.9094 - mae: 6.9094\n",
            "Epoch 96/100\n",
            "1/1 [==============================] - 0s 11ms/step - loss: 6.9038 - mae: 6.9038\n",
            "Epoch 97/100\n",
            "1/1 [==============================] - 0s 15ms/step - loss: 6.8981 - mae: 6.8981\n",
            "Epoch 98/100\n",
            "1/1 [==============================] - 0s 4ms/step - loss: 6.8925 - mae: 6.8925\n",
            "Epoch 99/100\n",
            "1/1 [==============================] - 0s 9ms/step - loss: 6.8869 - mae: 6.8869\n",
            "Epoch 100/100\n",
            "1/1 [==============================] - 0s 7ms/step - loss: 6.8813 - mae: 6.8813\n"
          ],
          "name": "stdout"
        },
        {
          "output_type": "execute_result",
          "data": {
            "text/plain": [
              "<tensorflow.python.keras.callbacks.History at 0x7f874ff06e90>"
            ]
          },
          "metadata": {
            "tags": []
          },
          "execution_count": 7
        }
      ]
    },
    {
      "cell_type": "code",
      "metadata": {
        "id": "GB0Wx606kL3r",
        "colab": {
          "base_uri": "https://localhost:8080/"
        },
        "outputId": "bc247a52-7a89-4420-d46c-4b09e6c1b54c"
      },
      "source": [
        "model.predict([17.0])"
      ],
      "execution_count": null,
      "outputs": [
        {
          "output_type": "execute_result",
          "data": {
            "text/plain": [
              "array([[30.158512]], dtype=float32)"
            ]
          },
          "metadata": {
            "tags": []
          },
          "execution_count": 8
        }
      ]
    },
    {
      "cell_type": "code",
      "metadata": {
        "id": "8L9QN8Bjm0O0",
        "colab": {
          "base_uri": "https://localhost:8080/"
        },
        "outputId": "99075bbe-10ab-4c4d-dd2b-fc15d53f4a0c"
      },
      "source": [
        "tf.random.set_seed(42)\n",
        "model2=tf.keras.Sequential([\n",
        "    tf.keras.layers.Dense(1)                       \n",
        "])\n",
        "model2.compile(loss=tf.keras.losses.mae,\n",
        "              optimizer=tf.keras.optimizers.Adam(lr=0.01),\n",
        "              metrics=[\"mae\"])\n",
        "model2.fit(x,y,epochs=100)"
      ],
      "execution_count": null,
      "outputs": [
        {
          "output_type": "stream",
          "text": [
            "/usr/local/lib/python3.7/dist-packages/tensorflow/python/keras/optimizer_v2/optimizer_v2.py:375: UserWarning: The `lr` argument is deprecated, use `learning_rate` instead.\n",
            "  \"The `lr` argument is deprecated, use `learning_rate` instead.\")\n"
          ],
          "name": "stderr"
        },
        {
          "output_type": "stream",
          "text": [
            "Epoch 1/100\n",
            "1/1 [==============================] - 0s 328ms/step - loss: 11.5048 - mae: 11.5048\n",
            "Epoch 2/100\n",
            "1/1 [==============================] - 0s 4ms/step - loss: 11.4598 - mae: 11.4598\n",
            "Epoch 3/100\n",
            "1/1 [==============================] - 0s 7ms/step - loss: 11.4148 - mae: 11.4148\n",
            "Epoch 4/100\n",
            "1/1 [==============================] - 0s 5ms/step - loss: 11.3698 - mae: 11.3698\n",
            "Epoch 5/100\n",
            "1/1 [==============================] - 0s 6ms/step - loss: 11.3248 - mae: 11.3248\n",
            "Epoch 6/100\n",
            "1/1 [==============================] - 0s 6ms/step - loss: 11.2798 - mae: 11.2798\n",
            "Epoch 7/100\n",
            "1/1 [==============================] - 0s 3ms/step - loss: 11.2348 - mae: 11.2348\n",
            "Epoch 8/100\n",
            "1/1 [==============================] - 0s 4ms/step - loss: 11.1898 - mae: 11.1898\n",
            "Epoch 9/100\n",
            "1/1 [==============================] - 0s 4ms/step - loss: 11.1448 - mae: 11.1448\n",
            "Epoch 10/100\n",
            "1/1 [==============================] - 0s 3ms/step - loss: 11.0998 - mae: 11.0998\n",
            "Epoch 11/100\n",
            "1/1 [==============================] - 0s 3ms/step - loss: 11.0548 - mae: 11.0548\n",
            "Epoch 12/100\n",
            "1/1 [==============================] - 0s 4ms/step - loss: 11.0098 - mae: 11.0098\n",
            "Epoch 13/100\n",
            "1/1 [==============================] - 0s 7ms/step - loss: 10.9648 - mae: 10.9648\n",
            "Epoch 14/100\n",
            "1/1 [==============================] - 0s 4ms/step - loss: 10.9198 - mae: 10.9198\n",
            "Epoch 15/100\n",
            "1/1 [==============================] - 0s 8ms/step - loss: 10.8748 - mae: 10.8748\n",
            "Epoch 16/100\n",
            "1/1 [==============================] - 0s 4ms/step - loss: 10.8298 - mae: 10.8298\n",
            "Epoch 17/100\n",
            "1/1 [==============================] - 0s 12ms/step - loss: 10.7848 - mae: 10.7848\n",
            "Epoch 18/100\n",
            "1/1 [==============================] - 0s 5ms/step - loss: 10.7398 - mae: 10.7398\n",
            "Epoch 19/100\n",
            "1/1 [==============================] - 0s 5ms/step - loss: 10.6948 - mae: 10.6948\n",
            "Epoch 20/100\n",
            "1/1 [==============================] - 0s 4ms/step - loss: 10.6498 - mae: 10.6498\n",
            "Epoch 21/100\n",
            "1/1 [==============================] - 0s 4ms/step - loss: 10.6048 - mae: 10.6048\n",
            "Epoch 22/100\n",
            "1/1 [==============================] - 0s 4ms/step - loss: 10.5598 - mae: 10.5598\n",
            "Epoch 23/100\n",
            "1/1 [==============================] - 0s 4ms/step - loss: 10.5148 - mae: 10.5148\n",
            "Epoch 24/100\n",
            "1/1 [==============================] - 0s 3ms/step - loss: 10.4698 - mae: 10.4698\n",
            "Epoch 25/100\n",
            "1/1 [==============================] - 0s 4ms/step - loss: 10.4248 - mae: 10.4248\n",
            "Epoch 26/100\n",
            "1/1 [==============================] - 0s 5ms/step - loss: 10.3798 - mae: 10.3798\n",
            "Epoch 27/100\n",
            "1/1 [==============================] - 0s 4ms/step - loss: 10.3348 - mae: 10.3348\n",
            "Epoch 28/100\n",
            "1/1 [==============================] - 0s 4ms/step - loss: 10.2898 - mae: 10.2898\n",
            "Epoch 29/100\n",
            "1/1 [==============================] - 0s 3ms/step - loss: 10.2448 - mae: 10.2448\n",
            "Epoch 30/100\n",
            "1/1 [==============================] - 0s 4ms/step - loss: 10.1998 - mae: 10.1998\n",
            "Epoch 31/100\n",
            "1/1 [==============================] - 0s 7ms/step - loss: 10.1548 - mae: 10.1548\n",
            "Epoch 32/100\n",
            "1/1 [==============================] - 0s 3ms/step - loss: 10.1098 - mae: 10.1098\n",
            "Epoch 33/100\n",
            "1/1 [==============================] - 0s 4ms/step - loss: 10.0648 - mae: 10.0648\n",
            "Epoch 34/100\n",
            "1/1 [==============================] - 0s 4ms/step - loss: 10.0198 - mae: 10.0198\n",
            "Epoch 35/100\n",
            "1/1 [==============================] - 0s 4ms/step - loss: 9.9748 - mae: 9.9748\n",
            "Epoch 36/100\n",
            "1/1 [==============================] - 0s 4ms/step - loss: 9.9298 - mae: 9.9298\n",
            "Epoch 37/100\n",
            "1/1 [==============================] - 0s 15ms/step - loss: 9.8848 - mae: 9.8848\n",
            "Epoch 38/100\n",
            "1/1 [==============================] - 0s 6ms/step - loss: 9.8398 - mae: 9.8398\n",
            "Epoch 39/100\n",
            "1/1 [==============================] - 0s 5ms/step - loss: 9.7948 - mae: 9.7948\n",
            "Epoch 40/100\n",
            "1/1 [==============================] - 0s 4ms/step - loss: 9.7498 - mae: 9.7498\n",
            "Epoch 41/100\n",
            "1/1 [==============================] - 0s 6ms/step - loss: 9.7048 - mae: 9.7048\n",
            "Epoch 42/100\n",
            "1/1 [==============================] - 0s 4ms/step - loss: 9.6598 - mae: 9.6598\n",
            "Epoch 43/100\n",
            "1/1 [==============================] - 0s 7ms/step - loss: 9.6148 - mae: 9.6148\n",
            "Epoch 44/100\n",
            "1/1 [==============================] - 0s 4ms/step - loss: 9.5698 - mae: 9.5698\n",
            "Epoch 45/100\n",
            "1/1 [==============================] - 0s 13ms/step - loss: 9.5248 - mae: 9.5248\n",
            "Epoch 46/100\n",
            "1/1 [==============================] - 0s 7ms/step - loss: 9.4798 - mae: 9.4798\n",
            "Epoch 47/100\n",
            "1/1 [==============================] - 0s 8ms/step - loss: 9.4348 - mae: 9.4348\n",
            "Epoch 48/100\n",
            "1/1 [==============================] - 0s 7ms/step - loss: 9.3898 - mae: 9.3898\n",
            "Epoch 49/100\n",
            "1/1 [==============================] - 0s 22ms/step - loss: 9.3448 - mae: 9.3448\n",
            "Epoch 50/100\n",
            "1/1 [==============================] - 0s 10ms/step - loss: 9.2998 - mae: 9.2998\n",
            "Epoch 51/100\n",
            "1/1 [==============================] - 0s 10ms/step - loss: 9.2548 - mae: 9.2548\n",
            "Epoch 52/100\n",
            "1/1 [==============================] - 0s 6ms/step - loss: 9.2098 - mae: 9.2098\n",
            "Epoch 53/100\n",
            "1/1 [==============================] - 0s 14ms/step - loss: 9.1648 - mae: 9.1648\n",
            "Epoch 54/100\n",
            "1/1 [==============================] - 0s 3ms/step - loss: 9.1198 - mae: 9.1198\n",
            "Epoch 55/100\n",
            "1/1 [==============================] - 0s 3ms/step - loss: 9.0748 - mae: 9.0748\n",
            "Epoch 56/100\n",
            "1/1 [==============================] - 0s 4ms/step - loss: 9.0298 - mae: 9.0298\n",
            "Epoch 57/100\n",
            "1/1 [==============================] - 0s 3ms/step - loss: 8.9848 - mae: 8.9848\n",
            "Epoch 58/100\n",
            "1/1 [==============================] - 0s 8ms/step - loss: 8.9398 - mae: 8.9398\n",
            "Epoch 59/100\n",
            "1/1 [==============================] - 0s 9ms/step - loss: 8.8948 - mae: 8.8948\n",
            "Epoch 60/100\n",
            "1/1 [==============================] - 0s 8ms/step - loss: 8.8498 - mae: 8.8498\n",
            "Epoch 61/100\n",
            "1/1 [==============================] - 0s 6ms/step - loss: 8.8048 - mae: 8.8048\n",
            "Epoch 62/100\n",
            "1/1 [==============================] - 0s 5ms/step - loss: 8.7598 - mae: 8.7598\n",
            "Epoch 63/100\n",
            "1/1 [==============================] - 0s 5ms/step - loss: 8.7148 - mae: 8.7148\n",
            "Epoch 64/100\n",
            "1/1 [==============================] - 0s 5ms/step - loss: 8.6698 - mae: 8.6698\n",
            "Epoch 65/100\n",
            "1/1 [==============================] - 0s 5ms/step - loss: 8.6248 - mae: 8.6248\n",
            "Epoch 66/100\n",
            "1/1 [==============================] - 0s 4ms/step - loss: 8.5798 - mae: 8.5798\n",
            "Epoch 67/100\n",
            "1/1 [==============================] - 0s 4ms/step - loss: 8.5348 - mae: 8.5348\n",
            "Epoch 68/100\n",
            "1/1 [==============================] - 0s 7ms/step - loss: 8.4898 - mae: 8.4898\n",
            "Epoch 69/100\n",
            "1/1 [==============================] - 0s 6ms/step - loss: 8.4448 - mae: 8.4448\n",
            "Epoch 70/100\n",
            "1/1 [==============================] - 0s 4ms/step - loss: 8.3998 - mae: 8.3998\n",
            "Epoch 71/100\n",
            "1/1 [==============================] - 0s 4ms/step - loss: 8.3548 - mae: 8.3548\n",
            "Epoch 72/100\n",
            "1/1 [==============================] - 0s 6ms/step - loss: 8.3098 - mae: 8.3098\n",
            "Epoch 73/100\n",
            "1/1 [==============================] - 0s 5ms/step - loss: 8.2648 - mae: 8.2648\n",
            "Epoch 74/100\n",
            "1/1 [==============================] - 0s 8ms/step - loss: 8.2198 - mae: 8.2198\n",
            "Epoch 75/100\n",
            "1/1 [==============================] - 0s 4ms/step - loss: 8.1748 - mae: 8.1748\n",
            "Epoch 76/100\n",
            "1/1 [==============================] - 0s 4ms/step - loss: 8.1298 - mae: 8.1298\n",
            "Epoch 77/100\n",
            "1/1 [==============================] - 0s 4ms/step - loss: 8.0848 - mae: 8.0848\n",
            "Epoch 78/100\n",
            "1/1 [==============================] - 0s 5ms/step - loss: 8.0398 - mae: 8.0398\n",
            "Epoch 79/100\n",
            "1/1 [==============================] - 0s 5ms/step - loss: 7.9948 - mae: 7.9948\n",
            "Epoch 80/100\n",
            "1/1 [==============================] - 0s 6ms/step - loss: 7.9498 - mae: 7.9498\n",
            "Epoch 81/100\n",
            "1/1 [==============================] - 0s 4ms/step - loss: 7.9048 - mae: 7.9048\n",
            "Epoch 82/100\n",
            "1/1 [==============================] - 0s 19ms/step - loss: 7.8598 - mae: 7.8598\n",
            "Epoch 83/100\n",
            "1/1 [==============================] - 0s 4ms/step - loss: 7.8148 - mae: 7.8148\n",
            "Epoch 84/100\n",
            "1/1 [==============================] - 0s 5ms/step - loss: 7.7698 - mae: 7.7698\n",
            "Epoch 85/100\n",
            "1/1 [==============================] - 0s 5ms/step - loss: 7.7248 - mae: 7.7248\n",
            "Epoch 86/100\n",
            "1/1 [==============================] - 0s 5ms/step - loss: 7.6798 - mae: 7.6798\n",
            "Epoch 87/100\n",
            "1/1 [==============================] - 0s 4ms/step - loss: 7.6348 - mae: 7.6348\n",
            "Epoch 88/100\n",
            "1/1 [==============================] - 0s 8ms/step - loss: 7.5898 - mae: 7.5898\n",
            "Epoch 89/100\n",
            "1/1 [==============================] - 0s 6ms/step - loss: 7.5448 - mae: 7.5448\n",
            "Epoch 90/100\n",
            "1/1 [==============================] - 0s 8ms/step - loss: 7.4998 - mae: 7.4998\n",
            "Epoch 91/100\n",
            "1/1 [==============================] - 0s 4ms/step - loss: 7.4548 - mae: 7.4548\n",
            "Epoch 92/100\n",
            "1/1 [==============================] - 0s 6ms/step - loss: 7.4098 - mae: 7.4098\n",
            "Epoch 93/100\n",
            "1/1 [==============================] - 0s 6ms/step - loss: 7.3648 - mae: 7.3648\n",
            "Epoch 94/100\n",
            "1/1 [==============================] - 0s 4ms/step - loss: 7.3198 - mae: 7.3198\n",
            "Epoch 95/100\n",
            "1/1 [==============================] - 0s 7ms/step - loss: 7.2748 - mae: 7.2748\n",
            "Epoch 96/100\n",
            "1/1 [==============================] - 0s 4ms/step - loss: 7.2298 - mae: 7.2298\n",
            "Epoch 97/100\n",
            "1/1 [==============================] - 0s 6ms/step - loss: 7.1848 - mae: 7.1848\n",
            "Epoch 98/100\n",
            "1/1 [==============================] - 0s 4ms/step - loss: 7.1398 - mae: 7.1398\n",
            "Epoch 99/100\n",
            "1/1 [==============================] - 0s 7ms/step - loss: 7.0948 - mae: 7.0948\n",
            "Epoch 100/100\n",
            "1/1 [==============================] - 0s 4ms/step - loss: 7.0498 - mae: 7.0498\n"
          ],
          "name": "stdout"
        },
        {
          "output_type": "execute_result",
          "data": {
            "text/plain": [
              "<tensorflow.python.keras.callbacks.History at 0x7f8708bb7950>"
            ]
          },
          "metadata": {
            "tags": []
          },
          "execution_count": 9
        }
      ]
    },
    {
      "cell_type": "code",
      "metadata": {
        "colab": {
          "base_uri": "https://localhost:8080/"
        },
        "id": "SEn600TEz7Rg",
        "outputId": "075f3a60-f663-4a13-f818-2de5aa376bd2"
      },
      "source": [
        "model2.predict([17.0])"
      ],
      "execution_count": null,
      "outputs": [
        {
          "output_type": "execute_result",
          "data": {
            "text/plain": [
              "array([[27.691]], dtype=float32)"
            ]
          },
          "metadata": {
            "tags": []
          },
          "execution_count": 10
        }
      ]
    },
    {
      "cell_type": "code",
      "metadata": {
        "colab": {
          "base_uri": "https://localhost:8080/"
        },
        "id": "C8I2wj0j0uTZ",
        "outputId": "803d7f0a-ed9c-49e7-c01f-079adcc583d8"
      },
      "source": [
        "model1=tf.keras.Sequential([\n",
        "      tf.keras.layers.Dense(100,activation=\"relu\"),\n",
        "      tf.keras.layers.Dense(1)\n",
        "])\n",
        "model1.compile(loss=tf.keras.losses.mae,\n",
        "               optimizer=tf.keras.optimizers.SGD(),\n",
        "               metrics=[\"mae\"])\n",
        "model1.fit(x,y,epochs=100)"
      ],
      "execution_count": null,
      "outputs": [
        {
          "output_type": "stream",
          "text": [
            "Epoch 1/100\n",
            "1/1 [==============================] - 0s 325ms/step - loss: 13.9468 - mae: 13.9468\n",
            "Epoch 2/100\n",
            "1/1 [==============================] - 0s 10ms/step - loss: 13.2859 - mae: 13.2859\n",
            "Epoch 3/100\n",
            "1/1 [==============================] - 0s 6ms/step - loss: 12.6279 - mae: 12.6279\n",
            "Epoch 4/100\n",
            "1/1 [==============================] - 0s 7ms/step - loss: 11.9702 - mae: 11.9702\n",
            "Epoch 5/100\n",
            "1/1 [==============================] - 0s 5ms/step - loss: 11.3044 - mae: 11.3044\n",
            "Epoch 6/100\n",
            "1/1 [==============================] - 0s 4ms/step - loss: 10.6244 - mae: 10.6244\n",
            "Epoch 7/100\n",
            "1/1 [==============================] - 0s 19ms/step - loss: 9.9248 - mae: 9.9248\n",
            "Epoch 8/100\n",
            "1/1 [==============================] - 0s 6ms/step - loss: 9.1949 - mae: 9.1949\n",
            "Epoch 9/100\n",
            "1/1 [==============================] - 0s 4ms/step - loss: 8.4303 - mae: 8.4303\n",
            "Epoch 10/100\n",
            "1/1 [==============================] - 0s 4ms/step - loss: 7.6245 - mae: 7.6245\n",
            "Epoch 11/100\n",
            "1/1 [==============================] - 0s 9ms/step - loss: 6.7723 - mae: 6.7723\n",
            "Epoch 12/100\n",
            "1/1 [==============================] - 0s 8ms/step - loss: 5.8960 - mae: 5.8960\n",
            "Epoch 13/100\n",
            "1/1 [==============================] - 0s 4ms/step - loss: 4.9754 - mae: 4.9754\n",
            "Epoch 14/100\n",
            "1/1 [==============================] - 0s 6ms/step - loss: 4.1323 - mae: 4.1323\n",
            "Epoch 15/100\n",
            "1/1 [==============================] - 0s 7ms/step - loss: 4.0312 - mae: 4.0312\n",
            "Epoch 16/100\n",
            "1/1 [==============================] - 0s 5ms/step - loss: 3.9276 - mae: 3.9276\n",
            "Epoch 17/100\n",
            "1/1 [==============================] - 0s 9ms/step - loss: 3.9605 - mae: 3.9605\n",
            "Epoch 18/100\n",
            "1/1 [==============================] - 0s 4ms/step - loss: 3.9073 - mae: 3.9073\n",
            "Epoch 19/100\n",
            "1/1 [==============================] - 0s 6ms/step - loss: 3.9714 - mae: 3.9714\n",
            "Epoch 20/100\n",
            "1/1 [==============================] - 0s 5ms/step - loss: 3.8999 - mae: 3.8999\n",
            "Epoch 21/100\n",
            "1/1 [==============================] - 0s 6ms/step - loss: 3.9595 - mae: 3.9595\n",
            "Epoch 22/100\n",
            "1/1 [==============================] - 0s 4ms/step - loss: 3.9079 - mae: 3.9079\n",
            "Epoch 23/100\n",
            "1/1 [==============================] - 0s 6ms/step - loss: 3.9333 - mae: 3.9333\n",
            "Epoch 24/100\n",
            "1/1 [==============================] - 0s 4ms/step - loss: 3.9160 - mae: 3.9160\n",
            "Epoch 25/100\n",
            "1/1 [==============================] - 0s 8ms/step - loss: 3.9096 - mae: 3.9096\n",
            "Epoch 26/100\n",
            "1/1 [==============================] - 0s 4ms/step - loss: 3.9309 - mae: 3.9309\n",
            "Epoch 27/100\n",
            "1/1 [==============================] - 0s 5ms/step - loss: 3.8864 - mae: 3.8864\n",
            "Epoch 28/100\n",
            "1/1 [==============================] - 0s 5ms/step - loss: 3.9391 - mae: 3.9391\n",
            "Epoch 29/100\n",
            "1/1 [==============================] - 0s 7ms/step - loss: 3.8681 - mae: 3.8681\n",
            "Epoch 30/100\n",
            "1/1 [==============================] - 0s 4ms/step - loss: 3.9381 - mae: 3.9381\n",
            "Epoch 31/100\n",
            "1/1 [==============================] - 0s 6ms/step - loss: 3.8763 - mae: 3.8763\n",
            "Epoch 32/100\n",
            "1/1 [==============================] - 0s 5ms/step - loss: 3.9117 - mae: 3.9117\n",
            "Epoch 33/100\n",
            "1/1 [==============================] - 0s 8ms/step - loss: 3.8854 - mae: 3.8854\n",
            "Epoch 34/100\n",
            "1/1 [==============================] - 0s 5ms/step - loss: 3.8910 - mae: 3.8910\n",
            "Epoch 35/100\n",
            "1/1 [==============================] - 0s 5ms/step - loss: 3.8996 - mae: 3.8996\n",
            "Epoch 36/100\n",
            "1/1 [==============================] - 0s 5ms/step - loss: 3.8641 - mae: 3.8641\n",
            "Epoch 37/100\n",
            "1/1 [==============================] - 0s 17ms/step - loss: 3.9080 - mae: 3.9080\n",
            "Epoch 38/100\n",
            "1/1 [==============================] - 0s 4ms/step - loss: 3.8374 - mae: 3.8374\n",
            "Epoch 39/100\n",
            "1/1 [==============================] - 0s 5ms/step - loss: 3.9154 - mae: 3.9154\n",
            "Epoch 40/100\n",
            "1/1 [==============================] - 0s 6ms/step - loss: 3.8459 - mae: 3.8459\n",
            "Epoch 41/100\n",
            "1/1 [==============================] - 0s 5ms/step - loss: 3.8888 - mae: 3.8888\n",
            "Epoch 42/100\n",
            "1/1 [==============================] - 0s 6ms/step - loss: 3.8594 - mae: 3.8594\n",
            "Epoch 43/100\n",
            "1/1 [==============================] - 0s 7ms/step - loss: 3.8678 - mae: 3.8678\n",
            "Epoch 44/100\n",
            "1/1 [==============================] - 0s 7ms/step - loss: 3.8695 - mae: 3.8695\n",
            "Epoch 45/100\n",
            "1/1 [==============================] - 0s 6ms/step - loss: 3.8407 - mae: 3.8407\n",
            "Epoch 46/100\n",
            "1/1 [==============================] - 0s 7ms/step - loss: 3.8782 - mae: 3.8782\n",
            "Epoch 47/100\n",
            "1/1 [==============================] - 0s 6ms/step - loss: 3.8134 - mae: 3.8134\n",
            "Epoch 48/100\n",
            "1/1 [==============================] - 0s 7ms/step - loss: 3.8870 - mae: 3.8870\n",
            "Epoch 49/100\n",
            "1/1 [==============================] - 0s 16ms/step - loss: 3.8165 - mae: 3.8165\n",
            "Epoch 50/100\n",
            "1/1 [==============================] - 0s 4ms/step - loss: 3.8678 - mae: 3.8678\n",
            "Epoch 51/100\n",
            "1/1 [==============================] - 0s 5ms/step - loss: 3.8318 - mae: 3.8318\n",
            "Epoch 52/100\n",
            "1/1 [==============================] - 0s 6ms/step - loss: 3.8433 - mae: 3.8433\n",
            "Epoch 53/100\n",
            "1/1 [==============================] - 0s 7ms/step - loss: 3.8405 - mae: 3.8405\n",
            "Epoch 54/100\n",
            "1/1 [==============================] - 0s 6ms/step - loss: 3.8159 - mae: 3.8159\n",
            "Epoch 55/100\n",
            "1/1 [==============================] - 0s 7ms/step - loss: 3.8494 - mae: 3.8494\n",
            "Epoch 56/100\n",
            "1/1 [==============================] - 0s 6ms/step - loss: 3.7884 - mae: 3.7884\n",
            "Epoch 57/100\n",
            "1/1 [==============================] - 0s 10ms/step - loss: 3.8585 - mae: 3.8585\n",
            "Epoch 58/100\n",
            "1/1 [==============================] - 0s 7ms/step - loss: 3.7889 - mae: 3.7889\n",
            "Epoch 59/100\n",
            "1/1 [==============================] - 0s 6ms/step - loss: 3.8451 - mae: 3.8451\n",
            "Epoch 60/100\n",
            "1/1 [==============================] - 0s 5ms/step - loss: 3.8037 - mae: 3.8037\n",
            "Epoch 61/100\n",
            "1/1 [==============================] - 0s 6ms/step - loss: 3.8175 - mae: 3.8175\n",
            "Epoch 62/100\n",
            "1/1 [==============================] - 0s 6ms/step - loss: 3.8126 - mae: 3.8126\n",
            "Epoch 63/100\n",
            "1/1 [==============================] - 0s 5ms/step - loss: 3.7899 - mae: 3.7899\n",
            "Epoch 64/100\n",
            "1/1 [==============================] - 0s 5ms/step - loss: 3.8218 - mae: 3.8218\n",
            "Epoch 65/100\n",
            "1/1 [==============================] - 0s 5ms/step - loss: 3.7622 - mae: 3.7622\n",
            "Epoch 66/100\n",
            "1/1 [==============================] - 0s 6ms/step - loss: 3.8311 - mae: 3.8311\n",
            "Epoch 67/100\n",
            "1/1 [==============================] - 0s 6ms/step - loss: 3.7651 - mae: 3.7651\n",
            "Epoch 68/100\n",
            "1/1 [==============================] - 0s 5ms/step - loss: 3.8185 - mae: 3.8185\n",
            "Epoch 69/100\n",
            "1/1 [==============================] - 0s 12ms/step - loss: 3.7766 - mae: 3.7766\n",
            "Epoch 70/100\n",
            "1/1 [==============================] - 0s 6ms/step - loss: 3.7906 - mae: 3.7906\n",
            "Epoch 71/100\n",
            "1/1 [==============================] - 0s 8ms/step - loss: 3.7858 - mae: 3.7858\n",
            "Epoch 72/100\n",
            "1/1 [==============================] - 0s 5ms/step - loss: 3.7627 - mae: 3.7627\n",
            "Epoch 73/100\n",
            "1/1 [==============================] - 0s 7ms/step - loss: 3.7952 - mae: 3.7952\n",
            "Epoch 74/100\n",
            "1/1 [==============================] - 0s 8ms/step - loss: 3.7347 - mae: 3.7347\n",
            "Epoch 75/100\n",
            "1/1 [==============================] - 0s 9ms/step - loss: 3.8055 - mae: 3.8055\n",
            "Epoch 76/100\n",
            "1/1 [==============================] - 0s 5ms/step - loss: 3.7414 - mae: 3.7414\n",
            "Epoch 77/100\n",
            "1/1 [==============================] - 0s 7ms/step - loss: 3.7906 - mae: 3.7906\n",
            "Epoch 78/100\n",
            "1/1 [==============================] - 0s 5ms/step - loss: 3.7506 - mae: 3.7506\n",
            "Epoch 79/100\n",
            "1/1 [==============================] - 0s 6ms/step - loss: 3.7624 - mae: 3.7624\n",
            "Epoch 80/100\n",
            "1/1 [==============================] - 0s 4ms/step - loss: 3.7599 - mae: 3.7599\n",
            "Epoch 81/100\n",
            "1/1 [==============================] - 0s 7ms/step - loss: 3.7342 - mae: 3.7342\n",
            "Epoch 82/100\n",
            "1/1 [==============================] - 0s 12ms/step - loss: 3.7696 - mae: 3.7696\n",
            "Epoch 83/100\n",
            "1/1 [==============================] - 0s 11ms/step - loss: 3.7059 - mae: 3.7059\n",
            "Epoch 84/100\n",
            "1/1 [==============================] - 0s 4ms/step - loss: 3.7833 - mae: 3.7833\n",
            "Epoch 85/100\n",
            "1/1 [==============================] - 0s 5ms/step - loss: 3.7162 - mae: 3.7162\n",
            "Epoch 86/100\n",
            "1/1 [==============================] - 0s 49ms/step - loss: 3.7614 - mae: 3.7614\n",
            "Epoch 87/100\n",
            "1/1 [==============================] - 0s 8ms/step - loss: 3.7255 - mae: 3.7255\n",
            "Epoch 88/100\n",
            "1/1 [==============================] - 0s 10ms/step - loss: 3.7328 - mae: 3.7328\n",
            "Epoch 89/100\n",
            "1/1 [==============================] - 0s 4ms/step - loss: 3.7351 - mae: 3.7351\n",
            "Epoch 90/100\n",
            "1/1 [==============================] - 0s 4ms/step - loss: 3.7044 - mae: 3.7044\n",
            "Epoch 91/100\n",
            "1/1 [==============================] - 0s 5ms/step - loss: 3.7449 - mae: 3.7449\n",
            "Epoch 92/100\n",
            "1/1 [==============================] - 0s 4ms/step - loss: 3.6776 - mae: 3.6776\n",
            "Epoch 93/100\n",
            "1/1 [==============================] - 0s 9ms/step - loss: 3.7594 - mae: 3.7594\n",
            "Epoch 94/100\n",
            "1/1 [==============================] - 0s 7ms/step - loss: 3.6919 - mae: 3.6919\n",
            "Epoch 95/100\n",
            "1/1 [==============================] - 0s 4ms/step - loss: 3.7307 - mae: 3.7307\n",
            "Epoch 96/100\n",
            "1/1 [==============================] - 0s 9ms/step - loss: 3.7015 - mae: 3.7015\n",
            "Epoch 97/100\n",
            "1/1 [==============================] - 0s 4ms/step - loss: 3.7019 - mae: 3.7019\n",
            "Epoch 98/100\n",
            "1/1 [==============================] - 0s 6ms/step - loss: 3.7114 - mae: 3.7114\n",
            "Epoch 99/100\n",
            "1/1 [==============================] - 0s 21ms/step - loss: 3.6731 - mae: 3.6731\n",
            "Epoch 100/100\n",
            "1/1 [==============================] - 0s 3ms/step - loss: 3.7214 - mae: 3.7214\n"
          ],
          "name": "stdout"
        },
        {
          "output_type": "execute_result",
          "data": {
            "text/plain": [
              "<tensorflow.python.keras.callbacks.History at 0x7f8708175050>"
            ]
          },
          "metadata": {
            "tags": []
          },
          "execution_count": 11
        }
      ]
    },
    {
      "cell_type": "code",
      "metadata": {
        "colab": {
          "base_uri": "https://localhost:8080/"
        },
        "id": "XfY0aXJq4zil",
        "outputId": "384e6452-87c7-41ca-a577-2aa5383be801"
      },
      "source": [
        "model.predict([17.0]),model1.predict([17.0]),model2.predict([17.0])"
      ],
      "execution_count": null,
      "outputs": [
        {
          "output_type": "execute_result",
          "data": {
            "text/plain": [
              "(array([[30.158512]], dtype=float32),\n",
              " array([[31.941307]], dtype=float32),\n",
              " array([[27.691]], dtype=float32))"
            ]
          },
          "metadata": {
            "tags": []
          },
          "execution_count": 12
        }
      ]
    },
    {
      "cell_type": "code",
      "metadata": {
        "colab": {
          "base_uri": "https://localhost:8080/"
        },
        "id": "d6jJXrJu5hsb",
        "outputId": "7bafab36-f529-49da-bed7-7238202c5f24"
      },
      "source": [
        "model3=tf.keras.Sequential([\n",
        "      tf.keras.layers.Dense(100,activation=\"relu\"),\n",
        "      tf.keras.layers.Dense(1)\n",
        "])\n",
        "model3.compile(loss=tf.keras.losses.mae,\n",
        "               optimizer=tf.keras.optimizers.Adam(lr=0.01),\n",
        "               metrics=[\"mae\"])\n",
        "model3.fit(x,y,epochs=62)"
      ],
      "execution_count": null,
      "outputs": [
        {
          "output_type": "stream",
          "text": [
            "/usr/local/lib/python3.7/dist-packages/tensorflow/python/keras/optimizer_v2/optimizer_v2.py:375: UserWarning: The `lr` argument is deprecated, use `learning_rate` instead.\n",
            "  \"The `lr` argument is deprecated, use `learning_rate` instead.\")\n"
          ],
          "name": "stderr"
        },
        {
          "output_type": "stream",
          "text": [
            "Epoch 1/62\n",
            "1/1 [==============================] - 0s 354ms/step - loss: 14.0407 - mae: 14.0407\n",
            "Epoch 2/62\n",
            "1/1 [==============================] - 0s 6ms/step - loss: 13.1939 - mae: 13.1939\n",
            "Epoch 3/62\n",
            "1/1 [==============================] - 0s 6ms/step - loss: 12.3501 - mae: 12.3501\n",
            "Epoch 4/62\n",
            "1/1 [==============================] - 0s 4ms/step - loss: 11.5151 - mae: 11.5151\n",
            "Epoch 5/62\n",
            "1/1 [==============================] - 0s 5ms/step - loss: 10.6816 - mae: 10.6816\n",
            "Epoch 6/62\n",
            "1/1 [==============================] - 0s 7ms/step - loss: 9.9990 - mae: 9.9990\n",
            "Epoch 7/62\n",
            "1/1 [==============================] - 0s 4ms/step - loss: 9.3607 - mae: 9.3607\n",
            "Epoch 8/62\n",
            "1/1 [==============================] - 0s 5ms/step - loss: 8.7120 - mae: 8.7120\n",
            "Epoch 9/62\n",
            "1/1 [==============================] - 0s 6ms/step - loss: 8.0483 - mae: 8.0483\n",
            "Epoch 10/62\n",
            "1/1 [==============================] - 0s 10ms/step - loss: 7.3706 - mae: 7.3706\n",
            "Epoch 11/62\n",
            "1/1 [==============================] - 0s 6ms/step - loss: 6.6723 - mae: 6.6723\n",
            "Epoch 12/62\n",
            "1/1 [==============================] - 0s 7ms/step - loss: 5.9494 - mae: 5.9494\n",
            "Epoch 13/62\n",
            "1/1 [==============================] - 0s 7ms/step - loss: 5.1989 - mae: 5.1989\n",
            "Epoch 14/62\n",
            "1/1 [==============================] - 0s 6ms/step - loss: 4.4187 - mae: 4.4187\n",
            "Epoch 15/62\n",
            "1/1 [==============================] - 0s 4ms/step - loss: 3.8777 - mae: 3.8777\n",
            "Epoch 16/62\n",
            "1/1 [==============================] - 0s 6ms/step - loss: 3.7759 - mae: 3.7759\n",
            "Epoch 17/62\n",
            "1/1 [==============================] - 0s 9ms/step - loss: 3.9165 - mae: 3.9165\n",
            "Epoch 18/62\n",
            "1/1 [==============================] - 0s 6ms/step - loss: 4.0805 - mae: 4.0805\n",
            "Epoch 19/62\n",
            "1/1 [==============================] - 0s 6ms/step - loss: 4.3351 - mae: 4.3351\n",
            "Epoch 20/62\n",
            "1/1 [==============================] - 0s 5ms/step - loss: 4.4918 - mae: 4.4918\n",
            "Epoch 21/62\n",
            "1/1 [==============================] - 0s 5ms/step - loss: 4.5620 - mae: 4.5620\n",
            "Epoch 22/62\n",
            "1/1 [==============================] - 0s 8ms/step - loss: 4.5558 - mae: 4.5558\n",
            "Epoch 23/62\n",
            "1/1 [==============================] - 0s 8ms/step - loss: 4.4825 - mae: 4.4825\n",
            "Epoch 24/62\n",
            "1/1 [==============================] - 0s 4ms/step - loss: 4.3521 - mae: 4.3521\n",
            "Epoch 25/62\n",
            "1/1 [==============================] - 0s 4ms/step - loss: 4.1752 - mae: 4.1752\n",
            "Epoch 26/62\n",
            "1/1 [==============================] - 0s 6ms/step - loss: 3.9623 - mae: 3.9623\n",
            "Epoch 27/62\n",
            "1/1 [==============================] - 0s 5ms/step - loss: 3.7412 - mae: 3.7412\n",
            "Epoch 28/62\n",
            "1/1 [==============================] - 0s 7ms/step - loss: 3.6324 - mae: 3.6324\n",
            "Epoch 29/62\n",
            "1/1 [==============================] - 0s 7ms/step - loss: 3.5238 - mae: 3.5238\n",
            "Epoch 30/62\n",
            "1/1 [==============================] - 0s 5ms/step - loss: 3.4099 - mae: 3.4099\n",
            "Epoch 31/62\n",
            "1/1 [==============================] - 0s 5ms/step - loss: 3.2939 - mae: 3.2939\n",
            "Epoch 32/62\n",
            "1/1 [==============================] - 0s 9ms/step - loss: 3.2766 - mae: 3.2766\n",
            "Epoch 33/62\n",
            "1/1 [==============================] - 0s 4ms/step - loss: 3.2741 - mae: 3.2741\n",
            "Epoch 34/62\n",
            "1/1 [==============================] - 0s 6ms/step - loss: 3.2339 - mae: 3.2339\n",
            "Epoch 35/62\n",
            "1/1 [==============================] - 0s 5ms/step - loss: 3.1633 - mae: 3.1633\n",
            "Epoch 36/62\n",
            "1/1 [==============================] - 0s 5ms/step - loss: 3.0606 - mae: 3.0606\n",
            "Epoch 37/62\n",
            "1/1 [==============================] - 0s 8ms/step - loss: 2.9276 - mae: 2.9276\n",
            "Epoch 38/62\n",
            "1/1 [==============================] - 0s 5ms/step - loss: 2.8726 - mae: 2.8726\n",
            "Epoch 39/62\n",
            "1/1 [==============================] - 0s 8ms/step - loss: 2.8512 - mae: 2.8512\n",
            "Epoch 40/62\n",
            "1/1 [==============================] - 0s 7ms/step - loss: 2.7595 - mae: 2.7595\n",
            "Epoch 41/62\n",
            "1/1 [==============================] - 0s 3ms/step - loss: 2.6697 - mae: 2.6697\n",
            "Epoch 42/62\n",
            "1/1 [==============================] - 0s 4ms/step - loss: 2.5911 - mae: 2.5911\n",
            "Epoch 43/62\n",
            "1/1 [==============================] - 0s 6ms/step - loss: 2.4965 - mae: 2.4965\n",
            "Epoch 44/62\n",
            "1/1 [==============================] - 0s 6ms/step - loss: 2.3916 - mae: 2.3916\n",
            "Epoch 45/62\n",
            "1/1 [==============================] - 0s 4ms/step - loss: 2.2887 - mae: 2.2887\n",
            "Epoch 46/62\n",
            "1/1 [==============================] - 0s 14ms/step - loss: 2.1905 - mae: 2.1905\n",
            "Epoch 47/62\n",
            "1/1 [==============================] - 0s 4ms/step - loss: 2.0973 - mae: 2.0973\n",
            "Epoch 48/62\n",
            "1/1 [==============================] - 0s 4ms/step - loss: 2.0104 - mae: 2.0104\n",
            "Epoch 49/62\n",
            "1/1 [==============================] - 0s 5ms/step - loss: 1.9111 - mae: 1.9111\n",
            "Epoch 50/62\n",
            "1/1 [==============================] - 0s 4ms/step - loss: 1.7956 - mae: 1.7956\n",
            "Epoch 51/62\n",
            "1/1 [==============================] - 0s 4ms/step - loss: 1.6632 - mae: 1.6632\n",
            "Epoch 52/62\n",
            "1/1 [==============================] - 0s 4ms/step - loss: 1.5822 - mae: 1.5822\n",
            "Epoch 53/62\n",
            "1/1 [==============================] - 0s 3ms/step - loss: 1.4656 - mae: 1.4656\n",
            "Epoch 54/62\n",
            "1/1 [==============================] - 0s 4ms/step - loss: 1.3211 - mae: 1.3211\n",
            "Epoch 55/62\n",
            "1/1 [==============================] - 0s 4ms/step - loss: 1.2056 - mae: 1.2056\n",
            "Epoch 56/62\n",
            "1/1 [==============================] - 0s 4ms/step - loss: 1.0850 - mae: 1.0850\n",
            "Epoch 57/62\n",
            "1/1 [==============================] - 0s 9ms/step - loss: 1.0049 - mae: 1.0049\n",
            "Epoch 58/62\n",
            "1/1 [==============================] - 0s 6ms/step - loss: 0.7954 - mae: 0.7954\n",
            "Epoch 59/62\n",
            "1/1 [==============================] - 0s 5ms/step - loss: 0.6131 - mae: 0.6131\n",
            "Epoch 60/62\n",
            "1/1 [==============================] - 0s 4ms/step - loss: 0.5123 - mae: 0.5123\n",
            "Epoch 61/62\n",
            "1/1 [==============================] - 0s 7ms/step - loss: 0.4187 - mae: 0.4187\n",
            "Epoch 62/62\n",
            "1/1 [==============================] - 0s 6ms/step - loss: 0.4921 - mae: 0.4921\n"
          ],
          "name": "stdout"
        },
        {
          "output_type": "execute_result",
          "data": {
            "text/plain": [
              "<tensorflow.python.keras.callbacks.History at 0x7f8707b36110>"
            ]
          },
          "metadata": {
            "tags": []
          },
          "execution_count": 13
        }
      ]
    },
    {
      "cell_type": "code",
      "metadata": {
        "colab": {
          "base_uri": "https://localhost:8080/"
        },
        "id": "rkqXgkZi9syE",
        "outputId": "c4f722de-f197-4377-eded-4829d02abe32"
      },
      "source": [
        "model.predict([17.0]),model1.predict([17.0]),model2.predict([17.0]),model3.predict([17.0])"
      ],
      "execution_count": null,
      "outputs": [
        {
          "output_type": "execute_result",
          "data": {
            "text/plain": [
              "(array([[30.158512]], dtype=float32),\n",
              " array([[31.941307]], dtype=float32),\n",
              " array([[27.691]], dtype=float32),\n",
              " array([[27.532576]], dtype=float32))"
            ]
          },
          "metadata": {
            "tags": []
          },
          "execution_count": 14
        }
      ]
    },
    {
      "cell_type": "code",
      "metadata": {
        "colab": {
          "base_uri": "https://localhost:8080/"
        },
        "id": "7CMdzuaS9zFZ",
        "outputId": "4f7bdf43-f483-4fd4-9271-ac5cd166de10"
      },
      "source": [
        "m=tf.range(-200,400,4)\n",
        "n=m+10\n",
        "m,n"
      ],
      "execution_count": null,
      "outputs": [
        {
          "output_type": "execute_result",
          "data": {
            "text/plain": [
              "(<tf.Tensor: shape=(150,), dtype=int32, numpy=\n",
              " array([-200, -196, -192, -188, -184, -180, -176, -172, -168, -164, -160,\n",
              "        -156, -152, -148, -144, -140, -136, -132, -128, -124, -120, -116,\n",
              "        -112, -108, -104, -100,  -96,  -92,  -88,  -84,  -80,  -76,  -72,\n",
              "         -68,  -64,  -60,  -56,  -52,  -48,  -44,  -40,  -36,  -32,  -28,\n",
              "         -24,  -20,  -16,  -12,   -8,   -4,    0,    4,    8,   12,   16,\n",
              "          20,   24,   28,   32,   36,   40,   44,   48,   52,   56,   60,\n",
              "          64,   68,   72,   76,   80,   84,   88,   92,   96,  100,  104,\n",
              "         108,  112,  116,  120,  124,  128,  132,  136,  140,  144,  148,\n",
              "         152,  156,  160,  164,  168,  172,  176,  180,  184,  188,  192,\n",
              "         196,  200,  204,  208,  212,  216,  220,  224,  228,  232,  236,\n",
              "         240,  244,  248,  252,  256,  260,  264,  268,  272,  276,  280,\n",
              "         284,  288,  292,  296,  300,  304,  308,  312,  316,  320,  324,\n",
              "         328,  332,  336,  340,  344,  348,  352,  356,  360,  364,  368,\n",
              "         372,  376,  380,  384,  388,  392,  396], dtype=int32)>,\n",
              " <tf.Tensor: shape=(150,), dtype=int32, numpy=\n",
              " array([-190, -186, -182, -178, -174, -170, -166, -162, -158, -154, -150,\n",
              "        -146, -142, -138, -134, -130, -126, -122, -118, -114, -110, -106,\n",
              "        -102,  -98,  -94,  -90,  -86,  -82,  -78,  -74,  -70,  -66,  -62,\n",
              "         -58,  -54,  -50,  -46,  -42,  -38,  -34,  -30,  -26,  -22,  -18,\n",
              "         -14,  -10,   -6,   -2,    2,    6,   10,   14,   18,   22,   26,\n",
              "          30,   34,   38,   42,   46,   50,   54,   58,   62,   66,   70,\n",
              "          74,   78,   82,   86,   90,   94,   98,  102,  106,  110,  114,\n",
              "         118,  122,  126,  130,  134,  138,  142,  146,  150,  154,  158,\n",
              "         162,  166,  170,  174,  178,  182,  186,  190,  194,  198,  202,\n",
              "         206,  210,  214,  218,  222,  226,  230,  234,  238,  242,  246,\n",
              "         250,  254,  258,  262,  266,  270,  274,  278,  282,  286,  290,\n",
              "         294,  298,  302,  306,  310,  314,  318,  322,  326,  330,  334,\n",
              "         338,  342,  346,  350,  354,  358,  362,  366,  370,  374,  378,\n",
              "         382,  386,  390,  394,  398,  402,  406], dtype=int32)>)"
            ]
          },
          "metadata": {
            "tags": []
          },
          "execution_count": 15
        }
      ]
    },
    {
      "cell_type": "code",
      "metadata": {
        "colab": {
          "base_uri": "https://localhost:8080/",
          "height": 638
        },
        "id": "8uAfMyqiABCi",
        "outputId": "e4664a76-a8bb-4671-cc68-5b224ab23b07"
      },
      "source": [
        "plt.figure(figsize=(10,10))\n",
        "plt.plot(m,n)\n",
        "plt.scatter(m,n)\n",
        "# plt.xlim(-250,500,100)\n",
        "plt.title(\"good\")\n",
        "plt.xlabel(\"my good ness\")\n",
        "plt.ylabel(\"good news\")\n",
        "plt.legend([\"good\",\"man\"],loc=\"lower right\")"
      ],
      "execution_count": null,
      "outputs": [
        {
          "output_type": "execute_result",
          "data": {
            "text/plain": [
              "<matplotlib.legend.Legend at 0x7f87041926d0>"
            ]
          },
          "metadata": {
            "tags": []
          },
          "execution_count": 17
        },
        {
          "output_type": "display_data",
          "data": {
            "image/png": "[encoded data removed]",
            "text/plain": [
              "<Figure size 720x720 with 1 Axes>"
            ]
          },
          "metadata": {
            "tags": [],
            "needs_background": "light"
          }
        }
      ]
    },
    {
      "cell_type": "code",
      "metadata": {
        "colab": {
          "base_uri": "https://localhost:8080/"
        },
        "id": "9ceW-ItGUxcD",
        "outputId": "f16d8eed-96ba-4c4a-b897-5f9ea082a6ae"
      },
      "source": [
        "len(x),len(y)"
      ],
      "execution_count": null,
      "outputs": [
        {
          "output_type": "execute_result",
          "data": {
            "text/plain": [
              "(8, 8)"
            ]
          },
          "metadata": {
            "tags": []
          },
          "execution_count": 18
        }
      ]
    },
    {
      "cell_type": "code",
      "metadata": {
        "colab": {
          "base_uri": "https://localhost:8080/"
        },
        "id": "sycjxxedU0Pm",
        "outputId": "b987fbab-7762-4770-8cdd-5fee5ebb0aa9"
      },
      "source": [
        "len(m),len(n)"
      ],
      "execution_count": null,
      "outputs": [
        {
          "output_type": "execute_result",
          "data": {
            "text/plain": [
              "(150, 150)"
            ]
          },
          "metadata": {
            "tags": []
          },
          "execution_count": 19
        }
      ]
    },
    {
      "cell_type": "code",
      "metadata": {
        "colab": {
          "base_uri": "https://localhost:8080/"
        },
        "id": "4ipZr2X2U4v9",
        "outputId": "24680749-726d-42e4-84db-278b7285abb5"
      },
      "source": [
        "x_train=m[:120]\n",
        "y_train=n[:120]\n",
        "\n",
        "x_test=m[120:]\n",
        "y_test=n[120:]\n",
        "len(x_train),len(x_test),len(y_train),len(y_test)"
      ],
      "execution_count": null,
      "outputs": [
        {
          "output_type": "execute_result",
          "data": {
            "text/plain": [
              "(120, 30, 120, 30)"
            ]
          },
          "metadata": {
            "tags": []
          },
          "execution_count": 20
        }
      ]
    },
    {
      "cell_type": "code",
      "metadata": {
        "colab": {
          "base_uri": "https://localhost:8080/",
          "height": 609
        },
        "id": "aLxajlNuWSvD",
        "outputId": "9966c0d0-9674-45dc-8b30-95df10c11fda"
      },
      "source": [
        "plt.figure(figsize=(10,10))\n",
        "plt.scatter(x_train,y_train,c=\"b\",label=\"train data\")\n",
        "plt.scatter(x_test,y_test,c=\"g\",label=\"test data\")\n",
        "plt.legend(loc=\"lower right\")"
      ],
      "execution_count": null,
      "outputs": [
        {
          "output_type": "execute_result",
          "data": {
            "text/plain": [
              "<matplotlib.legend.Legend at 0x7f87037c6310>"
            ]
          },
          "metadata": {
            "tags": []
          },
          "execution_count": 23
        },
        {
          "output_type": "display_data",
          "data": {
            "image/png": "[encoded data removed]",
            "text/plain": [
              "<Figure size 720x720 with 1 Axes>"
            ]
          },
          "metadata": {
            "tags": [],
            "needs_background": "light"
          }
        }
      ]
    },
    {
      "cell_type": "code",
      "metadata": {
        "id": "k5V4eQ2pXIoz"
      },
      "source": [
        ""
      ],
      "execution_count": null,
      "outputs": []
    }
  ]
}