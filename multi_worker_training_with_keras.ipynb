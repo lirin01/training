{
  "nbformat": 4,
  "nbformat_minor": 0,
  "metadata": {
    "colab": {
      "name": "multi-worker training with keras.ipynb",
      "provenance": []
    },
    "kernelspec": {
      "name": "python3",
      "display_name": "Python 3"
    },
    "language_info": {
      "name": "python"
    },
    "accelerator": "GPU"
  },
  "cells": [
    {
      "cell_type": "code",
      "metadata": {
        "id": "qcpuQwNw5sI7"
      },
      "source": [
        "import pandas as pd\n",
        "import numpy as np\n",
        "import matplotlib.pyplot as plt\n",
        "import json\n",
        "import os\n",
        "import sys\n",
        "import tensorflow as tf"
      ],
      "execution_count": 1,
      "outputs": []
    },
    {
      "cell_type": "code",
      "metadata": {
        "id": "2rlnVxcDTEY2"
      },
      "source": [
        "%load_ext tensorboard"
      ],
      "execution_count": 2,
      "outputs": []
    },
    {
      "cell_type": "code",
      "metadata": {
        "id": "gke_P-HM-MAP"
      },
      "source": [
        "os.environ['CUDA_VISIBLE_DEVICES']='-1'"
      ],
      "execution_count": 3,
      "outputs": []
    },
    {
      "cell_type": "code",
      "metadata": {
        "id": "vQiHLn4B7ICp"
      },
      "source": [
        "os.environ.pop('TF_CONFIG',None)"
      ],
      "execution_count": 4,
      "outputs": []
    },
    {
      "cell_type": "code",
      "metadata": {
        "id": "0WDdfomyw5vV"
      },
      "source": [
        "if '.' not in sys.path:\n",
        "  sys.path.insert(0, '.')"
      ],
      "execution_count": 5,
      "outputs": []
    },
    {
      "cell_type": "code",
      "metadata": {
        "id": "BIATgCkY7mwF"
      },
      "source": [
        "import tensorflow as tf"
      ],
      "execution_count": 6,
      "outputs": []
    },
    {
      "cell_type": "code",
      "metadata": {
        "colab": {
          "base_uri": "https://localhost:8080/"
        },
        "id": "qve3_SbG7uTF",
        "outputId": "9310b289-89d7-4998-e320-ddb0a85f8b66"
      },
      "source": [
        "%%writefile mnist.py\n",
        "import os\n",
        "import tensorflow as tf\n",
        "import numpy as np\n",
        "\n",
        "def mnist_dataset(batch_size):\n",
        "  (x_train,y_train),_=tf.keras.datasets.mnist.load_data(path='mnist.npz')\n",
        "  x_train=x_train/np.float32(255)\n",
        "  y_train=y_train.astype(np.int64)\n",
        "  train_dataset=tf.data.Dataset.from_tensor_slices((x_train,y_train)).shuffle(60000).repeat().batch(batch_size)\n",
        "  return train_dataset\n",
        "\n",
        "def build_and_compile_cnn_model():\n",
        "  model=tf.keras.Sequential([\n",
        "                             tf.keras.layers.InputLayer(input_shape=(28,28)),\n",
        "                             tf.keras.layers.Reshape(target_shape=(28,28,1)),\n",
        "                             tf.keras.layers.Conv2D(32,3,activation='relu'),\n",
        "                             tf.keras.layers.Flatten(),\n",
        "                             tf.keras.layers.Dense(128,activation='relu'),\n",
        "                             tf.keras.layers.Dense(10)\n",
        "  ])\n",
        "  model.compile(loss=tf.keras.losses.SparseCategoricalCrossentropy(from_logits=True),\n",
        "                optimizer=tf.keras.optimizers.SGD(learning_rate=0.001),\n",
        "                metrics=['accuracy'])\n",
        "  return model"
      ],
      "execution_count": 7,
      "outputs": [
        {
          "output_type": "stream",
          "name": "stdout",
          "text": [
            "Writing mnist.py\n"
          ]
        }
      ]
    },
    {
      "cell_type": "code",
      "metadata": {
        "colab": {
          "base_uri": "https://localhost:8080/"
        },
        "id": "oODRQsKIBRdc",
        "outputId": "441c33dd-87bf-4af4-9d61-b7e8d83bbd0a"
      },
      "source": [
        "import mnist\n",
        "\n",
        "batch_size=64\n",
        "single_worker_dataset=mnist.mnist_dataset(batch_size)\n",
        "single_worker_model=mnist.build_and_compile_cnn_model()\n",
        "single_worker_model.fit(single_worker_dataset,epochs=3,steps_per_epoch=70)"
      ],
      "execution_count": 8,
      "outputs": [
        {
          "output_type": "stream",
          "name": "stdout",
          "text": [
            "Downloading data from https://storage.googleapis.com/tensorflow/tf-keras-datasets/mnist.npz\n",
            "11493376/11490434 [==============================] - 0s 0us/step\n",
            "11501568/11490434 [==============================] - 0s 0us/step\n",
            "Epoch 1/3\n",
            "70/70 [==============================] - 4s 44ms/step - loss: 2.2824 - accuracy: 0.1855\n",
            "Epoch 2/3\n",
            "70/70 [==============================] - 3s 44ms/step - loss: 2.2247 - accuracy: 0.3953\n",
            "Epoch 3/3\n",
            "70/70 [==============================] - 3s 44ms/step - loss: 2.1528 - accuracy: 0.5621\n"
          ]
        },
        {
          "output_type": "execute_result",
          "data": {
            "text/plain": [
              "<keras.callbacks.History at 0x7f7742945dd0>"
            ]
          },
          "metadata": {},
          "execution_count": 8
        }
      ]
    },
    {
      "cell_type": "code",
      "metadata": {
        "id": "38Sai8r8X0L9"
      },
      "source": [
        "tf_config={\n",
        "    'cluster':{\n",
        "        'worker':[\"localhost:12345\",'localhost:23456']\n",
        "    },\n",
        "    'task':{'type':'worker','index':0}\n",
        "}"
      ],
      "execution_count": 9,
      "outputs": []
    },
    {
      "cell_type": "code",
      "metadata": {
        "colab": {
          "base_uri": "https://localhost:8080/"
        },
        "id": "qxeltdkQX828",
        "outputId": "05e5cdb0-263a-4659-9529-7b32fd1df2d2"
      },
      "source": [
        "json.dumps(tf_config)"
      ],
      "execution_count": 10,
      "outputs": [
        {
          "output_type": "execute_result",
          "data": {
            "application/vnd.google.colaboratory.intrinsic+json": {
              "type": "string"
            },
            "text/plain": [
              "'{\"cluster\": {\"worker\": [\"localhost:12345\", \"localhost:23456\"]}, \"task\": {\"type\": \"worker\", \"index\": 0}}'"
            ]
          },
          "metadata": {},
          "execution_count": 10
        }
      ]
    },
    {
      "cell_type": "code",
      "metadata": {
        "id": "NGOfk0GbZfWm"
      },
      "source": [
        "os.environ['GREETINGS']='Hello TensorFlow!'"
      ],
      "execution_count": 11,
      "outputs": []
    },
    {
      "cell_type": "code",
      "metadata": {
        "colab": {
          "base_uri": "https://localhost:8080/"
        },
        "id": "scXd3yvDxv7O",
        "outputId": "66853bd8-c957-4c1e-ce5d-738ac885b6bd"
      },
      "source": [
        "%%bash\n",
        "echo ${GREETINGS}"
      ],
      "execution_count": 12,
      "outputs": [
        {
          "output_type": "stream",
          "name": "stdout",
          "text": [
            "Hello TensorFlow!\n"
          ]
        }
      ]
    },
    {
      "cell_type": "code",
      "metadata": {
        "colab": {
          "base_uri": "https://localhost:8080/"
        },
        "id": "7b4l1md3dsSa",
        "outputId": "fdafcc08-74c1-41e5-b796-893932c9520e"
      },
      "source": [
        "strategy=tf.distribute.MultiWorkerMirroredStrategy()"
      ],
      "execution_count": 13,
      "outputs": [
        {
          "output_type": "stream",
          "name": "stdout",
          "text": [
            "WARNING:tensorflow:Collective ops is not configured at program startup. Some performance features may not be enabled.\n",
            "INFO:tensorflow:Single-worker MultiWorkerMirroredStrategy with local_devices = ('/device:CPU:0',), communication = CommunicationImplementation.AUTO\n"
          ]
        }
      ]
    },
    {
      "cell_type": "code",
      "metadata": {
        "id": "116EW9OtfykV"
      },
      "source": [
        "with strategy.scope():\n",
        "  multi_worker_model=mnist.build_and_compile_cnn_model()"
      ],
      "execution_count": null,
      "outputs": []
    },
    {
      "cell_type": "code",
      "metadata": {
        "id": "A0VE5WoMiEx1"
      },
      "source": [
        "%%writefile main.py\n",
        "import os\n",
        "import json\n",
        "import tensorflow as tf\n",
        "\n",
        "per_worker_batch_size=64\n",
        "tf_config=json.loads(os.environ['TF_CONFIG'])\n",
        "num_workers=len(tf_config['cluster']['worker'])\n",
        "\n",
        "strategy=tf.distribute.MultiWorkerMirroredStrategy()\n",
        "global_batch_size = per_worker_batch_size * num_workers\n",
        "multi_worker_dataset = mnist_dataset(global_batch_size)\n",
        "\n",
        "with strategy.scope():\n",
        "  multi_worker_model = build_and_compile_cnn_model()\n",
        "multi_worker_model.fit(multi_worker_dataset,epochs=3,steps_per_epoch=70)"
      ],
      "execution_count": null,
      "outputs": []
    },
    {
      "cell_type": "code",
      "metadata": {
        "id": "D4G84h9soReK"
      },
      "source": [
        "%%bash\n",
        "ls *.py"
      ],
      "execution_count": null,
      "outputs": []
    },
    {
      "cell_type": "code",
      "metadata": {
        "id": "wS2reMZupBzf"
      },
      "source": [
        "os.environ['TF_CONFIG']=json.dumps(tf_config)"
      ],
      "execution_count": null,
      "outputs": []
    },
    {
      "cell_type": "code",
      "metadata": {
        "id": "qtJgkGLdpapo"
      },
      "source": [
        "%killbgscripts"
      ],
      "execution_count": null,
      "outputs": []
    },
    {
      "cell_type": "code",
      "metadata": {
        "id": "HNmK5w1opseH"
      },
      "source": [
        "import time\n",
        "time.sleep(10)"
      ],
      "execution_count": null,
      "outputs": []
    },
    {
      "cell_type": "code",
      "metadata": {
        "id": "82VIWgmKyUmP"
      },
      "source": [
        "%%bash --bg\n",
        "python main.py &>job_0.log"
      ],
      "execution_count": null,
      "outputs": []
    },
    {
      "cell_type": "code",
      "metadata": {
        "id": "o_uIwi32saZf"
      },
      "source": [
        "cat job_0.log"
      ],
      "execution_count": null,
      "outputs": []
    },
    {
      "cell_type": "code",
      "metadata": {
        "id": "GrE3px6jqSo3"
      },
      "source": [
        "tf_config['task']['index'] = 1\n",
        "os.environ['TF_CONFIG'] = json.dumps(tf_config)"
      ],
      "execution_count": null,
      "outputs": []
    },
    {
      "cell_type": "code",
      "metadata": {
        "id": "0cfSB8UK3b4M"
      },
      "source": [
        "%%bash\n",
        "python main.py"
      ],
      "execution_count": null,
      "outputs": []
    },
    {
      "cell_type": "code",
      "metadata": {
        "id": "czkyvKxt3wQI"
      },
      "source": [
        "%%bash\n",
        "cat job_0.log"
      ],
      "execution_count": null,
      "outputs": []
    },
    {
      "cell_type": "code",
      "metadata": {
        "id": "B-9Jw6krqiqv"
      },
      "source": [
        "os.environ.pop('TF_CONFIG', None)\n",
        "%killbgscripts"
      ],
      "execution_count": null,
      "outputs": []
    },
    {
      "cell_type": "code",
      "metadata": {
        "id": "sv5zKv23stw_"
      },
      "source": [
        "options=tf.data.Options()\n",
        "options.experimental_distribute.auto_shard_policy=tf.data.experimental.AutoShardPolicy().OFF\n",
        "\n",
        "global_batch_dataset=64\n",
        "multi_worker_dataset=mnist.mnist_dataset(batch_size=64)\n",
        "dataset_no_auto_sard=multi_worker_dataset.with_options(options)"
      ],
      "execution_count": null,
      "outputs": []
    },
    {
      "cell_type": "code",
      "metadata": {
        "id": "_vExG9TKszp2"
      },
      "source": [
        "communication_options=tf.distribute.experimental.CommunicationOptions(implementation=tf.distribute.experimental.CollectiveCommunication.NCCL)"
      ],
      "execution_count": null,
      "outputs": []
    },
    {
      "cell_type": "code",
      "metadata": {
        "id": "-zljJGSa7nFc"
      },
      "source": [
        "model_path='/tem/keras-model'\n",
        "\n",
        "def _is_cheif(task_type,task_id):\n",
        "  return(task_type=='worker' and task_id==0)or task_type is None\n",
        "\n",
        "\n",
        "def _get_temp_dir(dirpath,task_id):\n",
        "  base_dirpath='workertemp_'+str(task_id)\n",
        "  temp_dir=os.path.join(dirpath,base_dirpath)\n",
        "  tf.io.gfile.makedirs(temp_dir)\n",
        "  return temp_dir\n",
        "\n",
        "def write_filepath(filepath,task_type,task_id):\n",
        "  dirpath=os.path.dirname(filepath)\n",
        "  base=os.path.basename(filepath)\n",
        "  if not _is_cheif(task_type,task_id):\n",
        "    dirpath=_get_temp_dir(dirpath,task_id)\n",
        "  return os.path.join(dirpath,base)\n",
        "\n",
        "task_type,task_id=(strategy.cluster_resolver.task_type,\n",
        "                   strategy.cluster_resolver.task_id)\n",
        "write_model_path=write_filepath(model_path,task_type,task_id)"
      ],
      "execution_count": null,
      "outputs": []
    },
    {
      "cell_type": "code",
      "metadata": {
        "id": "Q2wdQZPcEn73"
      },
      "source": [
        "multi_worker_model.save(write_model_path)"
      ],
      "execution_count": null,
      "outputs": []
    },
    {
      "cell_type": "code",
      "metadata": {
        "id": "lRklNhZvPx_5"
      },
      "source": [
        "if not _is_cheif(task_type,task_id):\n",
        "  tf.io.gfile.rmtree(os.path.dirname(write_model_path))"
      ],
      "execution_count": null,
      "outputs": []
    },
    {
      "cell_type": "code",
      "metadata": {
        "id": "82v1ENmwQPUV"
      },
      "source": [
        "loaded_model=tf.keras.models.load_model(model_path)\n",
        "loaded_model.fit(single_worker_dataset,epochs=2,steps_per_epoch=20)"
      ],
      "execution_count": null,
      "outputs": []
    },
    {
      "cell_type": "code",
      "metadata": {
        "id": "P8xylD3nQaam"
      },
      "source": [
        "checkpoint_dir = '/tmp/ckpt'\n",
        "\n",
        "checkpoint = tf.train.Checkpoint(model=multi_worker_model)\n",
        "write_checkpoint_dir = write_filepath(checkpoint_dir, task_type, task_id)\n",
        "checkpoint_manager = tf.train.CheckpointManager(\n",
        "    checkpoint, directory=write_checkpoint_dir, max_to_keep=1)"
      ],
      "execution_count": null,
      "outputs": []
    },
    {
      "cell_type": "code",
      "metadata": {
        "id": "-yknHyoYQuOm"
      },
      "source": [
        "checkpoint_manager.save()\n",
        "if not _is_cheif(task_type,task_id):\n",
        "  tf.io.gfile.rmtree(write_checkpoint_dir)"
      ],
      "execution_count": null,
      "outputs": []
    },
    {
      "cell_type": "code",
      "metadata": {
        "id": "LZEtDxKrQwyG"
      },
      "source": [
        "latest_checkpoint = tf.train.latest_checkpoint(checkpoint_dir)\n",
        "checkpoint.restore(latest_checkpoint)\n",
        "multi_worker_model.fit(multi_worker_dataset, epochs=2, steps_per_epoch=20)"
      ],
      "execution_count": null,
      "outputs": []
    },
    {
      "cell_type": "code",
      "metadata": {
        "id": "ZgKLY-qURS-V"
      },
      "source": [
        "callbacks = [tf.keras.callbacks.experimental.BackupAndRestore(backup_dir='/tmp/backup')]\n",
        "with strategy.scope():\n",
        "  multi_worker_model = mnist.build_and_compile_cnn_model()\n",
        "multi_worker_model.fit(multi_worker_dataset,\n",
        "                       epochs=3,\n",
        "                       steps_per_epoch=70,\n",
        "                       callbacks=callbacks)"
      ],
      "execution_count": null,
      "outputs": []
    },
    {
      "cell_type": "code",
      "metadata": {
        "id": "PncVvARYS9b-"
      },
      "source": [
        ""
      ],
      "execution_count": null,
      "outputs": []
    }
  ]
}