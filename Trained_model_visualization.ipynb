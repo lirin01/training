{
  "nbformat": 4,
  "nbformat_minor": 0,
  "metadata": {
    "accelerator": "TPU",
    "colab": {
      "name": "Trained model visualization.ipynb",
      "provenance": [],
      "collapsed_sections": []
    },
    "kernelspec": {
      "display_name": "Python 3",
      "name": "python3"
    },
    "language_info": {
      "name": "python"
    }
  },
  "cells": [
    {
      "cell_type": "code",
      "metadata": {
        "id": "Hj_4K8IJYtLL"
      },
      "source": [
        "import pandas as pd\n",
        "import numpy as np\n",
        "import matplotlib.pyplot as plt\n",
        "import tensorflow as tf"
      ],
      "execution_count": null,
      "outputs": []
    },
    {
      "cell_type": "code",
      "metadata": {
        "colab": {
          "base_uri": "https://localhost:8080/"
        },
        "id": "5alh091fY-V7",
        "outputId": "9905686a-2871-468e-9bea-ada53556b8ea"
      },
      "source": [
        "x=tf.range(-300,300,4)\n",
        "y=tf.range(-290,310,4)\n",
        "x,y"
      ],
      "execution_count": null,
      "outputs": [
        {
          "output_type": "execute_result",
          "data": {
            "text/plain": [
              "(<tf.Tensor: shape=(150,), dtype=int32, numpy=\n",
              " array([-300, -296, -292, -288, -284, -280, -276, -272, -268, -264, -260,\n",
              "        -256, -252, -248, -244, -240, -236, -232, -228, -224, -220, -216,\n",
              "        -212, -208, -204, -200, -196, -192, -188, -184, -180, -176, -172,\n",
              "        -168, -164, -160, -156, -152, -148, -144, -140, -136, -132, -128,\n",
              "        -124, -120, -116, -112, -108, -104, -100,  -96,  -92,  -88,  -84,\n",
              "         -80,  -76,  -72,  -68,  -64,  -60,  -56,  -52,  -48,  -44,  -40,\n",
              "         -36,  -32,  -28,  -24,  -20,  -16,  -12,   -8,   -4,    0,    4,\n",
              "           8,   12,   16,   20,   24,   28,   32,   36,   40,   44,   48,\n",
              "          52,   56,   60,   64,   68,   72,   76,   80,   84,   88,   92,\n",
              "          96,  100,  104,  108,  112,  116,  120,  124,  128,  132,  136,\n",
              "         140,  144,  148,  152,  156,  160,  164,  168,  172,  176,  180,\n",
              "         184,  188,  192,  196,  200,  204,  208,  212,  216,  220,  224,\n",
              "         228,  232,  236,  240,  244,  248,  252,  256,  260,  264,  268,\n",
              "         272,  276,  280,  284,  288,  292,  296], dtype=int32)>,\n",
              " <tf.Tensor: shape=(150,), dtype=int32, numpy=\n",
              " array([-290, -286, -282, -278, -274, -270, -266, -262, -258, -254, -250,\n",
              "        -246, -242, -238, -234, -230, -226, -222, -218, -214, -210, -206,\n",
              "        -202, -198, -194, -190, -186, -182, -178, -174, -170, -166, -162,\n",
              "        -158, -154, -150, -146, -142, -138, -134, -130, -126, -122, -118,\n",
              "        -114, -110, -106, -102,  -98,  -94,  -90,  -86,  -82,  -78,  -74,\n",
              "         -70,  -66,  -62,  -58,  -54,  -50,  -46,  -42,  -38,  -34,  -30,\n",
              "         -26,  -22,  -18,  -14,  -10,   -6,   -2,    2,    6,   10,   14,\n",
              "          18,   22,   26,   30,   34,   38,   42,   46,   50,   54,   58,\n",
              "          62,   66,   70,   74,   78,   82,   86,   90,   94,   98,  102,\n",
              "         106,  110,  114,  118,  122,  126,  130,  134,  138,  142,  146,\n",
              "         150,  154,  158,  162,  166,  170,  174,  178,  182,  186,  190,\n",
              "         194,  198,  202,  206,  210,  214,  218,  222,  226,  230,  234,\n",
              "         238,  242,  246,  250,  254,  258,  262,  266,  270,  274,  278,\n",
              "         282,  286,  290,  294,  298,  302,  306], dtype=int32)>)"
            ]
          },
          "metadata": {
            "tags": []
          },
          "execution_count": 2
        }
      ]
    },
    {
      "cell_type": "code",
      "metadata": {
        "colab": {
          "base_uri": "https://localhost:8080/"
        },
        "id": "Ir1DrpmYZYFH",
        "outputId": "e3d9e1c7-0e39-4229-b92b-511de6257958"
      },
      "source": [
        "len(x),len(y)"
      ],
      "execution_count": null,
      "outputs": [
        {
          "output_type": "execute_result",
          "data": {
            "text/plain": [
              "(150, 150)"
            ]
          },
          "metadata": {
            "tags": []
          },
          "execution_count": 3
        }
      ]
    },
    {
      "cell_type": "code",
      "metadata": {
        "colab": {
          "base_uri": "https://localhost:8080/"
        },
        "id": "0JTAMhO8ZbKf",
        "outputId": "714e184c-f9f3-47a6-b643-f28390552958"
      },
      "source": [
        "y==x+10"
      ],
      "execution_count": null,
      "outputs": [
        {
          "output_type": "execute_result",
          "data": {
            "text/plain": [
              "<tf.Tensor: shape=(150,), dtype=bool, numpy=\n",
              "array([ True,  True,  True,  True,  True,  True,  True,  True,  True,\n",
              "        True,  True,  True,  True,  True,  True,  True,  True,  True,\n",
              "        True,  True,  True,  True,  True,  True,  True,  True,  True,\n",
              "        True,  True,  True,  True,  True,  True,  True,  True,  True,\n",
              "        True,  True,  True,  True,  True,  True,  True,  True,  True,\n",
              "        True,  True,  True,  True,  True,  True,  True,  True,  True,\n",
              "        True,  True,  True,  True,  True,  True,  True,  True,  True,\n",
              "        True,  True,  True,  True,  True,  True,  True,  True,  True,\n",
              "        True,  True,  True,  True,  True,  True,  True,  True,  True,\n",
              "        True,  True,  True,  True,  True,  True,  True,  True,  True,\n",
              "        True,  True,  True,  True,  True,  True,  True,  True,  True,\n",
              "        True,  True,  True,  True,  True,  True,  True,  True,  True,\n",
              "        True,  True,  True,  True,  True,  True,  True,  True,  True,\n",
              "        True,  True,  True,  True,  True,  True,  True,  True,  True,\n",
              "        True,  True,  True,  True,  True,  True,  True,  True,  True,\n",
              "        True,  True,  True,  True,  True,  True,  True,  True,  True,\n",
              "        True,  True,  True,  True,  True,  True])>"
            ]
          },
          "metadata": {
            "tags": []
          },
          "execution_count": 4
        }
      ]
    },
    {
      "cell_type": "code",
      "metadata": {
        "id": "Rhc9lZn6aHaB"
      },
      "source": [
        "model=tf.keras.Sequential([\n",
        "                           tf.keras.layers.Dense(1,input_shape=[1])\n",
        "])\n",
        "model.compile(loss=tf.keras.losses.mae,\n",
        "              optimizer=tf.keras.optimizers.SGD(),\n",
        "              metrics=[\"mae\"])"
      ],
      "execution_count": null,
      "outputs": []
    },
    {
      "cell_type": "code",
      "metadata": {
        "colab": {
          "base_uri": "https://localhost:8080/"
        },
        "id": "jpIefqVEbjEt",
        "outputId": "98d65109-dfb3-42c6-ad46-8003c236d1ca"
      },
      "source": [
        "model.summary()"
      ],
      "execution_count": null,
      "outputs": [
        {
          "output_type": "stream",
          "text": [
            "Model: \"sequential\"\n",
            "_________________________________________________________________\n",
            "Layer (type)                 Output Shape              Param #   \n",
            "=================================================================\n",
            "dense (Dense)                (None, 1)                 2         \n",
            "=================================================================\n",
            "Total params: 2\n",
            "Trainable params: 2\n",
            "Non-trainable params: 0\n",
            "_________________________________________________________________\n"
          ],
          "name": "stdout"
        }
      ]
    },
    {
      "cell_type": "code",
      "metadata": {
        "id": "E6vsPUswblGp"
      },
      "source": [
        "# model.fit(x,y,epochs=2000,verbose=0)"
      ],
      "execution_count": null,
      "outputs": []
    },
    {
      "cell_type": "code",
      "metadata": {
        "id": "I5bAvbeQdKyM"
      },
      "source": [
        ""
      ],
      "execution_count": null,
      "outputs": []
    },
    {
      "cell_type": "code",
      "metadata": {
        "colab": {
          "base_uri": "https://localhost:8080/"
        },
        "id": "cDVlEpbadXER",
        "outputId": "495521ee-fd7a-4d4f-c19e-39d76464d242"
      },
      "source": [
        "x_train=x[:120]\n",
        "y_train=y[:120]\n",
        "\n",
        "x_test=x[120:]\n",
        "y_test=y[120:]\n",
        "len(x_train),len(x_test),len(y_train),len(y_test)"
      ],
      "execution_count": null,
      "outputs": [
        {
          "output_type": "execute_result",
          "data": {
            "text/plain": [
              "(120, 30, 120, 30)"
            ]
          },
          "metadata": {
            "tags": []
          },
          "execution_count": 8
        }
      ]
    },
    {
      "cell_type": "code",
      "metadata": {
        "colab": {
          "base_uri": "https://localhost:8080/"
        },
        "id": "-84uRaC_eKlC",
        "outputId": "206591e8-f04b-4dfd-8cd6-2a75c3fc0b22"
      },
      "source": [
        "model.fit(x_train,y_train,epochs=100,verbose=0)"
      ],
      "execution_count": null,
      "outputs": [
        {
          "output_type": "execute_result",
          "data": {
            "text/plain": [
              "<tensorflow.python.keras.callbacks.History at 0x7f0b43065490>"
            ]
          },
          "metadata": {
            "tags": []
          },
          "execution_count": 9
        }
      ]
    },
    {
      "cell_type": "code",
      "metadata": {
        "colab": {
          "base_uri": "https://localhost:8080/"
        },
        "id": "P5whZjCReje6",
        "outputId": "5ad56dc2-f459-47f6-a4d8-ee2212a5070e"
      },
      "source": [
        "tf.random.set_seed(42)\n",
        "#making sample model\n",
        "model1=tf.keras.Sequential([\n",
        "                            tf.keras.layers.Dense(1,activation=\"relu\",input_shape=[1],name=\"inner_layer\"),\n",
        "                            tf.keras.layers.Dense(100,activation=\"relu\"),\n",
        "                            tf.keras.layers.Dense(100,activation=\"relu\"),\n",
        "                            tf.keras.layers.Dense(100,activation=\"relu\"),\n",
        "                            tf.keras.layers.Dense(1,name=\"output_layer\")\n",
        "                            ])\n",
        "model1.compile(loss=tf.keras.losses.mae,\n",
        "               optimizer=tf.keras.optimizers.Adam(lr=0.01),\n",
        "               metrics=[\"mae\"])"
      ],
      "execution_count": null,
      "outputs": [
        {
          "output_type": "stream",
          "text": [
            "/usr/local/lib/python3.7/dist-packages/tensorflow/python/keras/optimizer_v2/optimizer_v2.py:375: UserWarning: The `lr` argument is deprecated, use `learning_rate` instead.\n",
            "  \"The `lr` argument is deprecated, use `learning_rate` instead.\")\n"
          ],
          "name": "stderr"
        }
      ]
    },
    {
      "cell_type": "code",
      "metadata": {
        "colab": {
          "base_uri": "https://localhost:8080/"
        },
        "id": "vKzBRfGZevG5",
        "outputId": "71b3ca2e-026f-4a8c-bad1-302385558c03"
      },
      "source": [
        "model1.summary()"
      ],
      "execution_count": null,
      "outputs": [
        {
          "output_type": "stream",
          "text": [
            "Model: \"sequential_1\"\n",
            "_________________________________________________________________\n",
            "Layer (type)                 Output Shape              Param #   \n",
            "=================================================================\n",
            "inner_layer (Dense)          (None, 1)                 2         \n",
            "_________________________________________________________________\n",
            "dense_1 (Dense)              (None, 100)               200       \n",
            "_________________________________________________________________\n",
            "dense_2 (Dense)              (None, 100)               10100     \n",
            "_________________________________________________________________\n",
            "dense_3 (Dense)              (None, 100)               10100     \n",
            "_________________________________________________________________\n",
            "output_layer (Dense)         (None, 1)                 101       \n",
            "=================================================================\n",
            "Total params: 20,503\n",
            "Trainable params: 20,503\n",
            "Non-trainable params: 0\n",
            "_________________________________________________________________\n"
          ],
          "name": "stdout"
        }
      ]
    },
    {
      "cell_type": "code",
      "metadata": {
        "colab": {
          "base_uri": "https://localhost:8080/"
        },
        "id": "pBwnvrT9hhgD",
        "outputId": "018b5b41-6a92-4a5d-8d17-d44ca69db1f7"
      },
      "source": [
        "%%time\n",
        "model.fit(x_train,y_train,epochs=1000,verbose=0)\n",
        "model1.fit(x_train,y_train,epochs=1550,verbose=0)"
      ],
      "execution_count": null,
      "outputs": [
        {
          "output_type": "stream",
          "text": [
            "CPU times: user 19.1 s, sys: 1.61 s, total: 20.8 s\n",
            "Wall time: 26.1 s\n"
          ],
          "name": "stdout"
        }
      ]
    },
    {
      "cell_type": "code",
      "metadata": {
        "colab": {
          "base_uri": "https://localhost:8080/"
        },
        "id": "tezT1i7Zh1P2",
        "outputId": "4b7bb8a3-dd29-4cf0-d910-50ceda8cc06f"
      },
      "source": [
        "model.predict([17]),model1.predict([17])"
      ],
      "execution_count": null,
      "outputs": [
        {
          "output_type": "execute_result",
          "data": {
            "text/plain": [
              "(array([[4.452196]], dtype=float32), array([[27.254087]], dtype=float32))"
            ]
          },
          "metadata": {
            "tags": []
          },
          "execution_count": 13
        }
      ]
    },
    {
      "cell_type": "code",
      "metadata": {
        "colab": {
          "base_uri": "https://localhost:8080/",
          "height": 644
        },
        "id": "fja1-Zn8iOEj",
        "outputId": "b0e34664-a0de-4524-f179-6a071f166193"
      },
      "source": [
        "from tensorflow.keras.utils import plot_model\n",
        "plot_model(model=model1,show_shapes=True)\n"
      ],
      "execution_count": null,
      "outputs": [
        {
          "output_type": "execute_result",
          "data": {
            "image/png": "[encoded data removed]",
            "text/plain": [
              "<IPython.core.display.Image object>"
            ]
          },
          "metadata": {
            "tags": []
          },
          "execution_count": 14
        }
      ]
    },
    {
      "cell_type": "code",
      "metadata": {
        "id": "d2XHNsiok2dl"
      },
      "source": [
        "new=model1.predict(x_test)"
      ],
      "execution_count": null,
      "outputs": []
    },
    {
      "cell_type": "code",
      "metadata": {
        "colab": {
          "base_uri": "https://localhost:8080/"
        },
        "id": "rbibUncVnKRG",
        "outputId": "429d0dc6-ae8a-4c5e-f2a8-17fd5e277cdf"
      },
      "source": [
        "new[:5],x_test[:5]"
      ],
      "execution_count": null,
      "outputs": [
        {
          "output_type": "execute_result",
          "data": {
            "text/plain": [
              "(array([[191.66066],\n",
              "        [195.69539],\n",
              "        [199.73012],\n",
              "        [203.76482],\n",
              "        [207.79953]], dtype=float32),\n",
              " <tf.Tensor: shape=(5,), dtype=int32, numpy=array([180, 184, 188, 192, 196], dtype=int32)>)"
            ]
          },
          "metadata": {
            "tags": []
          },
          "execution_count": 16
        }
      ]
    },
    {
      "cell_type": "code",
      "metadata": {
        "colab": {
          "base_uri": "https://localhost:8080/"
        },
        "id": "iTi30UPXnXZV",
        "outputId": "14f5ef51-5c10-4b44-c0b1-61ac778a5371"
      },
      "source": [
        "y_test[:5]"
      ],
      "execution_count": null,
      "outputs": [
        {
          "output_type": "execute_result",
          "data": {
            "text/plain": [
              "<tf.Tensor: shape=(5,), dtype=int32, numpy=array([190, 194, 198, 202, 206], dtype=int32)>"
            ]
          },
          "metadata": {
            "tags": []
          },
          "execution_count": 17
        }
      ]
    },
    {
      "cell_type": "code",
      "metadata": {
        "colab": {
          "base_uri": "https://localhost:8080/"
        },
        "id": "1152Sh-8qX1z",
        "outputId": "f7ad9e20-a403-4a78-d27a-18d86cd94157"
      },
      "source": [
        "len(x_test),len(new)"
      ],
      "execution_count": null,
      "outputs": [
        {
          "output_type": "execute_result",
          "data": {
            "text/plain": [
              "(30, 30)"
            ]
          },
          "metadata": {
            "tags": []
          },
          "execution_count": 18
        }
      ]
    },
    {
      "cell_type": "code",
      "metadata": {
        "colab": {
          "base_uri": "https://localhost:8080/",
          "height": 1000
        },
        "id": "J0vMELtipXDm",
        "outputId": "2be1caed-b800-415d-f582-0b7f5aa563d2"
      },
      "source": [
        "plt.figure(figsize=(20,20))\n",
        "plt.scatter(x_train,y_train,c=\"g\",label=\"trained data\")\n",
        "plt.scatter(x_test,new,c=\"b\",label=\"predicted data\")\n",
        "plt.scatter(x_test,y_test,c=\"r\",label=\"test data\")\n",
        "plt.legend(loc=\"upper left\",edgecolor=\"b\")"
      ],
      "execution_count": null,
      "outputs": [
        {
          "output_type": "execute_result",
          "data": {
            "text/plain": [
              "<matplotlib.legend.Legend at 0x7f0b3431bfd0>"
            ]
          },
          "metadata": {
            "tags": []
          },
          "execution_count": 19
        },
        {
          "output_type": "display_data",
          "data": {
            "image/png": "[encoded data removed]",
            "text/plain": [
              "<Figure size 1440x1440 with 1 Axes>"
            ]
          },
          "metadata": {
            "tags": [],
            "needs_background": "light"
          }
        }
      ]
    },
    {
      "cell_type": "code",
      "metadata": {
        "colab": {
          "base_uri": "https://localhost:8080/"
        },
        "id": "RTR-3yF1qw8n",
        "outputId": "50d32a68-2715-4682-abdd-6e0e7968437c"
      },
      "source": [
        "model1.predict([180])-190"
      ],
      "execution_count": null,
      "outputs": [
        {
          "output_type": "execute_result",
          "data": {
            "text/plain": [
              "array([[1.6606598]], dtype=float32)"
            ]
          },
          "metadata": {
            "tags": []
          },
          "execution_count": 20
        }
      ]
    },
    {
      "cell_type": "code",
      "metadata": {
        "id": "oCC6jwoHrOPn"
      },
      "source": [
        "from tensorflow.keras.utils import plot_model"
      ],
      "execution_count": null,
      "outputs": []
    },
    {
      "cell_type": "code",
      "metadata": {
        "colab": {
          "base_uri": "https://localhost:8080/",
          "height": 644
        },
        "id": "JxZ9iFMsHYW6",
        "outputId": "20bb67ac-0a57-4a34-8358-3b1bbf292e1d"
      },
      "source": [
        "plot_model(model1,show_shapes=True)"
      ],
      "execution_count": null,
      "outputs": [
        {
          "output_type": "execute_result",
          "data": {
            "image/png": "[encoded data removed]",
            "text/plain": [
              "<IPython.core.display.Image object>"
            ]
          },
          "metadata": {
            "tags": []
          },
          "execution_count": 22
        }
      ]
    },
    {
      "cell_type": "code",
      "metadata": {
        "colab": {
          "base_uri": "https://localhost:8080/"
        },
        "id": "6ENAQnpIHbuF",
        "outputId": "7a25db2a-ce38-4145-dbf0-ee93edc9cdc8"
      },
      "source": [
        "me=tf.keras.losses.mean_absolute_error(y_true=y_test,\n",
        "                                       y_pred=tf.squeeze(new))\n",
        "me"
      ],
      "execution_count": null,
      "outputs": [
        {
          "output_type": "execute_result",
          "data": {
            "text/plain": [
              "<tf.Tensor: shape=(), dtype=float32, numpy=2.163794>"
            ]
          },
          "metadata": {
            "tags": []
          },
          "execution_count": 23
        }
      ]
    },
    {
      "cell_type": "code",
      "metadata": {
        "colab": {
          "base_uri": "https://localhost:8080/"
        },
        "id": "Vf8ulLziixpj",
        "outputId": "1c3ef56c-756f-4d5a-e74c-0d390349f311"
      },
      "source": [
        "maa=tf.keras.losses.mean_squared_error(y_true=y_test,\n",
        "                                       y_pred=tf.squeeze(new))\n",
        "maa"
      ],
      "execution_count": null,
      "outputs": [
        {
          "output_type": "execute_result",
          "data": {
            "text/plain": [
              "<tf.Tensor: shape=(), dtype=float32, numpy=4.7721577>"
            ]
          },
          "metadata": {
            "tags": []
          },
          "execution_count": 24
        }
      ]
    },
    {
      "cell_type": "code",
      "metadata": {
        "colab": {
          "base_uri": "https://localhost:8080/"
        },
        "id": "_gSoxDjLjBWP",
        "outputId": "fc6c286f-ccb3-4019-cb12-a43cceacc2b0"
      },
      "source": [
        "np.square(2.163794)"
      ],
      "execution_count": null,
      "outputs": [
        {
          "output_type": "execute_result",
          "data": {
            "text/plain": [
              "4.682004474436001"
            ]
          },
          "metadata": {
            "tags": []
          },
          "execution_count": 25
        }
      ]
    },
    {
      "cell_type": "code",
      "metadata": {
        "colab": {
          "base_uri": "https://localhost:8080/"
        },
        "id": "hAr3TNVMjFYH",
        "outputId": "f33a26c2-fa7d-4add-bfbc-f915f4b1fca1"
      },
      "source": [
        "mea=tf.keras.losses.huber(y_true=y_test,\n",
        "                          y_pred=tf.squeeze(new))\n",
        "mea"
      ],
      "execution_count": null,
      "outputs": [
        {
          "output_type": "execute_result",
          "data": {
            "text/plain": [
              "<tf.Tensor: shape=(), dtype=float32, numpy=1.6637939>"
            ]
          },
          "metadata": {
            "tags": []
          },
          "execution_count": 26
        }
      ]
    },
    {
      "cell_type": "code",
      "metadata": {
        "id": "A6_mzM77kUJo"
      },
      "source": [
        "l=tf.range(-100,100,4)\n",
        "i=tf.range(-90,110,4)"
      ],
      "execution_count": null,
      "outputs": []
    },
    {
      "cell_type": "code",
      "metadata": {
        "colab": {
          "base_uri": "https://localhost:8080/"
        },
        "id": "fGGU9G_Ik90u",
        "outputId": "3bd356e7-b51f-454c-a526-4295dee395f6"
      },
      "source": [
        "len(l),len(i)"
      ],
      "execution_count": null,
      "outputs": [
        {
          "output_type": "execute_result",
          "data": {
            "text/plain": [
              "(50, 50)"
            ]
          },
          "metadata": {
            "tags": []
          },
          "execution_count": 28
        }
      ]
    },
    {
      "cell_type": "code",
      "metadata": {
        "id": "PRsXx2TplAX-"
      },
      "source": [
        "l_train=l[:40]\n",
        "i_train=i[:40]\n",
        "\n",
        "l_test=l[40:]\n",
        "i_test=i[40:]"
      ],
      "execution_count": null,
      "outputs": []
    },
    {
      "cell_type": "code",
      "metadata": {
        "colab": {
          "base_uri": "https://localhost:8080/"
        },
        "id": "bN_4xwy2lQAf",
        "outputId": "5ce4b958-96a2-4652-fa18-19a46163c4fc"
      },
      "source": [
        "len(l_train),len(l_test),len(i_train),len(i_test)"
      ],
      "execution_count": null,
      "outputs": [
        {
          "output_type": "execute_result",
          "data": {
            "text/plain": [
              "(40, 10, 40, 10)"
            ]
          },
          "metadata": {
            "tags": []
          },
          "execution_count": 30
        }
      ]
    },
    {
      "cell_type": "code",
      "metadata": {
        "colab": {
          "base_uri": "https://localhost:8080/"
        },
        "id": "VRQbGKHXl_pf",
        "outputId": "67cf6879-ab6f-4725-8bf7-ba6e0de25e15"
      },
      "source": [
        "tf.random.set_seed(42)\n",
        "model_20=tf.keras.Sequential([\n",
        "      tf.keras.layers.Dense(1)\n",
        "])\n",
        "model_20.compile(loss=tf.keras.losses.mae,\n",
        "                 optimizer=tf.keras.optimizers.SGD(),\n",
        "                 metrics=[\"mae\"])\n",
        "model_20.fit(l_train,i_train,epochs=100)"
      ],
      "execution_count": null,
      "outputs": [
        {
          "output_type": "stream",
          "text": [
            "Epoch 1/100\n",
            "2/2 [==============================] - 0s 8ms/step - loss: 15.9024 - mae: 15.9024\n",
            "Epoch 2/100\n",
            "2/2 [==============================] - 0s 6ms/step - loss: 11.2837 - mae: 11.2837\n",
            "Epoch 3/100\n",
            "2/2 [==============================] - 0s 5ms/step - loss: 11.1074 - mae: 11.1074\n",
            "Epoch 4/100\n",
            "2/2 [==============================] - 0s 4ms/step - loss: 9.2991 - mae: 9.2991\n",
            "Epoch 5/100\n",
            "2/2 [==============================] - 0s 5ms/step - loss: 10.1677 - mae: 10.1677\n",
            "Epoch 6/100\n",
            "2/2 [==============================] - 0s 4ms/step - loss: 9.4303 - mae: 9.4303\n",
            "Epoch 7/100\n",
            "2/2 [==============================] - 0s 6ms/step - loss: 8.5704 - mae: 8.5704\n",
            "Epoch 8/100\n",
            "2/2 [==============================] - 0s 14ms/step - loss: 9.0442 - mae: 9.0442\n",
            "Epoch 9/100\n",
            "2/2 [==============================] - 0s 19ms/step - loss: 18.7517 - mae: 18.7517\n",
            "Epoch 10/100\n",
            "2/2 [==============================] - 0s 7ms/step - loss: 10.1142 - mae: 10.1142\n",
            "Epoch 11/100\n",
            "2/2 [==============================] - 0s 5ms/step - loss: 8.3980 - mae: 8.3980\n",
            "Epoch 12/100\n",
            "2/2 [==============================] - 0s 4ms/step - loss: 10.6639 - mae: 10.6639\n",
            "Epoch 13/100\n",
            "2/2 [==============================] - 0s 6ms/step - loss: 9.7977 - mae: 9.7977\n",
            "Epoch 14/100\n",
            "2/2 [==============================] - 0s 7ms/step - loss: 16.0103 - mae: 16.0103\n",
            "Epoch 15/100\n",
            "2/2 [==============================] - 0s 7ms/step - loss: 11.4068 - mae: 11.4068\n",
            "Epoch 16/100\n",
            "2/2 [==============================] - 0s 9ms/step - loss: 8.5393 - mae: 8.5393\n",
            "Epoch 17/100\n",
            "2/2 [==============================] - 0s 16ms/step - loss: 13.6348 - mae: 13.6348\n",
            "Epoch 18/100\n",
            "2/2 [==============================] - 0s 7ms/step - loss: 11.4629 - mae: 11.4629\n",
            "Epoch 19/100\n",
            "2/2 [==============================] - 0s 6ms/step - loss: 17.9148 - mae: 17.9148\n",
            "Epoch 20/100\n",
            "2/2 [==============================] - 0s 4ms/step - loss: 15.0494 - mae: 15.0494\n",
            "Epoch 21/100\n",
            "2/2 [==============================] - 0s 12ms/step - loss: 11.0216 - mae: 11.0216\n",
            "Epoch 22/100\n",
            "2/2 [==============================] - 0s 7ms/step - loss: 8.1558 - mae: 8.1558\n",
            "Epoch 23/100\n",
            "2/2 [==============================] - 0s 4ms/step - loss: 9.5138 - mae: 9.5138\n",
            "Epoch 24/100\n",
            "2/2 [==============================] - 0s 5ms/step - loss: 7.6617 - mae: 7.6617\n",
            "Epoch 25/100\n",
            "2/2 [==============================] - 0s 6ms/step - loss: 13.1859 - mae: 13.1859\n",
            "Epoch 26/100\n",
            "2/2 [==============================] - 0s 6ms/step - loss: 16.4211 - mae: 16.4211\n",
            "Epoch 27/100\n",
            "2/2 [==============================] - 0s 6ms/step - loss: 13.1660 - mae: 13.1660\n",
            "Epoch 28/100\n",
            "2/2 [==============================] - 0s 2ms/step - loss: 14.2559 - mae: 14.2559\n",
            "Epoch 29/100\n",
            "2/2 [==============================] - 0s 4ms/step - loss: 10.0670 - mae: 10.0670\n",
            "Epoch 30/100\n",
            "2/2 [==============================] - 0s 5ms/step - loss: 16.3409 - mae: 16.3409\n",
            "Epoch 31/100\n",
            "2/2 [==============================] - 0s 4ms/step - loss: 23.6444 - mae: 23.6444\n",
            "Epoch 32/100\n",
            "2/2 [==============================] - 0s 3ms/step - loss: 7.6215 - mae: 7.6215\n",
            "Epoch 33/100\n",
            "2/2 [==============================] - 0s 3ms/step - loss: 9.3221 - mae: 9.3221\n",
            "Epoch 34/100\n",
            "2/2 [==============================] - 0s 6ms/step - loss: 13.7313 - mae: 13.7313\n",
            "Epoch 35/100\n",
            "2/2 [==============================] - 0s 5ms/step - loss: 11.1276 - mae: 11.1276\n",
            "Epoch 36/100\n",
            "2/2 [==============================] - 0s 5ms/step - loss: 13.3222 - mae: 13.3222\n",
            "Epoch 37/100\n",
            "2/2 [==============================] - 0s 4ms/step - loss: 9.4763 - mae: 9.4763\n",
            "Epoch 38/100\n",
            "2/2 [==============================] - 0s 5ms/step - loss: 10.1381 - mae: 10.1381\n",
            "Epoch 39/100\n",
            "2/2 [==============================] - 0s 8ms/step - loss: 10.1793 - mae: 10.1793\n",
            "Epoch 40/100\n",
            "2/2 [==============================] - 0s 3ms/step - loss: 10.9137 - mae: 10.9137\n",
            "Epoch 41/100\n",
            "2/2 [==============================] - 0s 9ms/step - loss: 7.9063 - mae: 7.9063\n",
            "Epoch 42/100\n",
            "2/2 [==============================] - 0s 7ms/step - loss: 10.0914 - mae: 10.0914\n",
            "Epoch 43/100\n",
            "2/2 [==============================] - 0s 3ms/step - loss: 8.7006 - mae: 8.7006\n",
            "Epoch 44/100\n",
            "2/2 [==============================] - 0s 3ms/step - loss: 12.2047 - mae: 12.2047\n",
            "Epoch 45/100\n",
            "2/2 [==============================] - 0s 3ms/step - loss: 13.7970 - mae: 13.7970\n",
            "Epoch 46/100\n",
            "2/2 [==============================] - 0s 3ms/step - loss: 8.4687 - mae: 8.4687\n",
            "Epoch 47/100\n",
            "2/2 [==============================] - 0s 3ms/step - loss: 9.1330 - mae: 9.1330\n",
            "Epoch 48/100\n",
            "2/2 [==============================] - 0s 7ms/step - loss: 10.6190 - mae: 10.6190\n",
            "Epoch 49/100\n",
            "2/2 [==============================] - 0s 6ms/step - loss: 7.7503 - mae: 7.7503\n",
            "Epoch 50/100\n",
            "2/2 [==============================] - 0s 9ms/step - loss: 9.5407 - mae: 9.5407\n",
            "Epoch 51/100\n",
            "2/2 [==============================] - 0s 8ms/step - loss: 9.1584 - mae: 9.1584\n",
            "Epoch 52/100\n",
            "2/2 [==============================] - 0s 6ms/step - loss: 16.3630 - mae: 16.3630\n",
            "Epoch 53/100\n",
            "2/2 [==============================] - 0s 8ms/step - loss: 14.1299 - mae: 14.1299\n",
            "Epoch 54/100\n",
            "2/2 [==============================] - 0s 6ms/step - loss: 21.1247 - mae: 21.1247\n",
            "Epoch 55/100\n",
            "2/2 [==============================] - 0s 4ms/step - loss: 16.3961 - mae: 16.3961\n",
            "Epoch 56/100\n",
            "2/2 [==============================] - 0s 5ms/step - loss: 9.9806 - mae: 9.9806\n",
            "Epoch 57/100\n",
            "2/2 [==============================] - 0s 4ms/step - loss: 9.9606 - mae: 9.9606\n",
            "Epoch 58/100\n",
            "2/2 [==============================] - 0s 3ms/step - loss: 9.2209 - mae: 9.2209\n",
            "Epoch 59/100\n",
            "2/2 [==============================] - 0s 4ms/step - loss: 8.4239 - mae: 8.4239\n",
            "Epoch 60/100\n",
            "2/2 [==============================] - 0s 4ms/step - loss: 9.4869 - mae: 9.4869\n",
            "Epoch 61/100\n",
            "2/2 [==============================] - 0s 6ms/step - loss: 11.4355 - mae: 11.4355\n",
            "Epoch 62/100\n",
            "2/2 [==============================] - 0s 4ms/step - loss: 11.6887 - mae: 11.6887\n",
            "Epoch 63/100\n",
            "2/2 [==============================] - 0s 6ms/step - loss: 7.0838 - mae: 7.0838\n",
            "Epoch 64/100\n",
            "2/2 [==============================] - 0s 4ms/step - loss: 16.9675 - mae: 16.9675\n",
            "Epoch 65/100\n",
            "2/2 [==============================] - 0s 6ms/step - loss: 12.4599 - mae: 12.4599\n",
            "Epoch 66/100\n",
            "2/2 [==============================] - 0s 5ms/step - loss: 13.0184 - mae: 13.0184\n",
            "Epoch 67/100\n",
            "2/2 [==============================] - 0s 5ms/step - loss: 8.0600 - mae: 8.0600\n",
            "Epoch 68/100\n",
            "2/2 [==============================] - 0s 5ms/step - loss: 10.1888 - mae: 10.1888\n",
            "Epoch 69/100\n",
            "2/2 [==============================] - 0s 3ms/step - loss: 12.3633 - mae: 12.3633\n",
            "Epoch 70/100\n",
            "2/2 [==============================] - 0s 6ms/step - loss: 9.0516 - mae: 9.0516\n",
            "Epoch 71/100\n",
            "2/2 [==============================] - 0s 3ms/step - loss: 10.0378 - mae: 10.0378\n",
            "Epoch 72/100\n",
            "2/2 [==============================] - 0s 5ms/step - loss: 10.0516 - mae: 10.0516\n",
            "Epoch 73/100\n",
            "2/2 [==============================] - 0s 7ms/step - loss: 12.6151 - mae: 12.6151\n",
            "Epoch 74/100\n",
            "2/2 [==============================] - 0s 6ms/step - loss: 10.3819 - mae: 10.3819\n",
            "Epoch 75/100\n",
            "2/2 [==============================] - 0s 9ms/step - loss: 9.7229 - mae: 9.7229\n",
            "Epoch 76/100\n",
            "2/2 [==============================] - 0s 4ms/step - loss: 11.2252 - mae: 11.2252\n",
            "Epoch 77/100\n",
            "2/2 [==============================] - 0s 5ms/step - loss: 8.3642 - mae: 8.3642\n",
            "Epoch 78/100\n",
            "2/2 [==============================] - 0s 7ms/step - loss: 9.1274 - mae: 9.1274\n",
            "Epoch 79/100\n",
            "2/2 [==============================] - 0s 6ms/step - loss: 19.5039 - mae: 19.5039\n",
            "Epoch 80/100\n",
            "2/2 [==============================] - 0s 4ms/step - loss: 14.8945 - mae: 14.8945\n",
            "Epoch 81/100\n",
            "2/2 [==============================] - 0s 7ms/step - loss: 9.0034 - mae: 9.0034\n",
            "Epoch 82/100\n",
            "2/2 [==============================] - 0s 4ms/step - loss: 13.0206 - mae: 13.0206\n",
            "Epoch 83/100\n",
            "2/2 [==============================] - 0s 18ms/step - loss: 7.9299 - mae: 7.9299\n",
            "Epoch 84/100\n",
            "2/2 [==============================] - 0s 6ms/step - loss: 7.6872 - mae: 7.6872\n",
            "Epoch 85/100\n",
            "2/2 [==============================] - 0s 4ms/step - loss: 10.0328 - mae: 10.0328\n",
            "Epoch 86/100\n",
            "2/2 [==============================] - 0s 3ms/step - loss: 9.2433 - mae: 9.2433\n",
            "Epoch 87/100\n",
            "2/2 [==============================] - 0s 6ms/step - loss: 12.0209 - mae: 12.0209\n",
            "Epoch 88/100\n",
            "2/2 [==============================] - 0s 8ms/step - loss: 10.6389 - mae: 10.6389\n",
            "Epoch 89/100\n",
            "2/2 [==============================] - 0s 3ms/step - loss: 7.2667 - mae: 7.2667\n",
            "Epoch 90/100\n",
            "2/2 [==============================] - 0s 4ms/step - loss: 12.7786 - mae: 12.7786\n",
            "Epoch 91/100\n",
            "2/2 [==============================] - 0s 5ms/step - loss: 7.3481 - mae: 7.3481\n",
            "Epoch 92/100\n",
            "2/2 [==============================] - 0s 4ms/step - loss: 7.7175 - mae: 7.7175\n",
            "Epoch 93/100\n",
            "2/2 [==============================] - 0s 4ms/step - loss: 7.1263 - mae: 7.1263\n",
            "Epoch 94/100\n",
            "2/2 [==============================] - 0s 8ms/step - loss: 12.6190 - mae: 12.6190\n",
            "Epoch 95/100\n",
            "2/2 [==============================] - 0s 5ms/step - loss: 10.0912 - mae: 10.0912\n",
            "Epoch 96/100\n",
            "2/2 [==============================] - 0s 10ms/step - loss: 9.3558 - mae: 9.3558\n",
            "Epoch 97/100\n",
            "2/2 [==============================] - 0s 10ms/step - loss: 12.6834 - mae: 12.6834\n",
            "Epoch 98/100\n",
            "2/2 [==============================] - 0s 3ms/step - loss: 8.6762 - mae: 8.6762\n",
            "Epoch 99/100\n",
            "2/2 [==============================] - 0s 4ms/step - loss: 9.4693 - mae: 9.4693\n",
            "Epoch 100/100\n",
            "2/2 [==============================] - 0s 4ms/step - loss: 8.7067 - mae: 8.7067\n"
          ],
          "name": "stdout"
        },
        {
          "output_type": "execute_result",
          "data": {
            "text/plain": [
              "<tensorflow.python.keras.callbacks.History at 0x7f0b362cadd0>"
            ]
          },
          "metadata": {
            "tags": []
          },
          "execution_count": 31
        }
      ]
    },
    {
      "cell_type": "code",
      "metadata": {
        "id": "10CvaWN5qzE4"
      },
      "source": [
        "prediction_1=model_20.predict(l_test)"
      ],
      "execution_count": null,
      "outputs": []
    },
    {
      "cell_type": "code",
      "metadata": {
        "id": "YjUxb6qYne-G"
      },
      "source": [
        "def plot_predictions(train_1=l_train,\n",
        "                     train_2=i_train,\n",
        "                     test_1=l_test,\n",
        "                     test_2=i_test,\n",
        "                     sub=l_test,\n",
        "                     prediction=prediction_1):\n",
        "  plt.figure(figsize=(10,10))\n",
        "  plt.scatter(train_1,train_2,label=\"train data\")\n",
        "  plt.scatter(test_1,test_2,label=\"test data\")\n",
        "  plt.scatter(sub,prediction_1,label=\"prediction data\")\n",
        "  plt.legend()"
      ],
      "execution_count": null,
      "outputs": []
    },
    {
      "cell_type": "code",
      "metadata": {
        "colab": {
          "base_uri": "https://localhost:8080/",
          "height": 592
        },
        "id": "LYHug1a5pek3",
        "outputId": "eb814b35-8cb0-45e7-b418-1aeaa5f2f742"
      },
      "source": [
        "plot_predictions()"
      ],
      "execution_count": null,
      "outputs": [
        {
          "output_type": "display_data",
          "data": {
            "image/png": "[encoded data removed]",
            "text/plain": [
              "<Figure size 720x720 with 1 Axes>"
            ]
          },
          "metadata": {
            "tags": [],
            "needs_background": "light"
          }
        }
      ]
    },
    {
      "cell_type": "code",
      "metadata": {
        "colab": {
          "base_uri": "https://localhost:8080/"
        },
        "id": "D8HdjLhFrj4d",
        "outputId": "5cb6a2d6-0fad-47f1-ffc0-becef10f1de9"
      },
      "source": [
        "mae_1=tf.keras.losses.mean_absolute_error(l_test,tf.squeeze(prediction_1))\n",
        "mse_1=tf.keras.losses.mean_squared_error(l_test,tf.squeeze(prediction_1))\n",
        "mae_1,mse_1"
      ],
      "execution_count": null,
      "outputs": [
        {
          "output_type": "execute_result",
          "data": {
            "text/plain": [
              "(<tf.Tensor: shape=(), dtype=float32, numpy=8.745328>,\n",
              " <tf.Tensor: shape=(), dtype=float32, numpy=78.666824>)"
            ]
          },
          "metadata": {
            "tags": []
          },
          "execution_count": 35
        }
      ]
    },
    {
      "cell_type": "code",
      "metadata": {
        "colab": {
          "base_uri": "https://localhost:8080/"
        },
        "id": "QyjtoHpMtXa-",
        "outputId": "24c04631-1580-4901-e1d7-4be7e3a7b16e"
      },
      "source": [
        "model_21=tf.keras.Sequential([\n",
        "      tf.keras.layers.Dense(10),                       \n",
        "      tf.keras.layers.Dense(1)\n",
        "])\n",
        "model_21.compile(loss=tf.keras.losses.mae,\n",
        "                 optimizer=tf.keras.optimizers.SGD(),\n",
        "                 metrics=[\"mae\"])\n",
        "model_21.fit(l_train,i_train,epochs=100)"
      ],
      "execution_count": null,
      "outputs": [
        {
          "output_type": "stream",
          "text": [
            "Epoch 1/100\n",
            "2/2 [==============================] - 0s 6ms/step - loss: 73.0019 - mae: 73.0019\n",
            "Epoch 2/100\n",
            "2/2 [==============================] - 0s 3ms/step - loss: 17.5325 - mae: 17.5325\n",
            "Epoch 3/100\n",
            "2/2 [==============================] - 0s 4ms/step - loss: 20.4862 - mae: 20.4862\n",
            "Epoch 4/100\n",
            "2/2 [==============================] - 0s 5ms/step - loss: 13.1871 - mae: 13.1871\n",
            "Epoch 5/100\n",
            "2/2 [==============================] - 0s 6ms/step - loss: 14.5492 - mae: 14.5492\n",
            "Epoch 6/100\n",
            "2/2 [==============================] - 0s 7ms/step - loss: 11.6087 - mae: 11.6087\n",
            "Epoch 7/100\n",
            "2/2 [==============================] - 0s 3ms/step - loss: 12.6668 - mae: 12.6668\n",
            "Epoch 8/100\n",
            "2/2 [==============================] - 0s 8ms/step - loss: 11.0468 - mae: 11.0468\n",
            "Epoch 9/100\n",
            "2/2 [==============================] - 0s 3ms/step - loss: 39.7317 - mae: 39.7317\n",
            "Epoch 10/100\n",
            "2/2 [==============================] - 0s 7ms/step - loss: 27.2189 - mae: 27.2189\n",
            "Epoch 11/100\n",
            "2/2 [==============================] - 0s 8ms/step - loss: 11.0353 - mae: 11.0353\n",
            "Epoch 12/100\n",
            "2/2 [==============================] - 0s 5ms/step - loss: 24.4166 - mae: 24.4166\n",
            "Epoch 13/100\n",
            "2/2 [==============================] - 0s 5ms/step - loss: 19.3019 - mae: 19.3019\n",
            "Epoch 14/100\n",
            "2/2 [==============================] - 0s 5ms/step - loss: 23.5364 - mae: 23.5364\n",
            "Epoch 15/100\n",
            "2/2 [==============================] - 0s 3ms/step - loss: 15.3060 - mae: 15.3060\n",
            "Epoch 16/100\n",
            "2/2 [==============================] - 0s 3ms/step - loss: 11.3811 - mae: 11.3811\n",
            "Epoch 17/100\n",
            "2/2 [==============================] - 0s 6ms/step - loss: 23.2584 - mae: 23.2584\n",
            "Epoch 18/100\n",
            "2/2 [==============================] - 0s 4ms/step - loss: 11.8111 - mae: 11.8111\n",
            "Epoch 19/100\n",
            "2/2 [==============================] - 0s 10ms/step - loss: 16.5386 - mae: 16.5386\n",
            "Epoch 20/100\n",
            "2/2 [==============================] - 0s 9ms/step - loss: 8.2427 - mae: 8.2427\n",
            "Epoch 21/100\n",
            "2/2 [==============================] - 0s 7ms/step - loss: 14.4055 - mae: 14.4055\n",
            "Epoch 22/100\n",
            "2/2 [==============================] - 0s 6ms/step - loss: 12.8167 - mae: 12.8167\n",
            "Epoch 23/100\n",
            "2/2 [==============================] - 0s 6ms/step - loss: 15.4582 - mae: 15.4582\n",
            "Epoch 24/100\n",
            "2/2 [==============================] - 0s 13ms/step - loss: 15.2467 - mae: 15.2467\n",
            "Epoch 25/100\n",
            "2/2 [==============================] - 0s 5ms/step - loss: 14.3296 - mae: 14.3296\n",
            "Epoch 26/100\n",
            "2/2 [==============================] - 0s 8ms/step - loss: 19.3209 - mae: 19.3209\n",
            "Epoch 27/100\n",
            "2/2 [==============================] - 0s 4ms/step - loss: 11.4720 - mae: 11.4720\n",
            "Epoch 28/100\n",
            "2/2 [==============================] - 0s 6ms/step - loss: 29.1772 - mae: 29.1772\n",
            "Epoch 29/100\n",
            "2/2 [==============================] - 0s 4ms/step - loss: 9.2578 - mae: 9.2578\n",
            "Epoch 30/100\n",
            "2/2 [==============================] - 0s 4ms/step - loss: 29.8922 - mae: 29.8922\n",
            "Epoch 31/100\n",
            "2/2 [==============================] - 0s 5ms/step - loss: 54.2504 - mae: 54.2504\n",
            "Epoch 32/100\n",
            "2/2 [==============================] - 0s 8ms/step - loss: 9.5899 - mae: 9.5899\n",
            "Epoch 33/100\n",
            "2/2 [==============================] - 0s 8ms/step - loss: 12.1833 - mae: 12.1833\n",
            "Epoch 34/100\n",
            "2/2 [==============================] - 0s 13ms/step - loss: 23.9572 - mae: 23.9572\n",
            "Epoch 35/100\n",
            "2/2 [==============================] - 0s 8ms/step - loss: 12.6202 - mae: 12.6202\n",
            "Epoch 36/100\n",
            "2/2 [==============================] - 0s 9ms/step - loss: 21.5189 - mae: 21.5189\n",
            "Epoch 37/100\n",
            "2/2 [==============================] - 0s 4ms/step - loss: 11.3948 - mae: 11.3948\n",
            "Epoch 38/100\n",
            "2/2 [==============================] - 0s 4ms/step - loss: 13.4825 - mae: 13.4825\n",
            "Epoch 39/100\n",
            "2/2 [==============================] - 0s 7ms/step - loss: 10.8031 - mae: 10.8031\n",
            "Epoch 40/100\n",
            "2/2 [==============================] - 0s 5ms/step - loss: 16.6186 - mae: 16.6186\n",
            "Epoch 41/100\n",
            "2/2 [==============================] - 0s 5ms/step - loss: 10.9878 - mae: 10.9878\n",
            "Epoch 42/100\n",
            "2/2 [==============================] - 0s 7ms/step - loss: 9.3120 - mae: 9.3120\n",
            "Epoch 43/100\n",
            "2/2 [==============================] - 0s 7ms/step - loss: 9.6002 - mae: 9.6002\n",
            "Epoch 44/100\n",
            "2/2 [==============================] - 0s 5ms/step - loss: 28.0120 - mae: 28.0120\n",
            "Epoch 45/100\n",
            "2/2 [==============================] - 0s 3ms/step - loss: 11.2956 - mae: 11.2956\n",
            "Epoch 46/100\n",
            "2/2 [==============================] - 0s 3ms/step - loss: 14.0830 - mae: 14.0830\n",
            "Epoch 47/100\n",
            "2/2 [==============================] - 0s 8ms/step - loss: 13.5011 - mae: 13.5011\n",
            "Epoch 48/100\n",
            "2/2 [==============================] - 0s 6ms/step - loss: 17.3373 - mae: 17.3373\n",
            "Epoch 49/100\n",
            "2/2 [==============================] - 0s 4ms/step - loss: 9.5238 - mae: 9.5238\n",
            "Epoch 50/100\n",
            "2/2 [==============================] - 0s 4ms/step - loss: 13.7154 - mae: 13.7154\n",
            "Epoch 51/100\n",
            "2/2 [==============================] - 0s 7ms/step - loss: 11.5670 - mae: 11.5670\n",
            "Epoch 52/100\n",
            "2/2 [==============================] - 0s 5ms/step - loss: 30.2257 - mae: 30.2257\n",
            "Epoch 53/100\n",
            "2/2 [==============================] - 0s 4ms/step - loss: 13.7352 - mae: 13.7352\n",
            "Epoch 54/100\n",
            "2/2 [==============================] - 0s 13ms/step - loss: 26.4457 - mae: 26.4457\n",
            "Epoch 55/100\n",
            "2/2 [==============================] - 0s 4ms/step - loss: 26.0367 - mae: 26.0367\n",
            "Epoch 56/100\n",
            "2/2 [==============================] - 0s 6ms/step - loss: 11.2460 - mae: 11.2460\n",
            "Epoch 57/100\n",
            "2/2 [==============================] - 0s 8ms/step - loss: 13.2249 - mae: 13.2249\n",
            "Epoch 58/100\n",
            "2/2 [==============================] - 0s 16ms/step - loss: 9.8754 - mae: 9.8754\n",
            "Epoch 59/100\n",
            "2/2 [==============================] - 0s 7ms/step - loss: 13.4150 - mae: 13.4150\n",
            "Epoch 60/100\n",
            "2/2 [==============================] - 0s 8ms/step - loss: 10.9405 - mae: 10.9405\n",
            "Epoch 61/100\n",
            "2/2 [==============================] - 0s 6ms/step - loss: 13.5630 - mae: 13.5630\n",
            "Epoch 62/100\n",
            "2/2 [==============================] - 0s 6ms/step - loss: 17.8775 - mae: 17.8775\n",
            "Epoch 63/100\n",
            "2/2 [==============================] - 0s 4ms/step - loss: 8.7416 - mae: 8.7416\n",
            "Epoch 64/100\n",
            "2/2 [==============================] - 0s 4ms/step - loss: 16.1381 - mae: 16.1381\n",
            "Epoch 65/100\n",
            "2/2 [==============================] - 0s 8ms/step - loss: 10.7498 - mae: 10.7498\n",
            "Epoch 66/100\n",
            "2/2 [==============================] - 0s 4ms/step - loss: 22.1831 - mae: 22.1831\n",
            "Epoch 67/100\n",
            "2/2 [==============================] - 0s 5ms/step - loss: 10.2709 - mae: 10.2709\n",
            "Epoch 68/100\n",
            "2/2 [==============================] - 0s 11ms/step - loss: 13.4682 - mae: 13.4682\n",
            "Epoch 69/100\n",
            "2/2 [==============================] - 0s 3ms/step - loss: 11.4343 - mae: 11.4343\n",
            "Epoch 70/100\n",
            "2/2 [==============================] - 0s 3ms/step - loss: 13.6187 - mae: 13.6187\n",
            "Epoch 71/100\n",
            "2/2 [==============================] - 0s 3ms/step - loss: 15.6233 - mae: 15.6233\n",
            "Epoch 72/100\n",
            "2/2 [==============================] - 0s 4ms/step - loss: 11.8532 - mae: 11.8532\n",
            "Epoch 73/100\n",
            "2/2 [==============================] - 0s 4ms/step - loss: 16.6254 - mae: 16.6254\n",
            "Epoch 74/100\n",
            "2/2 [==============================] - 0s 4ms/step - loss: 24.1342 - mae: 24.1342\n",
            "Epoch 75/100\n",
            "2/2 [==============================] - 0s 4ms/step - loss: 9.6315 - mae: 9.6315\n",
            "Epoch 76/100\n",
            "2/2 [==============================] - 0s 4ms/step - loss: 12.4825 - mae: 12.4825\n",
            "Epoch 77/100\n",
            "2/2 [==============================] - 0s 6ms/step - loss: 16.7086 - mae: 16.7086\n",
            "Epoch 78/100\n",
            "2/2 [==============================] - 0s 9ms/step - loss: 9.0873 - mae: 9.0873\n",
            "Epoch 79/100\n",
            "2/2 [==============================] - 0s 3ms/step - loss: 24.0255 - mae: 24.0255\n",
            "Epoch 80/100\n",
            "2/2 [==============================] - 0s 3ms/step - loss: 26.8174 - mae: 26.8174\n",
            "Epoch 81/100\n",
            "2/2 [==============================] - 0s 4ms/step - loss: 11.7213 - mae: 11.7213\n",
            "Epoch 82/100\n",
            "2/2 [==============================] - 0s 4ms/step - loss: 12.0124 - mae: 12.0124\n",
            "Epoch 83/100\n",
            "2/2 [==============================] - 0s 8ms/step - loss: 17.4085 - mae: 17.4085\n",
            "Epoch 84/100\n",
            "2/2 [==============================] - 0s 6ms/step - loss: 7.2769 - mae: 7.2769\n",
            "Epoch 85/100\n",
            "2/2 [==============================] - 0s 13ms/step - loss: 14.9605 - mae: 14.9605\n",
            "Epoch 86/100\n",
            "2/2 [==============================] - 0s 10ms/step - loss: 15.2848 - mae: 15.2848\n",
            "Epoch 87/100\n",
            "2/2 [==============================] - 0s 9ms/step - loss: 19.0979 - mae: 19.0979\n",
            "Epoch 88/100\n",
            "2/2 [==============================] - 0s 3ms/step - loss: 29.8574 - mae: 29.8574\n",
            "Epoch 89/100\n",
            "2/2 [==============================] - 0s 3ms/step - loss: 10.1967 - mae: 10.1967\n",
            "Epoch 90/100\n",
            "2/2 [==============================] - 0s 7ms/step - loss: 21.5458 - mae: 21.5458\n",
            "Epoch 91/100\n",
            "2/2 [==============================] - 0s 9ms/step - loss: 10.5927 - mae: 10.5927\n",
            "Epoch 92/100\n",
            "2/2 [==============================] - 0s 5ms/step - loss: 18.4135 - mae: 18.4135\n",
            "Epoch 93/100\n",
            "2/2 [==============================] - 0s 5ms/step - loss: 7.4299 - mae: 7.4299\n",
            "Epoch 94/100\n",
            "2/2 [==============================] - 0s 8ms/step - loss: 17.7470 - mae: 17.7470\n",
            "Epoch 95/100\n",
            "2/2 [==============================] - 0s 3ms/step - loss: 11.1306 - mae: 11.1306\n",
            "Epoch 96/100\n",
            "2/2 [==============================] - 0s 4ms/step - loss: 19.4420 - mae: 19.4420\n",
            "Epoch 97/100\n",
            "2/2 [==============================] - 0s 4ms/step - loss: 12.1735 - mae: 12.1735\n",
            "Epoch 98/100\n",
            "2/2 [==============================] - 0s 4ms/step - loss: 11.5784 - mae: 11.5784\n",
            "Epoch 99/100\n",
            "2/2 [==============================] - 0s 4ms/step - loss: 13.8853 - mae: 13.8853\n",
            "Epoch 100/100\n",
            "2/2 [==============================] - 0s 7ms/step - loss: 20.2151 - mae: 20.2151\n"
          ],
          "name": "stdout"
        },
        {
          "output_type": "execute_result",
          "data": {
            "text/plain": [
              "<tensorflow.python.keras.callbacks.History at 0x7f0b36a11e10>"
            ]
          },
          "metadata": {
            "tags": []
          },
          "execution_count": 36
        }
      ]
    },
    {
      "cell_type": "code",
      "metadata": {
        "id": "poq_qBGkuoCt",
        "colab": {
          "base_uri": "https://localhost:8080/"
        },
        "outputId": "02cbefd1-d7b3-433c-9484-30c3fc57bb18"
      },
      "source": [
        "predicts_1=model_21.predict(l_test)"
      ],
      "execution_count": null,
      "outputs": [
        {
          "output_type": "stream",
          "text": [
            "WARNING:tensorflow:5 out of the last 6 calls to <function Model.make_predict_function.<locals>.predict_function at 0x7f0b36a23e60> triggered tf.function retracing. Tracing is expensive and the excessive number of tracings could be due to (1) creating @tf.function repeatedly in a loop, (2) passing tensors with different shapes, (3) passing Python objects instead of tensors. For (1), please define your @tf.function outside of the loop. For (2), @tf.function has experimental_relax_shapes=True option that relaxes argument shapes that can avoid unnecessary retracing. For (3), please refer to https://www.tensorflow.org/guide/function#controlling_retracing and https://www.tensorflow.org/api_docs/python/tf/function for  more details.\n"
          ],
          "name": "stdout"
        }
      ]
    },
    {
      "cell_type": "code",
      "metadata": {
        "colab": {
          "base_uri": "https://localhost:8080/",
          "height": 592
        },
        "id": "5xpx9cB3vHLM",
        "outputId": "141d28e6-0268-4544-c36d-4bb2891617c6"
      },
      "source": [
        "plot_predictions(prediction=predicts_1)"
      ],
      "execution_count": null,
      "outputs": [
        {
          "output_type": "display_data",
          "data": {
            "image/png": "[encoded data removed]",
            "text/plain": [
              "<Figure size 720x720 with 1 Axes>"
            ]
          },
          "metadata": {
            "tags": [],
            "needs_background": "light"
          }
        }
      ]
    },
    {
      "cell_type": "code",
      "metadata": {
        "colab": {
          "base_uri": "https://localhost:8080/",
          "height": 610
        },
        "id": "zPALH3X5vfHb",
        "outputId": "46b22c0b-d9a9-4abf-89df-94607863f24c"
      },
      "source": [
        "train_1=l_train,\n",
        "train_2=i_train,\n",
        "test_1=l_test,\n",
        "test_2=i_test,\n",
        "sub=l_test,\n",
        "prediction=prediction_1\n",
        "plt.figure(figsize=(10,10))\n",
        "plt.scatter(train_1,train_2,label=\"train data\")\n",
        "plt.scatter(test_1,test_2,label=\"test data\")\n",
        "plt.scatter(sub,predicts_1,label=\"prediction data\")\n",
        "plt.legend()"
      ],
      "execution_count": null,
      "outputs": [
        {
          "output_type": "execute_result",
          "data": {
            "text/plain": [
              "<matplotlib.legend.Legend at 0x7f0b34319d10>"
            ]
          },
          "metadata": {
            "tags": []
          },
          "execution_count": 39
        },
        {
          "output_type": "display_data",
          "data": {
            "image/png": "[encoded data removed]",
            "text/plain": [
              "<Figure size 720x720 with 1 Axes>"
            ]
          },
          "metadata": {
            "tags": [],
            "needs_background": "light"
          }
        }
      ]
    },
    {
      "cell_type": "code",
      "metadata": {
        "id": "7y5gT-8dv955"
      },
      "source": [
        "from tensorflow.keras.utils import plot_model"
      ],
      "execution_count": null,
      "outputs": []
    },
    {
      "cell_type": "code",
      "metadata": {
        "colab": {
          "base_uri": "https://localhost:8080/",
          "height": 174
        },
        "id": "suKFKQUvwh39",
        "outputId": "db864c3b-359f-4846-91a4-6b182b36057f"
      },
      "source": [
        "plot_model(model_20)"
      ],
      "execution_count": null,
      "outputs": [
        {
          "output_type": "execute_result",
          "data": {
            "image/png": "[encoded data removed]",
            "text/plain": [
              "<IPython.core.display.Image object>"
            ]
          },
          "metadata": {
            "tags": []
          },
          "execution_count": 41
        }
      ]
    },
    {
      "cell_type": "code",
      "metadata": {
        "colab": {
          "base_uri": "https://localhost:8080/",
          "height": 312
        },
        "id": "B7II4KjMwtdM",
        "outputId": "fbab5907-ccdb-4702-89cf-ac78afc5678f"
      },
      "source": [
        "plot_model(model_21,show_shapes=True)"
      ],
      "execution_count": null,
      "outputs": [
        {
          "output_type": "execute_result",
          "data": {
            "image/png": "[encoded data removed]",
            "text/plain": [
              "<IPython.core.display.Image object>"
            ]
          },
          "metadata": {
            "tags": []
          },
          "execution_count": 42
        }
      ]
    },
    {
      "cell_type": "code",
      "metadata": {
        "colab": {
          "base_uri": "https://localhost:8080/"
        },
        "id": "4e4Ch4Rkw0hM",
        "outputId": "af120e1a-99e5-4bad-dc42-4192793a5c93"
      },
      "source": [
        "tf.random.set_seed(42)\n",
        "model_22=tf.keras.Sequential([\n",
        "      tf.keras.layers.Dense(100),                       \n",
        "      tf.keras.layers.Dense(1)\n",
        "])\n",
        "model_22.compile(loss=tf.keras.losses.mae,\n",
        "                 optimizer=tf.keras.optimizers.SGD(),\n",
        "                 metrics=[\"mae\"])\n",
        "model_22.fit(l_train,i_train,epochs=500)"
      ],
      "execution_count": null,
      "outputs": [
        {
          "output_type": "stream",
          "text": [
            "Epoch 1/500\n",
            "2/2 [==============================] - 0s 7ms/step - loss: 36.0963 - mae: 36.0963\n",
            "Epoch 2/500\n",
            "2/2 [==============================] - 0s 3ms/step - loss: 28.7401 - mae: 28.7401\n",
            "Epoch 3/500\n",
            "2/2 [==============================] - 0s 5ms/step - loss: 33.2070 - mae: 33.2070\n",
            "Epoch 4/500\n",
            "2/2 [==============================] - 0s 3ms/step - loss: 30.5341 - mae: 30.5341\n",
            "Epoch 5/500\n",
            "2/2 [==============================] - 0s 6ms/step - loss: 15.5504 - mae: 15.5504\n",
            "Epoch 6/500\n",
            "2/2 [==============================] - 0s 5ms/step - loss: 12.3355 - mae: 12.3355\n",
            "Epoch 7/500\n",
            "2/2 [==============================] - 0s 8ms/step - loss: 11.6147 - mae: 11.6147\n",
            "Epoch 8/500\n",
            "2/2 [==============================] - 0s 4ms/step - loss: 11.2547 - mae: 11.2547\n",
            "Epoch 9/500\n",
            "2/2 [==============================] - 0s 11ms/step - loss: 42.3778 - mae: 42.3778\n",
            "Epoch 10/500\n",
            "2/2 [==============================] - 0s 9ms/step - loss: 29.5266 - mae: 29.5266\n",
            "Epoch 11/500\n",
            "2/2 [==============================] - 0s 4ms/step - loss: 7.7261 - mae: 7.7261\n",
            "Epoch 12/500\n",
            "2/2 [==============================] - 0s 4ms/step - loss: 28.5424 - mae: 28.5424\n",
            "Epoch 13/500\n",
            "2/2 [==============================] - 0s 8ms/step - loss: 11.5152 - mae: 11.5152\n",
            "Epoch 14/500\n",
            "2/2 [==============================] - 0s 6ms/step - loss: 30.3047 - mae: 30.3047\n",
            "Epoch 15/500\n",
            "2/2 [==============================] - 0s 9ms/step - loss: 20.0565 - mae: 20.0565\n",
            "Epoch 16/500\n",
            "2/2 [==============================] - 0s 7ms/step - loss: 9.9328 - mae: 9.9328\n",
            "Epoch 17/500\n",
            "2/2 [==============================] - 0s 8ms/step - loss: 17.8815 - mae: 17.8815\n",
            "Epoch 18/500\n",
            "2/2 [==============================] - 0s 5ms/step - loss: 14.3561 - mae: 14.3561\n",
            "Epoch 19/500\n",
            "2/2 [==============================] - 0s 3ms/step - loss: 14.4636 - mae: 14.4636\n",
            "Epoch 20/500\n",
            "2/2 [==============================] - 0s 3ms/step - loss: 10.4766 - mae: 10.4766\n",
            "Epoch 21/500\n",
            "2/2 [==============================] - 0s 4ms/step - loss: 15.2397 - mae: 15.2397\n",
            "Epoch 22/500\n",
            "2/2 [==============================] - 0s 3ms/step - loss: 15.5822 - mae: 15.5822\n",
            "Epoch 23/500\n",
            "2/2 [==============================] - 0s 3ms/step - loss: 9.2367 - mae: 9.2367\n",
            "Epoch 24/500\n",
            "2/2 [==============================] - 0s 5ms/step - loss: 17.2403 - mae: 17.2403\n",
            "Epoch 25/500\n",
            "2/2 [==============================] - 0s 4ms/step - loss: 15.9221 - mae: 15.9221\n",
            "Epoch 26/500\n",
            "2/2 [==============================] - 0s 3ms/step - loss: 20.8897 - mae: 20.8897\n",
            "Epoch 27/500\n",
            "2/2 [==============================] - 0s 4ms/step - loss: 26.0552 - mae: 26.0552\n",
            "Epoch 28/500\n",
            "2/2 [==============================] - 0s 4ms/step - loss: 18.5412 - mae: 18.5412\n",
            "Epoch 29/500\n",
            "2/2 [==============================] - 0s 3ms/step - loss: 9.2471 - mae: 9.2471\n",
            "Epoch 30/500\n",
            "2/2 [==============================] - 0s 3ms/step - loss: 29.1607 - mae: 29.1607\n",
            "Epoch 31/500\n",
            "2/2 [==============================] - 0s 3ms/step - loss: 52.8241 - mae: 52.8241\n",
            "Epoch 32/500\n",
            "2/2 [==============================] - 0s 6ms/step - loss: 11.9582 - mae: 11.9582\n",
            "Epoch 33/500\n",
            "2/2 [==============================] - 0s 6ms/step - loss: 15.5698 - mae: 15.5698\n",
            "Epoch 34/500\n",
            "2/2 [==============================] - 0s 4ms/step - loss: 12.6486 - mae: 12.6486\n",
            "Epoch 35/500\n",
            "2/2 [==============================] - 0s 4ms/step - loss: 9.2216 - mae: 9.2216\n",
            "Epoch 36/500\n",
            "2/2 [==============================] - 0s 4ms/step - loss: 16.5660 - mae: 16.5660\n",
            "Epoch 37/500\n",
            "2/2 [==============================] - 0s 4ms/step - loss: 11.0633 - mae: 11.0633\n",
            "Epoch 38/500\n",
            "2/2 [==============================] - 0s 4ms/step - loss: 18.1905 - mae: 18.1905\n",
            "Epoch 39/500\n",
            "2/2 [==============================] - 0s 3ms/step - loss: 19.1255 - mae: 19.1255\n",
            "Epoch 40/500\n",
            "2/2 [==============================] - 0s 4ms/step - loss: 20.4755 - mae: 20.4755\n",
            "Epoch 41/500\n",
            "2/2 [==============================] - 0s 3ms/step - loss: 14.8601 - mae: 14.8601\n",
            "Epoch 42/500\n",
            "2/2 [==============================] - 0s 6ms/step - loss: 12.2435 - mae: 12.2435\n",
            "Epoch 43/500\n",
            "2/2 [==============================] - 0s 4ms/step - loss: 10.7142 - mae: 10.7142\n",
            "Epoch 44/500\n",
            "2/2 [==============================] - 0s 4ms/step - loss: 22.9105 - mae: 22.9105\n",
            "Epoch 45/500\n",
            "2/2 [==============================] - 0s 4ms/step - loss: 10.3591 - mae: 10.3591\n",
            "Epoch 46/500\n",
            "2/2 [==============================] - 0s 5ms/step - loss: 11.7430 - mae: 11.7430\n",
            "Epoch 47/500\n",
            "2/2 [==============================] - 0s 5ms/step - loss: 9.6661 - mae: 9.6661\n",
            "Epoch 48/500\n",
            "2/2 [==============================] - 0s 5ms/step - loss: 17.2796 - mae: 17.2796\n",
            "Epoch 49/500\n",
            "2/2 [==============================] - 0s 4ms/step - loss: 9.5457 - mae: 9.5457\n",
            "Epoch 50/500\n",
            "2/2 [==============================] - 0s 4ms/step - loss: 13.7675 - mae: 13.7675\n",
            "Epoch 51/500\n",
            "2/2 [==============================] - 0s 5ms/step - loss: 11.5782 - mae: 11.5782\n",
            "Epoch 52/500\n",
            "2/2 [==============================] - 0s 5ms/step - loss: 30.4150 - mae: 30.4150\n",
            "Epoch 53/500\n",
            "2/2 [==============================] - 0s 5ms/step - loss: 14.2947 - mae: 14.2947\n",
            "Epoch 54/500\n",
            "2/2 [==============================] - 0s 4ms/step - loss: 23.6385 - mae: 23.6385\n",
            "Epoch 55/500\n",
            "2/2 [==============================] - 0s 3ms/step - loss: 24.5678 - mae: 24.5678\n",
            "Epoch 56/500\n",
            "2/2 [==============================] - 0s 5ms/step - loss: 11.3286 - mae: 11.3286\n",
            "Epoch 57/500\n",
            "2/2 [==============================] - 0s 3ms/step - loss: 13.3457 - mae: 13.3457\n",
            "Epoch 58/500\n",
            "2/2 [==============================] - 0s 3ms/step - loss: 9.9386 - mae: 9.9386\n",
            "Epoch 59/500\n",
            "2/2 [==============================] - 0s 4ms/step - loss: 13.9017 - mae: 13.9017\n",
            "Epoch 60/500\n",
            "2/2 [==============================] - 0s 5ms/step - loss: 9.9821 - mae: 9.9821\n",
            "Epoch 61/500\n",
            "2/2 [==============================] - 0s 4ms/step - loss: 14.9607 - mae: 14.9607\n",
            "Epoch 62/500\n",
            "2/2 [==============================] - 0s 3ms/step - loss: 11.9163 - mae: 11.9163\n",
            "Epoch 63/500\n",
            "2/2 [==============================] - 0s 4ms/step - loss: 10.2802 - mae: 10.2802\n",
            "Epoch 64/500\n",
            "2/2 [==============================] - 0s 3ms/step - loss: 23.8796 - mae: 23.8796\n",
            "Epoch 65/500\n",
            "2/2 [==============================] - 0s 6ms/step - loss: 10.4570 - mae: 10.4570\n",
            "Epoch 66/500\n",
            "2/2 [==============================] - 0s 5ms/step - loss: 20.9281 - mae: 20.9281\n",
            "Epoch 67/500\n",
            "2/2 [==============================] - 0s 5ms/step - loss: 10.4360 - mae: 10.4360\n",
            "Epoch 68/500\n",
            "2/2 [==============================] - 0s 4ms/step - loss: 14.1740 - mae: 14.1740\n",
            "Epoch 69/500\n",
            "2/2 [==============================] - 0s 10ms/step - loss: 10.5085 - mae: 10.5085\n",
            "Epoch 70/500\n",
            "2/2 [==============================] - 0s 10ms/step - loss: 12.5800 - mae: 12.5800\n",
            "Epoch 71/500\n",
            "2/2 [==============================] - 0s 11ms/step - loss: 13.0114 - mae: 13.0114\n",
            "Epoch 72/500\n",
            "2/2 [==============================] - 0s 6ms/step - loss: 19.3658 - mae: 19.3658\n",
            "Epoch 73/500\n",
            "2/2 [==============================] - 0s 5ms/step - loss: 11.1257 - mae: 11.1257\n",
            "Epoch 74/500\n",
            "2/2 [==============================] - 0s 5ms/step - loss: 21.6094 - mae: 21.6094\n",
            "Epoch 75/500\n",
            "2/2 [==============================] - 0s 4ms/step - loss: 7.2224 - mae: 7.2224\n",
            "Epoch 76/500\n",
            "2/2 [==============================] - 0s 6ms/step - loss: 9.4544 - mae: 9.4544\n",
            "Epoch 77/500\n",
            "2/2 [==============================] - 0s 11ms/step - loss: 22.1672 - mae: 22.1672\n",
            "Epoch 78/500\n",
            "2/2 [==============================] - 0s 7ms/step - loss: 17.4700 - mae: 17.4700\n",
            "Epoch 79/500\n",
            "2/2 [==============================] - 0s 6ms/step - loss: 14.7073 - mae: 14.7073\n",
            "Epoch 80/500\n",
            "2/2 [==============================] - 0s 4ms/step - loss: 24.8778 - mae: 24.8778\n",
            "Epoch 81/500\n",
            "2/2 [==============================] - 0s 4ms/step - loss: 10.7835 - mae: 10.7835\n",
            "Epoch 82/500\n",
            "2/2 [==============================] - 0s 4ms/step - loss: 12.8246 - mae: 12.8246\n",
            "Epoch 83/500\n",
            "2/2 [==============================] - 0s 4ms/step - loss: 17.6222 - mae: 17.6222\n",
            "Epoch 84/500\n",
            "2/2 [==============================] - 0s 4ms/step - loss: 7.2967 - mae: 7.2967\n",
            "Epoch 85/500\n",
            "2/2 [==============================] - 0s 4ms/step - loss: 15.1140 - mae: 15.1140\n",
            "Epoch 86/500\n",
            "2/2 [==============================] - 0s 6ms/step - loss: 15.4042 - mae: 15.4042\n",
            "Epoch 87/500\n",
            "2/2 [==============================] - 0s 5ms/step - loss: 19.3471 - mae: 19.3471\n",
            "Epoch 88/500\n",
            "2/2 [==============================] - 0s 7ms/step - loss: 29.1969 - mae: 29.1969\n",
            "Epoch 89/500\n",
            "2/2 [==============================] - 0s 6ms/step - loss: 10.0793 - mae: 10.0793\n",
            "Epoch 90/500\n",
            "2/2 [==============================] - 0s 3ms/step - loss: 21.0153 - mae: 21.0153\n",
            "Epoch 91/500\n",
            "2/2 [==============================] - 0s 4ms/step - loss: 10.4465 - mae: 10.4465\n",
            "Epoch 92/500\n",
            "2/2 [==============================] - 0s 4ms/step - loss: 17.9444 - mae: 17.9444\n",
            "Epoch 93/500\n",
            "2/2 [==============================] - 0s 3ms/step - loss: 6.5490 - mae: 6.5490\n",
            "Epoch 94/500\n",
            "2/2 [==============================] - 0s 4ms/step - loss: 11.1056 - mae: 11.1056\n",
            "Epoch 95/500\n",
            "2/2 [==============================] - 0s 4ms/step - loss: 24.3361 - mae: 24.3361\n",
            "Epoch 96/500\n",
            "2/2 [==============================] - 0s 4ms/step - loss: 10.7118 - mae: 10.7118\n",
            "Epoch 97/500\n",
            "2/2 [==============================] - 0s 4ms/step - loss: 15.3348 - mae: 15.3348\n",
            "Epoch 98/500\n",
            "2/2 [==============================] - 0s 4ms/step - loss: 8.2338 - mae: 8.2338\n",
            "Epoch 99/500\n",
            "2/2 [==============================] - 0s 8ms/step - loss: 16.5159 - mae: 16.5159\n",
            "Epoch 100/500\n",
            "2/2 [==============================] - 0s 4ms/step - loss: 14.2930 - mae: 14.2930\n",
            "Epoch 101/500\n",
            "2/2 [==============================] - 0s 8ms/step - loss: 15.2926 - mae: 15.2926\n",
            "Epoch 102/500\n",
            "2/2 [==============================] - 0s 4ms/step - loss: 10.7614 - mae: 10.7614\n",
            "Epoch 103/500\n",
            "2/2 [==============================] - 0s 4ms/step - loss: 9.1706 - mae: 9.1706\n",
            "Epoch 104/500\n",
            "2/2 [==============================] - 0s 4ms/step - loss: 23.8572 - mae: 23.8572\n",
            "Epoch 105/500\n",
            "2/2 [==============================] - 0s 4ms/step - loss: 10.8447 - mae: 10.8447\n",
            "Epoch 106/500\n",
            "2/2 [==============================] - 0s 4ms/step - loss: 11.3009 - mae: 11.3009\n",
            "Epoch 107/500\n",
            "2/2 [==============================] - 0s 3ms/step - loss: 21.4280 - mae: 21.4280\n",
            "Epoch 108/500\n",
            "2/2 [==============================] - 0s 4ms/step - loss: 6.5884 - mae: 6.5884\n",
            "Epoch 109/500\n",
            "2/2 [==============================] - 0s 3ms/step - loss: 13.2925 - mae: 13.2925\n",
            "Epoch 110/500\n",
            "2/2 [==============================] - 0s 4ms/step - loss: 7.9929 - mae: 7.9929\n",
            "Epoch 111/500\n",
            "2/2 [==============================] - 0s 3ms/step - loss: 15.7824 - mae: 15.7824\n",
            "Epoch 112/500\n",
            "2/2 [==============================] - 0s 4ms/step - loss: 8.7380 - mae: 8.7380\n",
            "Epoch 113/500\n",
            "2/2 [==============================] - 0s 4ms/step - loss: 22.6196 - mae: 22.6196\n",
            "Epoch 114/500\n",
            "2/2 [==============================] - 0s 3ms/step - loss: 18.9748 - mae: 18.9748\n",
            "Epoch 115/500\n",
            "2/2 [==============================] - 0s 4ms/step - loss: 11.0729 - mae: 11.0729\n",
            "Epoch 116/500\n",
            "2/2 [==============================] - 0s 4ms/step - loss: 23.0626 - mae: 23.0626\n",
            "Epoch 117/500\n",
            "2/2 [==============================] - 0s 6ms/step - loss: 9.5528 - mae: 9.5528\n",
            "Epoch 118/500\n",
            "2/2 [==============================] - 0s 3ms/step - loss: 10.6122 - mae: 10.6122\n",
            "Epoch 119/500\n",
            "2/2 [==============================] - 0s 5ms/step - loss: 8.0394 - mae: 8.0394\n",
            "Epoch 120/500\n",
            "2/2 [==============================] - 0s 12ms/step - loss: 29.3525 - mae: 29.3525\n",
            "Epoch 121/500\n",
            "2/2 [==============================] - 0s 5ms/step - loss: 8.0766 - mae: 8.0766\n",
            "Epoch 122/500\n",
            "2/2 [==============================] - 0s 4ms/step - loss: 28.0279 - mae: 28.0279\n",
            "Epoch 123/500\n",
            "2/2 [==============================] - 0s 4ms/step - loss: 32.5532 - mae: 32.5532\n",
            "Epoch 124/500\n",
            "2/2 [==============================] - 0s 3ms/step - loss: 19.3723 - mae: 19.3723\n",
            "Epoch 125/500\n",
            "2/2 [==============================] - 0s 6ms/step - loss: 9.5279 - mae: 9.5279\n",
            "Epoch 126/500\n",
            "2/2 [==============================] - 0s 4ms/step - loss: 9.6005 - mae: 9.6005\n",
            "Epoch 127/500\n",
            "2/2 [==============================] - 0s 9ms/step - loss: 12.7252 - mae: 12.7252\n",
            "Epoch 128/500\n",
            "2/2 [==============================] - 0s 15ms/step - loss: 12.8221 - mae: 12.8221\n",
            "Epoch 129/500\n",
            "2/2 [==============================] - 0s 4ms/step - loss: 13.9553 - mae: 13.9553\n",
            "Epoch 130/500\n",
            "2/2 [==============================] - 0s 8ms/step - loss: 10.2404 - mae: 10.2404\n",
            "Epoch 131/500\n",
            "2/2 [==============================] - 0s 3ms/step - loss: 21.7224 - mae: 21.7224\n",
            "Epoch 132/500\n",
            "2/2 [==============================] - 0s 4ms/step - loss: 8.2835 - mae: 8.2835\n",
            "Epoch 133/500\n",
            "2/2 [==============================] - 0s 3ms/step - loss: 9.0640 - mae: 9.0640\n",
            "Epoch 134/500\n",
            "2/2 [==============================] - 0s 4ms/step - loss: 16.9153 - mae: 16.9153\n",
            "Epoch 135/500\n",
            "2/2 [==============================] - 0s 6ms/step - loss: 10.6593 - mae: 10.6593\n",
            "Epoch 136/500\n",
            "2/2 [==============================] - 0s 7ms/step - loss: 18.5231 - mae: 18.5231\n",
            "Epoch 137/500\n",
            "2/2 [==============================] - 0s 5ms/step - loss: 23.5168 - mae: 23.5168\n",
            "Epoch 138/500\n",
            "2/2 [==============================] - 0s 7ms/step - loss: 9.2856 - mae: 9.2856\n",
            "Epoch 139/500\n",
            "2/2 [==============================] - 0s 4ms/step - loss: 9.0158 - mae: 9.0158\n",
            "Epoch 140/500\n",
            "2/2 [==============================] - 0s 6ms/step - loss: 16.9776 - mae: 16.9776\n",
            "Epoch 141/500\n",
            "2/2 [==============================] - 0s 7ms/step - loss: 8.3210 - mae: 8.3210\n",
            "Epoch 142/500\n",
            "2/2 [==============================] - 0s 5ms/step - loss: 34.0542 - mae: 34.0542\n",
            "Epoch 143/500\n",
            "2/2 [==============================] - 0s 37ms/step - loss: 23.1092 - mae: 23.1092\n",
            "Epoch 144/500\n",
            "2/2 [==============================] - 0s 7ms/step - loss: 11.3329 - mae: 11.3329\n",
            "Epoch 145/500\n",
            "2/2 [==============================] - 0s 5ms/step - loss: 25.0300 - mae: 25.0300\n",
            "Epoch 146/500\n",
            "2/2 [==============================] - 0s 12ms/step - loss: 11.1595 - mae: 11.1595\n",
            "Epoch 147/500\n",
            "2/2 [==============================] - 0s 4ms/step - loss: 14.0812 - mae: 14.0812\n",
            "Epoch 148/500\n",
            "2/2 [==============================] - 0s 6ms/step - loss: 16.9288 - mae: 16.9288\n",
            "Epoch 149/500\n",
            "2/2 [==============================] - 0s 6ms/step - loss: 9.2557 - mae: 9.2557\n",
            "Epoch 150/500\n",
            "2/2 [==============================] - 0s 15ms/step - loss: 7.9403 - mae: 7.9403\n",
            "Epoch 151/500\n",
            "2/2 [==============================] - 0s 9ms/step - loss: 16.5058 - mae: 16.5058\n",
            "Epoch 152/500\n",
            "2/2 [==============================] - 0s 4ms/step - loss: 9.7998 - mae: 9.7998\n",
            "Epoch 153/500\n",
            "2/2 [==============================] - 0s 3ms/step - loss: 26.8446 - mae: 26.8446\n",
            "Epoch 154/500\n",
            "2/2 [==============================] - 0s 4ms/step - loss: 11.9201 - mae: 11.9201\n",
            "Epoch 155/500\n",
            "2/2 [==============================] - 0s 3ms/step - loss: 15.2860 - mae: 15.2860\n",
            "Epoch 156/500\n",
            "2/2 [==============================] - 0s 21ms/step - loss: 16.6578 - mae: 16.6578\n",
            "Epoch 157/500\n",
            "2/2 [==============================] - 0s 7ms/step - loss: 19.2727 - mae: 19.2727\n",
            "Epoch 158/500\n",
            "2/2 [==============================] - 0s 8ms/step - loss: 8.2579 - mae: 8.2579\n",
            "Epoch 159/500\n",
            "2/2 [==============================] - 0s 7ms/step - loss: 7.9875 - mae: 7.9875\n",
            "Epoch 160/500\n",
            "2/2 [==============================] - 0s 14ms/step - loss: 20.9650 - mae: 20.9650\n",
            "Epoch 161/500\n",
            "2/2 [==============================] - 0s 9ms/step - loss: 23.7713 - mae: 23.7713\n",
            "Epoch 162/500\n",
            "2/2 [==============================] - 0s 7ms/step - loss: 18.6936 - mae: 18.6936\n",
            "Epoch 163/500\n",
            "2/2 [==============================] - 0s 4ms/step - loss: 17.6474 - mae: 17.6474\n",
            "Epoch 164/500\n",
            "2/2 [==============================] - 0s 8ms/step - loss: 11.0684 - mae: 11.0684\n",
            "Epoch 165/500\n",
            "2/2 [==============================] - 0s 6ms/step - loss: 9.6167 - mae: 9.6167\n",
            "Epoch 166/500\n",
            "2/2 [==============================] - 0s 4ms/step - loss: 21.5682 - mae: 21.5682\n",
            "Epoch 167/500\n",
            "2/2 [==============================] - 0s 5ms/step - loss: 26.3500 - mae: 26.3500\n",
            "Epoch 168/500\n",
            "2/2 [==============================] - 0s 3ms/step - loss: 9.8827 - mae: 9.8827\n",
            "Epoch 169/500\n",
            "2/2 [==============================] - 0s 3ms/step - loss: 22.6144 - mae: 22.6144\n",
            "Epoch 170/500\n",
            "2/2 [==============================] - 0s 4ms/step - loss: 10.1510 - mae: 10.1510\n",
            "Epoch 171/500\n",
            "2/2 [==============================] - 0s 8ms/step - loss: 18.0297 - mae: 18.0297\n",
            "Epoch 172/500\n",
            "2/2 [==============================] - 0s 8ms/step - loss: 28.8803 - mae: 28.8803\n",
            "Epoch 173/500\n",
            "2/2 [==============================] - 0s 3ms/step - loss: 16.5673 - mae: 16.5673\n",
            "Epoch 174/500\n",
            "2/2 [==============================] - 0s 6ms/step - loss: 11.2162 - mae: 11.2162\n",
            "Epoch 175/500\n",
            "2/2 [==============================] - 0s 4ms/step - loss: 27.5747 - mae: 27.5747\n",
            "Epoch 176/500\n",
            "2/2 [==============================] - 0s 3ms/step - loss: 8.2951 - mae: 8.2951\n",
            "Epoch 177/500\n",
            "2/2 [==============================] - 0s 3ms/step - loss: 9.2831 - mae: 9.2831\n",
            "Epoch 178/500\n",
            "2/2 [==============================] - 0s 4ms/step - loss: 18.1694 - mae: 18.1694\n",
            "Epoch 179/500\n",
            "2/2 [==============================] - 0s 4ms/step - loss: 10.5933 - mae: 10.5933\n",
            "Epoch 180/500\n",
            "2/2 [==============================] - 0s 4ms/step - loss: 7.9191 - mae: 7.9191\n",
            "Epoch 181/500\n",
            "2/2 [==============================] - 0s 6ms/step - loss: 17.4144 - mae: 17.4144\n",
            "Epoch 182/500\n",
            "2/2 [==============================] - 0s 4ms/step - loss: 11.0304 - mae: 11.0304\n",
            "Epoch 183/500\n",
            "2/2 [==============================] - 0s 4ms/step - loss: 11.7114 - mae: 11.7114\n",
            "Epoch 184/500\n",
            "2/2 [==============================] - 0s 4ms/step - loss: 30.4060 - mae: 30.4060\n",
            "Epoch 185/500\n",
            "2/2 [==============================] - 0s 4ms/step - loss: 7.5714 - mae: 7.5714\n",
            "Epoch 186/500\n",
            "2/2 [==============================] - 0s 5ms/step - loss: 16.0002 - mae: 16.0002\n",
            "Epoch 187/500\n",
            "2/2 [==============================] - 0s 4ms/step - loss: 8.5732 - mae: 8.5732\n",
            "Epoch 188/500\n",
            "2/2 [==============================] - 0s 3ms/step - loss: 28.7091 - mae: 28.7091\n",
            "Epoch 189/500\n",
            "2/2 [==============================] - 0s 4ms/step - loss: 13.1805 - mae: 13.1805\n",
            "Epoch 190/500\n",
            "2/2 [==============================] - 0s 3ms/step - loss: 18.3237 - mae: 18.3237\n",
            "Epoch 191/500\n",
            "2/2 [==============================] - 0s 3ms/step - loss: 13.7539 - mae: 13.7539\n",
            "Epoch 192/500\n",
            "2/2 [==============================] - 0s 4ms/step - loss: 13.7230 - mae: 13.7230\n",
            "Epoch 193/500\n",
            "2/2 [==============================] - 0s 3ms/step - loss: 28.5966 - mae: 28.5966\n",
            "Epoch 194/500\n",
            "2/2 [==============================] - 0s 3ms/step - loss: 7.0713 - mae: 7.0713\n",
            "Epoch 195/500\n",
            "2/2 [==============================] - 0s 3ms/step - loss: 7.0699 - mae: 7.0699\n",
            "Epoch 196/500\n",
            "2/2 [==============================] - 0s 3ms/step - loss: 22.0338 - mae: 22.0338\n",
            "Epoch 197/500\n",
            "2/2 [==============================] - 0s 4ms/step - loss: 20.7913 - mae: 20.7913\n",
            "Epoch 198/500\n",
            "2/2 [==============================] - 0s 3ms/step - loss: 12.4453 - mae: 12.4453\n",
            "Epoch 199/500\n",
            "2/2 [==============================] - 0s 3ms/step - loss: 17.8630 - mae: 17.8630\n",
            "Epoch 200/500\n",
            "2/2 [==============================] - 0s 3ms/step - loss: 13.7067 - mae: 13.7067\n",
            "Epoch 201/500\n",
            "2/2 [==============================] - 0s 6ms/step - loss: 5.4883 - mae: 5.4883\n",
            "Epoch 202/500\n",
            "2/2 [==============================] - 0s 5ms/step - loss: 13.6583 - mae: 13.6583\n",
            "Epoch 203/500\n",
            "2/2 [==============================] - 0s 4ms/step - loss: 9.4133 - mae: 9.4133\n",
            "Epoch 204/500\n",
            "2/2 [==============================] - 0s 18ms/step - loss: 20.8961 - mae: 20.8961\n",
            "Epoch 205/500\n",
            "2/2 [==============================] - 0s 6ms/step - loss: 9.5333 - mae: 9.5333\n",
            "Epoch 206/500\n",
            "2/2 [==============================] - 0s 3ms/step - loss: 11.6954 - mae: 11.6954\n",
            "Epoch 207/500\n",
            "2/2 [==============================] - 0s 10ms/step - loss: 14.3130 - mae: 14.3130\n",
            "Epoch 208/500\n",
            "2/2 [==============================] - 0s 4ms/step - loss: 14.8061 - mae: 14.8061\n",
            "Epoch 209/500\n",
            "2/2 [==============================] - 0s 4ms/step - loss: 14.5959 - mae: 14.5959\n",
            "Epoch 210/500\n",
            "2/2 [==============================] - 0s 3ms/step - loss: 17.8310 - mae: 17.8310\n",
            "Epoch 211/500\n",
            "2/2 [==============================] - 0s 9ms/step - loss: 9.8222 - mae: 9.8222\n",
            "Epoch 212/500\n",
            "2/2 [==============================] - 0s 6ms/step - loss: 18.2444 - mae: 18.2444\n",
            "Epoch 213/500\n",
            "2/2 [==============================] - 0s 7ms/step - loss: 15.0710 - mae: 15.0710\n",
            "Epoch 214/500\n",
            "2/2 [==============================] - 0s 7ms/step - loss: 14.6102 - mae: 14.6102\n",
            "Epoch 215/500\n",
            "2/2 [==============================] - 0s 7ms/step - loss: 23.3422 - mae: 23.3422\n",
            "Epoch 216/500\n",
            "2/2 [==============================] - 0s 6ms/step - loss: 13.3007 - mae: 13.3007\n",
            "Epoch 217/500\n",
            "2/2 [==============================] - 0s 6ms/step - loss: 9.8125 - mae: 9.8125\n",
            "Epoch 218/500\n",
            "2/2 [==============================] - 0s 4ms/step - loss: 12.5949 - mae: 12.5949\n",
            "Epoch 219/500\n",
            "2/2 [==============================] - 0s 8ms/step - loss: 5.3381 - mae: 5.3381\n",
            "Epoch 220/500\n",
            "2/2 [==============================] - 0s 5ms/step - loss: 14.6967 - mae: 14.6967\n",
            "Epoch 221/500\n",
            "2/2 [==============================] - 0s 7ms/step - loss: 33.5421 - mae: 33.5421\n",
            "Epoch 222/500\n",
            "2/2 [==============================] - 0s 4ms/step - loss: 13.8882 - mae: 13.8882\n",
            "Epoch 223/500\n",
            "2/2 [==============================] - 0s 7ms/step - loss: 10.9915 - mae: 10.9915\n",
            "Epoch 224/500\n",
            "2/2 [==============================] - 0s 6ms/step - loss: 14.9440 - mae: 14.9440\n",
            "Epoch 225/500\n",
            "2/2 [==============================] - 0s 3ms/step - loss: 16.9904 - mae: 16.9904\n",
            "Epoch 226/500\n",
            "2/2 [==============================] - 0s 6ms/step - loss: 16.1796 - mae: 16.1796\n",
            "Epoch 227/500\n",
            "2/2 [==============================] - 0s 4ms/step - loss: 16.4963 - mae: 16.4963\n",
            "Epoch 228/500\n",
            "2/2 [==============================] - 0s 8ms/step - loss: 9.9385 - mae: 9.9385\n",
            "Epoch 229/500\n",
            "2/2 [==============================] - 0s 8ms/step - loss: 17.8344 - mae: 17.8344\n",
            "Epoch 230/500\n",
            "2/2 [==============================] - 0s 4ms/step - loss: 15.4551 - mae: 15.4551\n",
            "Epoch 231/500\n",
            "2/2 [==============================] - 0s 6ms/step - loss: 20.8800 - mae: 20.8800\n",
            "Epoch 232/500\n",
            "2/2 [==============================] - 0s 8ms/step - loss: 20.4230 - mae: 20.4230\n",
            "Epoch 233/500\n",
            "2/2 [==============================] - 0s 4ms/step - loss: 15.0821 - mae: 15.0821\n",
            "Epoch 234/500\n",
            "2/2 [==============================] - 0s 5ms/step - loss: 6.9638 - mae: 6.9638\n",
            "Epoch 235/500\n",
            "2/2 [==============================] - 0s 4ms/step - loss: 15.7335 - mae: 15.7335\n",
            "Epoch 236/500\n",
            "2/2 [==============================] - 0s 7ms/step - loss: 6.6860 - mae: 6.6860\n",
            "Epoch 237/500\n",
            "2/2 [==============================] - 0s 6ms/step - loss: 8.5997 - mae: 8.5997\n",
            "Epoch 238/500\n",
            "2/2 [==============================] - 0s 4ms/step - loss: 7.7627 - mae: 7.7627\n",
            "Epoch 239/500\n",
            "2/2 [==============================] - 0s 6ms/step - loss: 15.6569 - mae: 15.6569\n",
            "Epoch 240/500\n",
            "2/2 [==============================] - 0s 5ms/step - loss: 9.0050 - mae: 9.0050\n",
            "Epoch 241/500\n",
            "2/2 [==============================] - 0s 7ms/step - loss: 13.4260 - mae: 13.4260\n",
            "Epoch 242/500\n",
            "2/2 [==============================] - 0s 6ms/step - loss: 8.8946 - mae: 8.8946\n",
            "Epoch 243/500\n",
            "2/2 [==============================] - 0s 5ms/step - loss: 19.3153 - mae: 19.3153\n",
            "Epoch 244/500\n",
            "2/2 [==============================] - 0s 4ms/step - loss: 13.8818 - mae: 13.8818\n",
            "Epoch 245/500\n",
            "2/2 [==============================] - 0s 7ms/step - loss: 14.5321 - mae: 14.5321\n",
            "Epoch 246/500\n",
            "2/2 [==============================] - 0s 4ms/step - loss: 15.6703 - mae: 15.6703\n",
            "Epoch 247/500\n",
            "2/2 [==============================] - 0s 6ms/step - loss: 17.5037 - mae: 17.5037\n",
            "Epoch 248/500\n",
            "2/2 [==============================] - 0s 6ms/step - loss: 13.0712 - mae: 13.0712\n",
            "Epoch 249/500\n",
            "2/2 [==============================] - 0s 24ms/step - loss: 14.4181 - mae: 14.4181\n",
            "Epoch 250/500\n",
            "2/2 [==============================] - 0s 11ms/step - loss: 27.8125 - mae: 27.8125\n",
            "Epoch 251/500\n",
            "2/2 [==============================] - 0s 4ms/step - loss: 7.4997 - mae: 7.4997\n",
            "Epoch 252/500\n",
            "2/2 [==============================] - 0s 8ms/step - loss: 38.2311 - mae: 38.2311\n",
            "Epoch 253/500\n",
            "2/2 [==============================] - 0s 3ms/step - loss: 23.1250 - mae: 23.1250\n",
            "Epoch 254/500\n",
            "2/2 [==============================] - 0s 6ms/step - loss: 7.2885 - mae: 7.2885\n",
            "Epoch 255/500\n",
            "2/2 [==============================] - 0s 18ms/step - loss: 24.6329 - mae: 24.6329\n",
            "Epoch 256/500\n",
            "2/2 [==============================] - 0s 4ms/step - loss: 12.3926 - mae: 12.3926\n",
            "Epoch 257/500\n",
            "2/2 [==============================] - 0s 15ms/step - loss: 10.5619 - mae: 10.5619\n",
            "Epoch 258/500\n",
            "2/2 [==============================] - 0s 19ms/step - loss: 14.1874 - mae: 14.1874\n",
            "Epoch 259/500\n",
            "2/2 [==============================] - 0s 5ms/step - loss: 11.2483 - mae: 11.2483\n",
            "Epoch 260/500\n",
            "2/2 [==============================] - 0s 3ms/step - loss: 31.6073 - mae: 31.6073\n",
            "Epoch 261/500\n",
            "2/2 [==============================] - 0s 5ms/step - loss: 11.1647 - mae: 11.1647\n",
            "Epoch 262/500\n",
            "2/2 [==============================] - 0s 5ms/step - loss: 10.0211 - mae: 10.0211\n",
            "Epoch 263/500\n",
            "2/2 [==============================] - 0s 10ms/step - loss: 8.9364 - mae: 8.9364\n",
            "Epoch 264/500\n",
            "2/2 [==============================] - 0s 7ms/step - loss: 21.5051 - mae: 21.5051\n",
            "Epoch 265/500\n",
            "2/2 [==============================] - 0s 8ms/step - loss: 11.4388 - mae: 11.4388\n",
            "Epoch 266/500\n",
            "2/2 [==============================] - 0s 12ms/step - loss: 13.2732 - mae: 13.2732\n",
            "Epoch 267/500\n",
            "2/2 [==============================] - 0s 9ms/step - loss: 11.0679 - mae: 11.0679\n",
            "Epoch 268/500\n",
            "2/2 [==============================] - 0s 8ms/step - loss: 21.7243 - mae: 21.7243\n",
            "Epoch 269/500\n",
            "2/2 [==============================] - 0s 8ms/step - loss: 32.8943 - mae: 32.8943\n",
            "Epoch 270/500\n",
            "2/2 [==============================] - 0s 10ms/step - loss: 9.7244 - mae: 9.7244\n",
            "Epoch 271/500\n",
            "2/2 [==============================] - 0s 7ms/step - loss: 7.7083 - mae: 7.7083\n",
            "Epoch 272/500\n",
            "2/2 [==============================] - 0s 10ms/step - loss: 28.5122 - mae: 28.5122\n",
            "Epoch 273/500\n",
            "2/2 [==============================] - 0s 8ms/step - loss: 7.3716 - mae: 7.3716\n",
            "Epoch 274/500\n",
            "2/2 [==============================] - 0s 13ms/step - loss: 6.3251 - mae: 6.3251\n",
            "Epoch 275/500\n",
            "2/2 [==============================] - 0s 5ms/step - loss: 37.1297 - mae: 37.1297\n",
            "Epoch 276/500\n",
            "2/2 [==============================] - 0s 5ms/step - loss: 8.2789 - mae: 8.2789\n",
            "Epoch 277/500\n",
            "2/2 [==============================] - 0s 6ms/step - loss: 27.9193 - mae: 27.9193\n",
            "Epoch 278/500\n",
            "2/2 [==============================] - 0s 6ms/step - loss: 10.6191 - mae: 10.6191\n",
            "Epoch 279/500\n",
            "2/2 [==============================] - 0s 4ms/step - loss: 16.0634 - mae: 16.0634\n",
            "Epoch 280/500\n",
            "2/2 [==============================] - 0s 7ms/step - loss: 21.1471 - mae: 21.1471\n",
            "Epoch 281/500\n",
            "2/2 [==============================] - 0s 5ms/step - loss: 24.0138 - mae: 24.0138\n",
            "Epoch 282/500\n",
            "2/2 [==============================] - 0s 6ms/step - loss: 8.2965 - mae: 8.2965\n",
            "Epoch 283/500\n",
            "2/2 [==============================] - 0s 4ms/step - loss: 9.0396 - mae: 9.0396\n",
            "Epoch 284/500\n",
            "2/2 [==============================] - 0s 8ms/step - loss: 22.9563 - mae: 22.9563\n",
            "Epoch 285/500\n",
            "2/2 [==============================] - 0s 9ms/step - loss: 11.8074 - mae: 11.8074\n",
            "Epoch 286/500\n",
            "2/2 [==============================] - 0s 5ms/step - loss: 6.7302 - mae: 6.7302\n",
            "Epoch 287/500\n",
            "2/2 [==============================] - 0s 8ms/step - loss: 20.9250 - mae: 20.9250\n",
            "Epoch 288/500\n",
            "2/2 [==============================] - 0s 5ms/step - loss: 11.1831 - mae: 11.1831\n",
            "Epoch 289/500\n",
            "2/2 [==============================] - 0s 6ms/step - loss: 12.4231 - mae: 12.4231\n",
            "Epoch 290/500\n",
            "2/2 [==============================] - 0s 6ms/step - loss: 16.9585 - mae: 16.9585\n",
            "Epoch 291/500\n",
            "2/2 [==============================] - 0s 6ms/step - loss: 17.3575 - mae: 17.3575\n",
            "Epoch 292/500\n",
            "2/2 [==============================] - 0s 6ms/step - loss: 11.4583 - mae: 11.4583\n",
            "Epoch 293/500\n",
            "2/2 [==============================] - 0s 20ms/step - loss: 14.2736 - mae: 14.2736\n",
            "Epoch 294/500\n",
            "2/2 [==============================] - 0s 9ms/step - loss: 21.2014 - mae: 21.2014\n",
            "Epoch 295/500\n",
            "2/2 [==============================] - 0s 12ms/step - loss: 15.7388 - mae: 15.7388\n",
            "Epoch 296/500\n",
            "2/2 [==============================] - 0s 7ms/step - loss: 5.8778 - mae: 5.8778\n",
            "Epoch 297/500\n",
            "2/2 [==============================] - 0s 8ms/step - loss: 11.8173 - mae: 11.8173\n",
            "Epoch 298/500\n",
            "2/2 [==============================] - 0s 9ms/step - loss: 23.6543 - mae: 23.6543\n",
            "Epoch 299/500\n",
            "2/2 [==============================] - 0s 6ms/step - loss: 16.6268 - mae: 16.6268\n",
            "Epoch 300/500\n",
            "2/2 [==============================] - 0s 7ms/step - loss: 6.7597 - mae: 6.7597\n",
            "Epoch 301/500\n",
            "2/2 [==============================] - 0s 4ms/step - loss: 23.8665 - mae: 23.8665\n",
            "Epoch 302/500\n",
            "2/2 [==============================] - 0s 7ms/step - loss: 7.9939 - mae: 7.9939\n",
            "Epoch 303/500\n",
            "2/2 [==============================] - 0s 7ms/step - loss: 20.3932 - mae: 20.3932\n",
            "Epoch 304/500\n",
            "2/2 [==============================] - 0s 4ms/step - loss: 13.1547 - mae: 13.1547\n",
            "Epoch 305/500\n",
            "2/2 [==============================] - 0s 6ms/step - loss: 6.9164 - mae: 6.9164\n",
            "Epoch 306/500\n",
            "2/2 [==============================] - 0s 5ms/step - loss: 18.5246 - mae: 18.5246\n",
            "Epoch 307/500\n",
            "2/2 [==============================] - 0s 6ms/step - loss: 9.6488 - mae: 9.6488\n",
            "Epoch 308/500\n",
            "2/2 [==============================] - 0s 13ms/step - loss: 20.2437 - mae: 20.2437\n",
            "Epoch 309/500\n",
            "2/2 [==============================] - 0s 6ms/step - loss: 14.2436 - mae: 14.2436\n",
            "Epoch 310/500\n",
            "2/2 [==============================] - 0s 6ms/step - loss: 5.0939 - mae: 5.0939\n",
            "Epoch 311/500\n",
            "2/2 [==============================] - 0s 4ms/step - loss: 13.8236 - mae: 13.8236\n",
            "Epoch 312/500\n",
            "2/2 [==============================] - 0s 6ms/step - loss: 30.3968 - mae: 30.3968\n",
            "Epoch 313/500\n",
            "2/2 [==============================] - 0s 6ms/step - loss: 6.9062 - mae: 6.9062\n",
            "Epoch 314/500\n",
            "2/2 [==============================] - 0s 6ms/step - loss: 11.0953 - mae: 11.0953\n",
            "Epoch 315/500\n",
            "2/2 [==============================] - 0s 8ms/step - loss: 23.3515 - mae: 23.3515\n",
            "Epoch 316/500\n",
            "2/2 [==============================] - 0s 4ms/step - loss: 14.7972 - mae: 14.7972\n",
            "Epoch 317/500\n",
            "2/2 [==============================] - 0s 5ms/step - loss: 20.4823 - mae: 20.4823\n",
            "Epoch 318/500\n",
            "2/2 [==============================] - 0s 10ms/step - loss: 8.6400 - mae: 8.6400\n",
            "Epoch 319/500\n",
            "2/2 [==============================] - 0s 4ms/step - loss: 15.1289 - mae: 15.1289\n",
            "Epoch 320/500\n",
            "2/2 [==============================] - 0s 5ms/step - loss: 8.2760 - mae: 8.2760\n",
            "Epoch 321/500\n",
            "2/2 [==============================] - 0s 4ms/step - loss: 14.5342 - mae: 14.5342\n",
            "Epoch 322/500\n",
            "2/2 [==============================] - 0s 4ms/step - loss: 12.8454 - mae: 12.8454\n",
            "Epoch 323/500\n",
            "2/2 [==============================] - 0s 4ms/step - loss: 19.1457 - mae: 19.1457\n",
            "Epoch 324/500\n",
            "2/2 [==============================] - 0s 4ms/step - loss: 16.8996 - mae: 16.8996\n",
            "Epoch 325/500\n",
            "2/2 [==============================] - 0s 4ms/step - loss: 9.3144 - mae: 9.3144\n",
            "Epoch 326/500\n",
            "2/2 [==============================] - 0s 9ms/step - loss: 19.9843 - mae: 19.9843\n",
            "Epoch 327/500\n",
            "2/2 [==============================] - 0s 3ms/step - loss: 27.9431 - mae: 27.9431\n",
            "Epoch 328/500\n",
            "2/2 [==============================] - 0s 8ms/step - loss: 11.7415 - mae: 11.7415\n",
            "Epoch 329/500\n",
            "2/2 [==============================] - 0s 3ms/step - loss: 16.4271 - mae: 16.4271\n",
            "Epoch 330/500\n",
            "2/2 [==============================] - 0s 6ms/step - loss: 7.2799 - mae: 7.2799\n",
            "Epoch 331/500\n",
            "2/2 [==============================] - 0s 8ms/step - loss: 22.4571 - mae: 22.4571\n",
            "Epoch 332/500\n",
            "2/2 [==============================] - 0s 3ms/step - loss: 13.2636 - mae: 13.2636\n",
            "Epoch 333/500\n",
            "2/2 [==============================] - 0s 9ms/step - loss: 10.0916 - mae: 10.0916\n",
            "Epoch 334/500\n",
            "2/2 [==============================] - 0s 3ms/step - loss: 6.5669 - mae: 6.5669\n",
            "Epoch 335/500\n",
            "2/2 [==============================] - 0s 12ms/step - loss: 6.2470 - mae: 6.2470\n",
            "Epoch 336/500\n",
            "2/2 [==============================] - 0s 3ms/step - loss: 34.4212 - mae: 34.4212\n",
            "Epoch 337/500\n",
            "2/2 [==============================] - 0s 5ms/step - loss: 26.8587 - mae: 26.8587\n",
            "Epoch 338/500\n",
            "2/2 [==============================] - 0s 3ms/step - loss: 13.9373 - mae: 13.9373\n",
            "Epoch 339/500\n",
            "2/2 [==============================] - 0s 10ms/step - loss: 11.4885 - mae: 11.4885\n",
            "Epoch 340/500\n",
            "2/2 [==============================] - 0s 8ms/step - loss: 8.8255 - mae: 8.8255\n",
            "Epoch 341/500\n",
            "2/2 [==============================] - 0s 9ms/step - loss: 23.4821 - mae: 23.4821\n",
            "Epoch 342/500\n",
            "2/2 [==============================] - 0s 4ms/step - loss: 13.8435 - mae: 13.8435\n",
            "Epoch 343/500\n",
            "2/2 [==============================] - 0s 6ms/step - loss: 14.8451 - mae: 14.8451\n",
            "Epoch 344/500\n",
            "2/2 [==============================] - 0s 10ms/step - loss: 13.3831 - mae: 13.3831\n",
            "Epoch 345/500\n",
            "2/2 [==============================] - 0s 5ms/step - loss: 31.0341 - mae: 31.0341\n",
            "Epoch 346/500\n",
            "2/2 [==============================] - 0s 11ms/step - loss: 10.7022 - mae: 10.7022\n",
            "Epoch 347/500\n",
            "2/2 [==============================] - 0s 11ms/step - loss: 25.7375 - mae: 25.7375\n",
            "Epoch 348/500\n",
            "2/2 [==============================] - 0s 6ms/step - loss: 12.8577 - mae: 12.8577\n",
            "Epoch 349/500\n",
            "2/2 [==============================] - 0s 4ms/step - loss: 13.1612 - mae: 13.1612\n",
            "Epoch 350/500\n",
            "2/2 [==============================] - 0s 5ms/step - loss: 15.4345 - mae: 15.4345\n",
            "Epoch 351/500\n",
            "2/2 [==============================] - 0s 7ms/step - loss: 32.9639 - mae: 32.9639\n",
            "Epoch 352/500\n",
            "2/2 [==============================] - 0s 4ms/step - loss: 14.2023 - mae: 14.2023\n",
            "Epoch 353/500\n",
            "2/2 [==============================] - 0s 7ms/step - loss: 15.9187 - mae: 15.9187\n",
            "Epoch 354/500\n",
            "2/2 [==============================] - 0s 5ms/step - loss: 19.0860 - mae: 19.0860\n",
            "Epoch 355/500\n",
            "2/2 [==============================] - 0s 11ms/step - loss: 34.1239 - mae: 34.1239\n",
            "Epoch 356/500\n",
            "2/2 [==============================] - 0s 14ms/step - loss: 7.6803 - mae: 7.6803\n",
            "Epoch 357/500\n",
            "2/2 [==============================] - 0s 11ms/step - loss: 25.2319 - mae: 25.2319\n",
            "Epoch 358/500\n",
            "2/2 [==============================] - 0s 8ms/step - loss: 22.6795 - mae: 22.6795\n",
            "Epoch 359/500\n",
            "2/2 [==============================] - 0s 10ms/step - loss: 8.8755 - mae: 8.8755\n",
            "Epoch 360/500\n",
            "2/2 [==============================] - 0s 8ms/step - loss: 21.4713 - mae: 21.4713\n",
            "Epoch 361/500\n",
            "2/2 [==============================] - 0s 11ms/step - loss: 20.6071 - mae: 20.6071\n",
            "Epoch 362/500\n",
            "2/2 [==============================] - 0s 5ms/step - loss: 7.0605 - mae: 7.0605\n",
            "Epoch 363/500\n",
            "2/2 [==============================] - 0s 5ms/step - loss: 25.8099 - mae: 25.8099\n",
            "Epoch 364/500\n",
            "2/2 [==============================] - 0s 6ms/step - loss: 32.2220 - mae: 32.2220\n",
            "Epoch 365/500\n",
            "2/2 [==============================] - 0s 7ms/step - loss: 10.0181 - mae: 10.0181\n",
            "Epoch 366/500\n",
            "2/2 [==============================] - 0s 8ms/step - loss: 9.6717 - mae: 9.6717\n",
            "Epoch 367/500\n",
            "2/2 [==============================] - 0s 4ms/step - loss: 30.4192 - mae: 30.4192\n",
            "Epoch 368/500\n",
            "2/2 [==============================] - 0s 9ms/step - loss: 10.5041 - mae: 10.5041\n",
            "Epoch 369/500\n",
            "2/2 [==============================] - 0s 4ms/step - loss: 14.9930 - mae: 14.9930\n",
            "Epoch 370/500\n",
            "2/2 [==============================] - 0s 3ms/step - loss: 14.6598 - mae: 14.6598\n",
            "Epoch 371/500\n",
            "2/2 [==============================] - 0s 9ms/step - loss: 23.3710 - mae: 23.3710\n",
            "Epoch 372/500\n",
            "2/2 [==============================] - 0s 4ms/step - loss: 13.0958 - mae: 13.0958\n",
            "Epoch 373/500\n",
            "2/2 [==============================] - 0s 5ms/step - loss: 9.2519 - mae: 9.2519\n",
            "Epoch 374/500\n",
            "2/2 [==============================] - 0s 14ms/step - loss: 9.6687 - mae: 9.6687\n",
            "Epoch 375/500\n",
            "2/2 [==============================] - 0s 7ms/step - loss: 13.0080 - mae: 13.0080\n",
            "Epoch 376/500\n",
            "2/2 [==============================] - 0s 9ms/step - loss: 14.8908 - mae: 14.8908\n",
            "Epoch 377/500\n",
            "2/2 [==============================] - 0s 12ms/step - loss: 14.7964 - mae: 14.7964\n",
            "Epoch 378/500\n",
            "2/2 [==============================] - 0s 8ms/step - loss: 16.2778 - mae: 16.2778\n",
            "Epoch 379/500\n",
            "2/2 [==============================] - 0s 6ms/step - loss: 20.8384 - mae: 20.8384\n",
            "Epoch 380/500\n",
            "2/2 [==============================] - 0s 4ms/step - loss: 33.5105 - mae: 33.5105\n",
            "Epoch 381/500\n",
            "2/2 [==============================] - 0s 15ms/step - loss: 8.2104 - mae: 8.2104\n",
            "Epoch 382/500\n",
            "2/2 [==============================] - 0s 8ms/step - loss: 13.0813 - mae: 13.0813\n",
            "Epoch 383/500\n",
            "2/2 [==============================] - 0s 6ms/step - loss: 8.4085 - mae: 8.4085\n",
            "Epoch 384/500\n",
            "2/2 [==============================] - 0s 15ms/step - loss: 7.1192 - mae: 7.1192\n",
            "Epoch 385/500\n",
            "2/2 [==============================] - 0s 9ms/step - loss: 10.9433 - mae: 10.9433\n",
            "Epoch 386/500\n",
            "2/2 [==============================] - 0s 3ms/step - loss: 19.7756 - mae: 19.7756\n",
            "Epoch 387/500\n",
            "2/2 [==============================] - 0s 15ms/step - loss: 24.8391 - mae: 24.8391\n",
            "Epoch 388/500\n",
            "2/2 [==============================] - 0s 7ms/step - loss: 8.7316 - mae: 8.7316\n",
            "Epoch 389/500\n",
            "2/2 [==============================] - 0s 3ms/step - loss: 5.9451 - mae: 5.9451\n",
            "Epoch 390/500\n",
            "2/2 [==============================] - 0s 8ms/step - loss: 24.4137 - mae: 24.4137\n",
            "Epoch 391/500\n",
            "2/2 [==============================] - 0s 5ms/step - loss: 5.9717 - mae: 5.9717\n",
            "Epoch 392/500\n",
            "2/2 [==============================] - 0s 5ms/step - loss: 16.1532 - mae: 16.1532\n",
            "Epoch 393/500\n",
            "2/2 [==============================] - 0s 4ms/step - loss: 6.4943 - mae: 6.4943\n",
            "Epoch 394/500\n",
            "2/2 [==============================] - 0s 6ms/step - loss: 12.5799 - mae: 12.5799\n",
            "Epoch 395/500\n",
            "2/2 [==============================] - 0s 4ms/step - loss: 12.4555 - mae: 12.4555\n",
            "Epoch 396/500\n",
            "2/2 [==============================] - 0s 8ms/step - loss: 7.3613 - mae: 7.3613\n",
            "Epoch 397/500\n",
            "2/2 [==============================] - 0s 22ms/step - loss: 7.6134 - mae: 7.6134\n",
            "Epoch 398/500\n",
            "2/2 [==============================] - 0s 6ms/step - loss: 20.4174 - mae: 20.4174\n",
            "Epoch 399/500\n",
            "2/2 [==============================] - 0s 12ms/step - loss: 5.8943 - mae: 5.8943\n",
            "Epoch 400/500\n",
            "2/2 [==============================] - 0s 8ms/step - loss: 24.5848 - mae: 24.5848\n",
            "Epoch 401/500\n",
            "2/2 [==============================] - 0s 9ms/step - loss: 13.2414 - mae: 13.2414\n",
            "Epoch 402/500\n",
            "2/2 [==============================] - 0s 9ms/step - loss: 8.3801 - mae: 8.3801\n",
            "Epoch 403/500\n",
            "2/2 [==============================] - 0s 9ms/step - loss: 10.2381 - mae: 10.2381\n",
            "Epoch 404/500\n",
            "2/2 [==============================] - 0s 9ms/step - loss: 9.7887 - mae: 9.7887\n",
            "Epoch 405/500\n",
            "2/2 [==============================] - 0s 13ms/step - loss: 6.8975 - mae: 6.8975\n",
            "Epoch 406/500\n",
            "2/2 [==============================] - 0s 7ms/step - loss: 20.2720 - mae: 20.2720\n",
            "Epoch 407/500\n",
            "2/2 [==============================] - 0s 11ms/step - loss: 9.6436 - mae: 9.6436\n",
            "Epoch 408/500\n",
            "2/2 [==============================] - 0s 6ms/step - loss: 21.1894 - mae: 21.1894\n",
            "Epoch 409/500\n",
            "2/2 [==============================] - 0s 10ms/step - loss: 29.9940 - mae: 29.9940\n",
            "Epoch 410/500\n",
            "2/2 [==============================] - 0s 6ms/step - loss: 9.9040 - mae: 9.9040\n",
            "Epoch 411/500\n",
            "2/2 [==============================] - 0s 9ms/step - loss: 14.7625 - mae: 14.7625\n",
            "Epoch 412/500\n",
            "2/2 [==============================] - 0s 8ms/step - loss: 21.5493 - mae: 21.5493\n",
            "Epoch 413/500\n",
            "2/2 [==============================] - 0s 10ms/step - loss: 13.1419 - mae: 13.1419\n",
            "Epoch 414/500\n",
            "2/2 [==============================] - 0s 6ms/step - loss: 8.2780 - mae: 8.2780\n",
            "Epoch 415/500\n",
            "2/2 [==============================] - 0s 7ms/step - loss: 11.6947 - mae: 11.6947\n",
            "Epoch 416/500\n",
            "2/2 [==============================] - 0s 12ms/step - loss: 25.6144 - mae: 25.6144\n",
            "Epoch 417/500\n",
            "2/2 [==============================] - 0s 11ms/step - loss: 15.7584 - mae: 15.7584\n",
            "Epoch 418/500\n",
            "2/2 [==============================] - 0s 11ms/step - loss: 12.5770 - mae: 12.5770\n",
            "Epoch 419/500\n",
            "2/2 [==============================] - 0s 10ms/step - loss: 15.7276 - mae: 15.7276\n",
            "Epoch 420/500\n",
            "2/2 [==============================] - 0s 10ms/step - loss: 24.4270 - mae: 24.4270\n",
            "Epoch 421/500\n",
            "2/2 [==============================] - 0s 10ms/step - loss: 18.2784 - mae: 18.2784\n",
            "Epoch 422/500\n",
            "2/2 [==============================] - 0s 4ms/step - loss: 8.6571 - mae: 8.6571\n",
            "Epoch 423/500\n",
            "2/2 [==============================] - 0s 4ms/step - loss: 24.6381 - mae: 24.6381\n",
            "Epoch 424/500\n",
            "2/2 [==============================] - 0s 4ms/step - loss: 16.8746 - mae: 16.8746\n",
            "Epoch 425/500\n",
            "2/2 [==============================] - 0s 8ms/step - loss: 7.3507 - mae: 7.3507\n",
            "Epoch 426/500\n",
            "2/2 [==============================] - 0s 3ms/step - loss: 21.0621 - mae: 21.0621\n",
            "Epoch 427/500\n",
            "2/2 [==============================] - 0s 6ms/step - loss: 6.5274 - mae: 6.5274\n",
            "Epoch 428/500\n",
            "2/2 [==============================] - 0s 5ms/step - loss: 13.4887 - mae: 13.4887\n",
            "Epoch 429/500\n",
            "2/2 [==============================] - 0s 7ms/step - loss: 11.2121 - mae: 11.2121\n",
            "Epoch 430/500\n",
            "2/2 [==============================] - 0s 4ms/step - loss: 12.1138 - mae: 12.1138\n",
            "Epoch 431/500\n",
            "2/2 [==============================] - 0s 3ms/step - loss: 9.1176 - mae: 9.1176\n",
            "Epoch 432/500\n",
            "2/2 [==============================] - 0s 4ms/step - loss: 15.6471 - mae: 15.6471\n",
            "Epoch 433/500\n",
            "2/2 [==============================] - 0s 3ms/step - loss: 11.9610 - mae: 11.9610\n",
            "Epoch 434/500\n",
            "2/2 [==============================] - 0s 7ms/step - loss: 30.4708 - mae: 30.4708\n",
            "Epoch 435/500\n",
            "2/2 [==============================] - 0s 11ms/step - loss: 10.5323 - mae: 10.5323\n",
            "Epoch 436/500\n",
            "2/2 [==============================] - 0s 16ms/step - loss: 28.9655 - mae: 28.9655\n",
            "Epoch 437/500\n",
            "2/2 [==============================] - 0s 6ms/step - loss: 8.6946 - mae: 8.6946\n",
            "Epoch 438/500\n",
            "2/2 [==============================] - 0s 5ms/step - loss: 12.7553 - mae: 12.7553\n",
            "Epoch 439/500\n",
            "2/2 [==============================] - 0s 3ms/step - loss: 33.7270 - mae: 33.7270\n",
            "Epoch 440/500\n",
            "2/2 [==============================] - 0s 12ms/step - loss: 15.1735 - mae: 15.1735\n",
            "Epoch 441/500\n",
            "2/2 [==============================] - 0s 9ms/step - loss: 17.5385 - mae: 17.5385\n",
            "Epoch 442/500\n",
            "2/2 [==============================] - 0s 4ms/step - loss: 22.4291 - mae: 22.4291\n",
            "Epoch 443/500\n",
            "2/2 [==============================] - 0s 8ms/step - loss: 23.2869 - mae: 23.2869\n",
            "Epoch 444/500\n",
            "2/2 [==============================] - 0s 4ms/step - loss: 10.7593 - mae: 10.7593\n",
            "Epoch 445/500\n",
            "2/2 [==============================] - 0s 9ms/step - loss: 14.9876 - mae: 14.9876\n",
            "Epoch 446/500\n",
            "2/2 [==============================] - 0s 6ms/step - loss: 18.1002 - mae: 18.1002\n",
            "Epoch 447/500\n",
            "2/2 [==============================] - 0s 10ms/step - loss: 5.3366 - mae: 5.3366\n",
            "Epoch 448/500\n",
            "2/2 [==============================] - 0s 4ms/step - loss: 10.1456 - mae: 10.1456\n",
            "Epoch 449/500\n",
            "2/2 [==============================] - 0s 14ms/step - loss: 14.0793 - mae: 14.0793\n",
            "Epoch 450/500\n",
            "2/2 [==============================] - 0s 5ms/step - loss: 16.8498 - mae: 16.8498\n",
            "Epoch 451/500\n",
            "2/2 [==============================] - 0s 7ms/step - loss: 14.3229 - mae: 14.3229\n",
            "Epoch 452/500\n",
            "2/2 [==============================] - 0s 6ms/step - loss: 30.6834 - mae: 30.6834\n",
            "Epoch 453/500\n",
            "2/2 [==============================] - 0s 3ms/step - loss: 8.4009 - mae: 8.4009\n",
            "Epoch 454/500\n",
            "2/2 [==============================] - 0s 6ms/step - loss: 27.5900 - mae: 27.5900\n",
            "Epoch 455/500\n",
            "2/2 [==============================] - 0s 4ms/step - loss: 10.0908 - mae: 10.0908\n",
            "Epoch 456/500\n",
            "2/2 [==============================] - 0s 6ms/step - loss: 14.5462 - mae: 14.5462\n",
            "Epoch 457/500\n",
            "2/2 [==============================] - 0s 5ms/step - loss: 17.6970 - mae: 17.6970\n",
            "Epoch 458/500\n",
            "2/2 [==============================] - 0s 4ms/step - loss: 14.0113 - mae: 14.0113\n",
            "Epoch 459/500\n",
            "2/2 [==============================] - 0s 5ms/step - loss: 25.8950 - mae: 25.8950\n",
            "Epoch 460/500\n",
            "2/2 [==============================] - 0s 4ms/step - loss: 15.0603 - mae: 15.0603\n",
            "Epoch 461/500\n",
            "2/2 [==============================] - 0s 6ms/step - loss: 11.9197 - mae: 11.9197\n",
            "Epoch 462/500\n",
            "2/2 [==============================] - 0s 6ms/step - loss: 13.2685 - mae: 13.2685\n",
            "Epoch 463/500\n",
            "2/2 [==============================] - 0s 5ms/step - loss: 29.4505 - mae: 29.4505\n",
            "Epoch 464/500\n",
            "2/2 [==============================] - 0s 4ms/step - loss: 3.2600 - mae: 3.2600\n",
            "Epoch 465/500\n",
            "2/2 [==============================] - 0s 5ms/step - loss: 40.3677 - mae: 40.3677\n",
            "Epoch 466/500\n",
            "2/2 [==============================] - 0s 7ms/step - loss: 18.4317 - mae: 18.4317\n",
            "Epoch 467/500\n",
            "2/2 [==============================] - 0s 4ms/step - loss: 8.5989 - mae: 8.5989\n",
            "Epoch 468/500\n",
            "2/2 [==============================] - 0s 7ms/step - loss: 6.6506 - mae: 6.6506\n",
            "Epoch 469/500\n",
            "2/2 [==============================] - 0s 3ms/step - loss: 29.5240 - mae: 29.5240\n",
            "Epoch 470/500\n",
            "2/2 [==============================] - 0s 7ms/step - loss: 15.3652 - mae: 15.3652\n",
            "Epoch 471/500\n",
            "2/2 [==============================] - 0s 7ms/step - loss: 12.2781 - mae: 12.2781\n",
            "Epoch 472/500\n",
            "2/2 [==============================] - 0s 5ms/step - loss: 15.4595 - mae: 15.4595\n",
            "Epoch 473/500\n",
            "2/2 [==============================] - 0s 8ms/step - loss: 19.4331 - mae: 19.4331\n",
            "Epoch 474/500\n",
            "2/2 [==============================] - 0s 4ms/step - loss: 38.6142 - mae: 38.6142\n",
            "Epoch 475/500\n",
            "2/2 [==============================] - 0s 6ms/step - loss: 15.5885 - mae: 15.5885\n",
            "Epoch 476/500\n",
            "2/2 [==============================] - 0s 4ms/step - loss: 13.5059 - mae: 13.5059\n",
            "Epoch 477/500\n",
            "2/2 [==============================] - 0s 8ms/step - loss: 29.8805 - mae: 29.8805\n",
            "Epoch 478/500\n",
            "2/2 [==============================] - 0s 6ms/step - loss: 4.8553 - mae: 4.8553\n",
            "Epoch 479/500\n",
            "2/2 [==============================] - 0s 6ms/step - loss: 13.0409 - mae: 13.0409\n",
            "Epoch 480/500\n",
            "2/2 [==============================] - 0s 7ms/step - loss: 19.2275 - mae: 19.2275\n",
            "Epoch 481/500\n",
            "2/2 [==============================] - 0s 6ms/step - loss: 13.0147 - mae: 13.0147\n",
            "Epoch 482/500\n",
            "2/2 [==============================] - 0s 7ms/step - loss: 6.8125 - mae: 6.8125\n",
            "Epoch 483/500\n",
            "2/2 [==============================] - 0s 21ms/step - loss: 13.1679 - mae: 13.1679\n",
            "Epoch 484/500\n",
            "2/2 [==============================] - 0s 4ms/step - loss: 14.0387 - mae: 14.0387\n",
            "Epoch 485/500\n",
            "2/2 [==============================] - 0s 5ms/step - loss: 9.3098 - mae: 9.3098\n",
            "Epoch 486/500\n",
            "2/2 [==============================] - 0s 4ms/step - loss: 18.4934 - mae: 18.4934\n",
            "Epoch 487/500\n",
            "2/2 [==============================] - 0s 5ms/step - loss: 6.2320 - mae: 6.2320\n",
            "Epoch 488/500\n",
            "2/2 [==============================] - 0s 15ms/step - loss: 29.5233 - mae: 29.5233\n",
            "Epoch 489/500\n",
            "2/2 [==============================] - 0s 6ms/step - loss: 12.7531 - mae: 12.7531\n",
            "Epoch 490/500\n",
            "2/2 [==============================] - 0s 11ms/step - loss: 13.1513 - mae: 13.1513\n",
            "Epoch 491/500\n",
            "2/2 [==============================] - 0s 4ms/step - loss: 24.4569 - mae: 24.4569\n",
            "Epoch 492/500\n",
            "2/2 [==============================] - 0s 7ms/step - loss: 18.4078 - mae: 18.4078\n",
            "Epoch 493/500\n",
            "2/2 [==============================] - 0s 7ms/step - loss: 4.7297 - mae: 4.7297\n",
            "Epoch 494/500\n",
            "2/2 [==============================] - 0s 3ms/step - loss: 11.7971 - mae: 11.7971\n",
            "Epoch 495/500\n",
            "2/2 [==============================] - 0s 4ms/step - loss: 13.7933 - mae: 13.7933\n",
            "Epoch 496/500\n",
            "2/2 [==============================] - 0s 4ms/step - loss: 12.9635 - mae: 12.9635\n",
            "Epoch 497/500\n",
            "2/2 [==============================] - 0s 4ms/step - loss: 18.1394 - mae: 18.1394\n",
            "Epoch 498/500\n",
            "2/2 [==============================] - 0s 11ms/step - loss: 22.3911 - mae: 22.3911\n",
            "Epoch 499/500\n",
            "2/2 [==============================] - 0s 7ms/step - loss: 8.2324 - mae: 8.2324\n",
            "Epoch 500/500\n",
            "2/2 [==============================] - 0s 9ms/step - loss: 14.1702 - mae: 14.1702\n"
          ],
          "name": "stdout"
        },
        {
          "output_type": "execute_result",
          "data": {
            "text/plain": [
              "<tensorflow.python.keras.callbacks.History at 0x7f0b3685fd50>"
            ]
          },
          "metadata": {
            "tags": []
          },
          "execution_count": 43
        }
      ]
    },
    {
      "cell_type": "code",
      "metadata": {
        "colab": {
          "base_uri": "https://localhost:8080/"
        },
        "id": "_vuryVk9J0RQ",
        "outputId": "a56ef543-ab64-46fb-e2a1-d65cee261b60"
      },
      "source": [
        "mae_1=tf.keras.losses.mean_absolute_error(l_test,tf.squeeze(predicts_1))\n",
        "mse_1=tf.keras.losses.mean_squared_error(l_test,tf.squeeze(predicts_1))\n",
        "mae_1,mse_1"
      ],
      "execution_count": null,
      "outputs": [
        {
          "output_type": "execute_result",
          "data": {
            "text/plain": [
              "(<tf.Tensor: shape=(), dtype=float32, numpy=13.110995>,\n",
              " <tf.Tensor: shape=(), dtype=float32, numpy=174.71695>)"
            ]
          },
          "metadata": {
            "tags": []
          },
          "execution_count": 44
        }
      ]
    },
    {
      "cell_type": "code",
      "metadata": {
        "id": "X93gpu5CKTcH",
        "colab": {
          "base_uri": "https://localhost:8080/"
        },
        "outputId": "5a889985-be03-45f1-f97f-49d196738a5a"
      },
      "source": [
        "predicts_2=model_22.predict(l_test)"
      ],
      "execution_count": null,
      "outputs": [
        {
          "output_type": "stream",
          "text": [
            "WARNING:tensorflow:6 out of the last 7 calls to <function Model.make_predict_function.<locals>.predict_function at 0x7f0b3687f680> triggered tf.function retracing. Tracing is expensive and the excessive number of tracings could be due to (1) creating @tf.function repeatedly in a loop, (2) passing tensors with different shapes, (3) passing Python objects instead of tensors. For (1), please define your @tf.function outside of the loop. For (2), @tf.function has experimental_relax_shapes=True option that relaxes argument shapes that can avoid unnecessary retracing. For (3), please refer to https://www.tensorflow.org/guide/function#controlling_retracing and https://www.tensorflow.org/api_docs/python/tf/function for  more details.\n"
          ],
          "name": "stdout"
        }
      ]
    },
    {
      "cell_type": "code",
      "metadata": {
        "colab": {
          "base_uri": "https://localhost:8080/"
        },
        "id": "4GtJNQk4Kk_6",
        "outputId": "b21f2277-2c89-436c-f40e-43c2705e9dbd"
      },
      "source": [
        "mae_1=tf.keras.losses.mean_absolute_error(l_test,tf.squeeze(predicts_2))\n",
        "mse_1=tf.keras.losses.mean_squared_error(l_test,tf.squeeze(predicts_2))\n",
        "mae_1,mse_1"
      ],
      "execution_count": null,
      "outputs": [
        {
          "output_type": "execute_result",
          "data": {
            "text/plain": [
              "(<tf.Tensor: shape=(), dtype=float32, numpy=57.219166>,\n",
              " <tf.Tensor: shape=(), dtype=float32, numpy=3356.6719>)"
            ]
          },
          "metadata": {
            "tags": []
          },
          "execution_count": 46
        }
      ]
    },
    {
      "cell_type": "code",
      "metadata": {
        "colab": {
          "base_uri": "https://localhost:8080/"
        },
        "id": "PBQU_RN0KwCp",
        "outputId": "4ad25b5f-b999-4075-b753-af8f3ec6ffe0"
      },
      "source": [
        "i_test,tf.squeeze(predicts_2)"
      ],
      "execution_count": null,
      "outputs": [
        {
          "output_type": "execute_result",
          "data": {
            "text/plain": [
              "(<tf.Tensor: shape=(10,), dtype=int32, numpy=array([ 70,  74,  78,  82,  86,  90,  94,  98, 102, 106], dtype=int32)>,\n",
              " <tf.Tensor: shape=(10,), dtype=float32, numpy=\n",
              " array([17.023079, 17.858135, 18.693192, 19.52825 , 20.363306, 21.198362,\n",
              "        22.033419, 22.868475, 23.703531, 24.53859 ], dtype=float32)>)"
            ]
          },
          "metadata": {
            "tags": []
          },
          "execution_count": 47
        }
      ]
    },
    {
      "cell_type": "code",
      "metadata": {
        "colab": {
          "base_uri": "https://localhost:8080/",
          "height": 312
        },
        "id": "BFij1RVfK9tx",
        "outputId": "fb88bf53-7ad5-4ab4-f972-09d4221df040"
      },
      "source": [
        "plot_model(model_22,show_shapes=True)"
      ],
      "execution_count": null,
      "outputs": [
        {
          "output_type": "execute_result",
          "data": {
            "image/png": "[encoded data removed]",
            "text/plain": [
              "<IPython.core.display.Image object>"
            ]
          },
          "metadata": {
            "tags": []
          },
          "execution_count": 48
        }
      ]
    },
    {
      "cell_type": "code",
      "metadata": {
        "id": "65okHz9GqAiv",
        "colab": {
          "base_uri": "https://localhost:8080/"
        },
        "outputId": "3817733a-bdac-4a7d-eb86-2fa19209500f"
      },
      "source": [
        "fashion=tf.keras.datasets.fashion_mnist\n",
        "(x_train,y_train),(x_test,y_test)=fashion.load_data()"
      ],
      "execution_count": null,
      "outputs": [
        {
          "output_type": "stream",
          "text": [
            "Downloading data from https://storage.googleapis.com/tensorflow/tf-keras-datasets/train-labels-idx1-ubyte.gz\n",
            "32768/29515 [=================================] - 0s 0us/step\n",
            "Downloading data from https://storage.googleapis.com/tensorflow/tf-keras-datasets/train-images-idx3-ubyte.gz\n",
            "26427392/26421880 [==============================] - 0s 0us/step\n",
            "Downloading data from https://storage.googleapis.com/tensorflow/tf-keras-datasets/t10k-labels-idx1-ubyte.gz\n",
            "8192/5148 [===============================================] - 0s 0us/step\n",
            "Downloading data from https://storage.googleapis.com/tensorflow/tf-keras-datasets/t10k-images-idx3-ubyte.gz\n",
            "4423680/4422102 [==============================] - 0s 0us/step\n"
          ],
          "name": "stdout"
        }
      ]
    },
    {
      "cell_type": "code",
      "metadata": {
        "colab": {
          "base_uri": "https://localhost:8080/"
        },
        "id": "-um0pzU025v4",
        "outputId": "df2acade-61c8-4903-e197-3419bddaa3b6"
      },
      "source": [
        "len(x_train),len(y_train),len(x_test),len(y_test)"
      ],
      "execution_count": null,
      "outputs": [
        {
          "output_type": "execute_result",
          "data": {
            "text/plain": [
              "(60000, 60000, 10000, 10000)"
            ]
          },
          "metadata": {
            "tags": []
          },
          "execution_count": 50
        }
      ]
    },
    {
      "cell_type": "code",
      "metadata": {
        "id": "4lG0swRr3E1j"
      },
      "source": [
        "nat=np.array([5.1398012e-03, 2.0479257e-03, 7.8818065e-01, 1.6590048e-03,\n",
        "       1.0443723e-01, 1.9315933e-16, 9.8535217e-02, 0.0000000e+00,\n",
        "       2.8833401e-07, 3.9852847e-21])"
      ],
      "execution_count": null,
      "outputs": []
    },
    {
      "cell_type": "code",
      "metadata": {
        "colab": {
          "base_uri": "https://localhost:8080/",
          "height": 460
        },
        "id": "Bk2sYQdaV1Dp",
        "outputId": "78730e52-2bb1-4f6a-af13-b89ba7301f95"
      },
      "source": [
        "plt.bar(range(10),nat)\n",
        "plt.xticks(range(10))"
      ],
      "execution_count": null,
      "outputs": [
        {
          "output_type": "execute_result",
          "data": {
            "text/plain": [
              "([<matplotlib.axis.XTick at 0x7f0b3839c290>,\n",
              "  <matplotlib.axis.XTick at 0x7f0b3839cad0>,\n",
              "  <matplotlib.axis.XTick at 0x7f0b3839cd90>,\n",
              "  <matplotlib.axis.XTick at 0x7f0b343c3bd0>,\n",
              "  <matplotlib.axis.XTick at 0x7f0b3685f650>,\n",
              "  <matplotlib.axis.XTick at 0x7f0b3844dc90>,\n",
              "  <matplotlib.axis.XTick at 0x7f0b3685fc10>,\n",
              "  <matplotlib.axis.XTick at 0x7f0b38441590>,\n",
              "  <matplotlib.axis.XTick at 0x7f0b362c2b50>,\n",
              "  <matplotlib.axis.XTick at 0x7f0b3848dc10>],\n",
              " <a list of 10 Text major ticklabel objects>)"
            ]
          },
          "metadata": {
            "tags": []
          },
          "execution_count": 52
        },
        {
          "output_type": "display_data",
          "data": {
            "image/png": "[encoded data removed]",
            "text/plain": [
              "<Figure size 432x288 with 1 Axes>"
            ]
          },
          "metadata": {
            "tags": [],
            "needs_background": "light"
          }
        }
      ]
    },
    {
      "cell_type": "code",
      "metadata": {
        "id": "n3nv-InFV6E9",
        "colab": {
          "base_uri": "https://localhost:8080/"
        },
        "outputId": "82c7f54d-9712-4114-a5cc-82b0e96fb895"
      },
      "source": [
        "l_train,i_train"
      ],
      "execution_count": null,
      "outputs": [
        {
          "output_type": "execute_result",
          "data": {
            "text/plain": [
              "(<tf.Tensor: shape=(40,), dtype=int32, numpy=\n",
              " array([-100,  -96,  -92,  -88,  -84,  -80,  -76,  -72,  -68,  -64,  -60,\n",
              "         -56,  -52,  -48,  -44,  -40,  -36,  -32,  -28,  -24,  -20,  -16,\n",
              "         -12,   -8,   -4,    0,    4,    8,   12,   16,   20,   24,   28,\n",
              "          32,   36,   40,   44,   48,   52,   56], dtype=int32)>,\n",
              " <tf.Tensor: shape=(40,), dtype=int32, numpy=\n",
              " array([-90, -86, -82, -78, -74, -70, -66, -62, -58, -54, -50, -46, -42,\n",
              "        -38, -34, -30, -26, -22, -18, -14, -10,  -6,  -2,   2,   6,  10,\n",
              "         14,  18,  22,  26,  30,  34,  38,  42,  46,  50,  54,  58,  62,\n",
              "         66], dtype=int32)>)"
            ]
          },
          "metadata": {
            "tags": []
          },
          "execution_count": 53
        }
      ]
    },
    {
      "cell_type": "code",
      "metadata": {
        "id": "q374Q3KTQbVm"
      },
      "source": [
        "medical_cost=pd.read_csv(\"https://raw.githubusercontent.com/stedy/Machine-Learning-with-R-datasets/master/insurance.csv\")"
      ],
      "execution_count": null,
      "outputs": []
    },
    {
      "cell_type": "code",
      "metadata": {
        "colab": {
          "base_uri": "https://localhost:8080/",
          "height": 414
        },
        "id": "VKRcrGqNUcM-",
        "outputId": "4a3af518-b67c-410a-c68f-9721a45633ee"
      },
      "source": [
        "medical_cost"
      ],
      "execution_count": null,
      "outputs": [
        {
          "output_type": "execute_result",
          "data": {
            "text/html": [
              "<div>\n",
              "<style scoped>\n",
              "    .dataframe tbody tr th:only-of-type {\n",
              "        vertical-align: middle;\n",
              "    }\n",
              "\n",
              "    .dataframe tbody tr th {\n",
              "        vertical-align: top;\n",
              "    }\n",
              "\n",
              "    .dataframe thead th {\n",
              "        text-align: right;\n",
              "    }\n",
              "</style>\n",
              "<table border=\"1\" class=\"dataframe\">\n",
              "  <thead>\n",
              "    <tr style=\"text-align: right;\">\n",
              "      <th></th>\n",
              "      <th>age</th>\n",
              "      <th>sex</th>\n",
              "      <th>bmi</th>\n",
              "      <th>children</th>\n",
              "      <th>smoker</th>\n",
              "      <th>region</th>\n",
              "      <th>charges</th>\n",
              "    </tr>\n",
              "  </thead>\n",
              "  <tbody>\n",
              "    <tr>\n",
              "      <th>0</th>\n",
              "      <td>19</td>\n",
              "      <td>female</td>\n",
              "      <td>27.900</td>\n",
              "      <td>0</td>\n",
              "      <td>yes</td>\n",
              "      <td>southwest</td>\n",
              "      <td>16884.92400</td>\n",
              "    </tr>\n",
              "    <tr>\n",
              "      <th>1</th>\n",
              "      <td>18</td>\n",
              "      <td>male</td>\n",
              "      <td>33.770</td>\n",
              "      <td>1</td>\n",
              "      <td>no</td>\n",
              "      <td>southeast</td>\n",
              "      <td>1725.55230</td>\n",
              "    </tr>\n",
              "    <tr>\n",
              "      <th>2</th>\n",
              "      <td>28</td>\n",
              "      <td>male</td>\n",
              "      <td>33.000</td>\n",
              "      <td>3</td>\n",
              "      <td>no</td>\n",
              "      <td>southeast</td>\n",
              "      <td>4449.46200</td>\n",
              "    </tr>\n",
              "    <tr>\n",
              "      <th>3</th>\n",
              "      <td>33</td>\n",
              "      <td>male</td>\n",
              "      <td>22.705</td>\n",
              "      <td>0</td>\n",
              "      <td>no</td>\n",
              "      <td>northwest</td>\n",
              "      <td>21984.47061</td>\n",
              "    </tr>\n",
              "    <tr>\n",
              "      <th>4</th>\n",
              "      <td>32</td>\n",
              "      <td>male</td>\n",
              "      <td>28.880</td>\n",
              "      <td>0</td>\n",
              "      <td>no</td>\n",
              "      <td>northwest</td>\n",
              "      <td>3866.85520</td>\n",
              "    </tr>\n",
              "    <tr>\n",
              "      <th>...</th>\n",
              "      <td>...</td>\n",
              "      <td>...</td>\n",
              "      <td>...</td>\n",
              "      <td>...</td>\n",
              "      <td>...</td>\n",
              "      <td>...</td>\n",
              "      <td>...</td>\n",
              "    </tr>\n",
              "    <tr>\n",
              "      <th>1333</th>\n",
              "      <td>50</td>\n",
              "      <td>male</td>\n",
              "      <td>30.970</td>\n",
              "      <td>3</td>\n",
              "      <td>no</td>\n",
              "      <td>northwest</td>\n",
              "      <td>10600.54830</td>\n",
              "    </tr>\n",
              "    <tr>\n",
              "      <th>1334</th>\n",
              "      <td>18</td>\n",
              "      <td>female</td>\n",
              "      <td>31.920</td>\n",
              "      <td>0</td>\n",
              "      <td>no</td>\n",
              "      <td>northeast</td>\n",
              "      <td>2205.98080</td>\n",
              "    </tr>\n",
              "    <tr>\n",
              "      <th>1335</th>\n",
              "      <td>18</td>\n",
              "      <td>female</td>\n",
              "      <td>36.850</td>\n",
              "      <td>0</td>\n",
              "      <td>no</td>\n",
              "      <td>southeast</td>\n",
              "      <td>1629.83350</td>\n",
              "    </tr>\n",
              "    <tr>\n",
              "      <th>1336</th>\n",
              "      <td>21</td>\n",
              "      <td>female</td>\n",
              "      <td>25.800</td>\n",
              "      <td>0</td>\n",
              "      <td>no</td>\n",
              "      <td>southwest</td>\n",
              "      <td>2007.94500</td>\n",
              "    </tr>\n",
              "    <tr>\n",
              "      <th>1337</th>\n",
              "      <td>61</td>\n",
              "      <td>female</td>\n",
              "      <td>29.070</td>\n",
              "      <td>0</td>\n",
              "      <td>yes</td>\n",
              "      <td>northwest</td>\n",
              "      <td>29141.36030</td>\n",
              "    </tr>\n",
              "  </tbody>\n",
              "</table>\n",
              "<p>1338 rows × 7 columns</p>\n",
              "</div>"
            ],
            "text/plain": [
              "      age     sex     bmi  children smoker     region      charges\n",
              "0      19  female  27.900         0    yes  southwest  16884.92400\n",
              "1      18    male  33.770         1     no  southeast   1725.55230\n",
              "2      28    male  33.000         3     no  southeast   4449.46200\n",
              "3      33    male  22.705         0     no  northwest  21984.47061\n",
              "4      32    male  28.880         0     no  northwest   3866.85520\n",
              "...   ...     ...     ...       ...    ...        ...          ...\n",
              "1333   50    male  30.970         3     no  northwest  10600.54830\n",
              "1334   18  female  31.920         0     no  northeast   2205.98080\n",
              "1335   18  female  36.850         0     no  southeast   1629.83350\n",
              "1336   21  female  25.800         0     no  southwest   2007.94500\n",
              "1337   61  female  29.070         0    yes  northwest  29141.36030\n",
              "\n",
              "[1338 rows x 7 columns]"
            ]
          },
          "metadata": {
            "tags": []
          },
          "execution_count": 55
        }
      ]
    },
    {
      "cell_type": "code",
      "metadata": {
        "colab": {
          "base_uri": "https://localhost:8080/"
        },
        "id": "HcnvT8mHUeOh",
        "outputId": "3d2acd75-20fd-48ec-e6c7-b4a93242cc9b"
      },
      "source": [
        "len(medical_cost)"
      ],
      "execution_count": null,
      "outputs": [
        {
          "output_type": "execute_result",
          "data": {
            "text/plain": [
              "1338"
            ]
          },
          "metadata": {
            "tags": []
          },
          "execution_count": 56
        }
      ]
    },
    {
      "cell_type": "code",
      "metadata": {
        "colab": {
          "base_uri": "https://localhost:8080/"
        },
        "id": "Ah5q2ertUhXB",
        "outputId": "b169f3a2-c6b2-4643-b633-e1b23b036099"
      },
      "source": [
        "medical_cost.shape"
      ],
      "execution_count": null,
      "outputs": [
        {
          "output_type": "execute_result",
          "data": {
            "text/plain": [
              "(1338, 7)"
            ]
          },
          "metadata": {
            "tags": []
          },
          "execution_count": 57
        }
      ]
    },
    {
      "cell_type": "code",
      "metadata": {
        "id": "1AZ4vnVmUkWB"
      },
      "source": [
        "insurance=pd.get_dummies(medical_cost)"
      ],
      "execution_count": null,
      "outputs": []
    },
    {
      "cell_type": "code",
      "metadata": {
        "colab": {
          "base_uri": "https://localhost:8080/",
          "height": 414
        },
        "id": "asm5mjBjVhx5",
        "outputId": "9170e2f6-8566-4fca-86da-4203af828b92"
      },
      "source": [
        "insurance"
      ],
      "execution_count": null,
      "outputs": [
        {
          "output_type": "execute_result",
          "data": {
            "text/html": [
              "<div>\n",
              "<style scoped>\n",
              "    .dataframe tbody tr th:only-of-type {\n",
              "        vertical-align: middle;\n",
              "    }\n",
              "\n",
              "    .dataframe tbody tr th {\n",
              "        vertical-align: top;\n",
              "    }\n",
              "\n",
              "    .dataframe thead th {\n",
              "        text-align: right;\n",
              "    }\n",
              "</style>\n",
              "<table border=\"1\" class=\"dataframe\">\n",
              "  <thead>\n",
              "    <tr style=\"text-align: right;\">\n",
              "      <th></th>\n",
              "      <th>age</th>\n",
              "      <th>bmi</th>\n",
              "      <th>children</th>\n",
              "      <th>charges</th>\n",
              "      <th>sex_female</th>\n",
              "      <th>sex_male</th>\n",
              "      <th>smoker_no</th>\n",
              "      <th>smoker_yes</th>\n",
              "      <th>region_northeast</th>\n",
              "      <th>region_northwest</th>\n",
              "      <th>region_southeast</th>\n",
              "      <th>region_southwest</th>\n",
              "    </tr>\n",
              "  </thead>\n",
              "  <tbody>\n",
              "    <tr>\n",
              "      <th>0</th>\n",
              "      <td>19</td>\n",
              "      <td>27.900</td>\n",
              "      <td>0</td>\n",
              "      <td>16884.92400</td>\n",
              "      <td>1</td>\n",
              "      <td>0</td>\n",
              "      <td>0</td>\n",
              "      <td>1</td>\n",
              "      <td>0</td>\n",
              "      <td>0</td>\n",
              "      <td>0</td>\n",
              "      <td>1</td>\n",
              "    </tr>\n",
              "    <tr>\n",
              "      <th>1</th>\n",
              "      <td>18</td>\n",
              "      <td>33.770</td>\n",
              "      <td>1</td>\n",
              "      <td>1725.55230</td>\n",
              "      <td>0</td>\n",
              "      <td>1</td>\n",
              "      <td>1</td>\n",
              "      <td>0</td>\n",
              "      <td>0</td>\n",
              "      <td>0</td>\n",
              "      <td>1</td>\n",
              "      <td>0</td>\n",
              "    </tr>\n",
              "    <tr>\n",
              "      <th>2</th>\n",
              "      <td>28</td>\n",
              "      <td>33.000</td>\n",
              "      <td>3</td>\n",
              "      <td>4449.46200</td>\n",
              "      <td>0</td>\n",
              "      <td>1</td>\n",
              "      <td>1</td>\n",
              "      <td>0</td>\n",
              "      <td>0</td>\n",
              "      <td>0</td>\n",
              "      <td>1</td>\n",
              "      <td>0</td>\n",
              "    </tr>\n",
              "    <tr>\n",
              "      <th>3</th>\n",
              "      <td>33</td>\n",
              "      <td>22.705</td>\n",
              "      <td>0</td>\n",
              "      <td>21984.47061</td>\n",
              "      <td>0</td>\n",
              "      <td>1</td>\n",
              "      <td>1</td>\n",
              "      <td>0</td>\n",
              "      <td>0</td>\n",
              "      <td>1</td>\n",
              "      <td>0</td>\n",
              "      <td>0</td>\n",
              "    </tr>\n",
              "    <tr>\n",
              "      <th>4</th>\n",
              "      <td>32</td>\n",
              "      <td>28.880</td>\n",
              "      <td>0</td>\n",
              "      <td>3866.85520</td>\n",
              "      <td>0</td>\n",
              "      <td>1</td>\n",
              "      <td>1</td>\n",
              "      <td>0</td>\n",
              "      <td>0</td>\n",
              "      <td>1</td>\n",
              "      <td>0</td>\n",
              "      <td>0</td>\n",
              "    </tr>\n",
              "    <tr>\n",
              "      <th>...</th>\n",
              "      <td>...</td>\n",
              "      <td>...</td>\n",
              "      <td>...</td>\n",
              "      <td>...</td>\n",
              "      <td>...</td>\n",
              "      <td>...</td>\n",
              "      <td>...</td>\n",
              "      <td>...</td>\n",
              "      <td>...</td>\n",
              "      <td>...</td>\n",
              "      <td>...</td>\n",
              "      <td>...</td>\n",
              "    </tr>\n",
              "    <tr>\n",
              "      <th>1333</th>\n",
              "      <td>50</td>\n",
              "      <td>30.970</td>\n",
              "      <td>3</td>\n",
              "      <td>10600.54830</td>\n",
              "      <td>0</td>\n",
              "      <td>1</td>\n",
              "      <td>1</td>\n",
              "      <td>0</td>\n",
              "      <td>0</td>\n",
              "      <td>1</td>\n",
              "      <td>0</td>\n",
              "      <td>0</td>\n",
              "    </tr>\n",
              "    <tr>\n",
              "      <th>1334</th>\n",
              "      <td>18</td>\n",
              "      <td>31.920</td>\n",
              "      <td>0</td>\n",
              "      <td>2205.98080</td>\n",
              "      <td>1</td>\n",
              "      <td>0</td>\n",
              "      <td>1</td>\n",
              "      <td>0</td>\n",
              "      <td>1</td>\n",
              "      <td>0</td>\n",
              "      <td>0</td>\n",
              "      <td>0</td>\n",
              "    </tr>\n",
              "    <tr>\n",
              "      <th>1335</th>\n",
              "      <td>18</td>\n",
              "      <td>36.850</td>\n",
              "      <td>0</td>\n",
              "      <td>1629.83350</td>\n",
              "      <td>1</td>\n",
              "      <td>0</td>\n",
              "      <td>1</td>\n",
              "      <td>0</td>\n",
              "      <td>0</td>\n",
              "      <td>0</td>\n",
              "      <td>1</td>\n",
              "      <td>0</td>\n",
              "    </tr>\n",
              "    <tr>\n",
              "      <th>1336</th>\n",
              "      <td>21</td>\n",
              "      <td>25.800</td>\n",
              "      <td>0</td>\n",
              "      <td>2007.94500</td>\n",
              "      <td>1</td>\n",
              "      <td>0</td>\n",
              "      <td>1</td>\n",
              "      <td>0</td>\n",
              "      <td>0</td>\n",
              "      <td>0</td>\n",
              "      <td>0</td>\n",
              "      <td>1</td>\n",
              "    </tr>\n",
              "    <tr>\n",
              "      <th>1337</th>\n",
              "      <td>61</td>\n",
              "      <td>29.070</td>\n",
              "      <td>0</td>\n",
              "      <td>29141.36030</td>\n",
              "      <td>1</td>\n",
              "      <td>0</td>\n",
              "      <td>0</td>\n",
              "      <td>1</td>\n",
              "      <td>0</td>\n",
              "      <td>1</td>\n",
              "      <td>0</td>\n",
              "      <td>0</td>\n",
              "    </tr>\n",
              "  </tbody>\n",
              "</table>\n",
              "<p>1338 rows × 12 columns</p>\n",
              "</div>"
            ],
            "text/plain": [
              "      age     bmi  ...  region_southeast  region_southwest\n",
              "0      19  27.900  ...                 0                 1\n",
              "1      18  33.770  ...                 1                 0\n",
              "2      28  33.000  ...                 1                 0\n",
              "3      33  22.705  ...                 0                 0\n",
              "4      32  28.880  ...                 0                 0\n",
              "...   ...     ...  ...               ...               ...\n",
              "1333   50  30.970  ...                 0                 0\n",
              "1334   18  31.920  ...                 0                 0\n",
              "1335   18  36.850  ...                 1                 0\n",
              "1336   21  25.800  ...                 0                 1\n",
              "1337   61  29.070  ...                 0                 0\n",
              "\n",
              "[1338 rows x 12 columns]"
            ]
          },
          "metadata": {
            "tags": []
          },
          "execution_count": 59
        }
      ]
    },
    {
      "cell_type": "code",
      "metadata": {
        "id": "jnK-fHXBVngB"
      },
      "source": [
        "x=insurance.drop(\"charges\",axis=1)\n",
        "y=insurance[\"charges\"]"
      ],
      "execution_count": null,
      "outputs": []
    },
    {
      "cell_type": "code",
      "metadata": {
        "id": "QKaz_zQ7Wnps"
      },
      "source": [
        "from sklearn.model_selection import train_test_split\n",
        "x_train,x_test,y_train,y_test=train_test_split(x,y,test_size=0.2,random_state=42)"
      ],
      "execution_count": null,
      "outputs": []
    },
    {
      "cell_type": "code",
      "metadata": {
        "colab": {
          "base_uri": "https://localhost:8080/"
        },
        "id": "VluH59ygW-N5",
        "outputId": "958ecd0c-da04-4c6e-e355-f5820b15fbb0"
      },
      "source": [
        "tf.random.set_seed(42)\n",
        "insurance_model=tf.keras.Sequential([\n",
        "                                     tf.keras.layers.Dense(10),\n",
        "                                     tf.keras.layers.Dense(1)\n",
        "])\n",
        "insurance_model.compile(loss=tf.keras.losses.mae,\n",
        "                        optimizer=tf.keras.optimizers.SGD(),\n",
        "                        metrics=[\"mae\"])\n",
        "insurance_model.fit(x_train,y_train,epochs=100,verbose=2)"
      ],
      "execution_count": null,
      "outputs": [
        {
          "output_type": "stream",
          "text": [
            "Epoch 1/100\n",
            "34/34 - 0s - loss: 8637.1006 - mae: 8637.1006\n",
            "Epoch 2/100\n",
            "34/34 - 0s - loss: 7886.7759 - mae: 7886.7759\n",
            "Epoch 3/100\n",
            "34/34 - 0s - loss: 7558.1470 - mae: 7558.1470\n",
            "Epoch 4/100\n",
            "34/34 - 0s - loss: 7792.0220 - mae: 7792.0220\n",
            "Epoch 5/100\n",
            "34/34 - 0s - loss: 7748.3887 - mae: 7748.3887\n",
            "Epoch 6/100\n",
            "34/34 - 0s - loss: 7595.3940 - mae: 7595.3940\n",
            "Epoch 7/100\n",
            "34/34 - 0s - loss: 7589.9844 - mae: 7589.9844\n",
            "Epoch 8/100\n",
            "34/34 - 0s - loss: 7698.5576 - mae: 7698.5576\n",
            "Epoch 9/100\n",
            "34/34 - 0s - loss: 7496.7778 - mae: 7496.7778\n",
            "Epoch 10/100\n",
            "34/34 - 0s - loss: 7493.1743 - mae: 7493.1743\n",
            "Epoch 11/100\n",
            "34/34 - 0s - loss: 7769.7295 - mae: 7769.7295\n",
            "Epoch 12/100\n",
            "34/34 - 0s - loss: 7706.9028 - mae: 7706.9028\n",
            "Epoch 13/100\n",
            "34/34 - 0s - loss: 7687.7231 - mae: 7687.7231\n",
            "Epoch 14/100\n",
            "34/34 - 0s - loss: 7689.9004 - mae: 7689.9004\n",
            "Epoch 15/100\n",
            "34/34 - 0s - loss: 7393.5327 - mae: 7393.5327\n",
            "Epoch 16/100\n",
            "34/34 - 0s - loss: 7780.6987 - mae: 7780.6987\n",
            "Epoch 17/100\n",
            "34/34 - 0s - loss: 7578.5098 - mae: 7578.5098\n",
            "Epoch 18/100\n",
            "34/34 - 0s - loss: 7750.8354 - mae: 7750.8354\n",
            "Epoch 19/100\n",
            "34/34 - 0s - loss: 7739.2144 - mae: 7739.2144\n",
            "Epoch 20/100\n",
            "34/34 - 0s - loss: 7875.0654 - mae: 7875.0654\n",
            "Epoch 21/100\n",
            "34/34 - 0s - loss: 7466.6768 - mae: 7466.6768\n",
            "Epoch 22/100\n",
            "34/34 - 0s - loss: 7941.2329 - mae: 7941.2329\n",
            "Epoch 23/100\n",
            "34/34 - 0s - loss: 7640.2725 - mae: 7640.2725\n",
            "Epoch 24/100\n",
            "34/34 - 0s - loss: 7539.2671 - mae: 7539.2671\n",
            "Epoch 25/100\n",
            "34/34 - 0s - loss: 7619.9653 - mae: 7619.9653\n",
            "Epoch 26/100\n",
            "34/34 - 0s - loss: 7644.1719 - mae: 7644.1719\n",
            "Epoch 27/100\n",
            "34/34 - 0s - loss: 7709.0371 - mae: 7709.0371\n",
            "Epoch 28/100\n",
            "34/34 - 0s - loss: 7366.8662 - mae: 7366.8662\n",
            "Epoch 29/100\n",
            "34/34 - 0s - loss: 7444.3154 - mae: 7444.3154\n",
            "Epoch 30/100\n",
            "34/34 - 0s - loss: 7616.4077 - mae: 7616.4077\n",
            "Epoch 31/100\n",
            "34/34 - 0s - loss: 7686.3853 - mae: 7686.3853\n",
            "Epoch 32/100\n",
            "34/34 - 0s - loss: 7548.0977 - mae: 7548.0977\n",
            "Epoch 33/100\n",
            "34/34 - 0s - loss: 7501.5532 - mae: 7501.5532\n",
            "Epoch 34/100\n",
            "34/34 - 0s - loss: 7363.4160 - mae: 7363.4160\n",
            "Epoch 35/100\n",
            "34/34 - 0s - loss: 7295.4478 - mae: 7295.4478\n",
            "Epoch 36/100\n",
            "34/34 - 0s - loss: 7569.8813 - mae: 7569.8813\n",
            "Epoch 37/100\n",
            "34/34 - 0s - loss: 7548.1997 - mae: 7548.1997\n",
            "Epoch 38/100\n",
            "34/34 - 0s - loss: 7424.3975 - mae: 7424.3975\n",
            "Epoch 39/100\n",
            "34/34 - 0s - loss: 7529.7734 - mae: 7529.7734\n",
            "Epoch 40/100\n",
            "34/34 - 0s - loss: 7467.3232 - mae: 7467.3232\n",
            "Epoch 41/100\n",
            "34/34 - 0s - loss: 7635.9292 - mae: 7635.9292\n",
            "Epoch 42/100\n",
            "34/34 - 0s - loss: 7536.8398 - mae: 7536.8398\n",
            "Epoch 43/100\n",
            "34/34 - 0s - loss: 7616.5859 - mae: 7616.5859\n",
            "Epoch 44/100\n",
            "34/34 - 0s - loss: 7439.4941 - mae: 7439.4941\n",
            "Epoch 45/100\n",
            "34/34 - 0s - loss: 7538.0151 - mae: 7538.0151\n",
            "Epoch 46/100\n",
            "34/34 - 0s - loss: 7415.1470 - mae: 7415.1470\n",
            "Epoch 47/100\n",
            "34/34 - 0s - loss: 7420.6938 - mae: 7420.6938\n",
            "Epoch 48/100\n",
            "34/34 - 0s - loss: 7509.9839 - mae: 7509.9839\n",
            "Epoch 49/100\n",
            "34/34 - 0s - loss: 7541.1133 - mae: 7541.1133\n",
            "Epoch 50/100\n",
            "34/34 - 0s - loss: 7467.8643 - mae: 7467.8643\n",
            "Epoch 51/100\n",
            "34/34 - 0s - loss: 7389.3560 - mae: 7389.3560\n",
            "Epoch 52/100\n",
            "34/34 - 0s - loss: 7499.7749 - mae: 7499.7749\n",
            "Epoch 53/100\n",
            "34/34 - 0s - loss: 7523.9282 - mae: 7523.9282\n",
            "Epoch 54/100\n",
            "34/34 - 0s - loss: 7243.3115 - mae: 7243.3115\n",
            "Epoch 55/100\n",
            "34/34 - 0s - loss: 7429.5864 - mae: 7429.5864\n",
            "Epoch 56/100\n",
            "34/34 - 0s - loss: 7313.3999 - mae: 7313.3999\n",
            "Epoch 57/100\n",
            "34/34 - 0s - loss: 7526.3877 - mae: 7526.3877\n",
            "Epoch 58/100\n",
            "34/34 - 0s - loss: 7542.2666 - mae: 7542.2666\n",
            "Epoch 59/100\n",
            "34/34 - 0s - loss: 7576.9277 - mae: 7576.9277\n",
            "Epoch 60/100\n",
            "34/34 - 0s - loss: 7546.4048 - mae: 7546.4048\n",
            "Epoch 61/100\n",
            "34/34 - 0s - loss: 7351.2261 - mae: 7351.2261\n",
            "Epoch 62/100\n",
            "34/34 - 0s - loss: 7302.1436 - mae: 7302.1436\n",
            "Epoch 63/100\n",
            "34/34 - 0s - loss: 7393.0879 - mae: 7393.0879\n",
            "Epoch 64/100\n",
            "34/34 - 0s - loss: 7442.2881 - mae: 7442.2881\n",
            "Epoch 65/100\n",
            "34/34 - 0s - loss: 7492.6782 - mae: 7492.6782\n",
            "Epoch 66/100\n",
            "34/34 - 0s - loss: 7561.9165 - mae: 7561.9165\n",
            "Epoch 67/100\n",
            "34/34 - 0s - loss: 7340.5137 - mae: 7340.5137\n",
            "Epoch 68/100\n",
            "34/34 - 0s - loss: 7496.0845 - mae: 7496.0845\n",
            "Epoch 69/100\n",
            "34/34 - 0s - loss: 7617.0303 - mae: 7617.0303\n",
            "Epoch 70/100\n",
            "34/34 - 0s - loss: 7641.1948 - mae: 7641.1948\n",
            "Epoch 71/100\n",
            "34/34 - 0s - loss: 7084.2744 - mae: 7084.2744\n",
            "Epoch 72/100\n",
            "34/34 - 0s - loss: 7240.4902 - mae: 7240.4902\n",
            "Epoch 73/100\n",
            "34/34 - 0s - loss: 7283.4888 - mae: 7283.4888\n",
            "Epoch 74/100\n",
            "34/34 - 0s - loss: 7335.5083 - mae: 7335.5083\n",
            "Epoch 75/100\n",
            "34/34 - 0s - loss: 7275.6392 - mae: 7275.6392\n",
            "Epoch 76/100\n",
            "34/34 - 0s - loss: 7313.1860 - mae: 7313.1860\n",
            "Epoch 77/100\n",
            "34/34 - 0s - loss: 7485.7588 - mae: 7485.7588\n",
            "Epoch 78/100\n",
            "34/34 - 0s - loss: 7352.2803 - mae: 7352.2803\n",
            "Epoch 79/100\n",
            "34/34 - 0s - loss: 7520.5703 - mae: 7520.5703\n",
            "Epoch 80/100\n",
            "34/34 - 0s - loss: 7279.3779 - mae: 7279.3779\n",
            "Epoch 81/100\n",
            "34/34 - 0s - loss: 7273.8477 - mae: 7273.8477\n",
            "Epoch 82/100\n",
            "34/34 - 0s - loss: 7176.5215 - mae: 7176.5215\n",
            "Epoch 83/100\n",
            "34/34 - 0s - loss: 7425.6289 - mae: 7425.6289\n",
            "Epoch 84/100\n",
            "34/34 - 0s - loss: 7403.1294 - mae: 7403.1294\n",
            "Epoch 85/100\n",
            "34/34 - 0s - loss: 7356.0088 - mae: 7356.0088\n",
            "Epoch 86/100\n",
            "34/34 - 0s - loss: 7484.7271 - mae: 7484.7271\n",
            "Epoch 87/100\n",
            "34/34 - 0s - loss: 7217.6074 - mae: 7217.6074\n",
            "Epoch 88/100\n",
            "34/34 - 0s - loss: 7261.0000 - mae: 7261.0000\n",
            "Epoch 89/100\n",
            "34/34 - 0s - loss: 7134.1562 - mae: 7134.1562\n",
            "Epoch 90/100\n",
            "34/34 - 0s - loss: 7083.4360 - mae: 7083.4360\n",
            "Epoch 91/100\n",
            "34/34 - 0s - loss: 7254.1782 - mae: 7254.1782\n",
            "Epoch 92/100\n",
            "34/34 - 0s - loss: 7268.7456 - mae: 7268.7456\n",
            "Epoch 93/100\n",
            "34/34 - 0s - loss: 7470.5220 - mae: 7470.5220\n",
            "Epoch 94/100\n",
            "34/34 - 0s - loss: 7210.9536 - mae: 7210.9536\n",
            "Epoch 95/100\n",
            "34/34 - 0s - loss: 7395.6816 - mae: 7395.6816\n",
            "Epoch 96/100\n",
            "34/34 - 0s - loss: 7328.0884 - mae: 7328.0884\n",
            "Epoch 97/100\n",
            "34/34 - 0s - loss: 7230.4380 - mae: 7230.4380\n",
            "Epoch 98/100\n",
            "34/34 - 0s - loss: 7261.3936 - mae: 7261.3936\n",
            "Epoch 99/100\n",
            "34/34 - 0s - loss: 7342.5684 - mae: 7342.5684\n",
            "Epoch 100/100\n",
            "34/34 - 0s - loss: 7106.1714 - mae: 7106.1714\n"
          ],
          "name": "stdout"
        },
        {
          "output_type": "execute_result",
          "data": {
            "text/plain": [
              "<tensorflow.python.keras.callbacks.History at 0x7f0b353afe10>"
            ]
          },
          "metadata": {
            "tags": []
          },
          "execution_count": 62
        }
      ]
    },
    {
      "cell_type": "code",
      "metadata": {
        "colab": {
          "base_uri": "https://localhost:8080/"
        },
        "id": "1f0rDaP7XaXz",
        "outputId": "71d5cf33-9d84-40d0-c269-0a508c34cbe1"
      },
      "source": [
        "insurance_model.evaluate(x_test,y_test,verbose=2)"
      ],
      "execution_count": null,
      "outputs": [
        {
          "output_type": "stream",
          "text": [
            "9/9 - 0s - loss: 7023.3291 - mae: 7023.3291\n"
          ],
          "name": "stdout"
        },
        {
          "output_type": "execute_result",
          "data": {
            "text/plain": [
              "[7023.3291015625, 7023.3291015625]"
            ]
          },
          "metadata": {
            "tags": []
          },
          "execution_count": 63
        }
      ]
    },
    {
      "cell_type": "code",
      "metadata": {
        "id": "Bwi1IMF_Zlcr"
      },
      "source": [
        "predicted=insurance_model.predict(x_test)"
      ],
      "execution_count": null,
      "outputs": []
    },
    {
      "cell_type": "code",
      "metadata": {
        "colab": {
          "base_uri": "https://localhost:8080/"
        },
        "id": "q_a4CLwhdDVt",
        "outputId": "54dcdb7d-c7a4-4f9d-b691-b15a03ab8c04"
      },
      "source": [
        "len(x_train),len(y_train),x_train.shape,y_train.shape"
      ],
      "execution_count": null,
      "outputs": [
        {
          "output_type": "execute_result",
          "data": {
            "text/plain": [
              "(1070, 1070, (1070, 11), (1070,))"
            ]
          },
          "metadata": {
            "tags": []
          },
          "execution_count": 65
        }
      ]
    },
    {
      "cell_type": "code",
      "metadata": {
        "id": "D9cmRZTxa_lm"
      },
      "source": [
        "# tf.random.set_seed(42)\n",
        "# plt.figure(figsize=(10,10))\n",
        "# plt.scatter(x_train,y_train,c=\"g\",label=\"train data\")\n",
        "# plt.scatter(x_test,y_test,c=\"b\",label=\"test data\")\n",
        "# plt.scatter(x_test,predicted,c=\"r\",label=\"predicted data\")\n",
        "# plt.legend()"
      ],
      "execution_count": null,
      "outputs": []
    },
    {
      "cell_type": "code",
      "metadata": {
        "colab": {
          "base_uri": "https://localhost:8080/"
        },
        "id": "wZON44T8cIUr",
        "outputId": "6e23f91a-1ba7-41a7-e3c7-63b892ec4a7c"
      },
      "source": [
        "tf.random.set_seed(42)\n",
        "insurance_model1=tf.keras.Sequential([\n",
        "                                      tf.keras.layers.Dense(100),\n",
        "                                      tf.keras.layers.Dense(10),\n",
        "                                      tf.keras.layers.Dense(1)\n",
        "])\n",
        "insurance_model1.compile(loss=tf.keras.losses.mae,\n",
        "                         optimizer=tf.keras.optimizers.Adam(),\n",
        "                         metrics=[\"mae\"])\n",
        "history=insurance_model1.fit(x_train,y_train,epochs=200)"
      ],
      "execution_count": null,
      "outputs": [
        {
          "output_type": "stream",
          "text": [
            "Epoch 1/200\n",
            "34/34 [==============================] - 0s 1ms/step - loss: 13273.1602 - mae: 13273.1602\n",
            "Epoch 2/200\n",
            "34/34 [==============================] - 0s 1ms/step - loss: 13104.4297 - mae: 13104.4297\n",
            "Epoch 3/200\n",
            "34/34 [==============================] - 0s 1ms/step - loss: 12749.5420 - mae: 12749.5420\n",
            "Epoch 4/200\n",
            "34/34 [==============================] - 0s 2ms/step - loss: 12055.7510 - mae: 12055.7510\n",
            "Epoch 5/200\n",
            "34/34 [==============================] - 0s 1ms/step - loss: 10905.8154 - mae: 10905.8154\n",
            "Epoch 6/200\n",
            "34/34 [==============================] - 0s 2ms/step - loss: 9457.7217 - mae: 9457.7217\n",
            "Epoch 7/200\n",
            "34/34 [==============================] - 0s 1ms/step - loss: 8147.6543 - mae: 8147.6543\n",
            "Epoch 8/200\n",
            "34/34 [==============================] - 0s 1ms/step - loss: 7528.8408 - mae: 7528.8408\n",
            "Epoch 9/200\n",
            "34/34 [==============================] - 0s 2ms/step - loss: 7429.1528 - mae: 7429.1528\n",
            "Epoch 10/200\n",
            "34/34 [==============================] - 0s 1ms/step - loss: 7409.0811 - mae: 7409.0811\n",
            "Epoch 11/200\n",
            "34/34 [==============================] - 0s 2ms/step - loss: 7390.8042 - mae: 7390.8042\n",
            "Epoch 12/200\n",
            "34/34 [==============================] - 0s 1ms/step - loss: 7368.9180 - mae: 7368.9180\n",
            "Epoch 13/200\n",
            "34/34 [==============================] - 0s 1ms/step - loss: 7348.5195 - mae: 7348.5195\n",
            "Epoch 14/200\n",
            "34/34 [==============================] - 0s 1ms/step - loss: 7326.4893 - mae: 7326.4893\n",
            "Epoch 15/200\n",
            "34/34 [==============================] - 0s 1ms/step - loss: 7307.5815 - mae: 7307.5815\n",
            "Epoch 16/200\n",
            "34/34 [==============================] - 0s 2ms/step - loss: 7285.7734 - mae: 7285.7734\n",
            "Epoch 17/200\n",
            "34/34 [==============================] - 0s 2ms/step - loss: 7265.7104 - mae: 7265.7104\n",
            "Epoch 18/200\n",
            "34/34 [==============================] - 0s 1ms/step - loss: 7242.5488 - mae: 7242.5488\n",
            "Epoch 19/200\n",
            "34/34 [==============================] - 0s 1ms/step - loss: 7220.5068 - mae: 7220.5068\n",
            "Epoch 20/200\n",
            "34/34 [==============================] - 0s 2ms/step - loss: 7197.1978 - mae: 7197.1978\n",
            "Epoch 21/200\n",
            "34/34 [==============================] - 0s 2ms/step - loss: 7179.0195 - mae: 7179.0195\n",
            "Epoch 22/200\n",
            "34/34 [==============================] - 0s 1ms/step - loss: 7151.2104 - mae: 7151.2104\n",
            "Epoch 23/200\n",
            "34/34 [==============================] - 0s 1ms/step - loss: 7126.4639 - mae: 7126.4639\n",
            "Epoch 24/200\n",
            "34/34 [==============================] - 0s 1ms/step - loss: 7101.9199 - mae: 7101.9199\n",
            "Epoch 25/200\n",
            "34/34 [==============================] - 0s 1ms/step - loss: 7084.3379 - mae: 7084.3379\n",
            "Epoch 26/200\n",
            "34/34 [==============================] - 0s 2ms/step - loss: 7052.3291 - mae: 7052.3291\n",
            "Epoch 27/200\n",
            "34/34 [==============================] - 0s 1ms/step - loss: 7024.3501 - mae: 7024.3501\n",
            "Epoch 28/200\n",
            "34/34 [==============================] - 0s 1ms/step - loss: 6996.6963 - mae: 6996.6963\n",
            "Epoch 29/200\n",
            "34/34 [==============================] - 0s 2ms/step - loss: 6969.0112 - mae: 6969.0112\n",
            "Epoch 30/200\n",
            "34/34 [==============================] - 0s 1ms/step - loss: 6942.1899 - mae: 6942.1899\n",
            "Epoch 31/200\n",
            "34/34 [==============================] - 0s 1ms/step - loss: 6911.7280 - mae: 6911.7280\n",
            "Epoch 32/200\n",
            "34/34 [==============================] - 0s 1ms/step - loss: 6884.0205 - mae: 6884.0205\n",
            "Epoch 33/200\n",
            "34/34 [==============================] - 0s 2ms/step - loss: 6853.4648 - mae: 6853.4648\n",
            "Epoch 34/200\n",
            "34/34 [==============================] - 0s 2ms/step - loss: 6823.0674 - mae: 6823.0674\n",
            "Epoch 35/200\n",
            "34/34 [==============================] - 0s 2ms/step - loss: 6789.6855 - mae: 6789.6855\n",
            "Epoch 36/200\n",
            "34/34 [==============================] - 0s 1ms/step - loss: 6755.7646 - mae: 6755.7646\n",
            "Epoch 37/200\n",
            "34/34 [==============================] - 0s 2ms/step - loss: 6720.2026 - mae: 6720.2026\n",
            "Epoch 38/200\n",
            "34/34 [==============================] - 0s 2ms/step - loss: 6689.7158 - mae: 6689.7158\n",
            "Epoch 39/200\n",
            "34/34 [==============================] - 0s 1ms/step - loss: 6652.4614 - mae: 6652.4614\n",
            "Epoch 40/200\n",
            "34/34 [==============================] - 0s 1ms/step - loss: 6618.1006 - mae: 6618.1006\n",
            "Epoch 41/200\n",
            "34/34 [==============================] - 0s 2ms/step - loss: 6585.8643 - mae: 6585.8643\n",
            "Epoch 42/200\n",
            "34/34 [==============================] - 0s 2ms/step - loss: 6559.4956 - mae: 6559.4956\n",
            "Epoch 43/200\n",
            "34/34 [==============================] - 0s 2ms/step - loss: 6530.0444 - mae: 6530.0444\n",
            "Epoch 44/200\n",
            "34/34 [==============================] - 0s 2ms/step - loss: 6506.8071 - mae: 6506.8071\n",
            "Epoch 45/200\n",
            "34/34 [==============================] - 0s 2ms/step - loss: 6493.5718 - mae: 6493.5718\n",
            "Epoch 46/200\n",
            "34/34 [==============================] - 0s 1ms/step - loss: 6475.9258 - mae: 6475.9258\n",
            "Epoch 47/200\n",
            "34/34 [==============================] - 0s 1ms/step - loss: 6458.8979 - mae: 6458.8979\n",
            "Epoch 48/200\n",
            "34/34 [==============================] - 0s 1ms/step - loss: 6445.1494 - mae: 6445.1494\n",
            "Epoch 49/200\n",
            "34/34 [==============================] - 0s 1ms/step - loss: 6430.9639 - mae: 6430.9639\n",
            "Epoch 50/200\n",
            "34/34 [==============================] - 0s 2ms/step - loss: 6417.7510 - mae: 6417.7510\n",
            "Epoch 51/200\n",
            "34/34 [==============================] - 0s 2ms/step - loss: 6403.2759 - mae: 6403.2759\n",
            "Epoch 52/200\n",
            "34/34 [==============================] - 0s 2ms/step - loss: 6392.4141 - mae: 6392.4141\n",
            "Epoch 53/200\n",
            "34/34 [==============================] - 0s 2ms/step - loss: 6378.7451 - mae: 6378.7451\n",
            "Epoch 54/200\n",
            "34/34 [==============================] - 0s 2ms/step - loss: 6364.9131 - mae: 6364.9131\n",
            "Epoch 55/200\n",
            "34/34 [==============================] - 0s 2ms/step - loss: 6351.5269 - mae: 6351.5269\n",
            "Epoch 56/200\n",
            "34/34 [==============================] - 0s 1ms/step - loss: 6337.6602 - mae: 6337.6602\n",
            "Epoch 57/200\n",
            "34/34 [==============================] - 0s 1ms/step - loss: 6324.8369 - mae: 6324.8369\n",
            "Epoch 58/200\n",
            "34/34 [==============================] - 0s 1ms/step - loss: 6310.1948 - mae: 6310.1948\n",
            "Epoch 59/200\n",
            "34/34 [==============================] - 0s 1ms/step - loss: 6295.6035 - mae: 6295.6035\n",
            "Epoch 60/200\n",
            "34/34 [==============================] - 0s 2ms/step - loss: 6284.8696 - mae: 6284.8696\n",
            "Epoch 61/200\n",
            "34/34 [==============================] - 0s 2ms/step - loss: 6265.6411 - mae: 6265.6411\n",
            "Epoch 62/200\n",
            "34/34 [==============================] - 0s 2ms/step - loss: 6253.0103 - mae: 6253.0103\n",
            "Epoch 63/200\n",
            "34/34 [==============================] - 0s 2ms/step - loss: 6234.9292 - mae: 6234.9292\n",
            "Epoch 64/200\n",
            "34/34 [==============================] - 0s 1ms/step - loss: 6218.0430 - mae: 6218.0430\n",
            "Epoch 65/200\n",
            "34/34 [==============================] - 0s 2ms/step - loss: 6201.1899 - mae: 6201.1899\n",
            "Epoch 66/200\n",
            "34/34 [==============================] - 0s 1ms/step - loss: 6183.9590 - mae: 6183.9590\n",
            "Epoch 67/200\n",
            "34/34 [==============================] - 0s 1ms/step - loss: 6171.2993 - mae: 6171.2993\n",
            "Epoch 68/200\n",
            "34/34 [==============================] - 0s 1ms/step - loss: 6148.8398 - mae: 6148.8398\n",
            "Epoch 69/200\n",
            "34/34 [==============================] - 0s 1ms/step - loss: 6132.5981 - mae: 6132.5981\n",
            "Epoch 70/200\n",
            "34/34 [==============================] - 0s 2ms/step - loss: 6112.3848 - mae: 6112.3848\n",
            "Epoch 71/200\n",
            "34/34 [==============================] - 0s 1ms/step - loss: 6092.7202 - mae: 6092.7202\n",
            "Epoch 72/200\n",
            "34/34 [==============================] - 0s 1ms/step - loss: 6073.7422 - mae: 6073.7422\n",
            "Epoch 73/200\n",
            "34/34 [==============================] - 0s 1ms/step - loss: 6059.4873 - mae: 6059.4873\n",
            "Epoch 74/200\n",
            "34/34 [==============================] - 0s 2ms/step - loss: 6031.3848 - mae: 6031.3848\n",
            "Epoch 75/200\n",
            "34/34 [==============================] - 0s 2ms/step - loss: 6010.3350 - mae: 6010.3350\n",
            "Epoch 76/200\n",
            "34/34 [==============================] - 0s 2ms/step - loss: 5995.2178 - mae: 5995.2178\n",
            "Epoch 77/200\n",
            "34/34 [==============================] - 0s 1ms/step - loss: 5963.0718 - mae: 5963.0718\n",
            "Epoch 78/200\n",
            "34/34 [==============================] - 0s 1ms/step - loss: 5940.0605 - mae: 5940.0605\n",
            "Epoch 79/200\n",
            "34/34 [==============================] - 0s 2ms/step - loss: 5915.1064 - mae: 5915.1064\n",
            "Epoch 80/200\n",
            "34/34 [==============================] - 0s 1ms/step - loss: 5887.9990 - mae: 5887.9990\n",
            "Epoch 81/200\n",
            "34/34 [==============================] - 0s 1ms/step - loss: 5861.6992 - mae: 5861.6992\n",
            "Epoch 82/200\n",
            "34/34 [==============================] - 0s 2ms/step - loss: 5834.3066 - mae: 5834.3066\n",
            "Epoch 83/200\n",
            "34/34 [==============================] - 0s 1ms/step - loss: 5805.8237 - mae: 5805.8237\n",
            "Epoch 84/200\n",
            "34/34 [==============================] - 0s 2ms/step - loss: 5772.3232 - mae: 5772.3232\n",
            "Epoch 85/200\n",
            "34/34 [==============================] - 0s 2ms/step - loss: 5745.1514 - mae: 5745.1514\n",
            "Epoch 86/200\n",
            "34/34 [==============================] - 0s 2ms/step - loss: 5711.3477 - mae: 5711.3477\n",
            "Epoch 87/200\n",
            "34/34 [==============================] - 0s 1ms/step - loss: 5674.5215 - mae: 5674.5215\n",
            "Epoch 88/200\n",
            "34/34 [==============================] - 0s 1ms/step - loss: 5639.4927 - mae: 5639.4927\n",
            "Epoch 89/200\n",
            "34/34 [==============================] - 0s 1ms/step - loss: 5600.6655 - mae: 5600.6655\n",
            "Epoch 90/200\n",
            "34/34 [==============================] - 0s 1ms/step - loss: 5559.4326 - mae: 5559.4326\n",
            "Epoch 91/200\n",
            "34/34 [==============================] - 0s 1ms/step - loss: 5523.6187 - mae: 5523.6187\n",
            "Epoch 92/200\n",
            "34/34 [==============================] - 0s 2ms/step - loss: 5474.1250 - mae: 5474.1250\n",
            "Epoch 93/200\n",
            "34/34 [==============================] - 0s 2ms/step - loss: 5432.2661 - mae: 5432.2661\n",
            "Epoch 94/200\n",
            "34/34 [==============================] - 0s 2ms/step - loss: 5386.0527 - mae: 5386.0527\n",
            "Epoch 95/200\n",
            "34/34 [==============================] - 0s 2ms/step - loss: 5333.1812 - mae: 5333.1812\n",
            "Epoch 96/200\n",
            "34/34 [==============================] - 0s 2ms/step - loss: 5288.8159 - mae: 5288.8159\n",
            "Epoch 97/200\n",
            "34/34 [==============================] - 0s 1ms/step - loss: 5234.6792 - mae: 5234.6792\n",
            "Epoch 98/200\n",
            "34/34 [==============================] - 0s 1ms/step - loss: 5170.9360 - mae: 5170.9360\n",
            "Epoch 99/200\n",
            "34/34 [==============================] - 0s 2ms/step - loss: 5112.9443 - mae: 5112.9443\n",
            "Epoch 100/200\n",
            "34/34 [==============================] - 0s 1ms/step - loss: 5059.8643 - mae: 5059.8643\n",
            "Epoch 101/200\n",
            "34/34 [==============================] - 0s 2ms/step - loss: 4987.6191 - mae: 4987.6191\n",
            "Epoch 102/200\n",
            "34/34 [==============================] - 0s 2ms/step - loss: 4915.2910 - mae: 4915.2910\n",
            "Epoch 103/200\n",
            "34/34 [==============================] - 0s 2ms/step - loss: 4847.3599 - mae: 4847.3599\n",
            "Epoch 104/200\n",
            "34/34 [==============================] - 0s 2ms/step - loss: 4768.0151 - mae: 4768.0151\n",
            "Epoch 105/200\n",
            "34/34 [==============================] - 0s 2ms/step - loss: 4683.4727 - mae: 4683.4727\n",
            "Epoch 106/200\n",
            "34/34 [==============================] - 0s 1ms/step - loss: 4600.5054 - mae: 4600.5054\n",
            "Epoch 107/200\n",
            "34/34 [==============================] - 0s 2ms/step - loss: 4513.1436 - mae: 4513.1436\n",
            "Epoch 108/200\n",
            "34/34 [==============================] - 0s 2ms/step - loss: 4422.2983 - mae: 4422.2983\n",
            "Epoch 109/200\n",
            "34/34 [==============================] - 0s 1ms/step - loss: 4339.9600 - mae: 4339.9600\n",
            "Epoch 110/200\n",
            "34/34 [==============================] - 0s 2ms/step - loss: 4254.3916 - mae: 4254.3916\n",
            "Epoch 111/200\n",
            "34/34 [==============================] - 0s 2ms/step - loss: 4173.1797 - mae: 4173.1797\n",
            "Epoch 112/200\n",
            "34/34 [==============================] - 0s 1ms/step - loss: 4102.2939 - mae: 4102.2939\n",
            "Epoch 113/200\n",
            "34/34 [==============================] - 0s 1ms/step - loss: 4031.9592 - mae: 4031.9592\n",
            "Epoch 114/200\n",
            "34/34 [==============================] - 0s 2ms/step - loss: 3986.0220 - mae: 3986.0220\n",
            "Epoch 115/200\n",
            "34/34 [==============================] - 0s 2ms/step - loss: 3943.2346 - mae: 3943.2346\n",
            "Epoch 116/200\n",
            "34/34 [==============================] - 0s 2ms/step - loss: 3918.8977 - mae: 3918.8977\n",
            "Epoch 117/200\n",
            "34/34 [==============================] - 0s 2ms/step - loss: 3895.5610 - mae: 3895.5610\n",
            "Epoch 118/200\n",
            "34/34 [==============================] - 0s 2ms/step - loss: 3869.5679 - mae: 3869.5679\n",
            "Epoch 119/200\n",
            "34/34 [==============================] - 0s 2ms/step - loss: 3850.2136 - mae: 3850.2136\n",
            "Epoch 120/200\n",
            "34/34 [==============================] - 0s 2ms/step - loss: 3834.7349 - mae: 3834.7349\n",
            "Epoch 121/200\n",
            "34/34 [==============================] - 0s 2ms/step - loss: 3827.0952 - mae: 3827.0952\n",
            "Epoch 122/200\n",
            "34/34 [==============================] - 0s 2ms/step - loss: 3821.6382 - mae: 3821.6382\n",
            "Epoch 123/200\n",
            "34/34 [==============================] - 0s 1ms/step - loss: 3813.8315 - mae: 3813.8315\n",
            "Epoch 124/200\n",
            "34/34 [==============================] - 0s 1ms/step - loss: 3805.7307 - mae: 3805.7307\n",
            "Epoch 125/200\n",
            "34/34 [==============================] - 0s 1ms/step - loss: 3794.7090 - mae: 3794.7090\n",
            "Epoch 126/200\n",
            "34/34 [==============================] - 0s 2ms/step - loss: 3804.4946 - mae: 3804.4946\n",
            "Epoch 127/200\n",
            "34/34 [==============================] - 0s 1ms/step - loss: 3796.0596 - mae: 3796.0596\n",
            "Epoch 128/200\n",
            "34/34 [==============================] - 0s 2ms/step - loss: 3791.0422 - mae: 3791.0422\n",
            "Epoch 129/200\n",
            "34/34 [==============================] - 0s 2ms/step - loss: 3800.0696 - mae: 3800.0696\n",
            "Epoch 130/200\n",
            "34/34 [==============================] - 0s 2ms/step - loss: 3788.5005 - mae: 3788.5005\n",
            "Epoch 131/200\n",
            "34/34 [==============================] - 0s 2ms/step - loss: 3780.8442 - mae: 3780.8442\n",
            "Epoch 132/200\n",
            "34/34 [==============================] - 0s 2ms/step - loss: 3774.5413 - mae: 3774.5413\n",
            "Epoch 133/200\n",
            "34/34 [==============================] - 0s 1ms/step - loss: 3771.0156 - mae: 3771.0156\n",
            "Epoch 134/200\n",
            "34/34 [==============================] - 0s 1ms/step - loss: 3769.3762 - mae: 3769.3762\n",
            "Epoch 135/200\n",
            "34/34 [==============================] - 0s 1ms/step - loss: 3766.7610 - mae: 3766.7610\n",
            "Epoch 136/200\n",
            "34/34 [==============================] - 0s 2ms/step - loss: 3765.5508 - mae: 3765.5508\n",
            "Epoch 137/200\n",
            "34/34 [==============================] - 0s 1ms/step - loss: 3774.5032 - mae: 3774.5032\n",
            "Epoch 138/200\n",
            "34/34 [==============================] - 0s 2ms/step - loss: 3785.3909 - mae: 3785.3909\n",
            "Epoch 139/200\n",
            "34/34 [==============================] - 0s 2ms/step - loss: 3761.1299 - mae: 3761.1299\n",
            "Epoch 140/200\n",
            "34/34 [==============================] - 0s 2ms/step - loss: 3764.1753 - mae: 3764.1753\n",
            "Epoch 141/200\n",
            "34/34 [==============================] - 0s 2ms/step - loss: 3763.9250 - mae: 3763.9250\n",
            "Epoch 142/200\n",
            "34/34 [==============================] - 0s 2ms/step - loss: 3762.7959 - mae: 3762.7959\n",
            "Epoch 143/200\n",
            "34/34 [==============================] - 0s 1ms/step - loss: 3754.4397 - mae: 3754.4397\n",
            "Epoch 144/200\n",
            "34/34 [==============================] - 0s 1ms/step - loss: 3750.3347 - mae: 3750.3347\n",
            "Epoch 145/200\n",
            "34/34 [==============================] - 0s 2ms/step - loss: 3750.4006 - mae: 3750.4006\n",
            "Epoch 146/200\n",
            "34/34 [==============================] - 0s 2ms/step - loss: 3755.4736 - mae: 3755.4736\n",
            "Epoch 147/200\n",
            "34/34 [==============================] - 0s 2ms/step - loss: 3750.3223 - mae: 3750.3223\n",
            "Epoch 148/200\n",
            "34/34 [==============================] - 0s 1ms/step - loss: 3758.1089 - mae: 3758.1089\n",
            "Epoch 149/200\n",
            "34/34 [==============================] - 0s 1ms/step - loss: 3743.4858 - mae: 3743.4858\n",
            "Epoch 150/200\n",
            "34/34 [==============================] - 0s 2ms/step - loss: 3738.5342 - mae: 3738.5342\n",
            "Epoch 151/200\n",
            "34/34 [==============================] - 0s 2ms/step - loss: 3740.1384 - mae: 3740.1384\n",
            "Epoch 152/200\n",
            "34/34 [==============================] - 0s 2ms/step - loss: 3742.4954 - mae: 3742.4954\n",
            "Epoch 153/200\n",
            "34/34 [==============================] - 0s 2ms/step - loss: 3744.4399 - mae: 3744.4399\n",
            "Epoch 154/200\n",
            "34/34 [==============================] - 0s 2ms/step - loss: 3737.1824 - mae: 3737.1824\n",
            "Epoch 155/200\n",
            "34/34 [==============================] - 0s 2ms/step - loss: 3737.6541 - mae: 3737.6541\n",
            "Epoch 156/200\n",
            "34/34 [==============================] - 0s 2ms/step - loss: 3737.1663 - mae: 3737.1663\n",
            "Epoch 157/200\n",
            "34/34 [==============================] - 0s 2ms/step - loss: 3733.1101 - mae: 3733.1101\n",
            "Epoch 158/200\n",
            "34/34 [==============================] - 0s 1ms/step - loss: 3729.5813 - mae: 3729.5813\n",
            "Epoch 159/200\n",
            "34/34 [==============================] - 0s 2ms/step - loss: 3725.9053 - mae: 3725.9053\n",
            "Epoch 160/200\n",
            "34/34 [==============================] - 0s 2ms/step - loss: 3733.2817 - mae: 3733.2817\n",
            "Epoch 161/200\n",
            "34/34 [==============================] - 0s 2ms/step - loss: 3728.2559 - mae: 3728.2559\n",
            "Epoch 162/200\n",
            "34/34 [==============================] - 0s 1ms/step - loss: 3724.5825 - mae: 3724.5825\n",
            "Epoch 163/200\n",
            "34/34 [==============================] - 0s 1ms/step - loss: 3723.0806 - mae: 3723.0806\n",
            "Epoch 164/200\n",
            "34/34 [==============================] - 0s 2ms/step - loss: 3726.9475 - mae: 3726.9475\n",
            "Epoch 165/200\n",
            "34/34 [==============================] - 0s 1ms/step - loss: 3716.5430 - mae: 3716.5430\n",
            "Epoch 166/200\n",
            "34/34 [==============================] - 0s 1ms/step - loss: 3721.9155 - mae: 3721.9155\n",
            "Epoch 167/200\n",
            "34/34 [==============================] - 0s 2ms/step - loss: 3721.1814 - mae: 3721.1814\n",
            "Epoch 168/200\n",
            "34/34 [==============================] - 0s 2ms/step - loss: 3715.2456 - mae: 3715.2456\n",
            "Epoch 169/200\n",
            "34/34 [==============================] - 0s 2ms/step - loss: 3713.9756 - mae: 3713.9756\n",
            "Epoch 170/200\n",
            "34/34 [==============================] - 0s 2ms/step - loss: 3707.9922 - mae: 3707.9922\n",
            "Epoch 171/200\n",
            "34/34 [==============================] - 0s 1ms/step - loss: 3707.4158 - mae: 3707.4158\n",
            "Epoch 172/200\n",
            "34/34 [==============================] - 0s 2ms/step - loss: 3710.6833 - mae: 3710.6833\n",
            "Epoch 173/200\n",
            "34/34 [==============================] - 0s 2ms/step - loss: 3703.3618 - mae: 3703.3618\n",
            "Epoch 174/200\n",
            "34/34 [==============================] - 0s 1ms/step - loss: 3710.9385 - mae: 3710.9385\n",
            "Epoch 175/200\n",
            "34/34 [==============================] - 0s 2ms/step - loss: 3713.0417 - mae: 3713.0417\n",
            "Epoch 176/200\n",
            "34/34 [==============================] - 0s 2ms/step - loss: 3705.0571 - mae: 3705.0571\n",
            "Epoch 177/200\n",
            "34/34 [==============================] - 0s 1ms/step - loss: 3698.9333 - mae: 3698.9333\n",
            "Epoch 178/200\n",
            "34/34 [==============================] - 0s 1ms/step - loss: 3697.9983 - mae: 3697.9983\n",
            "Epoch 179/200\n",
            "34/34 [==============================] - 0s 2ms/step - loss: 3704.9150 - mae: 3704.9150\n",
            "Epoch 180/200\n",
            "34/34 [==============================] - 0s 1ms/step - loss: 3710.3679 - mae: 3710.3679\n",
            "Epoch 181/200\n",
            "34/34 [==============================] - 0s 1ms/step - loss: 3696.6482 - mae: 3696.6482\n",
            "Epoch 182/200\n",
            "34/34 [==============================] - 0s 2ms/step - loss: 3692.7329 - mae: 3692.7329\n",
            "Epoch 183/200\n",
            "34/34 [==============================] - 0s 2ms/step - loss: 3691.1655 - mae: 3691.1655\n",
            "Epoch 184/200\n",
            "34/34 [==============================] - 0s 2ms/step - loss: 3699.2437 - mae: 3699.2437\n",
            "Epoch 185/200\n",
            "34/34 [==============================] - 0s 2ms/step - loss: 3693.2480 - mae: 3693.2480\n",
            "Epoch 186/200\n",
            "34/34 [==============================] - 0s 2ms/step - loss: 3696.1387 - mae: 3696.1387\n",
            "Epoch 187/200\n",
            "34/34 [==============================] - 0s 2ms/step - loss: 3687.8640 - mae: 3687.8640\n",
            "Epoch 188/200\n",
            "34/34 [==============================] - 0s 1ms/step - loss: 3693.3562 - mae: 3693.3562\n",
            "Epoch 189/200\n",
            "34/34 [==============================] - 0s 1ms/step - loss: 3682.7324 - mae: 3682.7324\n",
            "Epoch 190/200\n",
            "34/34 [==============================] - 0s 2ms/step - loss: 3683.2891 - mae: 3683.2891\n",
            "Epoch 191/200\n",
            "34/34 [==============================] - 0s 2ms/step - loss: 3697.6536 - mae: 3697.6536\n",
            "Epoch 192/200\n",
            "34/34 [==============================] - 0s 2ms/step - loss: 3684.6665 - mae: 3684.6665\n",
            "Epoch 193/200\n",
            "34/34 [==============================] - 0s 2ms/step - loss: 3675.5154 - mae: 3675.5154\n",
            "Epoch 194/200\n",
            "34/34 [==============================] - 0s 2ms/step - loss: 3676.3923 - mae: 3676.3923\n",
            "Epoch 195/200\n",
            "34/34 [==============================] - 0s 1ms/step - loss: 3672.8452 - mae: 3672.8452\n",
            "Epoch 196/200\n",
            "34/34 [==============================] - 0s 2ms/step - loss: 3682.0283 - mae: 3682.0283\n",
            "Epoch 197/200\n",
            "34/34 [==============================] - 0s 2ms/step - loss: 3665.7961 - mae: 3665.7961\n",
            "Epoch 198/200\n",
            "34/34 [==============================] - 0s 2ms/step - loss: 3671.7419 - mae: 3671.7419\n",
            "Epoch 199/200\n",
            "34/34 [==============================] - 0s 1ms/step - loss: 3680.5464 - mae: 3680.5464\n",
            "Epoch 200/200\n",
            "34/34 [==============================] - 0s 2ms/step - loss: 3665.6401 - mae: 3665.6401\n"
          ],
          "name": "stdout"
        }
      ]
    },
    {
      "cell_type": "code",
      "metadata": {
        "colab": {
          "base_uri": "https://localhost:8080/"
        },
        "id": "-AOJVMXD04be",
        "outputId": "ff01b430-796f-4509-cce5-b634c8bff209"
      },
      "source": [
        "insurance_model1.evaluate(x_train,y_train,verbose=2)"
      ],
      "execution_count": null,
      "outputs": [
        {
          "output_type": "stream",
          "text": [
            "34/34 - 0s - loss: 3665.3799 - mae: 3665.3799\n"
          ],
          "name": "stdout"
        },
        {
          "output_type": "execute_result",
          "data": {
            "text/plain": [
              "[3665.3798828125, 3665.3798828125]"
            ]
          },
          "metadata": {
            "tags": []
          },
          "execution_count": 68
        }
      ]
    },
    {
      "cell_type": "code",
      "metadata": {
        "colab": {
          "base_uri": "https://localhost:8080/"
        },
        "id": "nUyu37sY1SZ5",
        "outputId": "ad6378b2-1526-4a6e-8f8e-ac7826590e5d"
      },
      "source": [
        "insurance_model.evaluate(x_train,y_train,verbose=2)"
      ],
      "execution_count": null,
      "outputs": [
        {
          "output_type": "stream",
          "text": [
            "34/34 - 0s - loss: 7070.7476 - mae: 7070.7476\n"
          ],
          "name": "stdout"
        },
        {
          "output_type": "execute_result",
          "data": {
            "text/plain": [
              "[7070.74755859375, 7070.74755859375]"
            ]
          },
          "metadata": {
            "tags": []
          },
          "execution_count": 69
        }
      ]
    },
    {
      "cell_type": "code",
      "metadata": {
        "colab": {
          "base_uri": "https://localhost:8080/",
          "height": 300
        },
        "id": "N95_JFf81YwJ",
        "outputId": "5d745d84-a092-47db-9fb9-cb20d6e6dcd8"
      },
      "source": [
        "pd.DataFrame(history.history).plot()\n",
        "plt.figure(figsize=(10,10))\n"
      ],
      "execution_count": null,
      "outputs": [
        {
          "output_type": "execute_result",
          "data": {
            "text/plain": [
              "<Figure size 720x720 with 0 Axes>"
            ]
          },
          "metadata": {
            "tags": []
          },
          "execution_count": 70
        },
        {
          "output_type": "display_data",
          "data": {
            "image/png": "[encoded data removed]",
            "text/plain": [
              "<Figure size 432x288 with 1 Axes>"
            ]
          },
          "metadata": {
            "tags": [],
            "needs_background": "light"
          }
        },
        {
          "output_type": "display_data",
          "data": {
            "text/plain": [
              "<Figure size 720x720 with 0 Axes>"
            ]
          },
          "metadata": {
            "tags": []
          }
        }
      ]
    },
    {
      "cell_type": "code",
      "metadata": {
        "colab": {
          "base_uri": "https://localhost:8080/",
          "height": 282
        },
        "id": "0qgd2bSx8V-U",
        "outputId": "3fc2104d-f3ce-4934-fc91-69c56049c36b"
      },
      "source": [
        "pd.DataFrame(history.history).plot()"
      ],
      "execution_count": null,
      "outputs": [
        {
          "output_type": "execute_result",
          "data": {
            "text/plain": [
              "<matplotlib.axes._subplots.AxesSubplot at 0x7f0b371479d0>"
            ]
          },
          "metadata": {
            "tags": []
          },
          "execution_count": 71
        },
        {
          "output_type": "display_data",
          "data": {
            "image/png": "[encoded data removed]",
            "text/plain": [
              "<Figure size 432x288 with 1 Axes>"
            ]
          },
          "metadata": {
            "tags": [],
            "needs_background": "light"
          }
        }
      ]
    },
    {
      "cell_type": "code",
      "metadata": {
        "id": "5W1Ebwtorzd3"
      },
      "source": [
        "h=tf.range(0,10000,2)\n",
        "e=tf.range(10,10010,2)\n",
        "h_train=h[:4000]\n",
        "e_train=e[:4000]\n",
        "h_test=h[4000:]\n",
        "e_test=e[4000:]"
      ],
      "execution_count": null,
      "outputs": []
    },
    {
      "cell_type": "code",
      "metadata": {
        "colab": {
          "base_uri": "https://localhost:8080/"
        },
        "id": "Foa7sSC3v4AH",
        "outputId": "1f549c59-c680-44e0-f929-5d638a9be260"
      },
      "source": [
        "50*80\n"
      ],
      "execution_count": null,
      "outputs": [
        {
          "output_type": "execute_result",
          "data": {
            "text/plain": [
              "4000"
            ]
          },
          "metadata": {
            "tags": []
          },
          "execution_count": 73
        }
      ]
    },
    {
      "cell_type": "code",
      "metadata": {
        "colab": {
          "base_uri": "https://localhost:8080/"
        },
        "id": "glc2p8V3sisn",
        "outputId": "7d930deb-34a2-4303-ed7b-dea99ec552ec"
      },
      "source": [
        "len(h),len(e)"
      ],
      "execution_count": null,
      "outputs": [
        {
          "output_type": "execute_result",
          "data": {
            "text/plain": [
              "(5000, 5000)"
            ]
          },
          "metadata": {
            "tags": []
          },
          "execution_count": 74
        }
      ]
    },
    {
      "cell_type": "code",
      "metadata": {
        "colab": {
          "base_uri": "https://localhost:8080/"
        },
        "id": "Twm4OJEusowl",
        "outputId": "de6dcfab-6fd6-4888-998b-ba55ef712b5b"
      },
      "source": [
        "e==h+10"
      ],
      "execution_count": null,
      "outputs": [
        {
          "output_type": "execute_result",
          "data": {
            "text/plain": [
              "<tf.Tensor: shape=(5000,), dtype=bool, numpy=array([ True,  True,  True, ...,  True,  True,  True])>"
            ]
          },
          "metadata": {
            "tags": []
          },
          "execution_count": 75
        }
      ]
    },
    {
      "cell_type": "code",
      "metadata": {
        "colab": {
          "base_uri": "https://localhost:8080/"
        },
        "id": "iGXFVtjOsvOD",
        "outputId": "602c7dcc-c829-4bca-bbf0-1c5703368c2a"
      },
      "source": [
        "model=tf.keras.Sequential([\n",
        "                           tf.keras.layers.Dense(100),\n",
        "                           tf.keras.layers.Dense(100),\n",
        "                           tf.keras.layers.Dense(10),\n",
        "                           tf.keras.layers.Dense(1)\n",
        "])\n",
        "model.compile(loss=tf.keras.losses.mae,\n",
        "              optimizer=tf.keras.optimizers.Adam(),\n",
        "              metrics=[\"mae\"])\n",
        "jet=model.fit(h_train,e_train,epochs=200,verbose=1)"
      ],
      "execution_count": null,
      "outputs": [
        {
          "output_type": "stream",
          "text": [
            "Epoch 1/200\n",
            "125/125 [==============================] - 1s 2ms/step - loss: 170.0387 - mae: 170.0387\n",
            "Epoch 2/200\n",
            "125/125 [==============================] - 0s 2ms/step - loss: 66.5815 - mae: 66.5815\n",
            "Epoch 3/200\n",
            "125/125 [==============================] - 0s 2ms/step - loss: 66.9125 - mae: 66.9125\n",
            "Epoch 4/200\n",
            "125/125 [==============================] - 0s 2ms/step - loss: 37.2671 - mae: 37.2671\n",
            "Epoch 5/200\n",
            "125/125 [==============================] - 0s 2ms/step - loss: 58.3413 - mae: 58.3413\n",
            "Epoch 6/200\n",
            "125/125 [==============================] - 0s 2ms/step - loss: 42.6373 - mae: 42.6373\n",
            "Epoch 7/200\n",
            "125/125 [==============================] - 0s 2ms/step - loss: 46.9440 - mae: 46.9440\n",
            "Epoch 8/200\n",
            "125/125 [==============================] - 0s 2ms/step - loss: 63.5183 - mae: 63.5183\n",
            "Epoch 9/200\n",
            "125/125 [==============================] - 0s 2ms/step - loss: 34.0941 - mae: 34.0941\n",
            "Epoch 10/200\n",
            "125/125 [==============================] - 0s 2ms/step - loss: 47.6881 - mae: 47.6881\n",
            "Epoch 11/200\n",
            "125/125 [==============================] - 0s 2ms/step - loss: 56.8156 - mae: 56.8156\n",
            "Epoch 12/200\n",
            "125/125 [==============================] - 0s 2ms/step - loss: 41.2572 - mae: 41.2572\n",
            "Epoch 13/200\n",
            "125/125 [==============================] - 0s 2ms/step - loss: 46.1684 - mae: 46.1684\n",
            "Epoch 14/200\n",
            "125/125 [==============================] - 0s 2ms/step - loss: 43.5139 - mae: 43.5139\n",
            "Epoch 15/200\n",
            "125/125 [==============================] - 0s 2ms/step - loss: 36.6688 - mae: 36.6688\n",
            "Epoch 16/200\n",
            "125/125 [==============================] - 0s 2ms/step - loss: 29.7744 - mae: 29.7744\n",
            "Epoch 17/200\n",
            "125/125 [==============================] - 0s 2ms/step - loss: 34.4768 - mae: 34.4768\n",
            "Epoch 18/200\n",
            "125/125 [==============================] - 0s 2ms/step - loss: 39.6939 - mae: 39.6939\n",
            "Epoch 19/200\n",
            "125/125 [==============================] - 0s 2ms/step - loss: 42.3375 - mae: 42.3375\n",
            "Epoch 20/200\n",
            "125/125 [==============================] - 0s 2ms/step - loss: 28.8423 - mae: 28.8423\n",
            "Epoch 21/200\n",
            "125/125 [==============================] - 0s 2ms/step - loss: 24.6312 - mae: 24.6312\n",
            "Epoch 22/200\n",
            "125/125 [==============================] - 0s 2ms/step - loss: 32.2300 - mae: 32.2300\n",
            "Epoch 23/200\n",
            "125/125 [==============================] - 0s 2ms/step - loss: 31.3007 - mae: 31.3007\n",
            "Epoch 24/200\n",
            "125/125 [==============================] - 0s 2ms/step - loss: 23.4219 - mae: 23.4219\n",
            "Epoch 25/200\n",
            "125/125 [==============================] - 0s 2ms/step - loss: 22.2444 - mae: 22.2444\n",
            "Epoch 26/200\n",
            "125/125 [==============================] - 0s 2ms/step - loss: 33.3896 - mae: 33.3896\n",
            "Epoch 27/200\n",
            "125/125 [==============================] - 0s 2ms/step - loss: 30.5710 - mae: 30.5710\n",
            "Epoch 28/200\n",
            "125/125 [==============================] - 0s 2ms/step - loss: 29.9065 - mae: 29.9065\n",
            "Epoch 29/200\n",
            "125/125 [==============================] - 0s 2ms/step - loss: 26.0479 - mae: 26.0479\n",
            "Epoch 30/200\n",
            "125/125 [==============================] - 0s 2ms/step - loss: 23.8527 - mae: 23.8527\n",
            "Epoch 31/200\n",
            "125/125 [==============================] - 0s 2ms/step - loss: 28.1347 - mae: 28.1347\n",
            "Epoch 32/200\n",
            "125/125 [==============================] - 0s 2ms/step - loss: 25.5757 - mae: 25.5757\n",
            "Epoch 33/200\n",
            "125/125 [==============================] - 0s 2ms/step - loss: 31.3383 - mae: 31.3383\n",
            "Epoch 34/200\n",
            "125/125 [==============================] - 0s 2ms/step - loss: 22.8103 - mae: 22.8103\n",
            "Epoch 35/200\n",
            "125/125 [==============================] - 0s 2ms/step - loss: 29.5798 - mae: 29.5798\n",
            "Epoch 36/200\n",
            "125/125 [==============================] - 0s 2ms/step - loss: 24.2509 - mae: 24.2509\n",
            "Epoch 37/200\n",
            "125/125 [==============================] - 0s 2ms/step - loss: 31.7020 - mae: 31.7020\n",
            "Epoch 38/200\n",
            "125/125 [==============================] - 0s 2ms/step - loss: 55.7590 - mae: 55.7590\n",
            "Epoch 39/200\n",
            "125/125 [==============================] - 0s 2ms/step - loss: 23.4436 - mae: 23.4436\n",
            "Epoch 40/200\n",
            "125/125 [==============================] - 0s 2ms/step - loss: 34.7936 - mae: 34.7936\n",
            "Epoch 41/200\n",
            "125/125 [==============================] - 0s 2ms/step - loss: 37.6049 - mae: 37.6049\n",
            "Epoch 42/200\n",
            "125/125 [==============================] - 0s 2ms/step - loss: 24.9737 - mae: 24.9737\n",
            "Epoch 43/200\n",
            "125/125 [==============================] - 0s 2ms/step - loss: 21.4731 - mae: 21.4731\n",
            "Epoch 44/200\n",
            "125/125 [==============================] - 0s 2ms/step - loss: 26.4422 - mae: 26.4422\n",
            "Epoch 45/200\n",
            "125/125 [==============================] - 0s 2ms/step - loss: 15.7828 - mae: 15.7828\n",
            "Epoch 46/200\n",
            "125/125 [==============================] - 0s 2ms/step - loss: 33.2091 - mae: 33.2091\n",
            "Epoch 47/200\n",
            "125/125 [==============================] - 0s 2ms/step - loss: 19.4833 - mae: 19.4833\n",
            "Epoch 48/200\n",
            "125/125 [==============================] - 0s 2ms/step - loss: 32.1951 - mae: 32.1951\n",
            "Epoch 49/200\n",
            "125/125 [==============================] - 0s 2ms/step - loss: 26.4808 - mae: 26.4808\n",
            "Epoch 50/200\n",
            "125/125 [==============================] - 0s 2ms/step - loss: 12.4971 - mae: 12.4971\n",
            "Epoch 51/200\n",
            "125/125 [==============================] - 0s 2ms/step - loss: 31.5705 - mae: 31.5705\n",
            "Epoch 52/200\n",
            "125/125 [==============================] - 0s 2ms/step - loss: 18.8182 - mae: 18.8182\n",
            "Epoch 53/200\n",
            "125/125 [==============================] - 0s 2ms/step - loss: 20.8799 - mae: 20.8799\n",
            "Epoch 54/200\n",
            "125/125 [==============================] - 0s 2ms/step - loss: 33.8021 - mae: 33.8021\n",
            "Epoch 55/200\n",
            "125/125 [==============================] - 0s 2ms/step - loss: 27.7073 - mae: 27.7073\n",
            "Epoch 56/200\n",
            "125/125 [==============================] - 0s 2ms/step - loss: 33.4538 - mae: 33.4538\n",
            "Epoch 57/200\n",
            "125/125 [==============================] - 0s 2ms/step - loss: 18.4298 - mae: 18.4298\n",
            "Epoch 58/200\n",
            "125/125 [==============================] - 0s 2ms/step - loss: 46.2344 - mae: 46.2344\n",
            "Epoch 59/200\n",
            "125/125 [==============================] - 0s 2ms/step - loss: 18.2549 - mae: 18.2549\n",
            "Epoch 60/200\n",
            "125/125 [==============================] - 0s 2ms/step - loss: 23.9117 - mae: 23.9117\n",
            "Epoch 61/200\n",
            "125/125 [==============================] - 0s 2ms/step - loss: 26.5130 - mae: 26.5130\n",
            "Epoch 62/200\n",
            "125/125 [==============================] - 0s 2ms/step - loss: 25.4055 - mae: 25.4055\n",
            "Epoch 63/200\n",
            "125/125 [==============================] - 0s 2ms/step - loss: 19.2082 - mae: 19.2082\n",
            "Epoch 64/200\n",
            "125/125 [==============================] - 0s 2ms/step - loss: 27.3571 - mae: 27.3571\n",
            "Epoch 65/200\n",
            "125/125 [==============================] - 0s 2ms/step - loss: 29.8013 - mae: 29.8013\n",
            "Epoch 66/200\n",
            "125/125 [==============================] - 0s 2ms/step - loss: 21.1895 - mae: 21.1895\n",
            "Epoch 67/200\n",
            "125/125 [==============================] - 0s 2ms/step - loss: 31.5107 - mae: 31.5107\n",
            "Epoch 68/200\n",
            "125/125 [==============================] - 0s 2ms/step - loss: 16.4265 - mae: 16.4265\n",
            "Epoch 69/200\n",
            "125/125 [==============================] - 0s 2ms/step - loss: 26.0997 - mae: 26.0997\n",
            "Epoch 70/200\n",
            "125/125 [==============================] - 0s 2ms/step - loss: 17.3963 - mae: 17.3963\n",
            "Epoch 71/200\n",
            "125/125 [==============================] - 0s 2ms/step - loss: 16.5216 - mae: 16.5216\n",
            "Epoch 72/200\n",
            "125/125 [==============================] - 0s 2ms/step - loss: 16.1916 - mae: 16.1916\n",
            "Epoch 73/200\n",
            "125/125 [==============================] - 0s 2ms/step - loss: 41.2007 - mae: 41.2007\n",
            "Epoch 74/200\n",
            "125/125 [==============================] - 0s 2ms/step - loss: 28.9897 - mae: 28.9897\n",
            "Epoch 75/200\n",
            "125/125 [==============================] - 0s 2ms/step - loss: 26.5491 - mae: 26.5491\n",
            "Epoch 76/200\n",
            "125/125 [==============================] - 0s 2ms/step - loss: 27.2768 - mae: 27.2768\n",
            "Epoch 77/200\n",
            "125/125 [==============================] - 0s 2ms/step - loss: 17.3822 - mae: 17.3822\n",
            "Epoch 78/200\n",
            "125/125 [==============================] - 0s 2ms/step - loss: 25.7801 - mae: 25.7801\n",
            "Epoch 79/200\n",
            "125/125 [==============================] - 0s 2ms/step - loss: 23.6851 - mae: 23.6851\n",
            "Epoch 80/200\n",
            "125/125 [==============================] - 0s 2ms/step - loss: 26.8939 - mae: 26.8939\n",
            "Epoch 81/200\n",
            "125/125 [==============================] - 0s 2ms/step - loss: 23.0180 - mae: 23.0180\n",
            "Epoch 82/200\n",
            "125/125 [==============================] - 0s 2ms/step - loss: 25.5340 - mae: 25.5340\n",
            "Epoch 83/200\n",
            "125/125 [==============================] - 0s 2ms/step - loss: 28.5972 - mae: 28.5972\n",
            "Epoch 84/200\n",
            "125/125 [==============================] - 0s 2ms/step - loss: 22.1378 - mae: 22.1378\n",
            "Epoch 85/200\n",
            "125/125 [==============================] - 0s 2ms/step - loss: 17.7853 - mae: 17.7853\n",
            "Epoch 86/200\n",
            "125/125 [==============================] - 0s 2ms/step - loss: 16.4078 - mae: 16.4078\n",
            "Epoch 87/200\n",
            "125/125 [==============================] - 0s 2ms/step - loss: 23.0179 - mae: 23.0179\n",
            "Epoch 88/200\n",
            "125/125 [==============================] - 0s 2ms/step - loss: 19.4224 - mae: 19.4224\n",
            "Epoch 89/200\n",
            "125/125 [==============================] - 0s 2ms/step - loss: 27.0987 - mae: 27.0987\n",
            "Epoch 90/200\n",
            "125/125 [==============================] - 0s 2ms/step - loss: 18.1273 - mae: 18.1273\n",
            "Epoch 91/200\n",
            "125/125 [==============================] - 0s 2ms/step - loss: 28.6362 - mae: 28.6362\n",
            "Epoch 92/200\n",
            "125/125 [==============================] - 0s 2ms/step - loss: 21.8167 - mae: 21.8167\n",
            "Epoch 93/200\n",
            "125/125 [==============================] - 0s 2ms/step - loss: 16.0450 - mae: 16.0450\n",
            "Epoch 94/200\n",
            "125/125 [==============================] - 0s 2ms/step - loss: 21.6602 - mae: 21.6602\n",
            "Epoch 95/200\n",
            "125/125 [==============================] - 0s 2ms/step - loss: 25.9867 - mae: 25.9867\n",
            "Epoch 96/200\n",
            "125/125 [==============================] - 0s 2ms/step - loss: 16.1475 - mae: 16.1475\n",
            "Epoch 97/200\n",
            "125/125 [==============================] - 0s 2ms/step - loss: 29.8295 - mae: 29.8295\n",
            "Epoch 98/200\n",
            "125/125 [==============================] - 0s 2ms/step - loss: 25.6995 - mae: 25.6995\n",
            "Epoch 99/200\n",
            "125/125 [==============================] - 0s 2ms/step - loss: 23.6846 - mae: 23.6846\n",
            "Epoch 100/200\n",
            "125/125 [==============================] - 0s 2ms/step - loss: 20.9371 - mae: 20.9371\n",
            "Epoch 101/200\n",
            "125/125 [==============================] - 0s 2ms/step - loss: 16.8185 - mae: 16.8185\n",
            "Epoch 102/200\n",
            "125/125 [==============================] - 0s 2ms/step - loss: 17.8035 - mae: 17.8035\n",
            "Epoch 103/200\n",
            "125/125 [==============================] - 0s 2ms/step - loss: 18.6935 - mae: 18.6935\n",
            "Epoch 104/200\n",
            "125/125 [==============================] - 0s 2ms/step - loss: 21.1463 - mae: 21.1463\n",
            "Epoch 105/200\n",
            "125/125 [==============================] - 0s 2ms/step - loss: 22.1351 - mae: 22.1351\n",
            "Epoch 106/200\n",
            "125/125 [==============================] - 0s 2ms/step - loss: 18.7003 - mae: 18.7003\n",
            "Epoch 107/200\n",
            "125/125 [==============================] - 0s 2ms/step - loss: 13.1357 - mae: 13.1357\n",
            "Epoch 108/200\n",
            "125/125 [==============================] - 0s 2ms/step - loss: 12.2754 - mae: 12.2754\n",
            "Epoch 109/200\n",
            "125/125 [==============================] - 0s 2ms/step - loss: 13.9739 - mae: 13.9739\n",
            "Epoch 110/200\n",
            "125/125 [==============================] - 0s 2ms/step - loss: 27.4164 - mae: 27.4164\n",
            "Epoch 111/200\n",
            "125/125 [==============================] - 0s 2ms/step - loss: 15.9775 - mae: 15.9775\n",
            "Epoch 112/200\n",
            "125/125 [==============================] - 0s 2ms/step - loss: 14.0361 - mae: 14.0361\n",
            "Epoch 113/200\n",
            "125/125 [==============================] - 0s 2ms/step - loss: 16.4038 - mae: 16.4038\n",
            "Epoch 114/200\n",
            "125/125 [==============================] - 0s 2ms/step - loss: 23.2919 - mae: 23.2919\n",
            "Epoch 115/200\n",
            "125/125 [==============================] - 0s 2ms/step - loss: 18.1377 - mae: 18.1377\n",
            "Epoch 116/200\n",
            "125/125 [==============================] - 0s 2ms/step - loss: 17.9751 - mae: 17.9751\n",
            "Epoch 117/200\n",
            "125/125 [==============================] - 0s 2ms/step - loss: 16.3366 - mae: 16.3366\n",
            "Epoch 118/200\n",
            "125/125 [==============================] - 0s 2ms/step - loss: 15.9955 - mae: 15.9955\n",
            "Epoch 119/200\n",
            "125/125 [==============================] - 0s 2ms/step - loss: 25.5180 - mae: 25.5180\n",
            "Epoch 120/200\n",
            "125/125 [==============================] - 0s 2ms/step - loss: 17.0921 - mae: 17.0921\n",
            "Epoch 121/200\n",
            "125/125 [==============================] - 0s 2ms/step - loss: 23.9948 - mae: 23.9948\n",
            "Epoch 122/200\n",
            "125/125 [==============================] - 0s 2ms/step - loss: 18.1154 - mae: 18.1154\n",
            "Epoch 123/200\n",
            "125/125 [==============================] - 0s 2ms/step - loss: 13.3980 - mae: 13.3980\n",
            "Epoch 124/200\n",
            "125/125 [==============================] - 0s 2ms/step - loss: 27.0881 - mae: 27.0881\n",
            "Epoch 125/200\n",
            "125/125 [==============================] - 0s 2ms/step - loss: 18.6946 - mae: 18.6946\n",
            "Epoch 126/200\n",
            "125/125 [==============================] - 0s 2ms/step - loss: 27.5178 - mae: 27.5178\n",
            "Epoch 127/200\n",
            "125/125 [==============================] - 0s 2ms/step - loss: 25.4918 - mae: 25.4918\n",
            "Epoch 128/200\n",
            "125/125 [==============================] - 0s 2ms/step - loss: 19.0565 - mae: 19.0565\n",
            "Epoch 129/200\n",
            "125/125 [==============================] - 0s 2ms/step - loss: 28.7458 - mae: 28.7458\n",
            "Epoch 130/200\n",
            "125/125 [==============================] - 0s 2ms/step - loss: 15.3714 - mae: 15.3714\n",
            "Epoch 131/200\n",
            "125/125 [==============================] - 0s 2ms/step - loss: 21.7940 - mae: 21.7940\n",
            "Epoch 132/200\n",
            "125/125 [==============================] - 0s 2ms/step - loss: 20.7581 - mae: 20.7581\n",
            "Epoch 133/200\n",
            "125/125 [==============================] - 0s 2ms/step - loss: 18.2376 - mae: 18.2376\n",
            "Epoch 134/200\n",
            "125/125 [==============================] - 0s 2ms/step - loss: 20.5535 - mae: 20.5535\n",
            "Epoch 135/200\n",
            "125/125 [==============================] - 0s 2ms/step - loss: 20.5293 - mae: 20.5293\n",
            "Epoch 136/200\n",
            "125/125 [==============================] - 0s 2ms/step - loss: 19.8523 - mae: 19.8523\n",
            "Epoch 137/200\n",
            "125/125 [==============================] - 0s 2ms/step - loss: 21.3847 - mae: 21.3847\n",
            "Epoch 138/200\n",
            "125/125 [==============================] - 0s 2ms/step - loss: 18.4831 - mae: 18.4831\n",
            "Epoch 139/200\n",
            "125/125 [==============================] - 0s 2ms/step - loss: 18.4051 - mae: 18.4051\n",
            "Epoch 140/200\n",
            "125/125 [==============================] - 0s 2ms/step - loss: 14.7197 - mae: 14.7197\n",
            "Epoch 141/200\n",
            "125/125 [==============================] - 0s 2ms/step - loss: 13.0256 - mae: 13.0256\n",
            "Epoch 142/200\n",
            "125/125 [==============================] - 0s 2ms/step - loss: 14.4315 - mae: 14.4315\n",
            "Epoch 143/200\n",
            "125/125 [==============================] - 0s 2ms/step - loss: 17.7363 - mae: 17.7363\n",
            "Epoch 144/200\n",
            "125/125 [==============================] - 0s 2ms/step - loss: 19.7523 - mae: 19.7523\n",
            "Epoch 145/200\n",
            "125/125 [==============================] - 0s 2ms/step - loss: 20.3951 - mae: 20.3951\n",
            "Epoch 146/200\n",
            "125/125 [==============================] - 0s 2ms/step - loss: 15.3695 - mae: 15.3695\n",
            "Epoch 147/200\n",
            "125/125 [==============================] - 0s 2ms/step - loss: 13.2801 - mae: 13.2801\n",
            "Epoch 148/200\n",
            "125/125 [==============================] - 0s 2ms/step - loss: 20.3445 - mae: 20.3445\n",
            "Epoch 149/200\n",
            "125/125 [==============================] - 0s 2ms/step - loss: 16.7499 - mae: 16.7499\n",
            "Epoch 150/200\n",
            "125/125 [==============================] - 0s 2ms/step - loss: 16.3365 - mae: 16.3365\n",
            "Epoch 151/200\n",
            "125/125 [==============================] - 0s 2ms/step - loss: 18.7762 - mae: 18.7762\n",
            "Epoch 152/200\n",
            "125/125 [==============================] - 0s 2ms/step - loss: 23.7717 - mae: 23.7717\n",
            "Epoch 153/200\n",
            "125/125 [==============================] - 0s 2ms/step - loss: 19.8937 - mae: 19.8937\n",
            "Epoch 154/200\n",
            "125/125 [==============================] - 0s 2ms/step - loss: 13.0009 - mae: 13.0009\n",
            "Epoch 155/200\n",
            "125/125 [==============================] - 0s 2ms/step - loss: 16.2853 - mae: 16.2853\n",
            "Epoch 156/200\n",
            "125/125 [==============================] - 0s 2ms/step - loss: 15.5320 - mae: 15.5320\n",
            "Epoch 157/200\n",
            "125/125 [==============================] - 0s 2ms/step - loss: 21.7103 - mae: 21.7103\n",
            "Epoch 158/200\n",
            "125/125 [==============================] - 0s 2ms/step - loss: 15.3508 - mae: 15.3508\n",
            "Epoch 159/200\n",
            "125/125 [==============================] - 0s 2ms/step - loss: 16.6595 - mae: 16.6595\n",
            "Epoch 160/200\n",
            "125/125 [==============================] - 0s 2ms/step - loss: 13.1478 - mae: 13.1478\n",
            "Epoch 161/200\n",
            "125/125 [==============================] - 0s 2ms/step - loss: 15.9376 - mae: 15.9376\n",
            "Epoch 162/200\n",
            "125/125 [==============================] - 0s 2ms/step - loss: 18.6039 - mae: 18.6039\n",
            "Epoch 163/200\n",
            "125/125 [==============================] - 0s 2ms/step - loss: 16.0342 - mae: 16.0342\n",
            "Epoch 164/200\n",
            "125/125 [==============================] - 0s 2ms/step - loss: 11.8581 - mae: 11.8581\n",
            "Epoch 165/200\n",
            "125/125 [==============================] - 0s 2ms/step - loss: 24.0880 - mae: 24.0880\n",
            "Epoch 166/200\n",
            "125/125 [==============================] - 0s 2ms/step - loss: 17.5821 - mae: 17.5821\n",
            "Epoch 167/200\n",
            "125/125 [==============================] - 0s 2ms/step - loss: 20.9236 - mae: 20.9236\n",
            "Epoch 168/200\n",
            "125/125 [==============================] - 0s 2ms/step - loss: 16.8815 - mae: 16.8815\n",
            "Epoch 169/200\n",
            "125/125 [==============================] - 0s 2ms/step - loss: 26.2310 - mae: 26.2310\n",
            "Epoch 170/200\n",
            "125/125 [==============================] - 0s 2ms/step - loss: 10.8682 - mae: 10.8682\n",
            "Epoch 171/200\n",
            "125/125 [==============================] - 0s 2ms/step - loss: 23.0920 - mae: 23.0920\n",
            "Epoch 172/200\n",
            "125/125 [==============================] - 0s 2ms/step - loss: 18.8921 - mae: 18.8921\n",
            "Epoch 173/200\n",
            "125/125 [==============================] - 0s 2ms/step - loss: 15.6752 - mae: 15.6752\n",
            "Epoch 174/200\n",
            "125/125 [==============================] - 0s 2ms/step - loss: 15.9373 - mae: 15.9373\n",
            "Epoch 175/200\n",
            "125/125 [==============================] - 0s 2ms/step - loss: 18.9404 - mae: 18.9404\n",
            "Epoch 176/200\n",
            "125/125 [==============================] - 0s 2ms/step - loss: 21.9590 - mae: 21.9590\n",
            "Epoch 177/200\n",
            "125/125 [==============================] - 0s 2ms/step - loss: 16.0794 - mae: 16.0794\n",
            "Epoch 178/200\n",
            "125/125 [==============================] - 0s 2ms/step - loss: 12.2435 - mae: 12.2435\n",
            "Epoch 179/200\n",
            "125/125 [==============================] - 0s 2ms/step - loss: 20.2394 - mae: 20.2394\n",
            "Epoch 180/200\n",
            "125/125 [==============================] - 0s 2ms/step - loss: 18.7403 - mae: 18.7403\n",
            "Epoch 181/200\n",
            "125/125 [==============================] - 0s 2ms/step - loss: 17.8372 - mae: 17.8372\n",
            "Epoch 182/200\n",
            "125/125 [==============================] - 0s 2ms/step - loss: 20.6663 - mae: 20.6663\n",
            "Epoch 183/200\n",
            "125/125 [==============================] - 0s 2ms/step - loss: 23.0195 - mae: 23.0195\n",
            "Epoch 184/200\n",
            "125/125 [==============================] - 0s 2ms/step - loss: 13.3933 - mae: 13.3933\n",
            "Epoch 185/200\n",
            "125/125 [==============================] - 0s 2ms/step - loss: 15.9816 - mae: 15.9816\n",
            "Epoch 186/200\n",
            "125/125 [==============================] - 0s 2ms/step - loss: 13.3164 - mae: 13.3164\n",
            "Epoch 187/200\n",
            "125/125 [==============================] - 0s 2ms/step - loss: 15.1604 - mae: 15.1604\n",
            "Epoch 188/200\n",
            "125/125 [==============================] - 0s 2ms/step - loss: 24.6032 - mae: 24.6032\n",
            "Epoch 189/200\n",
            "125/125 [==============================] - 0s 2ms/step - loss: 20.6639 - mae: 20.6639\n",
            "Epoch 190/200\n",
            "125/125 [==============================] - 0s 2ms/step - loss: 15.6160 - mae: 15.6160\n",
            "Epoch 191/200\n",
            "125/125 [==============================] - 0s 2ms/step - loss: 13.8082 - mae: 13.8082\n",
            "Epoch 192/200\n",
            "125/125 [==============================] - 0s 2ms/step - loss: 21.1731 - mae: 21.1731\n",
            "Epoch 193/200\n",
            "125/125 [==============================] - 0s 2ms/step - loss: 14.1815 - mae: 14.1815\n",
            "Epoch 194/200\n",
            "125/125 [==============================] - 0s 2ms/step - loss: 15.5825 - mae: 15.5825\n",
            "Epoch 195/200\n",
            "125/125 [==============================] - 0s 2ms/step - loss: 15.2865 - mae: 15.2865\n",
            "Epoch 196/200\n",
            "125/125 [==============================] - 0s 2ms/step - loss: 13.4340 - mae: 13.4340\n",
            "Epoch 197/200\n",
            "125/125 [==============================] - 0s 2ms/step - loss: 19.0719 - mae: 19.0719\n",
            "Epoch 198/200\n",
            "125/125 [==============================] - 0s 2ms/step - loss: 27.1806 - mae: 27.1806\n",
            "Epoch 199/200\n",
            "125/125 [==============================] - 0s 2ms/step - loss: 18.0533 - mae: 18.0533\n",
            "Epoch 200/200\n",
            "125/125 [==============================] - 0s 2ms/step - loss: 17.0033 - mae: 17.0033\n"
          ],
          "name": "stdout"
        }
      ]
    },
    {
      "cell_type": "code",
      "metadata": {
        "colab": {
          "base_uri": "https://localhost:8080/",
          "height": 282
        },
        "id": "3AslznyQwV3P",
        "outputId": "aa144a8d-90a3-44f7-a926-ef45db04447e"
      },
      "source": [
        "  pd.DataFrame(jet.history).plot()"
      ],
      "execution_count": null,
      "outputs": [
        {
          "output_type": "execute_result",
          "data": {
            "text/plain": [
              "<matplotlib.axes._subplots.AxesSubplot at 0x7f0b36f92f90>"
            ]
          },
          "metadata": {
            "tags": []
          },
          "execution_count": 77
        },
        {
          "output_type": "display_data",
          "data": {
            "image/png": "[encoded data removed]",
            "text/plain": [
              "<Figure size 432x288 with 1 Axes>"
            ]
          },
          "metadata": {
            "tags": [],
            "needs_background": "light"
          }
        }
      ]
    },
    {
      "cell_type": "code",
      "metadata": {
        "colab": {
          "base_uri": "https://localhost:8080/",
          "height": 414
        },
        "id": "7Vdh93rgwnvv",
        "outputId": "25850012-57af-463e-f292-e369a4e4a246"
      },
      "source": [
        "pd.DataFrame(jet.history)"
      ],
      "execution_count": null,
      "outputs": [
        {
          "output_type": "execute_result",
          "data": {
            "text/html": [
              "<div>\n",
              "<style scoped>\n",
              "    .dataframe tbody tr th:only-of-type {\n",
              "        vertical-align: middle;\n",
              "    }\n",
              "\n",
              "    .dataframe tbody tr th {\n",
              "        vertical-align: top;\n",
              "    }\n",
              "\n",
              "    .dataframe thead th {\n",
              "        text-align: right;\n",
              "    }\n",
              "</style>\n",
              "<table border=\"1\" class=\"dataframe\">\n",
              "  <thead>\n",
              "    <tr style=\"text-align: right;\">\n",
              "      <th></th>\n",
              "      <th>loss</th>\n",
              "      <th>mae</th>\n",
              "    </tr>\n",
              "  </thead>\n",
              "  <tbody>\n",
              "    <tr>\n",
              "      <th>0</th>\n",
              "      <td>170.038712</td>\n",
              "      <td>170.038712</td>\n",
              "    </tr>\n",
              "    <tr>\n",
              "      <th>1</th>\n",
              "      <td>66.581474</td>\n",
              "      <td>66.581474</td>\n",
              "    </tr>\n",
              "    <tr>\n",
              "      <th>2</th>\n",
              "      <td>66.912453</td>\n",
              "      <td>66.912453</td>\n",
              "    </tr>\n",
              "    <tr>\n",
              "      <th>3</th>\n",
              "      <td>37.267128</td>\n",
              "      <td>37.267128</td>\n",
              "    </tr>\n",
              "    <tr>\n",
              "      <th>4</th>\n",
              "      <td>58.341255</td>\n",
              "      <td>58.341255</td>\n",
              "    </tr>\n",
              "    <tr>\n",
              "      <th>...</th>\n",
              "      <td>...</td>\n",
              "      <td>...</td>\n",
              "    </tr>\n",
              "    <tr>\n",
              "      <th>195</th>\n",
              "      <td>13.433952</td>\n",
              "      <td>13.433952</td>\n",
              "    </tr>\n",
              "    <tr>\n",
              "      <th>196</th>\n",
              "      <td>19.071852</td>\n",
              "      <td>19.071852</td>\n",
              "    </tr>\n",
              "    <tr>\n",
              "      <th>197</th>\n",
              "      <td>27.180576</td>\n",
              "      <td>27.180576</td>\n",
              "    </tr>\n",
              "    <tr>\n",
              "      <th>198</th>\n",
              "      <td>18.053318</td>\n",
              "      <td>18.053318</td>\n",
              "    </tr>\n",
              "    <tr>\n",
              "      <th>199</th>\n",
              "      <td>17.003323</td>\n",
              "      <td>17.003323</td>\n",
              "    </tr>\n",
              "  </tbody>\n",
              "</table>\n",
              "<p>200 rows × 2 columns</p>\n",
              "</div>"
            ],
            "text/plain": [
              "           loss         mae\n",
              "0    170.038712  170.038712\n",
              "1     66.581474   66.581474\n",
              "2     66.912453   66.912453\n",
              "3     37.267128   37.267128\n",
              "4     58.341255   58.341255\n",
              "..          ...         ...\n",
              "195   13.433952   13.433952\n",
              "196   19.071852   19.071852\n",
              "197   27.180576   27.180576\n",
              "198   18.053318   18.053318\n",
              "199   17.003323   17.003323\n",
              "\n",
              "[200 rows x 2 columns]"
            ]
          },
          "metadata": {
            "tags": []
          },
          "execution_count": 78
        }
      ]
    },
    {
      "cell_type": "code",
      "metadata": {
        "colab": {
          "base_uri": "https://localhost:8080/",
          "height": 508
        },
        "id": "OLyXZniGyZa3",
        "outputId": "1bb2e180-b207-4697-d34e-d3da2f316245"
      },
      "source": [
        "insurance[:15]"
      ],
      "execution_count": null,
      "outputs": [
        {
          "output_type": "execute_result",
          "data": {
            "text/html": [
              "<div>\n",
              "<style scoped>\n",
              "    .dataframe tbody tr th:only-of-type {\n",
              "        vertical-align: middle;\n",
              "    }\n",
              "\n",
              "    .dataframe tbody tr th {\n",
              "        vertical-align: top;\n",
              "    }\n",
              "\n",
              "    .dataframe thead th {\n",
              "        text-align: right;\n",
              "    }\n",
              "</style>\n",
              "<table border=\"1\" class=\"dataframe\">\n",
              "  <thead>\n",
              "    <tr style=\"text-align: right;\">\n",
              "      <th></th>\n",
              "      <th>age</th>\n",
              "      <th>bmi</th>\n",
              "      <th>children</th>\n",
              "      <th>charges</th>\n",
              "      <th>sex_female</th>\n",
              "      <th>sex_male</th>\n",
              "      <th>smoker_no</th>\n",
              "      <th>smoker_yes</th>\n",
              "      <th>region_northeast</th>\n",
              "      <th>region_northwest</th>\n",
              "      <th>region_southeast</th>\n",
              "      <th>region_southwest</th>\n",
              "    </tr>\n",
              "  </thead>\n",
              "  <tbody>\n",
              "    <tr>\n",
              "      <th>0</th>\n",
              "      <td>19</td>\n",
              "      <td>27.900</td>\n",
              "      <td>0</td>\n",
              "      <td>16884.92400</td>\n",
              "      <td>1</td>\n",
              "      <td>0</td>\n",
              "      <td>0</td>\n",
              "      <td>1</td>\n",
              "      <td>0</td>\n",
              "      <td>0</td>\n",
              "      <td>0</td>\n",
              "      <td>1</td>\n",
              "    </tr>\n",
              "    <tr>\n",
              "      <th>1</th>\n",
              "      <td>18</td>\n",
              "      <td>33.770</td>\n",
              "      <td>1</td>\n",
              "      <td>1725.55230</td>\n",
              "      <td>0</td>\n",
              "      <td>1</td>\n",
              "      <td>1</td>\n",
              "      <td>0</td>\n",
              "      <td>0</td>\n",
              "      <td>0</td>\n",
              "      <td>1</td>\n",
              "      <td>0</td>\n",
              "    </tr>\n",
              "    <tr>\n",
              "      <th>2</th>\n",
              "      <td>28</td>\n",
              "      <td>33.000</td>\n",
              "      <td>3</td>\n",
              "      <td>4449.46200</td>\n",
              "      <td>0</td>\n",
              "      <td>1</td>\n",
              "      <td>1</td>\n",
              "      <td>0</td>\n",
              "      <td>0</td>\n",
              "      <td>0</td>\n",
              "      <td>1</td>\n",
              "      <td>0</td>\n",
              "    </tr>\n",
              "    <tr>\n",
              "      <th>3</th>\n",
              "      <td>33</td>\n",
              "      <td>22.705</td>\n",
              "      <td>0</td>\n",
              "      <td>21984.47061</td>\n",
              "      <td>0</td>\n",
              "      <td>1</td>\n",
              "      <td>1</td>\n",
              "      <td>0</td>\n",
              "      <td>0</td>\n",
              "      <td>1</td>\n",
              "      <td>0</td>\n",
              "      <td>0</td>\n",
              "    </tr>\n",
              "    <tr>\n",
              "      <th>4</th>\n",
              "      <td>32</td>\n",
              "      <td>28.880</td>\n",
              "      <td>0</td>\n",
              "      <td>3866.85520</td>\n",
              "      <td>0</td>\n",
              "      <td>1</td>\n",
              "      <td>1</td>\n",
              "      <td>0</td>\n",
              "      <td>0</td>\n",
              "      <td>1</td>\n",
              "      <td>0</td>\n",
              "      <td>0</td>\n",
              "    </tr>\n",
              "    <tr>\n",
              "      <th>5</th>\n",
              "      <td>31</td>\n",
              "      <td>25.740</td>\n",
              "      <td>0</td>\n",
              "      <td>3756.62160</td>\n",
              "      <td>1</td>\n",
              "      <td>0</td>\n",
              "      <td>1</td>\n",
              "      <td>0</td>\n",
              "      <td>0</td>\n",
              "      <td>0</td>\n",
              "      <td>1</td>\n",
              "      <td>0</td>\n",
              "    </tr>\n",
              "    <tr>\n",
              "      <th>6</th>\n",
              "      <td>46</td>\n",
              "      <td>33.440</td>\n",
              "      <td>1</td>\n",
              "      <td>8240.58960</td>\n",
              "      <td>1</td>\n",
              "      <td>0</td>\n",
              "      <td>1</td>\n",
              "      <td>0</td>\n",
              "      <td>0</td>\n",
              "      <td>0</td>\n",
              "      <td>1</td>\n",
              "      <td>0</td>\n",
              "    </tr>\n",
              "    <tr>\n",
              "      <th>7</th>\n",
              "      <td>37</td>\n",
              "      <td>27.740</td>\n",
              "      <td>3</td>\n",
              "      <td>7281.50560</td>\n",
              "      <td>1</td>\n",
              "      <td>0</td>\n",
              "      <td>1</td>\n",
              "      <td>0</td>\n",
              "      <td>0</td>\n",
              "      <td>1</td>\n",
              "      <td>0</td>\n",
              "      <td>0</td>\n",
              "    </tr>\n",
              "    <tr>\n",
              "      <th>8</th>\n",
              "      <td>37</td>\n",
              "      <td>29.830</td>\n",
              "      <td>2</td>\n",
              "      <td>6406.41070</td>\n",
              "      <td>0</td>\n",
              "      <td>1</td>\n",
              "      <td>1</td>\n",
              "      <td>0</td>\n",
              "      <td>1</td>\n",
              "      <td>0</td>\n",
              "      <td>0</td>\n",
              "      <td>0</td>\n",
              "    </tr>\n",
              "    <tr>\n",
              "      <th>9</th>\n",
              "      <td>60</td>\n",
              "      <td>25.840</td>\n",
              "      <td>0</td>\n",
              "      <td>28923.13692</td>\n",
              "      <td>1</td>\n",
              "      <td>0</td>\n",
              "      <td>1</td>\n",
              "      <td>0</td>\n",
              "      <td>0</td>\n",
              "      <td>1</td>\n",
              "      <td>0</td>\n",
              "      <td>0</td>\n",
              "    </tr>\n",
              "    <tr>\n",
              "      <th>10</th>\n",
              "      <td>25</td>\n",
              "      <td>26.220</td>\n",
              "      <td>0</td>\n",
              "      <td>2721.32080</td>\n",
              "      <td>0</td>\n",
              "      <td>1</td>\n",
              "      <td>1</td>\n",
              "      <td>0</td>\n",
              "      <td>1</td>\n",
              "      <td>0</td>\n",
              "      <td>0</td>\n",
              "      <td>0</td>\n",
              "    </tr>\n",
              "    <tr>\n",
              "      <th>11</th>\n",
              "      <td>62</td>\n",
              "      <td>26.290</td>\n",
              "      <td>0</td>\n",
              "      <td>27808.72510</td>\n",
              "      <td>1</td>\n",
              "      <td>0</td>\n",
              "      <td>0</td>\n",
              "      <td>1</td>\n",
              "      <td>0</td>\n",
              "      <td>0</td>\n",
              "      <td>1</td>\n",
              "      <td>0</td>\n",
              "    </tr>\n",
              "    <tr>\n",
              "      <th>12</th>\n",
              "      <td>23</td>\n",
              "      <td>34.400</td>\n",
              "      <td>0</td>\n",
              "      <td>1826.84300</td>\n",
              "      <td>0</td>\n",
              "      <td>1</td>\n",
              "      <td>1</td>\n",
              "      <td>0</td>\n",
              "      <td>0</td>\n",
              "      <td>0</td>\n",
              "      <td>0</td>\n",
              "      <td>1</td>\n",
              "    </tr>\n",
              "    <tr>\n",
              "      <th>13</th>\n",
              "      <td>56</td>\n",
              "      <td>39.820</td>\n",
              "      <td>0</td>\n",
              "      <td>11090.71780</td>\n",
              "      <td>1</td>\n",
              "      <td>0</td>\n",
              "      <td>1</td>\n",
              "      <td>0</td>\n",
              "      <td>0</td>\n",
              "      <td>0</td>\n",
              "      <td>1</td>\n",
              "      <td>0</td>\n",
              "    </tr>\n",
              "    <tr>\n",
              "      <th>14</th>\n",
              "      <td>27</td>\n",
              "      <td>42.130</td>\n",
              "      <td>0</td>\n",
              "      <td>39611.75770</td>\n",
              "      <td>0</td>\n",
              "      <td>1</td>\n",
              "      <td>0</td>\n",
              "      <td>1</td>\n",
              "      <td>0</td>\n",
              "      <td>0</td>\n",
              "      <td>1</td>\n",
              "      <td>0</td>\n",
              "    </tr>\n",
              "  </tbody>\n",
              "</table>\n",
              "</div>"
            ],
            "text/plain": [
              "    age     bmi  children  ...  region_northwest  region_southeast  region_southwest\n",
              "0    19  27.900         0  ...                 0                 0                 1\n",
              "1    18  33.770         1  ...                 0                 1                 0\n",
              "2    28  33.000         3  ...                 0                 1                 0\n",
              "3    33  22.705         0  ...                 1                 0                 0\n",
              "4    32  28.880         0  ...                 1                 0                 0\n",
              "5    31  25.740         0  ...                 0                 1                 0\n",
              "6    46  33.440         1  ...                 0                 1                 0\n",
              "7    37  27.740         3  ...                 1                 0                 0\n",
              "8    37  29.830         2  ...                 0                 0                 0\n",
              "9    60  25.840         0  ...                 1                 0                 0\n",
              "10   25  26.220         0  ...                 0                 0                 0\n",
              "11   62  26.290         0  ...                 0                 1                 0\n",
              "12   23  34.400         0  ...                 0                 0                 1\n",
              "13   56  39.820         0  ...                 0                 1                 0\n",
              "14   27  42.130         0  ...                 0                 1                 0\n",
              "\n",
              "[15 rows x 12 columns]"
            ]
          },
          "metadata": {
            "tags": []
          },
          "execution_count": 79
        }
      ]
    },
    {
      "cell_type": "code",
      "metadata": {
        "colab": {
          "base_uri": "https://localhost:8080/",
          "height": 645
        },
        "id": "bqORIa13N0tD",
        "outputId": "1c91c3b7-12a0-40e5-fd72-e5de400bb820"
      },
      "source": [
        "plt.figure(figsize=(10,10))\n",
        "plt.hist(insurance[\"age\"]),"
      ],
      "execution_count": null,
      "outputs": [
        {
          "output_type": "execute_result",
          "data": {
            "text/plain": [
              "((array([222., 140., 109., 128., 102., 137., 144., 114., 128., 114.]),\n",
              "  array([18. , 22.6, 27.2, 31.8, 36.4, 41. , 45.6, 50.2, 54.8, 59.4, 64. ]),\n",
              "  <a list of 10 Patch objects>),)"
            ]
          },
          "metadata": {
            "tags": []
          },
          "execution_count": 80
        },
        {
          "output_type": "display_data",
          "data": {
            "image/png": "[encoded data removed]",
            "text/plain": [
              "<Figure size 720x720 with 1 Axes>"
            ]
          },
          "metadata": {
            "tags": [],
            "needs_background": "light"
          }
        }
      ]
    },
    {
      "cell_type": "code",
      "metadata": {
        "id": "RSf608RYOBbH"
      },
      "source": [
        "mate=insurance[\"age\"]==18"
      ],
      "execution_count": null,
      "outputs": []
    },
    {
      "cell_type": "code",
      "metadata": {
        "id": "GUdELDNgP2uF"
      },
      "source": [
        ""
      ],
      "execution_count": null,
      "outputs": []
    },
    {
      "cell_type": "code",
      "metadata": {
        "id": "hHx7WoQ1Q-8Z"
      },
      "source": [
        "livin=np.random.randint(1,100,100)\n",
        "lirin=np.sin(livin)"
      ],
      "execution_count": null,
      "outputs": []
    },
    {
      "cell_type": "code",
      "metadata": {
        "colab": {
          "base_uri": "https://localhost:8080/",
          "height": 610
        },
        "id": "b89eSgs3ZJUj",
        "outputId": "bc564404-1ca2-48a6-d285-04b505132dd0"
      },
      "source": [
        "plt.figure(figsize=(10,10))\n",
        "plt.plot(livin,lirin,c=\"g\")\n",
        "plt.scatter(livin,lirin,c=\"r\")\n",
        "# plt.bar(livin,lirin)\n",
        "plt.grid(True)\n",
        "plt.xticks([0,20,40,60,80,100])\n",
        "plt.xlim(0,100)"
      ],
      "execution_count": null,
      "outputs": [
        {
          "output_type": "execute_result",
          "data": {
            "text/plain": [
              "(0.0, 100.0)"
            ]
          },
          "metadata": {
            "tags": []
          },
          "execution_count": 83
        },
        {
          "output_type": "display_data",
          "data": {
            "image/png": "[encoded data removed]",
            "text/plain": [
              "<Figure size 720x720 with 1 Axes>"
            ]
          },
          "metadata": {
            "tags": [],
            "needs_background": "light"
          }
        }
      ]
    },
    {
      "cell_type": "code",
      "metadata": {
        "id": "S9Bnyz0yZSwo"
      },
      "source": [
        "li=np.arange(0,101,10)\n",
        "lo=np.sin(li)"
      ],
      "execution_count": null,
      "outputs": []
    },
    {
      "cell_type": "code",
      "metadata": {
        "colab": {
          "base_uri": "https://localhost:8080/"
        },
        "id": "Zrr-IvK4bZIB",
        "outputId": "804c20ad-924a-402c-bc8b-b498641d6fc8"
      },
      "source": [
        "lo"
      ],
      "execution_count": null,
      "outputs": [
        {
          "output_type": "execute_result",
          "data": {
            "text/plain": [
              "array([ 0.        , -0.54402111,  0.91294525, -0.98803162,  0.74511316,\n",
              "       -0.26237485, -0.30481062,  0.77389068, -0.99388865,  0.89399666,\n",
              "       -0.50636564])"
            ]
          },
          "metadata": {
            "tags": []
          },
          "execution_count": 85
        }
      ]
    },
    {
      "cell_type": "code",
      "metadata": {
        "colab": {
          "base_uri": "https://localhost:8080/",
          "height": 285
        },
        "id": "u0GhoNpWbZwb",
        "outputId": "58905e8e-41a1-4d25-f47a-4f95157c8ed5"
      },
      "source": [
        "plt.plot(li,lo)"
      ],
      "execution_count": null,
      "outputs": [
        {
          "output_type": "execute_result",
          "data": {
            "text/plain": [
              "[<matplotlib.lines.Line2D at 0x7f0b36b14250>]"
            ]
          },
          "metadata": {
            "tags": []
          },
          "execution_count": 86
        },
        {
          "output_type": "display_data",
          "data": {
            "image/png": "[encoded data removed]",
            "text/plain": [
              "<Figure size 432x288 with 1 Axes>"
            ]
          },
          "metadata": {
            "tags": [],
            "needs_background": "light"
          }
        }
      ]
    },
    {
      "cell_type": "code",
      "metadata": {
        "id": "0r_YqqdHbk2r"
      },
      "source": [
        "from sklearn.compose import make_column_transformer\n",
        "from sklearn.preprocessing import  MinMaxScaler,OneHotEncoder\n",
        "from sklearn.model_selection import train_test_split"
      ],
      "execution_count": null,
      "outputs": []
    },
    {
      "cell_type": "code",
      "metadata": {
        "colab": {
          "base_uri": "https://localhost:8080/",
          "height": 414
        },
        "id": "Gojup_SiMFhZ",
        "outputId": "a0a9ef49-7a67-4b17-96ef-f5e175a18c60"
      },
      "source": [
        "medical_cost"
      ],
      "execution_count": null,
      "outputs": [
        {
          "output_type": "execute_result",
          "data": {
            "text/html": [
              "<div>\n",
              "<style scoped>\n",
              "    .dataframe tbody tr th:only-of-type {\n",
              "        vertical-align: middle;\n",
              "    }\n",
              "\n",
              "    .dataframe tbody tr th {\n",
              "        vertical-align: top;\n",
              "    }\n",
              "\n",
              "    .dataframe thead th {\n",
              "        text-align: right;\n",
              "    }\n",
              "</style>\n",
              "<table border=\"1\" class=\"dataframe\">\n",
              "  <thead>\n",
              "    <tr style=\"text-align: right;\">\n",
              "      <th></th>\n",
              "      <th>age</th>\n",
              "      <th>sex</th>\n",
              "      <th>bmi</th>\n",
              "      <th>children</th>\n",
              "      <th>smoker</th>\n",
              "      <th>region</th>\n",
              "      <th>charges</th>\n",
              "    </tr>\n",
              "  </thead>\n",
              "  <tbody>\n",
              "    <tr>\n",
              "      <th>0</th>\n",
              "      <td>19</td>\n",
              "      <td>female</td>\n",
              "      <td>27.900</td>\n",
              "      <td>0</td>\n",
              "      <td>yes</td>\n",
              "      <td>southwest</td>\n",
              "      <td>16884.92400</td>\n",
              "    </tr>\n",
              "    <tr>\n",
              "      <th>1</th>\n",
              "      <td>18</td>\n",
              "      <td>male</td>\n",
              "      <td>33.770</td>\n",
              "      <td>1</td>\n",
              "      <td>no</td>\n",
              "      <td>southeast</td>\n",
              "      <td>1725.55230</td>\n",
              "    </tr>\n",
              "    <tr>\n",
              "      <th>2</th>\n",
              "      <td>28</td>\n",
              "      <td>male</td>\n",
              "      <td>33.000</td>\n",
              "      <td>3</td>\n",
              "      <td>no</td>\n",
              "      <td>southeast</td>\n",
              "      <td>4449.46200</td>\n",
              "    </tr>\n",
              "    <tr>\n",
              "      <th>3</th>\n",
              "      <td>33</td>\n",
              "      <td>male</td>\n",
              "      <td>22.705</td>\n",
              "      <td>0</td>\n",
              "      <td>no</td>\n",
              "      <td>northwest</td>\n",
              "      <td>21984.47061</td>\n",
              "    </tr>\n",
              "    <tr>\n",
              "      <th>4</th>\n",
              "      <td>32</td>\n",
              "      <td>male</td>\n",
              "      <td>28.880</td>\n",
              "      <td>0</td>\n",
              "      <td>no</td>\n",
              "      <td>northwest</td>\n",
              "      <td>3866.85520</td>\n",
              "    </tr>\n",
              "    <tr>\n",
              "      <th>...</th>\n",
              "      <td>...</td>\n",
              "      <td>...</td>\n",
              "      <td>...</td>\n",
              "      <td>...</td>\n",
              "      <td>...</td>\n",
              "      <td>...</td>\n",
              "      <td>...</td>\n",
              "    </tr>\n",
              "    <tr>\n",
              "      <th>1333</th>\n",
              "      <td>50</td>\n",
              "      <td>male</td>\n",
              "      <td>30.970</td>\n",
              "      <td>3</td>\n",
              "      <td>no</td>\n",
              "      <td>northwest</td>\n",
              "      <td>10600.54830</td>\n",
              "    </tr>\n",
              "    <tr>\n",
              "      <th>1334</th>\n",
              "      <td>18</td>\n",
              "      <td>female</td>\n",
              "      <td>31.920</td>\n",
              "      <td>0</td>\n",
              "      <td>no</td>\n",
              "      <td>northeast</td>\n",
              "      <td>2205.98080</td>\n",
              "    </tr>\n",
              "    <tr>\n",
              "      <th>1335</th>\n",
              "      <td>18</td>\n",
              "      <td>female</td>\n",
              "      <td>36.850</td>\n",
              "      <td>0</td>\n",
              "      <td>no</td>\n",
              "      <td>southeast</td>\n",
              "      <td>1629.83350</td>\n",
              "    </tr>\n",
              "    <tr>\n",
              "      <th>1336</th>\n",
              "      <td>21</td>\n",
              "      <td>female</td>\n",
              "      <td>25.800</td>\n",
              "      <td>0</td>\n",
              "      <td>no</td>\n",
              "      <td>southwest</td>\n",
              "      <td>2007.94500</td>\n",
              "    </tr>\n",
              "    <tr>\n",
              "      <th>1337</th>\n",
              "      <td>61</td>\n",
              "      <td>female</td>\n",
              "      <td>29.070</td>\n",
              "      <td>0</td>\n",
              "      <td>yes</td>\n",
              "      <td>northwest</td>\n",
              "      <td>29141.36030</td>\n",
              "    </tr>\n",
              "  </tbody>\n",
              "</table>\n",
              "<p>1338 rows × 7 columns</p>\n",
              "</div>"
            ],
            "text/plain": [
              "      age     sex     bmi  children smoker     region      charges\n",
              "0      19  female  27.900         0    yes  southwest  16884.92400\n",
              "1      18    male  33.770         1     no  southeast   1725.55230\n",
              "2      28    male  33.000         3     no  southeast   4449.46200\n",
              "3      33    male  22.705         0     no  northwest  21984.47061\n",
              "4      32    male  28.880         0     no  northwest   3866.85520\n",
              "...   ...     ...     ...       ...    ...        ...          ...\n",
              "1333   50    male  30.970         3     no  northwest  10600.54830\n",
              "1334   18  female  31.920         0     no  northeast   2205.98080\n",
              "1335   18  female  36.850         0     no  southeast   1629.83350\n",
              "1336   21  female  25.800         0     no  southwest   2007.94500\n",
              "1337   61  female  29.070         0    yes  northwest  29141.36030\n",
              "\n",
              "[1338 rows x 7 columns]"
            ]
          },
          "metadata": {
            "tags": []
          },
          "execution_count": 88
        }
      ]
    },
    {
      "cell_type": "code",
      "metadata": {
        "id": "a3-BIJvAJI6l"
      },
      "source": [
        "man=make_column_transformer(\n",
        "    (MinMaxScaler(),[\"age\",\"bmi\",\"children\"]),\n",
        "    (OneHotEncoder(handle_unknown=\"ignore\"),[\"sex\",\"smoker\",\"region\"])\n",
        ")\n",
        "x=medical_cost.drop(\"charges\",axis=1)\n",
        "y=medical_cost[\"charges\"]\n",
        "x_train,x_test,y_train,y_test=train_test_split(x,y,test_size=0.2,random_state=42)\n",
        "man.fit(x_train)\n",
        "x_train_normal=man.transform(x_train)\n",
        "x_test_normal=man.transform(x_test)"
      ],
      "execution_count": null,
      "outputs": []
    },
    {
      "cell_type": "code",
      "metadata": {
        "id": "QilS8hcMMZhh",
        "colab": {
          "base_uri": "https://localhost:8080/"
        },
        "outputId": "05386294-7e3d-4eea-ec1f-a90a6a5923aa"
      },
      "source": [
        "x_train_normal"
      ],
      "execution_count": null,
      "outputs": [
        {
          "output_type": "execute_result",
          "data": {
            "text/plain": [
              "array([[0.60869565, 0.10734463, 0.4       , ..., 1.        , 0.        ,\n",
              "        0.        ],\n",
              "       [0.63043478, 0.22491256, 0.        , ..., 0.        , 0.        ,\n",
              "        0.        ],\n",
              "       [0.73913043, 0.23944041, 0.        , ..., 0.        , 1.        ,\n",
              "        0.        ],\n",
              "       ...,\n",
              "       [0.86956522, 0.24791499, 0.        , ..., 0.        , 0.        ,\n",
              "        0.        ],\n",
              "       [0.41304348, 0.85122411, 0.4       , ..., 0.        , 0.        ,\n",
              "        1.        ],\n",
              "       [0.80434783, 0.37503363, 0.        , ..., 0.        , 0.        ,\n",
              "        1.        ]])"
            ]
          },
          "metadata": {
            "tags": []
          },
          "execution_count": 92
        }
      ]
    },
    {
      "cell_type": "code",
      "metadata": {
        "colab": {
          "base_uri": "https://localhost:8080/",
          "height": 110
        },
        "id": "Ip5wg1Tw_aFZ",
        "outputId": "63186377-605d-4836-ec5d-2603472d8063"
      },
      "source": [
        "pd.DataFrame(x_train_normal).head(2)"
      ],
      "execution_count": null,
      "outputs": [
        {
          "output_type": "execute_result",
          "data": {
            "text/html": [
              "<div>\n",
              "<style scoped>\n",
              "    .dataframe tbody tr th:only-of-type {\n",
              "        vertical-align: middle;\n",
              "    }\n",
              "\n",
              "    .dataframe tbody tr th {\n",
              "        vertical-align: top;\n",
              "    }\n",
              "\n",
              "    .dataframe thead th {\n",
              "        text-align: right;\n",
              "    }\n",
              "</style>\n",
              "<table border=\"1\" class=\"dataframe\">\n",
              "  <thead>\n",
              "    <tr style=\"text-align: right;\">\n",
              "      <th></th>\n",
              "      <th>0</th>\n",
              "      <th>1</th>\n",
              "      <th>2</th>\n",
              "      <th>3</th>\n",
              "      <th>4</th>\n",
              "      <th>5</th>\n",
              "      <th>6</th>\n",
              "      <th>7</th>\n",
              "      <th>8</th>\n",
              "      <th>9</th>\n",
              "      <th>10</th>\n",
              "    </tr>\n",
              "  </thead>\n",
              "  <tbody>\n",
              "    <tr>\n",
              "      <th>0</th>\n",
              "      <td>0.608696</td>\n",
              "      <td>0.107345</td>\n",
              "      <td>0.4</td>\n",
              "      <td>1.0</td>\n",
              "      <td>0.0</td>\n",
              "      <td>1.0</td>\n",
              "      <td>0.0</td>\n",
              "      <td>0.0</td>\n",
              "      <td>1.0</td>\n",
              "      <td>0.0</td>\n",
              "      <td>0.0</td>\n",
              "    </tr>\n",
              "    <tr>\n",
              "      <th>1</th>\n",
              "      <td>0.630435</td>\n",
              "      <td>0.224913</td>\n",
              "      <td>0.0</td>\n",
              "      <td>1.0</td>\n",
              "      <td>0.0</td>\n",
              "      <td>1.0</td>\n",
              "      <td>0.0</td>\n",
              "      <td>1.0</td>\n",
              "      <td>0.0</td>\n",
              "      <td>0.0</td>\n",
              "      <td>0.0</td>\n",
              "    </tr>\n",
              "  </tbody>\n",
              "</table>\n",
              "</div>"
            ],
            "text/plain": [
              "         0         1    2    3    4    5    6    7    8    9    10\n",
              "0  0.608696  0.107345  0.4  1.0  0.0  1.0  0.0  0.0  1.0  0.0  0.0\n",
              "1  0.630435  0.224913  0.0  1.0  0.0  1.0  0.0  1.0  0.0  0.0  0.0"
            ]
          },
          "metadata": {
            "tags": []
          },
          "execution_count": 96
        }
      ]
    },
    {
      "cell_type": "code",
      "metadata": {
        "colab": {
          "base_uri": "https://localhost:8080/",
          "height": 110
        },
        "id": "J1pVwCYh_fgR",
        "outputId": "31529c55-ac87-4600-bf1a-c4d0c5cc8635"
      },
      "source": [
        "medical_cost.head(2)"
      ],
      "execution_count": null,
      "outputs": [
        {
          "output_type": "execute_result",
          "data": {
            "text/html": [
              "<div>\n",
              "<style scoped>\n",
              "    .dataframe tbody tr th:only-of-type {\n",
              "        vertical-align: middle;\n",
              "    }\n",
              "\n",
              "    .dataframe tbody tr th {\n",
              "        vertical-align: top;\n",
              "    }\n",
              "\n",
              "    .dataframe thead th {\n",
              "        text-align: right;\n",
              "    }\n",
              "</style>\n",
              "<table border=\"1\" class=\"dataframe\">\n",
              "  <thead>\n",
              "    <tr style=\"text-align: right;\">\n",
              "      <th></th>\n",
              "      <th>age</th>\n",
              "      <th>sex</th>\n",
              "      <th>bmi</th>\n",
              "      <th>children</th>\n",
              "      <th>smoker</th>\n",
              "      <th>region</th>\n",
              "      <th>charges</th>\n",
              "    </tr>\n",
              "  </thead>\n",
              "  <tbody>\n",
              "    <tr>\n",
              "      <th>0</th>\n",
              "      <td>19</td>\n",
              "      <td>female</td>\n",
              "      <td>27.90</td>\n",
              "      <td>0</td>\n",
              "      <td>yes</td>\n",
              "      <td>southwest</td>\n",
              "      <td>16884.9240</td>\n",
              "    </tr>\n",
              "    <tr>\n",
              "      <th>1</th>\n",
              "      <td>18</td>\n",
              "      <td>male</td>\n",
              "      <td>33.77</td>\n",
              "      <td>1</td>\n",
              "      <td>no</td>\n",
              "      <td>southeast</td>\n",
              "      <td>1725.5523</td>\n",
              "    </tr>\n",
              "  </tbody>\n",
              "</table>\n",
              "</div>"
            ],
            "text/plain": [
              "   age     sex    bmi  children smoker     region     charges\n",
              "0   19  female  27.90         0    yes  southwest  16884.9240\n",
              "1   18    male  33.77         1     no  southeast   1725.5523"
            ]
          },
          "metadata": {
            "tags": []
          },
          "execution_count": 97
        }
      ]
    },
    {
      "cell_type": "code",
      "metadata": {
        "colab": {
          "base_uri": "https://localhost:8080/"
        },
        "id": "NiDtiDCF_o1o",
        "outputId": "6ddaaaf7-ba2a-4b78-8efd-7092c151a1b2"
      },
      "source": [
        "x_train.loc[0]"
      ],
      "execution_count": null,
      "outputs": [
        {
          "output_type": "execute_result",
          "data": {
            "text/plain": [
              "age                19\n",
              "sex            female\n",
              "bmi              27.9\n",
              "children            0\n",
              "smoker            yes\n",
              "region      southwest\n",
              "Name: 0, dtype: object"
            ]
          },
          "metadata": {
            "tags": []
          },
          "execution_count": 102
        }
      ]
    },
    {
      "cell_type": "code",
      "metadata": {
        "colab": {
          "base_uri": "https://localhost:8080/"
        },
        "id": "AZWqimrD_7xQ",
        "outputId": "558390d5-374a-4958-8b18-18f41720a9c4"
      },
      "source": [
        "industry=tf.keras.Sequential([\n",
        "                              tf.keras.layers.Dense(100),\n",
        "                              tf.keras.layers.Dense(10),\n",
        "                              tf.keras.layers.Dense(1)\n",
        "])\n",
        "industry.compile(loss=tf.keras.losses.mae,\n",
        "                 optimizer=tf.keras.optimizers.Adam(),\n",
        "                 metrics=[\"mae\"])\n",
        "mac=industry.fit(x_train_normal,y_train,epochs=300)"
      ],
      "execution_count": null,
      "outputs": [
        {
          "output_type": "stream",
          "text": [
            "Epoch 1/300\n",
            "34/34 [==============================] - 0s 3ms/step - loss: 13344.3066 - mae: 13344.3066\n",
            "Epoch 2/300\n",
            "34/34 [==============================] - 0s 1ms/step - loss: 13334.6504 - mae: 13334.6504\n",
            "Epoch 3/300\n",
            "34/34 [==============================] - 0s 1ms/step - loss: 13311.5762 - mae: 13311.5762\n",
            "Epoch 4/300\n",
            "34/34 [==============================] - 0s 2ms/step - loss: 13263.4893 - mae: 13263.4893\n",
            "Epoch 5/300\n",
            "34/34 [==============================] - 0s 2ms/step - loss: 13178.4941 - mae: 13178.4941\n",
            "Epoch 6/300\n",
            "34/34 [==============================] - 0s 1ms/step - loss: 13045.5146 - mae: 13045.5146\n",
            "Epoch 7/300\n",
            "34/34 [==============================] - 0s 2ms/step - loss: 12854.2246 - mae: 12854.2246\n",
            "Epoch 8/300\n",
            "34/34 [==============================] - 0s 1ms/step - loss: 12594.6211 - mae: 12594.6211\n",
            "Epoch 9/300\n",
            "34/34 [==============================] - 0s 1ms/step - loss: 12256.8105 - mae: 12256.8105\n",
            "Epoch 10/300\n",
            "34/34 [==============================] - 0s 2ms/step - loss: 11839.8174 - mae: 11839.8174\n",
            "Epoch 11/300\n",
            "34/34 [==============================] - 0s 2ms/step - loss: 11356.7373 - mae: 11356.7373\n",
            "Epoch 12/300\n",
            "34/34 [==============================] - 0s 2ms/step - loss: 10851.1904 - mae: 10851.1904\n",
            "Epoch 13/300\n",
            "34/34 [==============================] - 0s 2ms/step - loss: 10351.5205 - mae: 10351.5205\n",
            "Epoch 14/300\n",
            "34/34 [==============================] - 0s 2ms/step - loss: 9862.6621 - mae: 9862.6621\n",
            "Epoch 15/300\n",
            "34/34 [==============================] - 0s 2ms/step - loss: 9404.5996 - mae: 9404.5996\n",
            "Epoch 16/300\n",
            "34/34 [==============================] - 0s 2ms/step - loss: 8999.5352 - mae: 8999.5352\n",
            "Epoch 17/300\n",
            "34/34 [==============================] - 0s 1ms/step - loss: 8666.8164 - mae: 8666.8164\n",
            "Epoch 18/300\n",
            "34/34 [==============================] - 0s 2ms/step - loss: 8399.6709 - mae: 8399.6709\n",
            "Epoch 19/300\n",
            "34/34 [==============================] - 0s 2ms/step - loss: 8202.5264 - mae: 8202.5264\n",
            "Epoch 20/300\n",
            "34/34 [==============================] - 0s 2ms/step - loss: 8064.9907 - mae: 8064.9907\n",
            "Epoch 21/300\n",
            "34/34 [==============================] - 0s 1ms/step - loss: 7962.5625 - mae: 7962.5625\n",
            "Epoch 22/300\n",
            "34/34 [==============================] - 0s 2ms/step - loss: 7892.1689 - mae: 7892.1689\n",
            "Epoch 23/300\n",
            "34/34 [==============================] - 0s 2ms/step - loss: 7836.2876 - mae: 7836.2876\n",
            "Epoch 24/300\n",
            "34/34 [==============================] - 0s 2ms/step - loss: 7785.9409 - mae: 7785.9409\n",
            "Epoch 25/300\n",
            "34/34 [==============================] - 0s 2ms/step - loss: 7747.2739 - mae: 7747.2739\n",
            "Epoch 26/300\n",
            "34/34 [==============================] - 0s 1ms/step - loss: 7694.6187 - mae: 7694.6187\n",
            "Epoch 27/300\n",
            "34/34 [==============================] - 0s 2ms/step - loss: 7651.1426 - mae: 7651.1426\n",
            "Epoch 28/300\n",
            "34/34 [==============================] - 0s 2ms/step - loss: 7607.3218 - mae: 7607.3218\n",
            "Epoch 29/300\n",
            "34/34 [==============================] - 0s 2ms/step - loss: 7563.8257 - mae: 7563.8257\n",
            "Epoch 30/300\n",
            "34/34 [==============================] - 0s 1ms/step - loss: 7519.5479 - mae: 7519.5479\n",
            "Epoch 31/300\n",
            "34/34 [==============================] - 0s 1ms/step - loss: 7474.5288 - mae: 7474.5288\n",
            "Epoch 32/300\n",
            "34/34 [==============================] - 0s 2ms/step - loss: 7429.1772 - mae: 7429.1772\n",
            "Epoch 33/300\n",
            "34/34 [==============================] - 0s 2ms/step - loss: 7383.6738 - mae: 7383.6738\n",
            "Epoch 34/300\n",
            "34/34 [==============================] - 0s 2ms/step - loss: 7334.0635 - mae: 7334.0635\n",
            "Epoch 35/300\n",
            "34/34 [==============================] - 0s 2ms/step - loss: 7285.9326 - mae: 7285.9326\n",
            "Epoch 36/300\n",
            "34/34 [==============================] - 0s 2ms/step - loss: 7234.4258 - mae: 7234.4258\n",
            "Epoch 37/300\n",
            "34/34 [==============================] - 0s 2ms/step - loss: 7182.6494 - mae: 7182.6494\n",
            "Epoch 38/300\n",
            "34/34 [==============================] - 0s 2ms/step - loss: 7129.9526 - mae: 7129.9526\n",
            "Epoch 39/300\n",
            "34/34 [==============================] - 0s 2ms/step - loss: 7073.2290 - mae: 7073.2290\n",
            "Epoch 40/300\n",
            "34/34 [==============================] - 0s 1ms/step - loss: 7015.6582 - mae: 7015.6582\n",
            "Epoch 41/300\n",
            "34/34 [==============================] - 0s 1ms/step - loss: 6957.2383 - mae: 6957.2383\n",
            "Epoch 42/300\n",
            "34/34 [==============================] - 0s 2ms/step - loss: 6895.6470 - mae: 6895.6470\n",
            "Epoch 43/300\n",
            "34/34 [==============================] - 0s 2ms/step - loss: 6830.5508 - mae: 6830.5508\n",
            "Epoch 44/300\n",
            "34/34 [==============================] - 0s 2ms/step - loss: 6761.5947 - mae: 6761.5947\n",
            "Epoch 45/300\n",
            "34/34 [==============================] - 0s 2ms/step - loss: 6691.5908 - mae: 6691.5908\n",
            "Epoch 46/300\n",
            "34/34 [==============================] - 0s 2ms/step - loss: 6619.5732 - mae: 6619.5732\n",
            "Epoch 47/300\n",
            "34/34 [==============================] - 0s 1ms/step - loss: 6545.0083 - mae: 6545.0083\n",
            "Epoch 48/300\n",
            "34/34 [==============================] - 0s 1ms/step - loss: 6462.8115 - mae: 6462.8115\n",
            "Epoch 49/300\n",
            "34/34 [==============================] - 0s 1ms/step - loss: 6380.3560 - mae: 6380.3560\n",
            "Epoch 50/300\n",
            "34/34 [==============================] - 0s 1ms/step - loss: 6290.3877 - mae: 6290.3877\n",
            "Epoch 51/300\n",
            "34/34 [==============================] - 0s 1ms/step - loss: 6202.4399 - mae: 6202.4399\n",
            "Epoch 52/300\n",
            "34/34 [==============================] - 0s 2ms/step - loss: 6104.4512 - mae: 6104.4512\n",
            "Epoch 53/300\n",
            "34/34 [==============================] - 0s 2ms/step - loss: 6003.8682 - mae: 6003.8682\n",
            "Epoch 54/300\n",
            "34/34 [==============================] - 0s 1ms/step - loss: 5900.1826 - mae: 5900.1826\n",
            "Epoch 55/300\n",
            "34/34 [==============================] - 0s 2ms/step - loss: 5787.7847 - mae: 5787.7847\n",
            "Epoch 56/300\n",
            "34/34 [==============================] - 0s 2ms/step - loss: 5674.4653 - mae: 5674.4653\n",
            "Epoch 57/300\n",
            "34/34 [==============================] - 0s 2ms/step - loss: 5555.9463 - mae: 5555.9463\n",
            "Epoch 58/300\n",
            "34/34 [==============================] - 0s 2ms/step - loss: 5436.9541 - mae: 5436.9541\n",
            "Epoch 59/300\n",
            "34/34 [==============================] - 0s 2ms/step - loss: 5312.8311 - mae: 5312.8311\n",
            "Epoch 60/300\n",
            "34/34 [==============================] - 0s 2ms/step - loss: 5187.1357 - mae: 5187.1357\n",
            "Epoch 61/300\n",
            "34/34 [==============================] - 0s 2ms/step - loss: 5058.7988 - mae: 5058.7988\n",
            "Epoch 62/300\n",
            "34/34 [==============================] - 0s 1ms/step - loss: 4925.4077 - mae: 4925.4077\n",
            "Epoch 63/300\n",
            "34/34 [==============================] - 0s 2ms/step - loss: 4796.4971 - mae: 4796.4971\n",
            "Epoch 64/300\n",
            "34/34 [==============================] - 0s 1ms/step - loss: 4665.6763 - mae: 4665.6763\n",
            "Epoch 65/300\n",
            "34/34 [==============================] - 0s 2ms/step - loss: 4542.7563 - mae: 4542.7563\n",
            "Epoch 66/300\n",
            "34/34 [==============================] - 0s 2ms/step - loss: 4428.4136 - mae: 4428.4136\n",
            "Epoch 67/300\n",
            "34/34 [==============================] - 0s 2ms/step - loss: 4324.4922 - mae: 4324.4922\n",
            "Epoch 68/300\n",
            "34/34 [==============================] - 0s 1ms/step - loss: 4220.4292 - mae: 4220.4292\n",
            "Epoch 69/300\n",
            "34/34 [==============================] - 0s 1ms/step - loss: 4124.2471 - mae: 4124.2471\n",
            "Epoch 70/300\n",
            "34/34 [==============================] - 0s 2ms/step - loss: 4036.4463 - mae: 4036.4463\n",
            "Epoch 71/300\n",
            "34/34 [==============================] - 0s 2ms/step - loss: 3957.7039 - mae: 3957.7039\n",
            "Epoch 72/300\n",
            "34/34 [==============================] - 0s 2ms/step - loss: 3889.3889 - mae: 3889.3889\n",
            "Epoch 73/300\n",
            "34/34 [==============================] - 0s 2ms/step - loss: 3834.3159 - mae: 3834.3159\n",
            "Epoch 74/300\n",
            "34/34 [==============================] - 0s 2ms/step - loss: 3786.8315 - mae: 3786.8315\n",
            "Epoch 75/300\n",
            "34/34 [==============================] - 0s 1ms/step - loss: 3753.4646 - mae: 3753.4646\n",
            "Epoch 76/300\n",
            "34/34 [==============================] - 0s 2ms/step - loss: 3728.5339 - mae: 3728.5339\n",
            "Epoch 77/300\n",
            "34/34 [==============================] - 0s 2ms/step - loss: 3707.5007 - mae: 3707.5007\n",
            "Epoch 78/300\n",
            "34/34 [==============================] - 0s 2ms/step - loss: 3694.6572 - mae: 3694.6572\n",
            "Epoch 79/300\n",
            "34/34 [==============================] - 0s 1ms/step - loss: 3685.0249 - mae: 3685.0249\n",
            "Epoch 80/300\n",
            "34/34 [==============================] - 0s 2ms/step - loss: 3676.8069 - mae: 3676.8069\n",
            "Epoch 81/300\n",
            "34/34 [==============================] - 0s 2ms/step - loss: 3672.1082 - mae: 3672.1082\n",
            "Epoch 82/300\n",
            "34/34 [==============================] - 0s 2ms/step - loss: 3669.3286 - mae: 3669.3286\n",
            "Epoch 83/300\n",
            "34/34 [==============================] - 0s 2ms/step - loss: 3663.7900 - mae: 3663.7900\n",
            "Epoch 84/300\n",
            "34/34 [==============================] - 0s 1ms/step - loss: 3661.4629 - mae: 3661.4629\n",
            "Epoch 85/300\n",
            "34/34 [==============================] - 0s 2ms/step - loss: 3659.0125 - mae: 3659.0125\n",
            "Epoch 86/300\n",
            "34/34 [==============================] - 0s 2ms/step - loss: 3657.6956 - mae: 3657.6956\n",
            "Epoch 87/300\n",
            "34/34 [==============================] - 0s 2ms/step - loss: 3654.9358 - mae: 3654.9358\n",
            "Epoch 88/300\n",
            "34/34 [==============================] - 0s 2ms/step - loss: 3652.4761 - mae: 3652.4761\n",
            "Epoch 89/300\n",
            "34/34 [==============================] - 0s 2ms/step - loss: 3651.1812 - mae: 3651.1812\n",
            "Epoch 90/300\n",
            "34/34 [==============================] - 0s 2ms/step - loss: 3649.3926 - mae: 3649.3926\n",
            "Epoch 91/300\n",
            "34/34 [==============================] - 0s 2ms/step - loss: 3646.3582 - mae: 3646.3582\n",
            "Epoch 92/300\n",
            "34/34 [==============================] - 0s 2ms/step - loss: 3645.7080 - mae: 3645.7080\n",
            "Epoch 93/300\n",
            "34/34 [==============================] - 0s 1ms/step - loss: 3643.3989 - mae: 3643.3989\n",
            "Epoch 94/300\n",
            "34/34 [==============================] - 0s 2ms/step - loss: 3641.6785 - mae: 3641.6785\n",
            "Epoch 95/300\n",
            "34/34 [==============================] - 0s 2ms/step - loss: 3642.7087 - mae: 3642.7087\n",
            "Epoch 96/300\n",
            "34/34 [==============================] - 0s 2ms/step - loss: 3639.5886 - mae: 3639.5886\n",
            "Epoch 97/300\n",
            "34/34 [==============================] - 0s 2ms/step - loss: 3637.1704 - mae: 3637.1704\n",
            "Epoch 98/300\n",
            "34/34 [==============================] - 0s 2ms/step - loss: 3635.3225 - mae: 3635.3225\n",
            "Epoch 99/300\n",
            "34/34 [==============================] - 0s 2ms/step - loss: 3634.1023 - mae: 3634.1023\n",
            "Epoch 100/300\n",
            "34/34 [==============================] - 0s 1ms/step - loss: 3633.1160 - mae: 3633.1160\n",
            "Epoch 101/300\n",
            "34/34 [==============================] - 0s 1ms/step - loss: 3629.9392 - mae: 3629.9392\n",
            "Epoch 102/300\n",
            "34/34 [==============================] - 0s 2ms/step - loss: 3627.3699 - mae: 3627.3699\n",
            "Epoch 103/300\n",
            "34/34 [==============================] - 0s 2ms/step - loss: 3626.3337 - mae: 3626.3337\n",
            "Epoch 104/300\n",
            "34/34 [==============================] - 0s 2ms/step - loss: 3623.8569 - mae: 3623.8569\n",
            "Epoch 105/300\n",
            "34/34 [==============================] - 0s 2ms/step - loss: 3622.2000 - mae: 3622.2000\n",
            "Epoch 106/300\n",
            "34/34 [==============================] - 0s 2ms/step - loss: 3620.8442 - mae: 3620.8442\n",
            "Epoch 107/300\n",
            "34/34 [==============================] - 0s 2ms/step - loss: 3620.2759 - mae: 3620.2759\n",
            "Epoch 108/300\n",
            "34/34 [==============================] - 0s 2ms/step - loss: 3617.6287 - mae: 3617.6287\n",
            "Epoch 109/300\n",
            "34/34 [==============================] - 0s 2ms/step - loss: 3617.8865 - mae: 3617.8865\n",
            "Epoch 110/300\n",
            "34/34 [==============================] - 0s 2ms/step - loss: 3614.5713 - mae: 3614.5713\n",
            "Epoch 111/300\n",
            "34/34 [==============================] - 0s 2ms/step - loss: 3611.9934 - mae: 3611.9934\n",
            "Epoch 112/300\n",
            "34/34 [==============================] - 0s 2ms/step - loss: 3609.7869 - mae: 3609.7869\n",
            "Epoch 113/300\n",
            "34/34 [==============================] - 0s 1ms/step - loss: 3608.2051 - mae: 3608.2051\n",
            "Epoch 114/300\n",
            "34/34 [==============================] - 0s 2ms/step - loss: 3607.2744 - mae: 3607.2744\n",
            "Epoch 115/300\n",
            "34/34 [==============================] - 0s 2ms/step - loss: 3605.5583 - mae: 3605.5583\n",
            "Epoch 116/300\n",
            "34/34 [==============================] - 0s 2ms/step - loss: 3603.9897 - mae: 3603.9897\n",
            "Epoch 117/300\n",
            "34/34 [==============================] - 0s 1ms/step - loss: 3600.9807 - mae: 3600.9807\n",
            "Epoch 118/300\n",
            "34/34 [==============================] - 0s 2ms/step - loss: 3597.2588 - mae: 3597.2588\n",
            "Epoch 119/300\n",
            "34/34 [==============================] - 0s 2ms/step - loss: 3599.6243 - mae: 3599.6243\n",
            "Epoch 120/300\n",
            "34/34 [==============================] - 0s 2ms/step - loss: 3596.3872 - mae: 3596.3872\n",
            "Epoch 121/300\n",
            "34/34 [==============================] - 0s 1ms/step - loss: 3591.2190 - mae: 3591.2190\n",
            "Epoch 122/300\n",
            "34/34 [==============================] - 0s 2ms/step - loss: 3590.6743 - mae: 3590.6743\n",
            "Epoch 123/300\n",
            "34/34 [==============================] - 0s 1ms/step - loss: 3588.6116 - mae: 3588.6116\n",
            "Epoch 124/300\n",
            "34/34 [==============================] - 0s 1ms/step - loss: 3586.2517 - mae: 3586.2517\n",
            "Epoch 125/300\n",
            "34/34 [==============================] - 0s 1ms/step - loss: 3584.2175 - mae: 3584.2175\n",
            "Epoch 126/300\n",
            "34/34 [==============================] - 0s 1ms/step - loss: 3583.2441 - mae: 3583.2441\n",
            "Epoch 127/300\n",
            "34/34 [==============================] - 0s 2ms/step - loss: 3583.8137 - mae: 3583.8137\n",
            "Epoch 128/300\n",
            "34/34 [==============================] - 0s 2ms/step - loss: 3579.8608 - mae: 3579.8608\n",
            "Epoch 129/300\n",
            "34/34 [==============================] - 0s 2ms/step - loss: 3578.4297 - mae: 3578.4297\n",
            "Epoch 130/300\n",
            "34/34 [==============================] - 0s 2ms/step - loss: 3574.7429 - mae: 3574.7429\n",
            "Epoch 131/300\n",
            "34/34 [==============================] - 0s 2ms/step - loss: 3573.4250 - mae: 3573.4250\n",
            "Epoch 132/300\n",
            "34/34 [==============================] - 0s 2ms/step - loss: 3570.4675 - mae: 3570.4675\n",
            "Epoch 133/300\n",
            "34/34 [==============================] - 0s 1ms/step - loss: 3568.8240 - mae: 3568.8240\n",
            "Epoch 134/300\n",
            "34/34 [==============================] - 0s 2ms/step - loss: 3566.7026 - mae: 3566.7026\n",
            "Epoch 135/300\n",
            "34/34 [==============================] - 0s 1ms/step - loss: 3564.9004 - mae: 3564.9004\n",
            "Epoch 136/300\n",
            "34/34 [==============================] - 0s 1ms/step - loss: 3563.4973 - mae: 3563.4973\n",
            "Epoch 137/300\n",
            "34/34 [==============================] - 0s 1ms/step - loss: 3562.1155 - mae: 3562.1155\n",
            "Epoch 138/300\n",
            "34/34 [==============================] - 0s 1ms/step - loss: 3559.8000 - mae: 3559.8000\n",
            "Epoch 139/300\n",
            "34/34 [==============================] - 0s 1ms/step - loss: 3559.1152 - mae: 3559.1152\n",
            "Epoch 140/300\n",
            "34/34 [==============================] - 0s 2ms/step - loss: 3557.1548 - mae: 3557.1548\n",
            "Epoch 141/300\n",
            "34/34 [==============================] - 0s 2ms/step - loss: 3557.2268 - mae: 3557.2268\n",
            "Epoch 142/300\n",
            "34/34 [==============================] - 0s 2ms/step - loss: 3554.3860 - mae: 3554.3860\n",
            "Epoch 143/300\n",
            "34/34 [==============================] - 0s 2ms/step - loss: 3554.7283 - mae: 3554.7283\n",
            "Epoch 144/300\n",
            "34/34 [==============================] - 0s 2ms/step - loss: 3551.6343 - mae: 3551.6343\n",
            "Epoch 145/300\n",
            "34/34 [==============================] - 0s 2ms/step - loss: 3549.9856 - mae: 3549.9856\n",
            "Epoch 146/300\n",
            "34/34 [==============================] - 0s 2ms/step - loss: 3549.8137 - mae: 3549.8137\n",
            "Epoch 147/300\n",
            "34/34 [==============================] - 0s 2ms/step - loss: 3547.5159 - mae: 3547.5159\n",
            "Epoch 148/300\n",
            "34/34 [==============================] - 0s 2ms/step - loss: 3546.1462 - mae: 3546.1462\n",
            "Epoch 149/300\n",
            "34/34 [==============================] - 0s 2ms/step - loss: 3543.4099 - mae: 3543.4099\n",
            "Epoch 150/300\n",
            "34/34 [==============================] - 0s 2ms/step - loss: 3543.4714 - mae: 3543.4714\n",
            "Epoch 151/300\n",
            "34/34 [==============================] - 0s 2ms/step - loss: 3541.3064 - mae: 3541.3064\n",
            "Epoch 152/300\n",
            "34/34 [==============================] - 0s 2ms/step - loss: 3539.8872 - mae: 3539.8872\n",
            "Epoch 153/300\n",
            "34/34 [==============================] - 0s 2ms/step - loss: 3538.1726 - mae: 3538.1726\n",
            "Epoch 154/300\n",
            "34/34 [==============================] - 0s 2ms/step - loss: 3539.5544 - mae: 3539.5544\n",
            "Epoch 155/300\n",
            "34/34 [==============================] - 0s 2ms/step - loss: 3537.2415 - mae: 3537.2415\n",
            "Epoch 156/300\n",
            "34/34 [==============================] - 0s 2ms/step - loss: 3535.1416 - mae: 3535.1416\n",
            "Epoch 157/300\n",
            "34/34 [==============================] - 0s 2ms/step - loss: 3533.7993 - mae: 3533.7993\n",
            "Epoch 158/300\n",
            "34/34 [==============================] - 0s 2ms/step - loss: 3530.6111 - mae: 3530.6111\n",
            "Epoch 159/300\n",
            "34/34 [==============================] - 0s 2ms/step - loss: 3529.1208 - mae: 3529.1208\n",
            "Epoch 160/300\n",
            "34/34 [==============================] - 0s 2ms/step - loss: 3528.8875 - mae: 3528.8875\n",
            "Epoch 161/300\n",
            "34/34 [==============================] - 0s 3ms/step - loss: 3525.8723 - mae: 3525.8723\n",
            "Epoch 162/300\n",
            "34/34 [==============================] - 0s 2ms/step - loss: 3525.2009 - mae: 3525.2009\n",
            "Epoch 163/300\n",
            "34/34 [==============================] - 0s 3ms/step - loss: 3523.9346 - mae: 3523.9346\n",
            "Epoch 164/300\n",
            "34/34 [==============================] - 0s 2ms/step - loss: 3522.9919 - mae: 3522.9919\n",
            "Epoch 165/300\n",
            "34/34 [==============================] - 0s 2ms/step - loss: 3520.7671 - mae: 3520.7671\n",
            "Epoch 166/300\n",
            "34/34 [==============================] - 0s 2ms/step - loss: 3519.2322 - mae: 3519.2322\n",
            "Epoch 167/300\n",
            "34/34 [==============================] - 0s 2ms/step - loss: 3518.4180 - mae: 3518.4180\n",
            "Epoch 168/300\n",
            "34/34 [==============================] - 0s 2ms/step - loss: 3516.9268 - mae: 3516.9268\n",
            "Epoch 169/300\n",
            "34/34 [==============================] - 0s 2ms/step - loss: 3515.8381 - mae: 3515.8381\n",
            "Epoch 170/300\n",
            "34/34 [==============================] - 0s 2ms/step - loss: 3514.6580 - mae: 3514.6580\n",
            "Epoch 171/300\n",
            "34/34 [==============================] - 0s 2ms/step - loss: 3514.0859 - mae: 3514.0859\n",
            "Epoch 172/300\n",
            "34/34 [==============================] - 0s 2ms/step - loss: 3512.4763 - mae: 3512.4763\n",
            "Epoch 173/300\n",
            "34/34 [==============================] - 0s 2ms/step - loss: 3511.3113 - mae: 3511.3113\n",
            "Epoch 174/300\n",
            "34/34 [==============================] - 0s 1ms/step - loss: 3509.8730 - mae: 3509.8730\n",
            "Epoch 175/300\n",
            "34/34 [==============================] - 0s 2ms/step - loss: 3508.7896 - mae: 3508.7896\n",
            "Epoch 176/300\n",
            "34/34 [==============================] - 0s 2ms/step - loss: 3508.6733 - mae: 3508.6733\n",
            "Epoch 177/300\n",
            "34/34 [==============================] - 0s 1ms/step - loss: 3509.0950 - mae: 3509.0950\n",
            "Epoch 178/300\n",
            "34/34 [==============================] - 0s 1ms/step - loss: 3506.4849 - mae: 3506.4849\n",
            "Epoch 179/300\n",
            "34/34 [==============================] - 0s 2ms/step - loss: 3508.2122 - mae: 3508.2122\n",
            "Epoch 180/300\n",
            "34/34 [==============================] - 0s 1ms/step - loss: 3503.3003 - mae: 3503.3003\n",
            "Epoch 181/300\n",
            "34/34 [==============================] - 0s 2ms/step - loss: 3501.2231 - mae: 3501.2231\n",
            "Epoch 182/300\n",
            "34/34 [==============================] - 0s 2ms/step - loss: 3500.6182 - mae: 3500.6182\n",
            "Epoch 183/300\n",
            "34/34 [==============================] - 0s 2ms/step - loss: 3498.5986 - mae: 3498.5986\n",
            "Epoch 184/300\n",
            "34/34 [==============================] - 0s 1ms/step - loss: 3497.9451 - mae: 3497.9451\n",
            "Epoch 185/300\n",
            "34/34 [==============================] - 0s 2ms/step - loss: 3497.5195 - mae: 3497.5195\n",
            "Epoch 186/300\n",
            "34/34 [==============================] - 0s 2ms/step - loss: 3495.1226 - mae: 3495.1226\n",
            "Epoch 187/300\n",
            "34/34 [==============================] - 0s 2ms/step - loss: 3495.4614 - mae: 3495.4614\n",
            "Epoch 188/300\n",
            "34/34 [==============================] - 0s 2ms/step - loss: 3492.4634 - mae: 3492.4634\n",
            "Epoch 189/300\n",
            "34/34 [==============================] - 0s 2ms/step - loss: 3490.9521 - mae: 3490.9521\n",
            "Epoch 190/300\n",
            "34/34 [==============================] - 0s 2ms/step - loss: 3492.7224 - mae: 3492.7224\n",
            "Epoch 191/300\n",
            "34/34 [==============================] - 0s 2ms/step - loss: 3497.4294 - mae: 3497.4294\n",
            "Epoch 192/300\n",
            "34/34 [==============================] - 0s 2ms/step - loss: 3487.6543 - mae: 3487.6543\n",
            "Epoch 193/300\n",
            "34/34 [==============================] - 0s 2ms/step - loss: 3487.6724 - mae: 3487.6724\n",
            "Epoch 194/300\n",
            "34/34 [==============================] - 0s 2ms/step - loss: 3484.7095 - mae: 3484.7095\n",
            "Epoch 195/300\n",
            "34/34 [==============================] - 0s 2ms/step - loss: 3484.1489 - mae: 3484.1489\n",
            "Epoch 196/300\n",
            "34/34 [==============================] - 0s 2ms/step - loss: 3484.9080 - mae: 3484.9080\n",
            "Epoch 197/300\n",
            "34/34 [==============================] - 0s 1ms/step - loss: 3481.9395 - mae: 3481.9395\n",
            "Epoch 198/300\n",
            "34/34 [==============================] - 0s 2ms/step - loss: 3480.4094 - mae: 3480.4094\n",
            "Epoch 199/300\n",
            "34/34 [==============================] - 0s 2ms/step - loss: 3479.3103 - mae: 3479.3103\n",
            "Epoch 200/300\n",
            "34/34 [==============================] - 0s 2ms/step - loss: 3479.6919 - mae: 3479.6919\n",
            "Epoch 201/300\n",
            "34/34 [==============================] - 0s 2ms/step - loss: 3476.2222 - mae: 3476.2222\n",
            "Epoch 202/300\n",
            "34/34 [==============================] - 0s 2ms/step - loss: 3476.3384 - mae: 3476.3384\n",
            "Epoch 203/300\n",
            "34/34 [==============================] - 0s 2ms/step - loss: 3474.8955 - mae: 3474.8955\n",
            "Epoch 204/300\n",
            "34/34 [==============================] - 0s 2ms/step - loss: 3476.4031 - mae: 3476.4031\n",
            "Epoch 205/300\n",
            "34/34 [==============================] - 0s 2ms/step - loss: 3473.9565 - mae: 3473.9565\n",
            "Epoch 206/300\n",
            "34/34 [==============================] - 0s 2ms/step - loss: 3473.2207 - mae: 3473.2207\n",
            "Epoch 207/300\n",
            "34/34 [==============================] - 0s 2ms/step - loss: 3474.1223 - mae: 3474.1223\n",
            "Epoch 208/300\n",
            "34/34 [==============================] - 0s 2ms/step - loss: 3473.4954 - mae: 3473.4954\n",
            "Epoch 209/300\n",
            "34/34 [==============================] - 0s 2ms/step - loss: 3473.5571 - mae: 3473.5571\n",
            "Epoch 210/300\n",
            "34/34 [==============================] - 0s 2ms/step - loss: 3472.9451 - mae: 3472.9451\n",
            "Epoch 211/300\n",
            "34/34 [==============================] - 0s 2ms/step - loss: 3472.5090 - mae: 3472.5090\n",
            "Epoch 212/300\n",
            "34/34 [==============================] - 0s 2ms/step - loss: 3472.9812 - mae: 3472.9812\n",
            "Epoch 213/300\n",
            "34/34 [==============================] - 0s 2ms/step - loss: 3472.4146 - mae: 3472.4146\n",
            "Epoch 214/300\n",
            "34/34 [==============================] - 0s 2ms/step - loss: 3474.3425 - mae: 3474.3425\n",
            "Epoch 215/300\n",
            "34/34 [==============================] - 0s 2ms/step - loss: 3473.5029 - mae: 3473.5029\n",
            "Epoch 216/300\n",
            "34/34 [==============================] - 0s 2ms/step - loss: 3472.3750 - mae: 3472.3750\n",
            "Epoch 217/300\n",
            "34/34 [==============================] - 0s 2ms/step - loss: 3474.6167 - mae: 3474.6167\n",
            "Epoch 218/300\n",
            "34/34 [==============================] - 0s 2ms/step - loss: 3472.2378 - mae: 3472.2378\n",
            "Epoch 219/300\n",
            "34/34 [==============================] - 0s 1ms/step - loss: 3472.5623 - mae: 3472.5623\n",
            "Epoch 220/300\n",
            "34/34 [==============================] - 0s 2ms/step - loss: 3471.7834 - mae: 3471.7834\n",
            "Epoch 221/300\n",
            "34/34 [==============================] - 0s 2ms/step - loss: 3474.2847 - mae: 3474.2847\n",
            "Epoch 222/300\n",
            "34/34 [==============================] - 0s 2ms/step - loss: 3473.6272 - mae: 3473.6272\n",
            "Epoch 223/300\n",
            "34/34 [==============================] - 0s 2ms/step - loss: 3472.7014 - mae: 3472.7014\n",
            "Epoch 224/300\n",
            "34/34 [==============================] - 0s 2ms/step - loss: 3473.0417 - mae: 3473.0417\n",
            "Epoch 225/300\n",
            "34/34 [==============================] - 0s 2ms/step - loss: 3472.9187 - mae: 3472.9187\n",
            "Epoch 226/300\n",
            "34/34 [==============================] - 0s 2ms/step - loss: 3471.7578 - mae: 3471.7578\n",
            "Epoch 227/300\n",
            "34/34 [==============================] - 0s 2ms/step - loss: 3471.4883 - mae: 3471.4883\n",
            "Epoch 228/300\n",
            "34/34 [==============================] - 0s 2ms/step - loss: 3473.4614 - mae: 3473.4614\n",
            "Epoch 229/300\n",
            "34/34 [==============================] - 0s 2ms/step - loss: 3472.0374 - mae: 3472.0374\n",
            "Epoch 230/300\n",
            "34/34 [==============================] - 0s 2ms/step - loss: 3474.1519 - mae: 3474.1519\n",
            "Epoch 231/300\n",
            "34/34 [==============================] - 0s 2ms/step - loss: 3471.7935 - mae: 3471.7935\n",
            "Epoch 232/300\n",
            "34/34 [==============================] - 0s 2ms/step - loss: 3472.8140 - mae: 3472.8140\n",
            "Epoch 233/300\n",
            "34/34 [==============================] - 0s 2ms/step - loss: 3471.9880 - mae: 3471.9880\n",
            "Epoch 234/300\n",
            "34/34 [==============================] - 0s 2ms/step - loss: 3472.7141 - mae: 3472.7141\n",
            "Epoch 235/300\n",
            "34/34 [==============================] - 0s 2ms/step - loss: 3474.2485 - mae: 3474.2485\n",
            "Epoch 236/300\n",
            "34/34 [==============================] - 0s 2ms/step - loss: 3473.5901 - mae: 3473.5901\n",
            "Epoch 237/300\n",
            "34/34 [==============================] - 0s 2ms/step - loss: 3472.8665 - mae: 3472.8665\n",
            "Epoch 238/300\n",
            "34/34 [==============================] - 0s 2ms/step - loss: 3473.4504 - mae: 3473.4504\n",
            "Epoch 239/300\n",
            "34/34 [==============================] - 0s 2ms/step - loss: 3475.0076 - mae: 3475.0076\n",
            "Epoch 240/300\n",
            "34/34 [==============================] - 0s 2ms/step - loss: 3472.6304 - mae: 3472.6304\n",
            "Epoch 241/300\n",
            "34/34 [==============================] - 0s 2ms/step - loss: 3471.6777 - mae: 3471.6777\n",
            "Epoch 242/300\n",
            "34/34 [==============================] - 0s 2ms/step - loss: 3474.0059 - mae: 3474.0059\n",
            "Epoch 243/300\n",
            "34/34 [==============================] - 0s 2ms/step - loss: 3472.1072 - mae: 3472.1072\n",
            "Epoch 244/300\n",
            "34/34 [==============================] - 0s 2ms/step - loss: 3473.7581 - mae: 3473.7581\n",
            "Epoch 245/300\n",
            "34/34 [==============================] - 0s 2ms/step - loss: 3472.0750 - mae: 3472.0750\n",
            "Epoch 246/300\n",
            "34/34 [==============================] - 0s 1ms/step - loss: 3473.6262 - mae: 3473.6262\n",
            "Epoch 247/300\n",
            "34/34 [==============================] - 0s 2ms/step - loss: 3472.4983 - mae: 3472.4983\n",
            "Epoch 248/300\n",
            "34/34 [==============================] - 0s 2ms/step - loss: 3474.1675 - mae: 3474.1675\n",
            "Epoch 249/300\n",
            "34/34 [==============================] - 0s 2ms/step - loss: 3475.2544 - mae: 3475.2544\n",
            "Epoch 250/300\n",
            "34/34 [==============================] - 0s 2ms/step - loss: 3472.2908 - mae: 3472.2908\n",
            "Epoch 251/300\n",
            "34/34 [==============================] - 0s 2ms/step - loss: 3471.4822 - mae: 3471.4822\n",
            "Epoch 252/300\n",
            "34/34 [==============================] - 0s 2ms/step - loss: 3473.4204 - mae: 3473.4204\n",
            "Epoch 253/300\n",
            "34/34 [==============================] - 0s 2ms/step - loss: 3472.9907 - mae: 3472.9907\n",
            "Epoch 254/300\n",
            "34/34 [==============================] - 0s 2ms/step - loss: 3471.8381 - mae: 3471.8381\n",
            "Epoch 255/300\n",
            "34/34 [==============================] - 0s 2ms/step - loss: 3472.4871 - mae: 3472.4871\n",
            "Epoch 256/300\n",
            "34/34 [==============================] - 0s 2ms/step - loss: 3474.9941 - mae: 3474.9941\n",
            "Epoch 257/300\n",
            "34/34 [==============================] - 0s 2ms/step - loss: 3475.7690 - mae: 3475.7690\n",
            "Epoch 258/300\n",
            "34/34 [==============================] - 0s 2ms/step - loss: 3472.3293 - mae: 3472.3293\n",
            "Epoch 259/300\n",
            "34/34 [==============================] - 0s 2ms/step - loss: 3474.2476 - mae: 3474.2476\n",
            "Epoch 260/300\n",
            "34/34 [==============================] - 0s 2ms/step - loss: 3471.9827 - mae: 3471.9827\n",
            "Epoch 261/300\n",
            "34/34 [==============================] - 0s 2ms/step - loss: 3472.9004 - mae: 3472.9004\n",
            "Epoch 262/300\n",
            "34/34 [==============================] - 0s 2ms/step - loss: 3472.7717 - mae: 3472.7717\n",
            "Epoch 263/300\n",
            "34/34 [==============================] - 0s 2ms/step - loss: 3472.4204 - mae: 3472.4204\n",
            "Epoch 264/300\n",
            "34/34 [==============================] - 0s 2ms/step - loss: 3472.5383 - mae: 3472.5383\n",
            "Epoch 265/300\n",
            "34/34 [==============================] - 0s 2ms/step - loss: 3472.9197 - mae: 3472.9197\n",
            "Epoch 266/300\n",
            "34/34 [==============================] - 0s 2ms/step - loss: 3472.3435 - mae: 3472.3435\n",
            "Epoch 267/300\n",
            "34/34 [==============================] - 0s 2ms/step - loss: 3474.1125 - mae: 3474.1125\n",
            "Epoch 268/300\n",
            "34/34 [==============================] - 0s 2ms/step - loss: 3471.8926 - mae: 3471.8926\n",
            "Epoch 269/300\n",
            "34/34 [==============================] - 0s 2ms/step - loss: 3471.7288 - mae: 3471.7288\n",
            "Epoch 270/300\n",
            "34/34 [==============================] - 0s 2ms/step - loss: 3471.8821 - mae: 3471.8821\n",
            "Epoch 271/300\n",
            "34/34 [==============================] - 0s 2ms/step - loss: 3472.2764 - mae: 3472.2764\n",
            "Epoch 272/300\n",
            "34/34 [==============================] - 0s 2ms/step - loss: 3472.0222 - mae: 3472.0222\n",
            "Epoch 273/300\n",
            "34/34 [==============================] - 0s 2ms/step - loss: 3472.3491 - mae: 3472.3491\n",
            "Epoch 274/300\n",
            "34/34 [==============================] - 0s 2ms/step - loss: 3472.3184 - mae: 3472.3184\n",
            "Epoch 275/300\n",
            "34/34 [==============================] - 0s 2ms/step - loss: 3473.5803 - mae: 3473.5803\n",
            "Epoch 276/300\n",
            "34/34 [==============================] - 0s 2ms/step - loss: 3473.6631 - mae: 3473.6631\n",
            "Epoch 277/300\n",
            "34/34 [==============================] - 0s 2ms/step - loss: 3471.8787 - mae: 3471.8787\n",
            "Epoch 278/300\n",
            "34/34 [==============================] - 0s 2ms/step - loss: 3472.1868 - mae: 3472.1868\n",
            "Epoch 279/300\n",
            "34/34 [==============================] - 0s 2ms/step - loss: 3476.1445 - mae: 3476.1445\n",
            "Epoch 280/300\n",
            "34/34 [==============================] - 0s 2ms/step - loss: 3472.1665 - mae: 3472.1665\n",
            "Epoch 281/300\n",
            "34/34 [==============================] - 0s 2ms/step - loss: 3472.3970 - mae: 3472.3970\n",
            "Epoch 282/300\n",
            "34/34 [==============================] - 0s 2ms/step - loss: 3471.9248 - mae: 3471.9248\n",
            "Epoch 283/300\n",
            "34/34 [==============================] - 0s 3ms/step - loss: 3472.7654 - mae: 3472.7654\n",
            "Epoch 284/300\n",
            "34/34 [==============================] - 0s 2ms/step - loss: 3472.4438 - mae: 3472.4438\n",
            "Epoch 285/300\n",
            "34/34 [==============================] - 0s 2ms/step - loss: 3471.9089 - mae: 3471.9089\n",
            "Epoch 286/300\n",
            "34/34 [==============================] - 0s 1ms/step - loss: 3472.2468 - mae: 3472.2468\n",
            "Epoch 287/300\n",
            "34/34 [==============================] - 0s 2ms/step - loss: 3472.7393 - mae: 3472.7393\n",
            "Epoch 288/300\n",
            "34/34 [==============================] - 0s 1ms/step - loss: 3472.2417 - mae: 3472.2417\n",
            "Epoch 289/300\n",
            "34/34 [==============================] - 0s 2ms/step - loss: 3473.8435 - mae: 3473.8435\n",
            "Epoch 290/300\n",
            "34/34 [==============================] - 0s 2ms/step - loss: 3473.0974 - mae: 3473.0974\n",
            "Epoch 291/300\n",
            "34/34 [==============================] - 0s 2ms/step - loss: 3471.3411 - mae: 3471.3411\n",
            "Epoch 292/300\n",
            "34/34 [==============================] - 0s 2ms/step - loss: 3473.7449 - mae: 3473.7449\n",
            "Epoch 293/300\n",
            "34/34 [==============================] - 0s 2ms/step - loss: 3471.8679 - mae: 3471.8679\n",
            "Epoch 294/300\n",
            "34/34 [==============================] - 0s 2ms/step - loss: 3473.2876 - mae: 3473.2876\n",
            "Epoch 295/300\n",
            "34/34 [==============================] - 0s 2ms/step - loss: 3473.3098 - mae: 3473.3098\n",
            "Epoch 296/300\n",
            "34/34 [==============================] - 0s 2ms/step - loss: 3474.1465 - mae: 3474.1465\n",
            "Epoch 297/300\n",
            "34/34 [==============================] - 0s 2ms/step - loss: 3476.2861 - mae: 3476.2861\n",
            "Epoch 298/300\n",
            "34/34 [==============================] - 0s 2ms/step - loss: 3474.8643 - mae: 3474.8643\n",
            "Epoch 299/300\n",
            "34/34 [==============================] - 0s 2ms/step - loss: 3471.8054 - mae: 3471.8054\n",
            "Epoch 300/300\n",
            "34/34 [==============================] - 0s 3ms/step - loss: 3472.7649 - mae: 3472.7649\n"
          ],
          "name": "stdout"
        }
      ]
    },
    {
      "cell_type": "code",
      "metadata": {
        "colab": {
          "base_uri": "https://localhost:8080/"
        },
        "id": "Y_hgr883C5EE",
        "outputId": "05e1effb-56e7-4502-8ecf-ba4cda564253"
      },
      "source": [
        "industry.evaluate(x_test_normal,y_test)"
      ],
      "execution_count": null,
      "outputs": [
        {
          "output_type": "stream",
          "text": [
            "9/9 [==============================] - 0s 2ms/step - loss: 3435.5276 - mae: 3435.5276\n"
          ],
          "name": "stdout"
        },
        {
          "output_type": "execute_result",
          "data": {
            "text/plain": [
              "[3435.527587890625, 3435.527587890625]"
            ]
          },
          "metadata": {
            "tags": []
          },
          "execution_count": 105
        }
      ]
    },
    {
      "cell_type": "code",
      "metadata": {
        "colab": {
          "base_uri": "https://localhost:8080/",
          "height": 282
        },
        "id": "wCMeTchgDXth",
        "outputId": "e1f82ded-4881-4e56-f34b-ac3e319c0ab2"
      },
      "source": [
        "pd.DataFrame(mac.history).plot()"
      ],
      "execution_count": null,
      "outputs": [
        {
          "output_type": "execute_result",
          "data": {
            "text/plain": [
              "<matplotlib.axes._subplots.AxesSubplot at 0x7f0b2204d210>"
            ]
          },
          "metadata": {
            "tags": []
          },
          "execution_count": 108
        },
        {
          "output_type": "display_data",
          "data": {
            "image/png": "[encoded data removed]",
            "text/plain": [
              "<Figure size 432x288 with 1 Axes>"
            ]
          },
          "metadata": {
            "tags": [],
            "needs_background": "light"
          }
        }
      ]
    },
    {
      "cell_type": "code",
      "metadata": {
        "id": "8BtX3F9SEuXa"
      },
      "source": [
        ""
      ],
      "execution_count": null,
      "outputs": []
    }
  ]
}