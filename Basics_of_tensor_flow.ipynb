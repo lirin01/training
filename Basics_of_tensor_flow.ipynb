{
  "nbformat": 4,
  "nbformat_minor": 0,
  "metadata": {
    "colab": {
      "name": "Basics of tensor flow.ipynb",
      "provenance": []
    },
    "kernelspec": {
      "name": "python3",
      "display_name": "Python 3"
    },
    "language_info": {
      "name": "python"
    },
    "accelerator": "TPU"
  },
  "cells": [
    {
      "cell_type": "code",
      "metadata": {
        "id": "wtQrPjEKlO7a"
      },
      "source": [
        "import tensorflow as tf\n",
        "import numpy as np\n",
        "import IPython.display as display\n",
        "import tensorflow as tf"
      ],
      "execution_count": null,
      "outputs": []
    },
    {
      "cell_type": "code",
      "metadata": {
        "id": "odNziAv6mPbj",
        "colab": {
          "base_uri": "https://localhost:8080/"
        },
        "outputId": "9dfe586a-f1ad-4426-9029-bf91982a9619"
      },
      "source": [
        "print(tf.add(1, 2))\n",
        "print(tf.add([1, 2], [3, 4]))\n",
        "print(tf.square(5))\n",
        "print(tf.reduce_sum([1, 2, 3]))"
      ],
      "execution_count": null,
      "outputs": [
        {
          "output_type": "stream",
          "text": [
            "tf.Tensor(3, shape=(), dtype=int32)\n",
            "tf.Tensor([4 6], shape=(2,), dtype=int32)\n",
            "tf.Tensor(25, shape=(), dtype=int32)\n",
            "tf.Tensor(6, shape=(), dtype=int32)\n"
          ],
          "name": "stdout"
        }
      ]
    },
    {
      "cell_type": "code",
      "metadata": {
        "colab": {
          "base_uri": "https://localhost:8080/"
        },
        "id": "pefdu1x1vcBE",
        "outputId": "22502a97-f486-440b-c148-8f5edfa087fa"
      },
      "source": [
        "x=tf.matmul([[1]],[[2,3]])\n",
        "print(x)\n",
        "\n",
        "print(x.shape)\n",
        "print(x.dtype)"
      ],
      "execution_count": null,
      "outputs": [
        {
          "output_type": "stream",
          "text": [
            "tf.Tensor([[2 3]], shape=(1, 2), dtype=int32)\n",
            "(1, 2)\n",
            "<dtype: 'int32'>\n"
          ],
          "name": "stdout"
        }
      ]
    },
    {
      "cell_type": "code",
      "metadata": {
        "colab": {
          "base_uri": "https://localhost:8080/"
        },
        "id": "OYTjSilSv-5i",
        "outputId": "da6d14c8-ad14-4b80-a2d1-0ddc9a4daad8"
      },
      "source": [
        "ndarray=np.ones([3,3])\n",
        "print(\"TensorFlow operations convert numpy arrays to Tensors automatically\")\n",
        "tensor = tf.multiply(ndarray, 42)\n",
        "print(tensor)\n",
        "\n",
        "\n",
        "print(\"And NumPy operations convert Tensors to numpy arrays automatically\")\n",
        "print(np.add(tensor, 1))\n",
        "\n",
        "print(\"The .numpy() method explicitly converts a Tensor to a numpy array\")\n",
        "print(tensor.numpy())"
      ],
      "execution_count": null,
      "outputs": [
        {
          "output_type": "stream",
          "text": [
            "TensorFlow operations convert numpy arrays to Tensors automatically\n",
            "tf.Tensor(\n",
            "[[42. 42. 42.]\n",
            " [42. 42. 42.]\n",
            " [42. 42. 42.]], shape=(3, 3), dtype=float64)\n",
            "And NumPy operations convert Tensors to numpy arrays automatically\n",
            "[[43. 43. 43.]\n",
            " [43. 43. 43.]\n",
            " [43. 43. 43.]]\n",
            "The .numpy() method explicitly converts a Tensor to a numpy array\n",
            "[[42. 42. 42.]\n",
            " [42. 42. 42.]\n",
            " [42. 42. 42.]]\n"
          ],
          "name": "stdout"
        }
      ]
    },
    {
      "cell_type": "code",
      "metadata": {
        "colab": {
          "base_uri": "https://localhost:8080/"
        },
        "id": "ehkG3Ngcwf-h",
        "outputId": "e0519c65-78c4-4abc-deb1-a7ec39cbc640"
      },
      "source": [
        "ndarray"
      ],
      "execution_count": null,
      "outputs": [
        {
          "output_type": "execute_result",
          "data": {
            "text/plain": [
              "array([[1., 1., 1.],\n",
              "       [1., 1., 1.],\n",
              "       [1., 1., 1.]])"
            ]
          },
          "metadata": {
            "tags": []
          },
          "execution_count": 5
        }
      ]
    },
    {
      "cell_type": "code",
      "metadata": {
        "colab": {
          "base_uri": "https://localhost:8080/"
        },
        "id": "oVWdA98uwh9Y",
        "outputId": "01ae85a3-231b-49fa-e184-6fefb7db3576"
      },
      "source": [
        "y=tf.random.uniform([3,3])\n",
        "\n",
        "print(\"Is there a GPU available: \"),\n",
        "print(tf.config.list_physical_devices(\"GPU\"))\n",
        "\n",
        "print(\"Is the Tensor on GPU #0:  \"),\n",
        "print(x.device.endswith('GPU:0'))"
      ],
      "execution_count": null,
      "outputs": [
        {
          "output_type": "stream",
          "text": [
            "Is there a GPU available: \n",
            "[]\n",
            "Is the Tensor on GPU #0:  \n",
            "False\n"
          ],
          "name": "stdout"
        }
      ]
    },
    {
      "cell_type": "code",
      "metadata": {
        "id": "95HYxEe-xINx"
      },
      "source": [
        "import time \n",
        "\n",
        "def time_matmul(x):\n",
        "  start=time.time()\n",
        "  for loop in range(10):\n",
        "    tf.matmul(x,x)\n",
        "\n",
        "    result=time.time()-startprint('10 loops:{:0.2f}ms'.format(1000*result))"
      ],
      "execution_count": null,
      "outputs": []
    },
    {
      "cell_type": "code",
      "metadata": {
        "id": "CzU0PFs-yP8w"
      },
      "source": [
        "ds_tensors = tf.data.Dataset.from_tensor_slices(['my name is livin'])"
      ],
      "execution_count": null,
      "outputs": []
    },
    {
      "cell_type": "code",
      "metadata": {
        "colab": {
          "base_uri": "https://localhost:8080/"
        },
        "id": "Icuzo-XtzPRo",
        "outputId": "232599cb-b53c-4aee-e510-d722ada8a56d"
      },
      "source": [
        "list(ds_tensors)"
      ],
      "execution_count": null,
      "outputs": [
        {
          "output_type": "execute_result",
          "data": {
            "text/plain": [
              "[<tf.Tensor: shape=(), dtype=string, numpy=b'my name is livin'>]"
            ]
          },
          "metadata": {
            "tags": []
          },
          "execution_count": 9
        }
      ]
    },
    {
      "cell_type": "code",
      "metadata": {
        "id": "zJba1ce0zRGA"
      },
      "source": [
        "layers=tf.keras.layers.Dense(100)\n",
        "layers=tf.keras.layers.Dense(10,input_shape=(None,5))"
      ],
      "execution_count": null,
      "outputs": []
    },
    {
      "cell_type": "code",
      "metadata": {
        "colab": {
          "base_uri": "https://localhost:8080/"
        },
        "id": "mhVFzUO8wyVx",
        "outputId": "1efd1627-1ab8-4231-e02e-6429cfd377d9"
      },
      "source": [
        "layers(tf.zeros([10,5]))"
      ],
      "execution_count": null,
      "outputs": [
        {
          "output_type": "execute_result",
          "data": {
            "text/plain": [
              "<tf.Tensor: shape=(10, 10), dtype=float32, numpy=\n",
              "array([[0., 0., 0., 0., 0., 0., 0., 0., 0., 0.],\n",
              "       [0., 0., 0., 0., 0., 0., 0., 0., 0., 0.],\n",
              "       [0., 0., 0., 0., 0., 0., 0., 0., 0., 0.],\n",
              "       [0., 0., 0., 0., 0., 0., 0., 0., 0., 0.],\n",
              "       [0., 0., 0., 0., 0., 0., 0., 0., 0., 0.],\n",
              "       [0., 0., 0., 0., 0., 0., 0., 0., 0., 0.],\n",
              "       [0., 0., 0., 0., 0., 0., 0., 0., 0., 0.],\n",
              "       [0., 0., 0., 0., 0., 0., 0., 0., 0., 0.],\n",
              "       [0., 0., 0., 0., 0., 0., 0., 0., 0., 0.],\n",
              "       [0., 0., 0., 0., 0., 0., 0., 0., 0., 0.]], dtype=float32)>"
            ]
          },
          "metadata": {
            "tags": []
          },
          "execution_count": 11
        }
      ]
    },
    {
      "cell_type": "code",
      "metadata": {
        "colab": {
          "base_uri": "https://localhost:8080/"
        },
        "id": "Q7tdDTd8xG38",
        "outputId": "05c3b64c-c014-412d-fd5e-3c5da21ee72d"
      },
      "source": [
        "layers.variables"
      ],
      "execution_count": null,
      "outputs": [
        {
          "output_type": "execute_result",
          "data": {
            "text/plain": [
              "[<tf.Variable 'dense_1/kernel:0' shape=(5, 10) dtype=float32, numpy=\n",
              " array([[-0.33577004,  0.513552  ,  0.5584006 , -0.36024508, -0.5758161 ,\n",
              "          0.53735644,  0.44071537,  0.2379564 , -0.00094151,  0.303941  ],\n",
              "        [ 0.21058428, -0.47124338,  0.1599229 , -0.07722831,  0.4752856 ,\n",
              "          0.5470069 , -0.4755436 ,  0.49176484,  0.6304589 , -0.39988768],\n",
              "        [-0.5441721 ,  0.26921445, -0.17184746, -0.04810959,  0.38372034,\n",
              "         -0.2356385 ,  0.30018395, -0.10730863,  0.2907527 ,  0.09047246],\n",
              "        [-0.22384167, -0.28119734,  0.49701542, -0.33717737,  0.38211316,\n",
              "          0.34884465, -0.33187637, -0.5540817 ,  0.30148256, -0.16543093],\n",
              "        [ 0.3945033 , -0.30714363,  0.2578146 ,  0.5197483 ,  0.06730849,\n",
              "          0.50522894,  0.60893255, -0.12133747, -0.10644782, -0.37167504]],\n",
              "       dtype=float32)>,\n",
              " <tf.Variable 'dense_1/bias:0' shape=(10,) dtype=float32, numpy=array([0., 0., 0., 0., 0., 0., 0., 0., 0., 0.], dtype=float32)>]"
            ]
          },
          "metadata": {
            "tags": []
          },
          "execution_count": 13
        }
      ]
    },
    {
      "cell_type": "code",
      "metadata": {
        "colab": {
          "base_uri": "https://localhost:8080/"
        },
        "id": "m10CZFQvxbCM",
        "outputId": "5adac258-9648-4aab-c6cf-25ca9588aeb5"
      },
      "source": [
        "layers.kernel,layers.bias"
      ],
      "execution_count": null,
      "outputs": [
        {
          "output_type": "execute_result",
          "data": {
            "text/plain": [
              "(<tf.Variable 'dense_1/kernel:0' shape=(5, 10) dtype=float32, numpy=\n",
              " array([[-0.33577004,  0.513552  ,  0.5584006 , -0.36024508, -0.5758161 ,\n",
              "          0.53735644,  0.44071537,  0.2379564 , -0.00094151,  0.303941  ],\n",
              "        [ 0.21058428, -0.47124338,  0.1599229 , -0.07722831,  0.4752856 ,\n",
              "          0.5470069 , -0.4755436 ,  0.49176484,  0.6304589 , -0.39988768],\n",
              "        [-0.5441721 ,  0.26921445, -0.17184746, -0.04810959,  0.38372034,\n",
              "         -0.2356385 ,  0.30018395, -0.10730863,  0.2907527 ,  0.09047246],\n",
              "        [-0.22384167, -0.28119734,  0.49701542, -0.33717737,  0.38211316,\n",
              "          0.34884465, -0.33187637, -0.5540817 ,  0.30148256, -0.16543093],\n",
              "        [ 0.3945033 , -0.30714363,  0.2578146 ,  0.5197483 ,  0.06730849,\n",
              "          0.50522894,  0.60893255, -0.12133747, -0.10644782, -0.37167504]],\n",
              "       dtype=float32)>,\n",
              " <tf.Variable 'dense_1/bias:0' shape=(10,) dtype=float32, numpy=array([0., 0., 0., 0., 0., 0., 0., 0., 0., 0.], dtype=float32)>)"
            ]
          },
          "metadata": {
            "tags": []
          },
          "execution_count": 14
        }
      ]
    },
    {
      "cell_type": "code",
      "metadata": {
        "id": "JeIgqQuv8UA8"
      },
      "source": [
        "class MyDenseLayer(tf.keras.layers.Layer):\n",
        "  def __init__(self,num_outputs):\n",
        "    super(MyDenseLayer,self).__init__()\n",
        "    self.num_outputs=num_outputs\n",
        "\n",
        "  def build(self,input_shape):\n",
        "    self.kernel=self.add_weight('kernel',\n",
        "                                shape=[int(input_shape[-1]),\n",
        "                                       self.num_outputs])\n",
        "  def call(self,inputs):\n",
        "      return tf.matmul(inputs,self.kernel)\n",
        "layer=MyDenseLayer(10)"
      ],
      "execution_count": null,
      "outputs": []
    },
    {
      "cell_type": "code",
      "metadata": {
        "id": "f0bU4Vc8Bu20"
      },
      "source": [
        "_=layers(tf.zeros([10,5]))"
      ],
      "execution_count": null,
      "outputs": []
    },
    {
      "cell_type": "code",
      "metadata": {
        "colab": {
          "base_uri": "https://localhost:8080/"
        },
        "id": "wb46poXjC8la",
        "outputId": "95209114-c86d-4153-95b2-4d6c78823d82"
      },
      "source": [
        "print([var.name for var in layer.trainable_variables])"
      ],
      "execution_count": null,
      "outputs": [
        {
          "output_type": "stream",
          "text": [
            "[]\n"
          ],
          "name": "stdout"
        }
      ]
    },
    {
      "cell_type": "code",
      "metadata": {
        "id": "9pNn0dKzC9bl"
      },
      "source": [
        ""
      ],
      "execution_count": null,
      "outputs": []
    }
  ]
}