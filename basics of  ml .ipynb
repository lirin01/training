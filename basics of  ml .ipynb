{
  "nbformat": 4,
  "nbformat_minor": 0,
  "metadata": {
    "colab": {
      "name": "book modelipynb",
      "provenance": []
    },
    "kernelspec": {
      "name": "python3",
      "display_name": "Python 3"
    },
    "language_info": {
      "name": "python"
    },
    "accelerator": "TPU"
  },
  "cells": [
    {
      "cell_type": "code",
      "metadata": {
        "id": "8IDFTTo0KcwM"
      },
      "source": [
        "import tensorflow as tf"
      ],
      "execution_count": null,
      "outputs": []
    },
    {
      "cell_type": "code",
      "metadata": {
        "colab": {
          "base_uri": "https://localhost:8080/"
        },
        "id": "Jwf5PnOkDYcx",
        "outputId": "d6174134-483e-4fca-a690-18d962ea6946"
      },
      "source": [
        "tf.compat.v1.disable_eager_execution()\n",
        "w=tf.Variable(.3,tf.float32)\n",
        "b=tf.Variable(-.3,tf.float32)\n",
        "x=tf.compat.v1.placeholder(tf.float32)\n",
        "model=w*x+b\n",
        "init=tf.compat.v1.global_variables_initializer()\n",
        "sess=tf.compat.v1.Session()\n",
        "sess.run(init)\n",
        "print(sess.run(model,{x:[1,2,3,4]}))"
      ],
      "execution_count": null,
      "outputs": [
        {
          "output_type": "stream",
          "text": [
            "[0.         0.3        0.6        0.90000004]\n"
          ],
          "name": "stdout"
        }
      ]
    },
    {
      "cell_type": "code",
      "metadata": {
        "id": "wsxkO3gAEfG7"
      },
      "source": [
        "tf.compat.v1.disable_eager_execution()\n",
        "y=tf.compat.v1.placeholder(tf.float32)\n",
        "squared=tf.square(model-y)\n",
        "loss=tf.reduce_sum"
      ],
      "execution_count": null,
      "outputs": []
    },
    {
      "cell_type": "code",
      "metadata": {
        "id": "ZkxONFB5HxA4",
        "colab": {
          "base_uri": "https://localhost:8080/"
        },
        "outputId": "15debf39-6bc5-4d10-dcf3-249582de2e6d"
      },
      "source": [
        "y"
      ],
      "execution_count": null,
      "outputs": [
        {
          "output_type": "execute_result",
          "data": {
            "text/plain": [
              "<tf.Tensor 'Placeholder_1:0' shape=<unknown> dtype=float32>"
            ]
          },
          "metadata": {
            "tags": []
          },
          "execution_count": 4
        }
      ]
    },
    {
      "cell_type": "code",
      "metadata": {
        "id": "79l3Xo-ieRFm"
      },
      "source": [
        "import torch"
      ],
      "execution_count": null,
      "outputs": []
    },
    {
      "cell_type": "code",
      "metadata": {
        "colab": {
          "base_uri": "https://localhost:8080/"
        },
        "id": "AUpR7FyPeVQl",
        "outputId": "b7c4713a-adaf-4321-a00c-68a798cf8468"
      },
      "source": [
        "print(\"python list operation\")\n",
        "a=[1,2,3]\n",
        "b=[4,5,6]\n",
        "print(a+b)\n",
        "try:\n",
        "  print(a*b)\n",
        "except TypeError:\n",
        "  print(\"a*b is not working in the list\")"
      ],
      "execution_count": null,
      "outputs": [
        {
          "output_type": "stream",
          "text": [
            "python list operation\n",
            "[1, 2, 3, 4, 5, 6]\n",
            "a*b is not working in the list\n"
          ],
          "name": "stdout"
        }
      ]
    },
    {
      "cell_type": "code",
      "metadata": {
        "colab": {
          "base_uri": "https://localhost:8080/"
        },
        "id": "36ztn0sufxH1",
        "outputId": "7241aad1-797d-4626-cd41-265c8fe9ddda"
      },
      "source": [
        "import numpy as np\n",
        "a=np.array([1,2,3])\n",
        "b=np.array([4,5,6])\n",
        "print(a+b)\n",
        "try:\n",
        "  print(a*b)\n",
        "except TypeError:\n",
        "  print(\"a*b is not working in the list\")"
      ],
      "execution_count": null,
      "outputs": [
        {
          "output_type": "stream",
          "text": [
            "[5 7 9]\n",
            "[ 4 10 18]\n"
          ],
          "name": "stdout"
        }
      ]
    },
    {
      "cell_type": "markdown",
      "metadata": {
        "id": "ZnIHa6ZIgIOo"
      },
      "source": [
        "good great performance\n"
      ]
    },
    {
      "cell_type": "code",
      "metadata": {
        "colab": {
          "base_uri": "https://localhost:8080/"
        },
        "id": "t_xqJFulfRat",
        "outputId": "5cb4dd1a-2c14-420a-9663-851c4661362a"
      },
      "source": [
        "print(\"Python list operations:\")\n",
        "a = [1,2,3]\n",
        "b = [4,5,6]\n",
        "print(\"a+b:\", a+b)\n",
        "try:\n",
        "    print(a*b)\n",
        "except TypeError:\n",
        "    print(\"a*b has no meaning for Python lists\")\n",
        "print()\n",
        "print(\"numpy array operations:\")\n",
        "a = np.array([1,2,3])\n",
        "b = np.array([4,5,6])\n",
        "print(\"a+b:\", a+b)\n",
        "print(\"a*b:\", a*b)"
      ],
      "execution_count": null,
      "outputs": [
        {
          "output_type": "stream",
          "text": [
            "Python list operations:\n",
            "a+b: [1, 2, 3, 4, 5, 6]\n",
            "a*b has no meaning for Python lists\n",
            "\n",
            "numpy array operations:\n",
            "a+b: [5 7 9]\n",
            "a*b: [ 4 10 18]\n"
          ],
          "name": "stdout"
        }
      ]
    },
    {
      "cell_type": "code",
      "metadata": {
        "colab": {
          "base_uri": "https://localhost:8080/"
        },
        "id": "XYkkWtuxiBJ_",
        "outputId": "b2d151c9-86fa-4a84-e10d-2c11b2365fe3"
      },
      "source": [
        "a=np.array([[1,2,5],\n",
        "            [3,4,6]])\n",
        "b=np.array([7,8,9])\n",
        "\n",
        "print(\"a+b\\n\",a+b)\n"
      ],
      "execution_count": null,
      "outputs": [
        {
          "output_type": "stream",
          "text": [
            "a+b\n",
            " [[ 8 10 14]\n",
            " [10 12 15]]\n"
          ],
          "name": "stdout"
        }
      ]
    },
    {
      "cell_type": "code",
      "metadata": {
        "id": "JcvfFvL-ix4E"
      },
      "source": [
        "def square(x):\n",
        "\n",
        "  return np.power(x, 3)\n",
        "def leaky_relu(x):\n",
        "\n",
        "  return np.maximum(0.2 * x, x)"
      ],
      "execution_count": null,
      "outputs": []
    },
    {
      "cell_type": "code",
      "metadata": {
        "colab": {
          "base_uri": "https://localhost:8080/"
        },
        "id": "TMPJqnIMBFJN",
        "outputId": "379d853e-d35f-4f24-bf82-5e3fbe869e61"
      },
      "source": [
        "square(a)"
      ],
      "execution_count": null,
      "outputs": [
        {
          "output_type": "execute_result",
          "data": {
            "text/plain": [
              "array([[  1,   8, 125],\n",
              "       [ 27,  64, 216]])"
            ]
          },
          "metadata": {
            "tags": []
          },
          "execution_count": 11
        }
      ]
    },
    {
      "cell_type": "code",
      "metadata": {
        "id": "C25N8UOvBsra"
      },
      "source": [
        "def tend(m):\n",
        "  return np.power(m,7)"
      ],
      "execution_count": null,
      "outputs": []
    },
    {
      "cell_type": "code",
      "metadata": {
        "id": "Nc3t5d4QEE9U"
      },
      "source": [
        "k=np.array([[1,2,3],\n",
        "            [4,5,6]])"
      ],
      "execution_count": null,
      "outputs": []
    },
    {
      "cell_type": "code",
      "metadata": {
        "colab": {
          "base_uri": "https://localhost:8080/"
        },
        "id": "I8x2_drLEJu5",
        "outputId": "e28e139a-3a9c-4b19-fbd3-f257d19ce68e"
      },
      "source": [
        "\n",
        "tend(k)"
      ],
      "execution_count": null,
      "outputs": [
        {
          "output_type": "execute_result",
          "data": {
            "text/plain": [
              "array([[     1,    128,   2187],\n",
              "       [ 16384,  78125, 279936]])"
            ]
          },
          "metadata": {
            "tags": []
          },
          "execution_count": 14
        }
      ]
    },
    {
      "cell_type": "code",
      "metadata": {
        "colab": {
          "base_uri": "https://localhost:8080/"
        },
        "id": "Q3042VkAEm75",
        "outputId": "c2c8a1a6-bd2f-459a-f7c5-0c50fceec30d"
      },
      "source": [
        "square(k)"
      ],
      "execution_count": null,
      "outputs": [
        {
          "output_type": "execute_result",
          "data": {
            "text/plain": [
              "array([[  1,   8,  27],\n",
              "       [ 64, 125, 216]])"
            ]
          },
          "metadata": {
            "tags": []
          },
          "execution_count": 15
        }
      ]
    },
    {
      "cell_type": "code",
      "metadata": {
        "colab": {
          "base_uri": "https://localhost:8080/"
        },
        "id": "HYk0T928E2yq",
        "outputId": "f2132d9d-b80e-4849-d12b-91e54a0a7888"
      },
      "source": [
        "maja=np.array([[0,-1,-4],\n",
        "               [6,-10,8]])\n",
        "leaky_relu(maja)"
      ],
      "execution_count": null,
      "outputs": [
        {
          "output_type": "execute_result",
          "data": {
            "text/plain": [
              "array([[ 0. , -0.2, -0.8],\n",
              "       [ 6. , -2. ,  8. ]])"
            ]
          },
          "metadata": {
            "tags": []
          },
          "execution_count": 16
        }
      ]
    },
    {
      "cell_type": "code",
      "metadata": {
        "id": "jlb2FsISHTfE"
      },
      "source": [
        "def relu(data):\n",
        "  return data.clip(min=0)"
      ],
      "execution_count": null,
      "outputs": []
    },
    {
      "cell_type": "code",
      "metadata": {
        "colab": {
          "base_uri": "https://localhost:8080/"
        },
        "id": "X6arGuNxIf3e",
        "outputId": "c85e8fb3-8562-4bbf-ae57-043895b07c16"
      },
      "source": [
        "relu(maja)"
      ],
      "execution_count": null,
      "outputs": [
        {
          "output_type": "execute_result",
          "data": {
            "text/plain": [
              "array([[0, 0, 0],\n",
              "       [6, 0, 8]])"
            ]
          },
          "metadata": {
            "tags": []
          },
          "execution_count": 18
        }
      ]
    },
    {
      "cell_type": "code",
      "metadata": {
        "colab": {
          "base_uri": "https://localhost:8080/"
        },
        "id": "Ks3KrK9bIjyr",
        "outputId": "13c70430-92cb-4592-b6d3-d4190d713208"
      },
      "source": [
        "maja.T.shape"
      ],
      "execution_count": null,
      "outputs": [
        {
          "output_type": "execute_result",
          "data": {
            "text/plain": [
              "(3, 2)"
            ]
          },
          "metadata": {
            "tags": []
          },
          "execution_count": 19
        }
      ]
    },
    {
      "cell_type": "code",
      "metadata": {
        "colab": {
          "base_uri": "https://localhost:8080/"
        },
        "id": "8ejn7SeaJEaj",
        "outputId": "2b97cc28-3928-444d-b4c1-cf97bfabe9ef"
      },
      "source": [
        "maja"
      ],
      "execution_count": null,
      "outputs": [
        {
          "output_type": "execute_result",
          "data": {
            "text/plain": [
              "array([[  0,  -1,  -4],\n",
              "       [  6, -10,   8]])"
            ]
          },
          "metadata": {
            "tags": []
          },
          "execution_count": 20
        }
      ]
    },
    {
      "cell_type": "code",
      "metadata": {
        "colab": {
          "base_uri": "https://localhost:8080/"
        },
        "id": "13S6AzF6MvIF",
        "outputId": "a1d49cef-cf69-40f2-8814-520599531196"
      },
      "source": [
        "print(np.square(0.001))"
      ],
      "execution_count": null,
      "outputs": [
        {
          "output_type": "stream",
          "text": [
            "1e-06\n"
          ],
          "name": "stdout"
        }
      ]
    },
    {
      "cell_type": "code",
      "metadata": {
        "id": "eTmmqlzkWgPd"
      },
      "source": [
        "neram=np.array([[[1,2,3,4],\n",
        "                [5,6,7,8],\n",
        "                [9,10,11,12]],\n",
        "               [[13,14,15,16],\n",
        "                [17,18,19,20],\n",
        "                [21,22,23,24]]])"
      ],
      "execution_count": null,
      "outputs": []
    },
    {
      "cell_type": "code",
      "metadata": {
        "colab": {
          "base_uri": "https://localhost:8080/"
        },
        "id": "EoxgcWH2Yc4h",
        "outputId": "174e86ca-b70b-45a3-f337-b5a59e86d641"
      },
      "source": [
        "neram.shape"
      ],
      "execution_count": null,
      "outputs": [
        {
          "output_type": "execute_result",
          "data": {
            "text/plain": [
              "(2, 3, 4)"
            ]
          },
          "metadata": {
            "tags": []
          },
          "execution_count": 23
        }
      ]
    },
    {
      "cell_type": "code",
      "metadata": {
        "id": "Tw5xVQfOYdG4"
      },
      "source": [
        "n1=np.random.randint(0,50,size=(2,3,4))"
      ],
      "execution_count": null,
      "outputs": []
    },
    {
      "cell_type": "code",
      "metadata": {
        "id": "FbiVN_m1Zef5"
      },
      "source": [
        "n2=np.random.randint(50,100,size=(2,3,4))"
      ],
      "execution_count": null,
      "outputs": []
    },
    {
      "cell_type": "code",
      "metadata": {
        "id": "EYgY5CQEQFFK"
      },
      "source": [
        "from typing import Callable\n",
        "from typing import List"
      ],
      "execution_count": null,
      "outputs": []
    },
    {
      "cell_type": "code",
      "metadata": {
        "colab": {
          "base_uri": "https://localhost:8080/"
        },
        "id": "9b15kf_2ugdP",
        "outputId": "bf2542a6-1266-4f94-b688-10068a32fd48"
      },
      "source": [
        "input"
      ],
      "execution_count": null,
      "outputs": [
        {
          "output_type": "execute_result",
          "data": {
            "text/plain": [
              "<bound method Kernel.raw_input of <google.colab._kernel.Kernel object at 0x7f46be585410>>"
            ]
          },
          "metadata": {
            "tags": []
          },
          "execution_count": 27
        }
      ]
    },
    {
      "cell_type": "code",
      "metadata": {
        "colab": {
          "base_uri": "https://localhost:8080/"
        },
        "id": "pbPlEW0d2kcQ",
        "outputId": "6c3617b7-a54c-4fde-c930-40ef0cf79109"
      },
      "source": [
        "input"
      ],
      "execution_count": null,
      "outputs": [
        {
          "output_type": "execute_result",
          "data": {
            "text/plain": [
              "<bound method Kernel.raw_input of <google.colab._kernel.Kernel object at 0x7f46be585410>>"
            ]
          },
          "metadata": {
            "tags": []
          },
          "execution_count": 29
        }
      ]
    },
    {
      "cell_type": "code",
      "metadata": {
        "id": "T4g9H69E2lhf"
      },
      "source": [
        ""
      ],
      "execution_count": null,
      "outputs": []
    },
    {
      "cell_type": "code",
      "metadata": {
        "id": "QAmAl5JD4gc-"
      },
      "source": [
        ""
      ],
      "execution_count": null,
      "outputs": []
    }
  ]
}